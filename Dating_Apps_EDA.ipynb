{
 "cells": [
  {
   "cell_type": "code",
   "execution_count": 1,
   "id": "82c932e0-d62e-4e13-bbe9-252513de8bfa",
   "metadata": {},
   "outputs": [],
   "source": [
    "import numpy as np\n",
    "import pandas as pd\n",
    "\n",
    "import plotly.graph_objs as go\n",
    "from wordcloud import WordCloud\n",
    "import plotly.express as px\n",
    "import matplotlib.pyplot as plt\n",
    "import plotly.io as pio\n",
    "import base64\n",
    "from IPython.display import HTML\n",
    "\n",
    "pio.renderers.default = 'colab'\n",
    "\n",
    "import warnings\n",
    "warnings.filterwarnings('ignore')"
   ]
  },
  {
   "cell_type": "code",
   "execution_count": 2,
   "id": "deba305e-7869-4b01-8082-92b7c014f71c",
   "metadata": {},
   "outputs": [],
   "source": [
    "import pandas as pd\n",
    "pd.options.mode.chained_assignment = None\n",
    "\n",
    "import numpy as np\n",
    "import seaborn as sns\n",
    "import matplotlib.pyplot as plt\n",
    "import plotly.figure_factory as ff\n",
    "\n",
    "import warnings\n",
    "warnings.filterwarnings('ignore')"
   ]
  },
  {
   "cell_type": "code",
   "execution_count": 3,
   "id": "4a15dc92-0f40-48e1-bddb-73ff11ea073a",
   "metadata": {},
   "outputs": [],
   "source": [
    "df = pd.read_csv(r\"..\\..\\datasets\\Students_turn\\df_europe_clean.csv\")"
   ]
  },
  {
   "cell_type": "code",
   "execution_count": 4,
   "id": "6b850dd8-bb5a-4705-bbda-aa63ff281473",
   "metadata": {},
   "outputs": [],
   "source": [
    "d_bumble = pd.read_csv(r\"..\\..\\datasets\\Students_turn\\bumble_google_play_reviews.csv\")\n",
    "d_hinge = pd.read_csv(r\"..\\..\\datasets\\Students_turn\\hinge_google_play_reviews.csv\")\n",
    "d_pof = pd.read_csv(r\"..\\..\\datasets\\Students_turn\\pof_google_play_reviews.csv\")\n",
    "d_tinder = pd.read_csv(r\"..\\..\\datasets\\Students_turn\\tinder_google_play_reviews.csv\")"
   ]
  },
  {
   "cell_type": "code",
   "execution_count": 5,
   "id": "b87f99f6-5dd8-4890-a5b0-e1919aca5616",
   "metadata": {},
   "outputs": [
    {
     "data": {
      "text/plain": [
       "658657"
      ]
     },
     "execution_count": 5,
     "metadata": {},
     "output_type": "execute_result"
    }
   ],
   "source": [
    "len(d_tinder)"
   ]
  },
  {
   "cell_type": "code",
   "execution_count": 6,
   "id": "d07c36ad-dd58-4e6d-afd4-ee0216235a16",
   "metadata": {},
   "outputs": [
    {
     "data": {
      "text/plain": [
       "81241"
      ]
     },
     "execution_count": 6,
     "metadata": {},
     "output_type": "execute_result"
    }
   ],
   "source": [
    "len(d_hinge)"
   ]
  },
  {
   "cell_type": "code",
   "execution_count": 7,
   "id": "ea5d812b-b5e7-44be-8820-d6c820192c68",
   "metadata": {},
   "outputs": [
    {
     "data": {
      "text/plain": [
       "442135"
      ]
     },
     "execution_count": 7,
     "metadata": {},
     "output_type": "execute_result"
    }
   ],
   "source": [
    "len(d_pof)"
   ]
  },
  {
   "cell_type": "code",
   "execution_count": 8,
   "id": "2c92daa4-72fa-495e-9b98-0bb85751f59f",
   "metadata": {},
   "outputs": [
    {
     "data": {
      "text/plain": [
       "171406"
      ]
     },
     "execution_count": 8,
     "metadata": {},
     "output_type": "execute_result"
    }
   ],
   "source": [
    "len(d_bumble)"
   ]
  },
  {
   "cell_type": "code",
   "execution_count": 9,
   "id": "e510ef4e-a442-4688-8536-6df918424083",
   "metadata": {},
   "outputs": [
    {
     "name": "stdout",
     "output_type": "stream",
     "text": [
      "         Platform   Users\n",
      "0          Tinder  658657\n",
      "1          Bumble  171406\n",
      "2           Hinge   81241\n",
      "3  Plenty of Fish  442135\n"
     ]
    }
   ],
   "source": [
    "data={'Tinder':658657, 'Bumble':171406, 'Hinge':81241, 'Plenty of Fish':442135}\n",
    "d_combined = pd.DataFrame(list(data.items()), columns=['Platform', 'Users'])\n",
    "print(d_combined)"
   ]
  },
  {
   "cell_type": "code",
   "execution_count": 10,
   "id": "cda6f2b6-a1b5-4175-b0c9-f721d55b3edf",
   "metadata": {},
   "outputs": [
    {
     "data": {
      "text/plain": [
       "np.int64(0)"
      ]
     },
     "execution_count": 10,
     "metadata": {},
     "output_type": "execute_result"
    }
   ],
   "source": [
    "d_bumble.duplicated().sum()"
   ]
  },
  {
   "cell_type": "code",
   "execution_count": 11,
   "id": "4a6b7ed0-ef78-4b45-8b40-ac5b059ff950",
   "metadata": {},
   "outputs": [
    {
     "data": {
      "text/plain": [
       "np.int64(0)"
      ]
     },
     "execution_count": 11,
     "metadata": {},
     "output_type": "execute_result"
    }
   ],
   "source": [
    "d_tinder.duplicated().sum()"
   ]
  },
  {
   "cell_type": "code",
   "execution_count": 12,
   "id": "93a3c0b3-259a-4210-85b7-6c046385cba7",
   "metadata": {},
   "outputs": [
    {
     "data": {
      "text/plain": [
       "np.int64(0)"
      ]
     },
     "execution_count": 12,
     "metadata": {},
     "output_type": "execute_result"
    }
   ],
   "source": [
    "d_hinge.duplicated().sum()"
   ]
  },
  {
   "cell_type": "code",
   "execution_count": 13,
   "id": "ac128703-18ae-4014-ad13-4552932e3211",
   "metadata": {},
   "outputs": [
    {
     "data": {
      "text/plain": [
       "np.int64(0)"
      ]
     },
     "execution_count": 13,
     "metadata": {},
     "output_type": "execute_result"
    }
   ],
   "source": [
    "d_pof.duplicated().sum()"
   ]
  },
  {
   "cell_type": "code",
   "execution_count": 14,
   "id": "0067d91d-7b7e-45b3-8fdc-9940eaf90543",
   "metadata": {},
   "outputs": [
    {
     "data": {
      "text/html": [
       "<div>\n",
       "<style scoped>\n",
       "    .dataframe tbody tr th:only-of-type {\n",
       "        vertical-align: middle;\n",
       "    }\n",
       "\n",
       "    .dataframe tbody tr th {\n",
       "        vertical-align: top;\n",
       "    }\n",
       "\n",
       "    .dataframe thead th {\n",
       "        text-align: right;\n",
       "    }\n",
       "</style>\n",
       "<table border=\"1\" class=\"dataframe\">\n",
       "  <thead>\n",
       "    <tr style=\"text-align: right;\">\n",
       "      <th></th>\n",
       "      <th>Platform</th>\n",
       "      <th>Users</th>\n",
       "    </tr>\n",
       "  </thead>\n",
       "  <tbody>\n",
       "    <tr>\n",
       "      <th>0</th>\n",
       "      <td>Tinder</td>\n",
       "      <td>658657</td>\n",
       "    </tr>\n",
       "    <tr>\n",
       "      <th>1</th>\n",
       "      <td>Bumble</td>\n",
       "      <td>171406</td>\n",
       "    </tr>\n",
       "    <tr>\n",
       "      <th>2</th>\n",
       "      <td>Hinge</td>\n",
       "      <td>81241</td>\n",
       "    </tr>\n",
       "    <tr>\n",
       "      <th>3</th>\n",
       "      <td>Plenty of Fish</td>\n",
       "      <td>442135</td>\n",
       "    </tr>\n",
       "  </tbody>\n",
       "</table>\n",
       "</div>"
      ],
      "text/plain": [
       "         Platform   Users\n",
       "0          Tinder  658657\n",
       "1          Bumble  171406\n",
       "2           Hinge   81241\n",
       "3  Plenty of Fish  442135"
      ]
     },
     "execution_count": 14,
     "metadata": {},
     "output_type": "execute_result"
    }
   ],
   "source": [
    "d_combined"
   ]
  },
  {
   "cell_type": "code",
   "execution_count": 15,
   "id": "dd3ed3a8-0f27-45a8-ab61-f6680b2c4e15",
   "metadata": {},
   "outputs": [],
   "source": [
    "d_combined.sort_values(by='Users', ascending=False, inplace=True)"
   ]
  },
  {
   "cell_type": "code",
   "execution_count": 16,
   "id": "16691fdd-90b8-4a51-9053-453e24de31cc",
   "metadata": {},
   "outputs": [
    {
     "data": {
      "image/png": "[encoded data removed]",
      "text/plain": [
       "<Figure size 800x400 with 1 Axes>"
      ]
     },
     "metadata": {},
     "output_type": "display_data"
    }
   ],
   "source": [
    "values = [658657, 171406, 81241, 442135]\n",
    "labels = ['Tinder', 'Bumble', 'Hinge', 'Plenty of Fish']\n",
    "\n",
    "\n",
    "colors = ['skyblue', 'purple', 'green', 'salmon']\n",
    "\n",
    "# Create the figure and a single subplot\n",
    "fig, ax = plt.subplots(figsize=(8, 4))\n",
    "\n",
    "# Use explode to pull a slice out.\n",
    "# The list should have a value for each slice; a value > 0 moves it out.\n",
    "explode = [0.1, 0, 0, 0] # Explode the first slice (Tinder)\n",
    "\n",
    "# Create the pie chart with a shadow and bold labels\n",
    "wedges, texts, autotexts = ax.pie(\n",
    "    values,\n",
    "    colors=colors,\n",
    "    autopct='%1.1f%%', # Format percentage text\n",
    "    shadow=True, # Add a shadow for depth\n",
    "    startangle=90, # Start the first slice at the top\n",
    "    wedgeprops=dict(edgecolor='black', linewidth=1.5), # Add a border line\n",
    "    explode=explode # Apply the explode effect\n",
    ")\n",
    "\n",
    "# Customize the text inside the slices\n",
    "for text in autotexts:\n",
    "    text.set_color('white')\n",
    "    text.set_fontsize(11)\n",
    "    text.set_weight('bold')\n",
    "\n",
    "# Set the title\n",
    "ax.set_title('User Distribution by Dating Apps', fontsize=15, fontweight='bold', pad=20)\n",
    "\n",
    "# Add the legend\n",
    "ax.legend(wedges, labels, title=\"Apps\", loc=\"center left\", bbox_to_anchor=(1, 0, 0.5, 1))\n",
    "\n",
    "# Set aspect ratio to be equal so that pie is a circle.\n",
    "ax.axis('equal')\n",
    "\n",
    "# Display the plot\n",
    "plt.show()\n"
   ]
  },
  {
   "cell_type": "code",
   "execution_count": 17,
   "id": "143ab49e-89e7-431a-947a-a566cf4eb52b",
   "metadata": {},
   "outputs": [
    {
     "data": {
      "text/html": [
       "<div>\n",
       "<style scoped>\n",
       "    .dataframe tbody tr th:only-of-type {\n",
       "        vertical-align: middle;\n",
       "    }\n",
       "\n",
       "    .dataframe tbody tr th {\n",
       "        vertical-align: top;\n",
       "    }\n",
       "\n",
       "    .dataframe thead th {\n",
       "        text-align: right;\n",
       "    }\n",
       "</style>\n",
       "<table border=\"1\" class=\"dataframe\">\n",
       "  <thead>\n",
       "    <tr style=\"text-align: right;\">\n",
       "      <th></th>\n",
       "      <th>Platform</th>\n",
       "      <th>Users</th>\n",
       "    </tr>\n",
       "  </thead>\n",
       "  <tbody>\n",
       "    <tr>\n",
       "      <th>0</th>\n",
       "      <td>Tinder</td>\n",
       "      <td>658657</td>\n",
       "    </tr>\n",
       "    <tr>\n",
       "      <th>3</th>\n",
       "      <td>Plenty of Fish</td>\n",
       "      <td>442135</td>\n",
       "    </tr>\n",
       "    <tr>\n",
       "      <th>1</th>\n",
       "      <td>Bumble</td>\n",
       "      <td>171406</td>\n",
       "    </tr>\n",
       "    <tr>\n",
       "      <th>2</th>\n",
       "      <td>Hinge</td>\n",
       "      <td>81241</td>\n",
       "    </tr>\n",
       "  </tbody>\n",
       "</table>\n",
       "</div>"
      ],
      "text/plain": [
       "         Platform   Users\n",
       "0          Tinder  658657\n",
       "3  Plenty of Fish  442135\n",
       "1          Bumble  171406\n",
       "2           Hinge   81241"
      ]
     },
     "execution_count": 17,
     "metadata": {},
     "output_type": "execute_result"
    }
   ],
   "source": [
    "d_combined"
   ]
  },
  {
   "cell_type": "code",
   "execution_count": 18,
   "id": "b34699f3-5339-422c-974b-5324ec1d27bd",
   "metadata": {},
   "outputs": [],
   "source": [
    "d_combined['Total Count']=d_combined['Users'].sum()"
   ]
  },
  {
   "cell_type": "code",
   "execution_count": 19,
   "id": "7d84f304-52bf-4809-b56e-2f3540705943",
   "metadata": {},
   "outputs": [
    {
     "data": {
      "text/html": [
       "<div>\n",
       "<style scoped>\n",
       "    .dataframe tbody tr th:only-of-type {\n",
       "        vertical-align: middle;\n",
       "    }\n",
       "\n",
       "    .dataframe tbody tr th {\n",
       "        vertical-align: top;\n",
       "    }\n",
       "\n",
       "    .dataframe thead th {\n",
       "        text-align: right;\n",
       "    }\n",
       "</style>\n",
       "<table border=\"1\" class=\"dataframe\">\n",
       "  <thead>\n",
       "    <tr style=\"text-align: right;\">\n",
       "      <th></th>\n",
       "      <th>Platform</th>\n",
       "      <th>Users</th>\n",
       "      <th>Total Count</th>\n",
       "      <th>Percentage</th>\n",
       "    </tr>\n",
       "  </thead>\n",
       "  <tbody>\n",
       "    <tr>\n",
       "      <th>0</th>\n",
       "      <td>Tinder</td>\n",
       "      <td>658657</td>\n",
       "      <td>1353439</td>\n",
       "      <td>48.67%</td>\n",
       "    </tr>\n",
       "    <tr>\n",
       "      <th>3</th>\n",
       "      <td>Plenty of Fish</td>\n",
       "      <td>442135</td>\n",
       "      <td>1353439</td>\n",
       "      <td>32.67%</td>\n",
       "    </tr>\n",
       "    <tr>\n",
       "      <th>1</th>\n",
       "      <td>Bumble</td>\n",
       "      <td>171406</td>\n",
       "      <td>1353439</td>\n",
       "      <td>12.66%</td>\n",
       "    </tr>\n",
       "    <tr>\n",
       "      <th>2</th>\n",
       "      <td>Hinge</td>\n",
       "      <td>81241</td>\n",
       "      <td>1353439</td>\n",
       "      <td>6.0%</td>\n",
       "    </tr>\n",
       "  </tbody>\n",
       "</table>\n",
       "</div>"
      ],
      "text/plain": [
       "         Platform   Users  Total Count Percentage\n",
       "0          Tinder  658657      1353439     48.67%\n",
       "3  Plenty of Fish  442135      1353439     32.67%\n",
       "1          Bumble  171406      1353439     12.66%\n",
       "2           Hinge   81241      1353439       6.0%"
      ]
     },
     "execution_count": 19,
     "metadata": {},
     "output_type": "execute_result"
    }
   ],
   "source": [
    "d_combined['Percentage']=d_combined['Users']/d_combined['Total Count']*100\n",
    "d_combined['Percentage']=d_combined['Percentage'].round(2)\n",
    "d_combined['Percentage']=d_combined['Percentage'].map(lambda x: f\"{x}%\")\n",
    "d_combined"
   ]
  },
  {
   "cell_type": "code",
   "execution_count": 20,
   "id": "af9945c3-a6b2-49b7-879b-a54c84b49481",
   "metadata": {},
   "outputs": [
    {
     "data": {
      "text/html": [
       "<a href=\"data:file/csv;base64,UGxhdGZvcm0sVXNlcnMsVG90YWwgQ291bnQsUGVyY2VudGFnZQ0KVGluZGVyLDY1ODY1NywxMzUzNDM5LDQ4LjY3JQ0KUGxlbnR5IG9mIEZpc2gsNDQyMTM1LDEzNTM0MzksMzIuNjclDQpCdW1ibGUsMTcxNDA2LDEzNTM0MzksMTIuNjYlDQpIaW5nZSw4MTI0MSwxMzUzNDM5LDYuMCUNCg==\" download=\"d_combined.csv\">Click here to download d_combined.csv</a>"
      ],
      "text/plain": [
       "<IPython.core.display.HTML object>"
      ]
     },
     "metadata": {},
     "output_type": "display_data"
    }
   ],
   "source": [
    "d_combined.to_csv('d_combined.csv', index=False)\n",
    "csv_content_clean = d_combined.to_csv(index=False)\n",
    "b64_clean = base64.b64encode(csv_content_clean.encode()).decode()\n",
    "download_link_clean = f'<a href=\"data:file/csv;base64,{b64_clean}\" download=\"d_combined.csv\">Click here to download d_combined.csv</a>'\n",
    "display(HTML(download_link_clean))"
   ]
  },
  {
   "cell_type": "code",
   "execution_count": 21,
   "id": "14912d2a-c4c7-4646-9e29-ac054a1dbec2",
   "metadata": {},
   "outputs": [
    {
     "data": {
      "text/plain": [
       "Index(['ID', 'Number of conversations', 'Average Conversation Length',\n",
       "       'Average Conversation Length in Days',\n",
       "       'Number of ghostings after 1st message', 'Number of matches',\n",
       "       'Minimum of Age filter', 'Maximum of Age filter', 'Country',\n",
       "       'Education', 'Gender', 'Interests in gender', 'instagram', 'Job title',\n",
       "       'Age', 'Group'],\n",
       "      dtype='object')"
      ]
     },
     "execution_count": 21,
     "metadata": {},
     "output_type": "execute_result"
    }
   ],
   "source": [
    "df.columns"
   ]
  },
  {
   "cell_type": "code",
   "execution_count": 22,
   "id": "f44ed56a-ca1b-4e26-8a09-3e12e70a2e70",
   "metadata": {},
   "outputs": [
    {
     "data": {
      "text/plain": [
       "0              Norway\n",
       "1             Belgium\n",
       "2              Norway\n",
       "3              France\n",
       "4              France\n",
       "            ...      \n",
       "390    United Kingdom\n",
       "391           Belgium\n",
       "392       Netherlands\n",
       "393           Austria\n",
       "394    United Kingdom\n",
       "Name: Country, Length: 395, dtype: object"
      ]
     },
     "execution_count": 22,
     "metadata": {},
     "output_type": "execute_result"
    }
   ],
   "source": [
    "df.Country"
   ]
  },
  {
   "cell_type": "code",
   "execution_count": 23,
   "id": "8e6aee25-1213-4d37-8af9-344d96a8ed14",
   "metadata": {},
   "outputs": [],
   "source": [
    "custom_color_map_interest = {'Interest in Women': 'red',\n",
    "                    'Interest in Men': 'blue',\n",
    "                    'Interest in Men and Women': 'green'}"
   ]
  },
  {
   "cell_type": "code",
   "execution_count": 24,
   "id": "bcb7026a-ba6c-4a42-b3b4-9695e90357d0",
   "metadata": {},
   "outputs": [
    {
     "data": {
      "text/plain": [
       "Interests in gender\n",
       "Interest in Women            354\n",
       "Interest in Men               28\n",
       "Interest in Men and Women     13\n",
       "Name: count, dtype: int64"
      ]
     },
     "execution_count": 24,
     "metadata": {},
     "output_type": "execute_result"
    }
   ],
   "source": [
    "df['Interests in gender'].value_counts()"
   ]
  },
  {
   "cell_type": "code",
   "execution_count": 25,
   "id": "90bf50be-d437-45d2-8736-ce83a08992ab",
   "metadata": {},
   "outputs": [],
   "source": [
    "custom_color_map_gender={'Women': 'coral',\n",
    "                        'Men': 'purple'}"
   ]
  },
  {
   "cell_type": "code",
   "execution_count": 26,
   "id": "b5865408-30f0-4a54-84c9-b163c86db450",
   "metadata": {},
   "outputs": [
    {
     "data": {
      "text/plain": [
       "395"
      ]
     },
     "execution_count": 26,
     "metadata": {},
     "output_type": "execute_result"
    }
   ],
   "source": [
    "len(df)"
   ]
  },
  {
   "cell_type": "code",
   "execution_count": 27,
   "id": "81a61d2d-0ec3-4f2a-a5e9-36743ba32ae0",
   "metadata": {},
   "outputs": [],
   "source": [
    "df_map=df.groupby('Country').size().reset_index(name='Count')"
   ]
  },
  {
   "cell_type": "code",
   "execution_count": 28,
   "id": "087f4b11-15ba-4ce9-96bb-aa264e14b501",
   "metadata": {},
   "outputs": [
    {
     "data": {
      "text/html": [
       "<html>\n",
       "<head><meta charset=\"utf-8\" /></head>\n",
       "<body>\n",
       "    <div>            <script src=\"https://cdnjs.cloudflare.com/ajax/libs/mathjax/2.7.5/MathJax.js?config=TeX-AMS-MML_SVG\"></script><script type=\"text/javascript\">if (window.MathJax && window.MathJax.Hub && window.MathJax.Hub.Config) {window.MathJax.Hub.Config({SVG: {font: \"STIX-Web\"}});}</script>                <script type=\"text/javascript\">window.PlotlyConfig = {MathJaxConfig: 'local'};</script>\n",
       "        <script charset=\"utf-8\" src=\"https://cdn.plot.ly/plotly-3.1.0.min.js\" integrity=\"sha256-Ei4740bWZhaUTQuD6q9yQlgVCMPBz6CZWhevDYPv93A=\" crossorigin=\"anonymous\"></script>                <div id=\"60dec179-5228-4d86-95c2-c3861edd0a3a\" class=\"plotly-graph-div\" style=\"height:525px; width:100%;\"></div>            <script type=\"text/javascript\">                window.PLOTLYENV=window.PLOTLYENV || {};                                if (document.getElementById(\"60dec179-5228-4d86-95c2-c3861edd0a3a\")) {                    Plotly.newPlot(                        \"60dec179-5228-4d86-95c2-c3861edd0a3a\",                        [{\"coloraxis\":\"coloraxis\",\"geo\":\"geo\",\"hovertemplate\":\"Country=%{location}\\u003cbr\\u003eCount=%{z}\\u003cextra\\u003e\\u003c\\u002fextra\\u003e\",\"locationmode\":\"country names\",\"locations\":[\"Austria\",\"Belarus\",\"Belgium\",\"Bulgaria\",\"Croatia\",\"Czechia\",\"Denmark\",\"Estonia\",\"Finland\",\"France\",\"Germany\",\"Greece\",\"Hungary\",\"Iceland\",\"Ireland\",\"Italy\",\"Lithuania\",\"Luxembourg\",\"Netherlands\",\"Norway\",\"Poland\",\"Portugal\",\"Romania\",\"Russia\",\"Slovakia\",\"Spain\",\"Sweden\",\"Switzerland\",\"Ukraine\",\"United Kingdom\"],\"name\":\"\",\"z\":{\"dtype\":\"i1\",\"bdata\":\"DgEQAQILEgMeFzcCBwELEQMBFggYBAgDAw8ZEgQt\"},\"type\":\"choropleth\"}],                        {\"template\":{\"data\":{\"histogram2dcontour\":[{\"type\":\"histogram2dcontour\",\"colorbar\":{\"outlinewidth\":0,\"ticks\":\"\"},\"colorscale\":[[0.0,\"#0d0887\"],[0.1111111111111111,\"#46039f\"],[0.2222222222222222,\"#7201a8\"],[0.3333333333333333,\"#9c179e\"],[0.4444444444444444,\"#bd3786\"],[0.5555555555555556,\"#d8576b\"],[0.6666666666666666,\"#ed7953\"],[0.7777777777777778,\"#fb9f3a\"],[0.8888888888888888,\"#fdca26\"],[1.0,\"#f0f921\"]]}],\"choropleth\":[{\"type\":\"choropleth\",\"colorbar\":{\"outlinewidth\":0,\"ticks\":\"\"}}],\"histogram2d\":[{\"type\":\"histogram2d\",\"colorbar\":{\"outlinewidth\":0,\"ticks\":\"\"},\"colorscale\":[[0.0,\"#0d0887\"],[0.1111111111111111,\"#46039f\"],[0.2222222222222222,\"#7201a8\"],[0.3333333333333333,\"#9c179e\"],[0.4444444444444444,\"#bd3786\"],[0.5555555555555556,\"#d8576b\"],[0.6666666666666666,\"#ed7953\"],[0.7777777777777778,\"#fb9f3a\"],[0.8888888888888888,\"#fdca26\"],[1.0,\"#f0f921\"]]}],\"heatmap\":[{\"type\":\"heatmap\",\"colorbar\":{\"outlinewidth\":0,\"ticks\":\"\"},\"colorscale\":[[0.0,\"#0d0887\"],[0.1111111111111111,\"#46039f\"],[0.2222222222222222,\"#7201a8\"],[0.3333333333333333,\"#9c179e\"],[0.4444444444444444,\"#bd3786\"],[0.5555555555555556,\"#d8576b\"],[0.6666666666666666,\"#ed7953\"],[0.7777777777777778,\"#fb9f3a\"],[0.8888888888888888,\"#fdca26\"],[1.0,\"#f0f921\"]]}],\"contourcarpet\":[{\"type\":\"contourcarpet\",\"colorbar\":{\"outlinewidth\":0,\"ticks\":\"\"}}],\"contour\":[{\"type\":\"contour\",\"colorbar\":{\"outlinewidth\":0,\"ticks\":\"\"},\"colorscale\":[[0.0,\"#0d0887\"],[0.1111111111111111,\"#46039f\"],[0.2222222222222222,\"#7201a8\"],[0.3333333333333333,\"#9c179e\"],[0.4444444444444444,\"#bd3786\"],[0.5555555555555556,\"#d8576b\"],[0.6666666666666666,\"#ed7953\"],[0.7777777777777778,\"#fb9f3a\"],[0.8888888888888888,\"#fdca26\"],[1.0,\"#f0f921\"]]}],\"surface\":[{\"type\":\"surface\",\"colorbar\":{\"outlinewidth\":0,\"ticks\":\"\"},\"colorscale\":[[0.0,\"#0d0887\"],[0.1111111111111111,\"#46039f\"],[0.2222222222222222,\"#7201a8\"],[0.3333333333333333,\"#9c179e\"],[0.4444444444444444,\"#bd3786\"],[0.5555555555555556,\"#d8576b\"],[0.6666666666666666,\"#ed7953\"],[0.7777777777777778,\"#fb9f3a\"],[0.8888888888888888,\"#fdca26\"],[1.0,\"#f0f921\"]]}],\"mesh3d\":[{\"type\":\"mesh3d\",\"colorbar\":{\"outlinewidth\":0,\"ticks\":\"\"}}],\"scatter\":[{\"fillpattern\":{\"fillmode\":\"overlay\",\"size\":10,\"solidity\":0.2},\"type\":\"scatter\"}],\"parcoords\":[{\"type\":\"parcoords\",\"line\":{\"colorbar\":{\"outlinewidth\":0,\"ticks\":\"\"}}}],\"scatterpolargl\":[{\"type\":\"scatterpolargl\",\"marker\":{\"colorbar\":{\"outlinewidth\":0,\"ticks\":\"\"}}}],\"bar\":[{\"error_x\":{\"color\":\"#2a3f5f\"},\"error_y\":{\"color\":\"#2a3f5f\"},\"marker\":{\"line\":{\"color\":\"#E5ECF6\",\"width\":0.5},\"pattern\":{\"fillmode\":\"overlay\",\"size\":10,\"solidity\":0.2}},\"type\":\"bar\"}],\"scattergeo\":[{\"type\":\"scattergeo\",\"marker\":{\"colorbar\":{\"outlinewidth\":0,\"ticks\":\"\"}}}],\"scatterpolar\":[{\"type\":\"scatterpolar\",\"marker\":{\"colorbar\":{\"outlinewidth\":0,\"ticks\":\"\"}}}],\"histogram\":[{\"marker\":{\"pattern\":{\"fillmode\":\"overlay\",\"size\":10,\"solidity\":0.2}},\"type\":\"histogram\"}],\"scattergl\":[{\"type\":\"scattergl\",\"marker\":{\"colorbar\":{\"outlinewidth\":0,\"ticks\":\"\"}}}],\"scatter3d\":[{\"type\":\"scatter3d\",\"line\":{\"colorbar\":{\"outlinewidth\":0,\"ticks\":\"\"}},\"marker\":{\"colorbar\":{\"outlinewidth\":0,\"ticks\":\"\"}}}],\"scattermap\":[{\"type\":\"scattermap\",\"marker\":{\"colorbar\":{\"outlinewidth\":0,\"ticks\":\"\"}}}],\"scattermapbox\":[{\"type\":\"scattermapbox\",\"marker\":{\"colorbar\":{\"outlinewidth\":0,\"ticks\":\"\"}}}],\"scatterternary\":[{\"type\":\"scatterternary\",\"marker\":{\"colorbar\":{\"outlinewidth\":0,\"ticks\":\"\"}}}],\"scattercarpet\":[{\"type\":\"scattercarpet\",\"marker\":{\"colorbar\":{\"outlinewidth\":0,\"ticks\":\"\"}}}],\"carpet\":[{\"aaxis\":{\"endlinecolor\":\"#2a3f5f\",\"gridcolor\":\"white\",\"linecolor\":\"white\",\"minorgridcolor\":\"white\",\"startlinecolor\":\"#2a3f5f\"},\"baxis\":{\"endlinecolor\":\"#2a3f5f\",\"gridcolor\":\"white\",\"linecolor\":\"white\",\"minorgridcolor\":\"white\",\"startlinecolor\":\"#2a3f5f\"},\"type\":\"carpet\"}],\"table\":[{\"cells\":{\"fill\":{\"color\":\"#EBF0F8\"},\"line\":{\"color\":\"white\"}},\"header\":{\"fill\":{\"color\":\"#C8D4E3\"},\"line\":{\"color\":\"white\"}},\"type\":\"table\"}],\"barpolar\":[{\"marker\":{\"line\":{\"color\":\"#E5ECF6\",\"width\":0.5},\"pattern\":{\"fillmode\":\"overlay\",\"size\":10,\"solidity\":0.2}},\"type\":\"barpolar\"}],\"pie\":[{\"automargin\":true,\"type\":\"pie\"}]},\"layout\":{\"autotypenumbers\":\"strict\",\"colorway\":[\"#636efa\",\"#EF553B\",\"#00cc96\",\"#ab63fa\",\"#FFA15A\",\"#19d3f3\",\"#FF6692\",\"#B6E880\",\"#FF97FF\",\"#FECB52\"],\"font\":{\"color\":\"#2a3f5f\"},\"hovermode\":\"closest\",\"hoverlabel\":{\"align\":\"left\"},\"paper_bgcolor\":\"white\",\"plot_bgcolor\":\"#E5ECF6\",\"polar\":{\"bgcolor\":\"#E5ECF6\",\"angularaxis\":{\"gridcolor\":\"white\",\"linecolor\":\"white\",\"ticks\":\"\"},\"radialaxis\":{\"gridcolor\":\"white\",\"linecolor\":\"white\",\"ticks\":\"\"}},\"ternary\":{\"bgcolor\":\"#E5ECF6\",\"aaxis\":{\"gridcolor\":\"white\",\"linecolor\":\"white\",\"ticks\":\"\"},\"baxis\":{\"gridcolor\":\"white\",\"linecolor\":\"white\",\"ticks\":\"\"},\"caxis\":{\"gridcolor\":\"white\",\"linecolor\":\"white\",\"ticks\":\"\"}},\"coloraxis\":{\"colorbar\":{\"outlinewidth\":0,\"ticks\":\"\"}},\"colorscale\":{\"sequential\":[[0.0,\"#0d0887\"],[0.1111111111111111,\"#46039f\"],[0.2222222222222222,\"#7201a8\"],[0.3333333333333333,\"#9c179e\"],[0.4444444444444444,\"#bd3786\"],[0.5555555555555556,\"#d8576b\"],[0.6666666666666666,\"#ed7953\"],[0.7777777777777778,\"#fb9f3a\"],[0.8888888888888888,\"#fdca26\"],[1.0,\"#f0f921\"]],\"sequentialminus\":[[0.0,\"#0d0887\"],[0.1111111111111111,\"#46039f\"],[0.2222222222222222,\"#7201a8\"],[0.3333333333333333,\"#9c179e\"],[0.4444444444444444,\"#bd3786\"],[0.5555555555555556,\"#d8576b\"],[0.6666666666666666,\"#ed7953\"],[0.7777777777777778,\"#fb9f3a\"],[0.8888888888888888,\"#fdca26\"],[1.0,\"#f0f921\"]],\"diverging\":[[0,\"#8e0152\"],[0.1,\"#c51b7d\"],[0.2,\"#de77ae\"],[0.3,\"#f1b6da\"],[0.4,\"#fde0ef\"],[0.5,\"#f7f7f7\"],[0.6,\"#e6f5d0\"],[0.7,\"#b8e186\"],[0.8,\"#7fbc41\"],[0.9,\"#4d9221\"],[1,\"#276419\"]]},\"xaxis\":{\"gridcolor\":\"white\",\"linecolor\":\"white\",\"ticks\":\"\",\"title\":{\"standoff\":15},\"zerolinecolor\":\"white\",\"automargin\":true,\"zerolinewidth\":2},\"yaxis\":{\"gridcolor\":\"white\",\"linecolor\":\"white\",\"ticks\":\"\",\"title\":{\"standoff\":15},\"zerolinecolor\":\"white\",\"automargin\":true,\"zerolinewidth\":2},\"scene\":{\"xaxis\":{\"backgroundcolor\":\"#E5ECF6\",\"gridcolor\":\"white\",\"linecolor\":\"white\",\"showbackground\":true,\"ticks\":\"\",\"zerolinecolor\":\"white\",\"gridwidth\":2},\"yaxis\":{\"backgroundcolor\":\"#E5ECF6\",\"gridcolor\":\"white\",\"linecolor\":\"white\",\"showbackground\":true,\"ticks\":\"\",\"zerolinecolor\":\"white\",\"gridwidth\":2},\"zaxis\":{\"backgroundcolor\":\"#E5ECF6\",\"gridcolor\":\"white\",\"linecolor\":\"white\",\"showbackground\":true,\"ticks\":\"\",\"zerolinecolor\":\"white\",\"gridwidth\":2}},\"shapedefaults\":{\"line\":{\"color\":\"#2a3f5f\"}},\"annotationdefaults\":{\"arrowcolor\":\"#2a3f5f\",\"arrowhead\":0,\"arrowwidth\":1},\"geo\":{\"bgcolor\":\"white\",\"landcolor\":\"#E5ECF6\",\"subunitcolor\":\"white\",\"showland\":true,\"showlakes\":true,\"lakecolor\":\"white\"},\"title\":{\"x\":0.05},\"mapbox\":{\"style\":\"light\"}}},\"geo\":{\"domain\":{\"x\":[0.0,1.0],\"y\":[0.0,1.0]},\"center\":{},\"scope\":\"europe\",\"projection\":{\"type\":\"natural earth\"},\"showcountries\":true,\"countrycolor\":\"black\",\"showocean\":true,\"oceancolor\":\"lightblue\",\"showland\":true,\"landcolor\":\"lightgrey\"},\"coloraxis\":{\"colorbar\":{\"title\":{\"text\":\"Count\"}},\"colorscale\":[[0.0,\"#0d0887\"],[0.1111111111111111,\"#46039f\"],[0.2222222222222222,\"#7201a8\"],[0.3333333333333333,\"#9c179e\"],[0.4444444444444444,\"#bd3786\"],[0.5555555555555556,\"#d8576b\"],[0.6666666666666666,\"#ed7953\"],[0.7777777777777778,\"#fb9f3a\"],[0.8888888888888888,\"#fdca26\"],[1.0,\"#f0f921\"]]},\"legend\":{\"tracegroupgap\":0},\"title\":{\"text\":\"Distribution of Users in European countries\",\"font\":{\"weight\":\"bold\",\"size\":24},\"x\":0.5},\"showlegend\":false},                        {\"responsive\": true}                    ).then(function(){\n",
       "                            \n",
       "var gd = document.getElementById('60dec179-5228-4d86-95c2-c3861edd0a3a');\n",
       "var x = new MutationObserver(function (mutations, observer) {{\n",
       "        var display = window.getComputedStyle(gd).display;\n",
       "        if (!display || display === 'none') {{\n",
       "            console.log([gd, 'removed!']);\n",
       "            Plotly.purge(gd);\n",
       "            observer.disconnect();\n",
       "        }}\n",
       "}});\n",
       "\n",
       "// Listen for the removal of the full notebook cells\n",
       "var notebookContainer = gd.closest('#notebook-container');\n",
       "if (notebookContainer) {{\n",
       "    x.observe(notebookContainer, {childList: true});\n",
       "}}\n",
       "\n",
       "// Listen for the clearing of the current output cell\n",
       "var outputEl = gd.closest('.output');\n",
       "if (outputEl) {{\n",
       "    x.observe(outputEl, {childList: true});\n",
       "}}\n",
       "\n",
       "                        })                };            </script>        </div>\n",
       "</body>\n",
       "</html>"
      ]
     },
     "metadata": {},
     "output_type": "display_data"
    }
   ],
   "source": [
    "fig = px.choropleth(df_map,\n",
    "                    locations='Country',\n",
    "                    locationmode='country names',\n",
    "                    color='Count',\n",
    "                    title='Distribution of Users in European countries',\n",
    "                    scope='europe', \n",
    "                    color_discrete_map={\n",
    "                        'High score of happiness': 'green',\n",
    "                        'Low score of happiness': 'red',\n",
    "                        'Middle score of happiness': 'lightpink'\n",
    "                    }\n",
    "                   )\n",
    "fig.update_layout(showlegend=False, title_x=0.5, title_font_weight='bold',title_font_size=24)\n",
    "fig.update_geos(\n",
    "    # Change the map's projection style\n",
    "    projection_type=\"natural earth\",\n",
    "    \n",
    "    # Customize the country borders\n",
    "    showcountries=True,\n",
    "    countrycolor=\"black\",\n",
    "    \n",
    "    # Customize the ocean and land colors\n",
    "    showocean=True,\n",
    "    oceancolor=\"lightblue\",\n",
    "    showland=True,\n",
    "    landcolor=\"lightgrey\"\n",
    ")\n",
    "fig.show()"
   ]
  },
  {
   "cell_type": "code",
   "execution_count": 29,
   "id": "967f09c1-ae95-45ee-a419-2f4c1ba7e108",
   "metadata": {},
   "outputs": [],
   "source": [
    "df_map2=df_map"
   ]
  },
  {
   "cell_type": "code",
   "execution_count": 30,
   "id": "8a38b2be-8e32-4158-a784-7bd507ab39ab",
   "metadata": {},
   "outputs": [],
   "source": [
    "df_map.to_csv('df_map_2.csv', index=False)"
   ]
  },
  {
   "cell_type": "code",
   "execution_count": 31,
   "id": "92f8a377-c8d2-4947-bea7-9832effad71c",
   "metadata": {},
   "outputs": [
    {
     "data": {
      "text/html": [
       "<a href=\"data:file/csv;base64,Q291bnRyeSxDb3VudA0KQXVzdHJpYSwxNA0KQmVsYXJ1cywxDQpCZWxnaXVtLDE2DQpCdWxnYXJpYSwxDQpDcm9hdGlhLDINCkN6ZWNoaWEsMTENCkRlbm1hcmssMTgNCkVzdG9uaWEsMw0KRmlubGFuZCwzMA0KRnJhbmNlLDIzDQpHZXJtYW55LDU1DQpHcmVlY2UsMg0KSHVuZ2FyeSw3DQpJY2VsYW5kLDENCklyZWxhbmQsMTENCkl0YWx5LDE3DQpMaXRodWFuaWEsMw0KTHV4ZW1ib3VyZywxDQpOZXRoZXJsYW5kcywyMg0KTm9yd2F5LDgNClBvbGFuZCwyNA0KUG9ydHVnYWwsNA0KUm9tYW5pYSw4DQpSdXNzaWEsMw0KU2xvdmFraWEsMw0KU3BhaW4sMTUNClN3ZWRlbiwyNQ0KU3dpdHplcmxhbmQsMTgNClVrcmFpbmUsNA0KVW5pdGVkIEtpbmdkb20sNDUNCg==\" download=\"df_map.csv\">Click here to download df_map.csv</a>"
      ],
      "text/plain": [
       "<IPython.core.display.HTML object>"
      ]
     },
     "metadata": {},
     "output_type": "display_data"
    }
   ],
   "source": [
    "df_map.to_csv('df_map.csv', index=False)\n",
    "csv_content_clean = df_map.to_csv(index=False)\n",
    "b64_clean = base64.b64encode(csv_content_clean.encode()).decode()\n",
    "download_link_clean = f'<a href=\"data:file/csv;base64,{b64_clean}\" download=\"df_map.csv\">Click here to download df_map.csv</a>'\n",
    "display(HTML(download_link_clean))"
   ]
  },
  {
   "cell_type": "code",
   "execution_count": 32,
   "id": "7370dff4-036d-4b90-8827-9fab3d4f8dc4",
   "metadata": {},
   "outputs": [
    {
     "data": {
      "text/plain": [
       "['Austria',\n",
       " 'Belarus',\n",
       " 'Belgium',\n",
       " 'Bulgaria',\n",
       " 'Croatia',\n",
       " 'Czechia',\n",
       " 'Denmark',\n",
       " 'Estonia',\n",
       " 'Finland',\n",
       " 'France',\n",
       " 'Germany',\n",
       " 'Greece',\n",
       " 'Hungary',\n",
       " 'Iceland',\n",
       " 'Ireland',\n",
       " 'Italy',\n",
       " 'Lithuania',\n",
       " 'Luxembourg',\n",
       " 'Netherlands',\n",
       " 'Norway',\n",
       " 'Poland',\n",
       " 'Portugal',\n",
       " 'Romania',\n",
       " 'Russia',\n",
       " 'Slovakia',\n",
       " 'Spain',\n",
       " 'Sweden',\n",
       " 'Switzerland',\n",
       " 'Ukraine',\n",
       " 'United Kingdom']"
      ]
     },
     "execution_count": 32,
     "metadata": {},
     "output_type": "execute_result"
    }
   ],
   "source": [
    "df_map['Country'].to_list()"
   ]
  },
  {
   "cell_type": "code",
   "execution_count": 33,
   "id": "c8d28ee3-8690-4fe5-ad63-dc67ccc1fe9a",
   "metadata": {},
   "outputs": [],
   "source": [
    "map_geo={'Country':['Austria','Belarus', 'Belgium', 'Bulgaria', 'Croatia', 'Czechia', 'Denmark', 'Estonia', 'Finland', 'France', 'Germany', 'Greece','Hungary',\n",
    " 'Iceland',\n",
    " 'Ireland',\n",
    " 'Italy',\n",
    " 'Lithuania',\n",
    " 'Luxembourg',\n",
    " 'Netherlands',\n",
    " 'Norway',\n",
    " 'Poland',\n",
    " 'Portugal',\n",
    " 'Romania',\n",
    " 'Russia',\n",
    " 'Slovakia',\n",
    " 'Spain',\n",
    " 'Sweden',\n",
    " 'Switzerland',\n",
    " 'Ukraine',\n",
    " 'United Kingdom'],\n",
    "         'Latitude':[47.52,\n",
    "53.71,\n",
    "50.5,\n",
    "42.73,\n",
    "45.08,\n",
    "49.82,\n",
    "56.26,\n",
    "58.6,\n",
    "61.92,\n",
    "46.23,\n",
    "51.17,\n",
    "39.07,\n",
    "47.16,\n",
    "64.96,\n",
    "53.78,\n",
    "41.87,\n",
    "55.17,\n",
    "49.82,\n",
    "52.13,\n",
    "60.47,\n",
    "51.92,\n",
    "39.42,\n",
    "45.94,\n",
    "61.52,\n",
    "48.67,\n",
    "40.46,\n",
    "60.13,\n",
    "46.82,\n",
    "48.38,\n",
    "55.38], 'Longitude':[14.55,\n",
    "27.95,\n",
    "4.47,\n",
    "25.49,\n",
    "16.23,\n",
    "15.47,\n",
    "9.5,\n",
    "25.01,\n",
    "25.75,\n",
    "2.21,\n",
    "10.45,\n",
    "21.82,\n",
    "19.5,\n",
    "-19.02,\n",
    "-7.31,\n",
    "12.57,\n",
    "23.88,\n",
    "6.13,\n",
    "5.29,\n",
    "8.47,\n",
    "19.14,\n",
    "-8.22,\n",
    "24.97,\n",
    "105.32,\n",
    "19.7,\n",
    "-3.75,\n",
    "18.64,\n",
    "8.23,\n",
    "31.18,\n",
    "-3.44]}"
   ]
  },
  {
   "cell_type": "code",
   "execution_count": 34,
   "id": "eceab481-adaf-4a0c-a9a4-79185e748017",
   "metadata": {},
   "outputs": [],
   "source": [
    "map_geo_to_df=pd.DataFrame(map_geo)"
   ]
  },
  {
   "cell_type": "code",
   "execution_count": 35,
   "id": "b10c33f2-9a13-4281-80bb-784908f1a11d",
   "metadata": {},
   "outputs": [
    {
     "data": {
      "text/html": [
       "<div>\n",
       "<style scoped>\n",
       "    .dataframe tbody tr th:only-of-type {\n",
       "        vertical-align: middle;\n",
       "    }\n",
       "\n",
       "    .dataframe tbody tr th {\n",
       "        vertical-align: top;\n",
       "    }\n",
       "\n",
       "    .dataframe thead th {\n",
       "        text-align: right;\n",
       "    }\n",
       "</style>\n",
       "<table border=\"1\" class=\"dataframe\">\n",
       "  <thead>\n",
       "    <tr style=\"text-align: right;\">\n",
       "      <th></th>\n",
       "      <th>Country</th>\n",
       "      <th>Latitude</th>\n",
       "      <th>Longitude</th>\n",
       "    </tr>\n",
       "  </thead>\n",
       "  <tbody>\n",
       "    <tr>\n",
       "      <th>0</th>\n",
       "      <td>Austria</td>\n",
       "      <td>47.52</td>\n",
       "      <td>14.55</td>\n",
       "    </tr>\n",
       "    <tr>\n",
       "      <th>1</th>\n",
       "      <td>Belarus</td>\n",
       "      <td>53.71</td>\n",
       "      <td>27.95</td>\n",
       "    </tr>\n",
       "    <tr>\n",
       "      <th>2</th>\n",
       "      <td>Belgium</td>\n",
       "      <td>50.50</td>\n",
       "      <td>4.47</td>\n",
       "    </tr>\n",
       "    <tr>\n",
       "      <th>3</th>\n",
       "      <td>Bulgaria</td>\n",
       "      <td>42.73</td>\n",
       "      <td>25.49</td>\n",
       "    </tr>\n",
       "    <tr>\n",
       "      <th>4</th>\n",
       "      <td>Croatia</td>\n",
       "      <td>45.08</td>\n",
       "      <td>16.23</td>\n",
       "    </tr>\n",
       "    <tr>\n",
       "      <th>5</th>\n",
       "      <td>Czechia</td>\n",
       "      <td>49.82</td>\n",
       "      <td>15.47</td>\n",
       "    </tr>\n",
       "    <tr>\n",
       "      <th>6</th>\n",
       "      <td>Denmark</td>\n",
       "      <td>56.26</td>\n",
       "      <td>9.50</td>\n",
       "    </tr>\n",
       "    <tr>\n",
       "      <th>7</th>\n",
       "      <td>Estonia</td>\n",
       "      <td>58.60</td>\n",
       "      <td>25.01</td>\n",
       "    </tr>\n",
       "    <tr>\n",
       "      <th>8</th>\n",
       "      <td>Finland</td>\n",
       "      <td>61.92</td>\n",
       "      <td>25.75</td>\n",
       "    </tr>\n",
       "    <tr>\n",
       "      <th>9</th>\n",
       "      <td>France</td>\n",
       "      <td>46.23</td>\n",
       "      <td>2.21</td>\n",
       "    </tr>\n",
       "    <tr>\n",
       "      <th>10</th>\n",
       "      <td>Germany</td>\n",
       "      <td>51.17</td>\n",
       "      <td>10.45</td>\n",
       "    </tr>\n",
       "    <tr>\n",
       "      <th>11</th>\n",
       "      <td>Greece</td>\n",
       "      <td>39.07</td>\n",
       "      <td>21.82</td>\n",
       "    </tr>\n",
       "    <tr>\n",
       "      <th>12</th>\n",
       "      <td>Hungary</td>\n",
       "      <td>47.16</td>\n",
       "      <td>19.50</td>\n",
       "    </tr>\n",
       "    <tr>\n",
       "      <th>13</th>\n",
       "      <td>Iceland</td>\n",
       "      <td>64.96</td>\n",
       "      <td>-19.02</td>\n",
       "    </tr>\n",
       "    <tr>\n",
       "      <th>14</th>\n",
       "      <td>Ireland</td>\n",
       "      <td>53.78</td>\n",
       "      <td>-7.31</td>\n",
       "    </tr>\n",
       "    <tr>\n",
       "      <th>15</th>\n",
       "      <td>Italy</td>\n",
       "      <td>41.87</td>\n",
       "      <td>12.57</td>\n",
       "    </tr>\n",
       "    <tr>\n",
       "      <th>16</th>\n",
       "      <td>Lithuania</td>\n",
       "      <td>55.17</td>\n",
       "      <td>23.88</td>\n",
       "    </tr>\n",
       "    <tr>\n",
       "      <th>17</th>\n",
       "      <td>Luxembourg</td>\n",
       "      <td>49.82</td>\n",
       "      <td>6.13</td>\n",
       "    </tr>\n",
       "    <tr>\n",
       "      <th>18</th>\n",
       "      <td>Netherlands</td>\n",
       "      <td>52.13</td>\n",
       "      <td>5.29</td>\n",
       "    </tr>\n",
       "    <tr>\n",
       "      <th>19</th>\n",
       "      <td>Norway</td>\n",
       "      <td>60.47</td>\n",
       "      <td>8.47</td>\n",
       "    </tr>\n",
       "    <tr>\n",
       "      <th>20</th>\n",
       "      <td>Poland</td>\n",
       "      <td>51.92</td>\n",
       "      <td>19.14</td>\n",
       "    </tr>\n",
       "    <tr>\n",
       "      <th>21</th>\n",
       "      <td>Portugal</td>\n",
       "      <td>39.42</td>\n",
       "      <td>-8.22</td>\n",
       "    </tr>\n",
       "    <tr>\n",
       "      <th>22</th>\n",
       "      <td>Romania</td>\n",
       "      <td>45.94</td>\n",
       "      <td>24.97</td>\n",
       "    </tr>\n",
       "    <tr>\n",
       "      <th>23</th>\n",
       "      <td>Russia</td>\n",
       "      <td>61.52</td>\n",
       "      <td>105.32</td>\n",
       "    </tr>\n",
       "    <tr>\n",
       "      <th>24</th>\n",
       "      <td>Slovakia</td>\n",
       "      <td>48.67</td>\n",
       "      <td>19.70</td>\n",
       "    </tr>\n",
       "    <tr>\n",
       "      <th>25</th>\n",
       "      <td>Spain</td>\n",
       "      <td>40.46</td>\n",
       "      <td>-3.75</td>\n",
       "    </tr>\n",
       "    <tr>\n",
       "      <th>26</th>\n",
       "      <td>Sweden</td>\n",
       "      <td>60.13</td>\n",
       "      <td>18.64</td>\n",
       "    </tr>\n",
       "    <tr>\n",
       "      <th>27</th>\n",
       "      <td>Switzerland</td>\n",
       "      <td>46.82</td>\n",
       "      <td>8.23</td>\n",
       "    </tr>\n",
       "    <tr>\n",
       "      <th>28</th>\n",
       "      <td>Ukraine</td>\n",
       "      <td>48.38</td>\n",
       "      <td>31.18</td>\n",
       "    </tr>\n",
       "    <tr>\n",
       "      <th>29</th>\n",
       "      <td>United Kingdom</td>\n",
       "      <td>55.38</td>\n",
       "      <td>-3.44</td>\n",
       "    </tr>\n",
       "  </tbody>\n",
       "</table>\n",
       "</div>"
      ],
      "text/plain": [
       "           Country  Latitude  Longitude\n",
       "0          Austria     47.52      14.55\n",
       "1          Belarus     53.71      27.95\n",
       "2          Belgium     50.50       4.47\n",
       "3         Bulgaria     42.73      25.49\n",
       "4          Croatia     45.08      16.23\n",
       "5          Czechia     49.82      15.47\n",
       "6          Denmark     56.26       9.50\n",
       "7          Estonia     58.60      25.01\n",
       "8          Finland     61.92      25.75\n",
       "9           France     46.23       2.21\n",
       "10         Germany     51.17      10.45\n",
       "11          Greece     39.07      21.82\n",
       "12         Hungary     47.16      19.50\n",
       "13         Iceland     64.96     -19.02\n",
       "14         Ireland     53.78      -7.31\n",
       "15           Italy     41.87      12.57\n",
       "16       Lithuania     55.17      23.88\n",
       "17      Luxembourg     49.82       6.13\n",
       "18     Netherlands     52.13       5.29\n",
       "19          Norway     60.47       8.47\n",
       "20          Poland     51.92      19.14\n",
       "21        Portugal     39.42      -8.22\n",
       "22         Romania     45.94      24.97\n",
       "23          Russia     61.52     105.32\n",
       "24        Slovakia     48.67      19.70\n",
       "25           Spain     40.46      -3.75\n",
       "26          Sweden     60.13      18.64\n",
       "27     Switzerland     46.82       8.23\n",
       "28         Ukraine     48.38      31.18\n",
       "29  United Kingdom     55.38      -3.44"
      ]
     },
     "execution_count": 35,
     "metadata": {},
     "output_type": "execute_result"
    }
   ],
   "source": [
    "map_geo_to_df"
   ]
  },
  {
   "cell_type": "code",
   "execution_count": 36,
   "id": "1d6d09c1-c925-4c8a-b4ca-2c97f22f2973",
   "metadata": {},
   "outputs": [],
   "source": [
    "df_proportion=df.groupby(['Country', 'Gender']).size().reset_index(name='Count')"
   ]
  },
  {
   "cell_type": "code",
   "execution_count": 37,
   "id": "5130c07f-ed3c-446e-a47d-0761eef6eff5",
   "metadata": {},
   "outputs": [],
   "source": [
    "merged_map_geo=pd.merge(df_proportion,map_geo_to_df, on='Country', how='left')"
   ]
  },
  {
   "cell_type": "code",
   "execution_count": 38,
   "id": "d810fc42-a0a3-4b51-96e2-4f38842baba1",
   "metadata": {},
   "outputs": [
    {
     "data": {
      "text/html": [
       "<div>\n",
       "<style scoped>\n",
       "    .dataframe tbody tr th:only-of-type {\n",
       "        vertical-align: middle;\n",
       "    }\n",
       "\n",
       "    .dataframe tbody tr th {\n",
       "        vertical-align: top;\n",
       "    }\n",
       "\n",
       "    .dataframe thead th {\n",
       "        text-align: right;\n",
       "    }\n",
       "</style>\n",
       "<table border=\"1\" class=\"dataframe\">\n",
       "  <thead>\n",
       "    <tr style=\"text-align: right;\">\n",
       "      <th></th>\n",
       "      <th>Country</th>\n",
       "      <th>Gender</th>\n",
       "      <th>Count</th>\n",
       "      <th>Latitude</th>\n",
       "      <th>Longitude</th>\n",
       "    </tr>\n",
       "  </thead>\n",
       "  <tbody>\n",
       "    <tr>\n",
       "      <th>0</th>\n",
       "      <td>Austria</td>\n",
       "      <td>Men</td>\n",
       "      <td>11</td>\n",
       "      <td>47.52</td>\n",
       "      <td>14.55</td>\n",
       "    </tr>\n",
       "    <tr>\n",
       "      <th>1</th>\n",
       "      <td>Austria</td>\n",
       "      <td>Women</td>\n",
       "      <td>3</td>\n",
       "      <td>47.52</td>\n",
       "      <td>14.55</td>\n",
       "    </tr>\n",
       "    <tr>\n",
       "      <th>2</th>\n",
       "      <td>Belarus</td>\n",
       "      <td>Men</td>\n",
       "      <td>1</td>\n",
       "      <td>53.71</td>\n",
       "      <td>27.95</td>\n",
       "    </tr>\n",
       "    <tr>\n",
       "      <th>3</th>\n",
       "      <td>Belgium</td>\n",
       "      <td>Men</td>\n",
       "      <td>16</td>\n",
       "      <td>50.50</td>\n",
       "      <td>4.47</td>\n",
       "    </tr>\n",
       "    <tr>\n",
       "      <th>4</th>\n",
       "      <td>Bulgaria</td>\n",
       "      <td>Men</td>\n",
       "      <td>1</td>\n",
       "      <td>42.73</td>\n",
       "      <td>25.49</td>\n",
       "    </tr>\n",
       "    <tr>\n",
       "      <th>5</th>\n",
       "      <td>Croatia</td>\n",
       "      <td>Men</td>\n",
       "      <td>2</td>\n",
       "      <td>45.08</td>\n",
       "      <td>16.23</td>\n",
       "    </tr>\n",
       "    <tr>\n",
       "      <th>6</th>\n",
       "      <td>Czechia</td>\n",
       "      <td>Men</td>\n",
       "      <td>11</td>\n",
       "      <td>49.82</td>\n",
       "      <td>15.47</td>\n",
       "    </tr>\n",
       "    <tr>\n",
       "      <th>7</th>\n",
       "      <td>Denmark</td>\n",
       "      <td>Men</td>\n",
       "      <td>15</td>\n",
       "      <td>56.26</td>\n",
       "      <td>9.50</td>\n",
       "    </tr>\n",
       "    <tr>\n",
       "      <th>8</th>\n",
       "      <td>Denmark</td>\n",
       "      <td>Women</td>\n",
       "      <td>3</td>\n",
       "      <td>56.26</td>\n",
       "      <td>9.50</td>\n",
       "    </tr>\n",
       "    <tr>\n",
       "      <th>9</th>\n",
       "      <td>Estonia</td>\n",
       "      <td>Men</td>\n",
       "      <td>3</td>\n",
       "      <td>58.60</td>\n",
       "      <td>25.01</td>\n",
       "    </tr>\n",
       "    <tr>\n",
       "      <th>10</th>\n",
       "      <td>Finland</td>\n",
       "      <td>Men</td>\n",
       "      <td>26</td>\n",
       "      <td>61.92</td>\n",
       "      <td>25.75</td>\n",
       "    </tr>\n",
       "    <tr>\n",
       "      <th>11</th>\n",
       "      <td>Finland</td>\n",
       "      <td>Women</td>\n",
       "      <td>4</td>\n",
       "      <td>61.92</td>\n",
       "      <td>25.75</td>\n",
       "    </tr>\n",
       "    <tr>\n",
       "      <th>12</th>\n",
       "      <td>France</td>\n",
       "      <td>Men</td>\n",
       "      <td>22</td>\n",
       "      <td>46.23</td>\n",
       "      <td>2.21</td>\n",
       "    </tr>\n",
       "    <tr>\n",
       "      <th>13</th>\n",
       "      <td>France</td>\n",
       "      <td>Women</td>\n",
       "      <td>1</td>\n",
       "      <td>46.23</td>\n",
       "      <td>2.21</td>\n",
       "    </tr>\n",
       "    <tr>\n",
       "      <th>14</th>\n",
       "      <td>Germany</td>\n",
       "      <td>Men</td>\n",
       "      <td>49</td>\n",
       "      <td>51.17</td>\n",
       "      <td>10.45</td>\n",
       "    </tr>\n",
       "    <tr>\n",
       "      <th>15</th>\n",
       "      <td>Germany</td>\n",
       "      <td>Women</td>\n",
       "      <td>6</td>\n",
       "      <td>51.17</td>\n",
       "      <td>10.45</td>\n",
       "    </tr>\n",
       "    <tr>\n",
       "      <th>16</th>\n",
       "      <td>Greece</td>\n",
       "      <td>Men</td>\n",
       "      <td>2</td>\n",
       "      <td>39.07</td>\n",
       "      <td>21.82</td>\n",
       "    </tr>\n",
       "    <tr>\n",
       "      <th>17</th>\n",
       "      <td>Hungary</td>\n",
       "      <td>Men</td>\n",
       "      <td>6</td>\n",
       "      <td>47.16</td>\n",
       "      <td>19.50</td>\n",
       "    </tr>\n",
       "    <tr>\n",
       "      <th>18</th>\n",
       "      <td>Hungary</td>\n",
       "      <td>Women</td>\n",
       "      <td>1</td>\n",
       "      <td>47.16</td>\n",
       "      <td>19.50</td>\n",
       "    </tr>\n",
       "    <tr>\n",
       "      <th>19</th>\n",
       "      <td>Iceland</td>\n",
       "      <td>Men</td>\n",
       "      <td>1</td>\n",
       "      <td>64.96</td>\n",
       "      <td>-19.02</td>\n",
       "    </tr>\n",
       "    <tr>\n",
       "      <th>20</th>\n",
       "      <td>Ireland</td>\n",
       "      <td>Men</td>\n",
       "      <td>11</td>\n",
       "      <td>53.78</td>\n",
       "      <td>-7.31</td>\n",
       "    </tr>\n",
       "    <tr>\n",
       "      <th>21</th>\n",
       "      <td>Italy</td>\n",
       "      <td>Men</td>\n",
       "      <td>17</td>\n",
       "      <td>41.87</td>\n",
       "      <td>12.57</td>\n",
       "    </tr>\n",
       "    <tr>\n",
       "      <th>22</th>\n",
       "      <td>Lithuania</td>\n",
       "      <td>Men</td>\n",
       "      <td>3</td>\n",
       "      <td>55.17</td>\n",
       "      <td>23.88</td>\n",
       "    </tr>\n",
       "    <tr>\n",
       "      <th>23</th>\n",
       "      <td>Luxembourg</td>\n",
       "      <td>Men</td>\n",
       "      <td>1</td>\n",
       "      <td>49.82</td>\n",
       "      <td>6.13</td>\n",
       "    </tr>\n",
       "    <tr>\n",
       "      <th>24</th>\n",
       "      <td>Netherlands</td>\n",
       "      <td>Men</td>\n",
       "      <td>21</td>\n",
       "      <td>52.13</td>\n",
       "      <td>5.29</td>\n",
       "    </tr>\n",
       "    <tr>\n",
       "      <th>25</th>\n",
       "      <td>Netherlands</td>\n",
       "      <td>Women</td>\n",
       "      <td>1</td>\n",
       "      <td>52.13</td>\n",
       "      <td>5.29</td>\n",
       "    </tr>\n",
       "    <tr>\n",
       "      <th>26</th>\n",
       "      <td>Norway</td>\n",
       "      <td>Men</td>\n",
       "      <td>7</td>\n",
       "      <td>60.47</td>\n",
       "      <td>8.47</td>\n",
       "    </tr>\n",
       "    <tr>\n",
       "      <th>27</th>\n",
       "      <td>Norway</td>\n",
       "      <td>Women</td>\n",
       "      <td>1</td>\n",
       "      <td>60.47</td>\n",
       "      <td>8.47</td>\n",
       "    </tr>\n",
       "    <tr>\n",
       "      <th>28</th>\n",
       "      <td>Poland</td>\n",
       "      <td>Men</td>\n",
       "      <td>22</td>\n",
       "      <td>51.92</td>\n",
       "      <td>19.14</td>\n",
       "    </tr>\n",
       "    <tr>\n",
       "      <th>29</th>\n",
       "      <td>Poland</td>\n",
       "      <td>Women</td>\n",
       "      <td>2</td>\n",
       "      <td>51.92</td>\n",
       "      <td>19.14</td>\n",
       "    </tr>\n",
       "    <tr>\n",
       "      <th>30</th>\n",
       "      <td>Portugal</td>\n",
       "      <td>Men</td>\n",
       "      <td>4</td>\n",
       "      <td>39.42</td>\n",
       "      <td>-8.22</td>\n",
       "    </tr>\n",
       "    <tr>\n",
       "      <th>31</th>\n",
       "      <td>Romania</td>\n",
       "      <td>Men</td>\n",
       "      <td>8</td>\n",
       "      <td>45.94</td>\n",
       "      <td>24.97</td>\n",
       "    </tr>\n",
       "    <tr>\n",
       "      <th>32</th>\n",
       "      <td>Russia</td>\n",
       "      <td>Men</td>\n",
       "      <td>2</td>\n",
       "      <td>61.52</td>\n",
       "      <td>105.32</td>\n",
       "    </tr>\n",
       "    <tr>\n",
       "      <th>33</th>\n",
       "      <td>Russia</td>\n",
       "      <td>Women</td>\n",
       "      <td>1</td>\n",
       "      <td>61.52</td>\n",
       "      <td>105.32</td>\n",
       "    </tr>\n",
       "    <tr>\n",
       "      <th>34</th>\n",
       "      <td>Slovakia</td>\n",
       "      <td>Men</td>\n",
       "      <td>3</td>\n",
       "      <td>48.67</td>\n",
       "      <td>19.70</td>\n",
       "    </tr>\n",
       "    <tr>\n",
       "      <th>35</th>\n",
       "      <td>Spain</td>\n",
       "      <td>Men</td>\n",
       "      <td>15</td>\n",
       "      <td>40.46</td>\n",
       "      <td>-3.75</td>\n",
       "    </tr>\n",
       "    <tr>\n",
       "      <th>36</th>\n",
       "      <td>Sweden</td>\n",
       "      <td>Men</td>\n",
       "      <td>25</td>\n",
       "      <td>60.13</td>\n",
       "      <td>18.64</td>\n",
       "    </tr>\n",
       "    <tr>\n",
       "      <th>37</th>\n",
       "      <td>Switzerland</td>\n",
       "      <td>Men</td>\n",
       "      <td>17</td>\n",
       "      <td>46.82</td>\n",
       "      <td>8.23</td>\n",
       "    </tr>\n",
       "    <tr>\n",
       "      <th>38</th>\n",
       "      <td>Switzerland</td>\n",
       "      <td>Women</td>\n",
       "      <td>1</td>\n",
       "      <td>46.82</td>\n",
       "      <td>8.23</td>\n",
       "    </tr>\n",
       "    <tr>\n",
       "      <th>39</th>\n",
       "      <td>Ukraine</td>\n",
       "      <td>Men</td>\n",
       "      <td>4</td>\n",
       "      <td>48.38</td>\n",
       "      <td>31.18</td>\n",
       "    </tr>\n",
       "    <tr>\n",
       "      <th>40</th>\n",
       "      <td>United Kingdom</td>\n",
       "      <td>Men</td>\n",
       "      <td>42</td>\n",
       "      <td>55.38</td>\n",
       "      <td>-3.44</td>\n",
       "    </tr>\n",
       "    <tr>\n",
       "      <th>41</th>\n",
       "      <td>United Kingdom</td>\n",
       "      <td>Women</td>\n",
       "      <td>3</td>\n",
       "      <td>55.38</td>\n",
       "      <td>-3.44</td>\n",
       "    </tr>\n",
       "  </tbody>\n",
       "</table>\n",
       "</div>"
      ],
      "text/plain": [
       "           Country Gender  Count  Latitude  Longitude\n",
       "0          Austria    Men     11     47.52      14.55\n",
       "1          Austria  Women      3     47.52      14.55\n",
       "2          Belarus    Men      1     53.71      27.95\n",
       "3          Belgium    Men     16     50.50       4.47\n",
       "4         Bulgaria    Men      1     42.73      25.49\n",
       "5          Croatia    Men      2     45.08      16.23\n",
       "6          Czechia    Men     11     49.82      15.47\n",
       "7          Denmark    Men     15     56.26       9.50\n",
       "8          Denmark  Women      3     56.26       9.50\n",
       "9          Estonia    Men      3     58.60      25.01\n",
       "10         Finland    Men     26     61.92      25.75\n",
       "11         Finland  Women      4     61.92      25.75\n",
       "12          France    Men     22     46.23       2.21\n",
       "13          France  Women      1     46.23       2.21\n",
       "14         Germany    Men     49     51.17      10.45\n",
       "15         Germany  Women      6     51.17      10.45\n",
       "16          Greece    Men      2     39.07      21.82\n",
       "17         Hungary    Men      6     47.16      19.50\n",
       "18         Hungary  Women      1     47.16      19.50\n",
       "19         Iceland    Men      1     64.96     -19.02\n",
       "20         Ireland    Men     11     53.78      -7.31\n",
       "21           Italy    Men     17     41.87      12.57\n",
       "22       Lithuania    Men      3     55.17      23.88\n",
       "23      Luxembourg    Men      1     49.82       6.13\n",
       "24     Netherlands    Men     21     52.13       5.29\n",
       "25     Netherlands  Women      1     52.13       5.29\n",
       "26          Norway    Men      7     60.47       8.47\n",
       "27          Norway  Women      1     60.47       8.47\n",
       "28          Poland    Men     22     51.92      19.14\n",
       "29          Poland  Women      2     51.92      19.14\n",
       "30        Portugal    Men      4     39.42      -8.22\n",
       "31         Romania    Men      8     45.94      24.97\n",
       "32          Russia    Men      2     61.52     105.32\n",
       "33          Russia  Women      1     61.52     105.32\n",
       "34        Slovakia    Men      3     48.67      19.70\n",
       "35           Spain    Men     15     40.46      -3.75\n",
       "36          Sweden    Men     25     60.13      18.64\n",
       "37     Switzerland    Men     17     46.82       8.23\n",
       "38     Switzerland  Women      1     46.82       8.23\n",
       "39         Ukraine    Men      4     48.38      31.18\n",
       "40  United Kingdom    Men     42     55.38      -3.44\n",
       "41  United Kingdom  Women      3     55.38      -3.44"
      ]
     },
     "execution_count": 38,
     "metadata": {},
     "output_type": "execute_result"
    }
   ],
   "source": [
    "merged_map_geo"
   ]
  },
  {
   "cell_type": "code",
   "execution_count": 39,
   "id": "a39f0ce7-a3df-41bf-952c-69e54fb3de05",
   "metadata": {},
   "outputs": [
    {
     "data": {
      "text/html": [
       "<a href=\"data:file/csv;base64,Q291bnRyeSxHZW5kZXIsQ291bnQsTGF0aXR1ZGUsTG9uZ2l0dWRlDQpBdXN0cmlhLE1lbiwxMSw0Ny41MiwxNC41NQ0KQXVzdHJpYSxXb21lbiwzLDQ3LjUyLDE0LjU1DQpCZWxhcnVzLE1lbiwxLDUzLjcxLDI3Ljk1DQpCZWxnaXVtLE1lbiwxNiw1MC41LDQuNDcNCkJ1bGdhcmlhLE1lbiwxLDQyLjczLDI1LjQ5DQpDcm9hdGlhLE1lbiwyLDQ1LjA4LDE2LjIzDQpDemVjaGlhLE1lbiwxMSw0OS44MiwxNS40Nw0KRGVubWFyayxNZW4sMTUsNTYuMjYsOS41DQpEZW5tYXJrLFdvbWVuLDMsNTYuMjYsOS41DQpFc3RvbmlhLE1lbiwzLDU4LjYsMjUuMDENCkZpbmxhbmQsTWVuLDI2LDYxLjkyLDI1Ljc1DQpGaW5sYW5kLFdvbWVuLDQsNjEuOTIsMjUuNzUNCkZyYW5jZSxNZW4sMjIsNDYuMjMsMi4yMQ0KRnJhbmNlLFdvbWVuLDEsNDYuMjMsMi4yMQ0KR2VybWFueSxNZW4sNDksNTEuMTcsMTAuNDUNCkdlcm1hbnksV29tZW4sNiw1MS4xNywxMC40NQ0KR3JlZWNlLE1lbiwyLDM5LjA3LDIxLjgyDQpIdW5nYXJ5LE1lbiw2LDQ3LjE2LDE5LjUNCkh1bmdhcnksV29tZW4sMSw0Ny4xNiwxOS41DQpJY2VsYW5kLE1lbiwxLDY0Ljk2LC0xOS4wMg0KSXJlbGFuZCxNZW4sMTEsNTMuNzgsLTcuMzENCkl0YWx5LE1lbiwxNyw0MS44NywxMi41Nw0KTGl0aHVhbmlhLE1lbiwzLDU1LjE3LDIzLjg4DQpMdXhlbWJvdXJnLE1lbiwxLDQ5LjgyLDYuMTMNCk5ldGhlcmxhbmRzLE1lbiwyMSw1Mi4xMyw1LjI5DQpOZXRoZXJsYW5kcyxXb21lbiwxLDUyLjEzLDUuMjkNCk5vcndheSxNZW4sNyw2MC40Nyw4LjQ3DQpOb3J3YXksV29tZW4sMSw2MC40Nyw4LjQ3DQpQb2xhbmQsTWVuLDIyLDUxLjkyLDE5LjE0DQpQb2xhbmQsV29tZW4sMiw1MS45MiwxOS4xNA0KUG9ydHVnYWwsTWVuLDQsMzkuNDIsLTguMjINClJvbWFuaWEsTWVuLDgsNDUuOTQsMjQuOTcNClJ1c3NpYSxNZW4sMiw2MS41MiwxMDUuMzINClJ1c3NpYSxXb21lbiwxLDYxLjUyLDEwNS4zMg0KU2xvdmFraWEsTWVuLDMsNDguNjcsMTkuNw0KU3BhaW4sTWVuLDE1LDQwLjQ2LC0zLjc1DQpTd2VkZW4sTWVuLDI1LDYwLjEzLDE4LjY0DQpTd2l0emVybGFuZCxNZW4sMTcsNDYuODIsOC4yMw0KU3dpdHplcmxhbmQsV29tZW4sMSw0Ni44Miw4LjIzDQpVa3JhaW5lLE1lbiw0LDQ4LjM4LDMxLjE4DQpVbml0ZWQgS2luZ2RvbSxNZW4sNDIsNTUuMzgsLTMuNDQNClVuaXRlZCBLaW5nZG9tLFdvbWVuLDMsNTUuMzgsLTMuNDQNCg==\" download=\"merged_map_geo.csv\">Click here to download merged_map_geo.csv</a>"
      ],
      "text/plain": [
       "<IPython.core.display.HTML object>"
      ]
     },
     "metadata": {},
     "output_type": "display_data"
    }
   ],
   "source": [
    "merged_map_geo.to_csv('merged_map_geo.csv', index=False)\n",
    "csv_content_clean = merged_map_geo.to_csv(index=False)\n",
    "b64_clean = base64.b64encode(csv_content_clean.encode()).decode()\n",
    "download_link_clean = f'<a href=\"data:file/csv;base64,{b64_clean}\" download=\"merged_map_geo.csv\">Click here to download merged_map_geo.csv</a>'\n",
    "display(HTML(download_link_clean))"
   ]
  },
  {
   "cell_type": "code",
   "execution_count": 40,
   "id": "5ebaebda-53b1-404e-a4e3-6b4e06b399f2",
   "metadata": {},
   "outputs": [
    {
     "data": {
      "text/html": [
       "<div>\n",
       "<style scoped>\n",
       "    .dataframe tbody tr th:only-of-type {\n",
       "        vertical-align: middle;\n",
       "    }\n",
       "\n",
       "    .dataframe tbody tr th {\n",
       "        vertical-align: top;\n",
       "    }\n",
       "\n",
       "    .dataframe thead th {\n",
       "        text-align: right;\n",
       "    }\n",
       "</style>\n",
       "<table border=\"1\" class=\"dataframe\">\n",
       "  <thead>\n",
       "    <tr style=\"text-align: right;\">\n",
       "      <th></th>\n",
       "      <th>Gender</th>\n",
       "      <th>Count</th>\n",
       "    </tr>\n",
       "  </thead>\n",
       "  <tbody>\n",
       "    <tr>\n",
       "      <th>0</th>\n",
       "      <td>Men</td>\n",
       "      <td>368</td>\n",
       "    </tr>\n",
       "    <tr>\n",
       "      <th>1</th>\n",
       "      <td>Women</td>\n",
       "      <td>27</td>\n",
       "    </tr>\n",
       "  </tbody>\n",
       "</table>\n",
       "</div>"
      ],
      "text/plain": [
       "  Gender  Count\n",
       "0    Men    368\n",
       "1  Women     27"
      ]
     },
     "execution_count": 40,
     "metadata": {},
     "output_type": "execute_result"
    }
   ],
   "source": [
    "df_gender_distribution=df.groupby('Gender').size().reset_index(name='Count')\n",
    "df_gender_distribution"
   ]
  },
  {
   "cell_type": "code",
   "execution_count": 41,
   "id": "12c8d57f-0936-435c-8e24-04c87247b31a",
   "metadata": {},
   "outputs": [
    {
     "name": "stdout",
     "output_type": "stream",
     "text": [
      "Total count: 395\n"
     ]
    },
    {
     "data": {
      "text/html": [
       "<div>\n",
       "<style scoped>\n",
       "    .dataframe tbody tr th:only-of-type {\n",
       "        vertical-align: middle;\n",
       "    }\n",
       "\n",
       "    .dataframe tbody tr th {\n",
       "        vertical-align: top;\n",
       "    }\n",
       "\n",
       "    .dataframe thead th {\n",
       "        text-align: right;\n",
       "    }\n",
       "</style>\n",
       "<table border=\"1\" class=\"dataframe\">\n",
       "  <thead>\n",
       "    <tr style=\"text-align: right;\">\n",
       "      <th></th>\n",
       "      <th>Gender</th>\n",
       "      <th>Count</th>\n",
       "      <th>Percentage</th>\n",
       "    </tr>\n",
       "  </thead>\n",
       "  <tbody>\n",
       "    <tr>\n",
       "      <th>0</th>\n",
       "      <td>Men</td>\n",
       "      <td>368</td>\n",
       "      <td>93.0</td>\n",
       "    </tr>\n",
       "    <tr>\n",
       "      <th>1</th>\n",
       "      <td>Women</td>\n",
       "      <td>27</td>\n",
       "      <td>7.0</td>\n",
       "    </tr>\n",
       "  </tbody>\n",
       "</table>\n",
       "</div>"
      ],
      "text/plain": [
       "  Gender  Count  Percentage\n",
       "0    Men    368        93.0\n",
       "1  Women     27         7.0"
      ]
     },
     "execution_count": 41,
     "metadata": {},
     "output_type": "execute_result"
    }
   ],
   "source": [
    "total_count = df_gender_distribution['Count'].sum()\n",
    "print(f\"Total count: {total_count}\")\n",
    "df_gender_distribution['Percentage'] = (df_gender_distribution['Count'] / total_count * 100).round()\n",
    "\n",
    "df_gender_distribution"
   ]
  },
  {
   "cell_type": "code",
   "execution_count": 42,
   "id": "30efce6f-a69f-4a9b-bd51-8eb75ed8b0af",
   "metadata": {},
   "outputs": [
    {
     "data": {
      "text/html": [
       "<a href=\"data:file/csv;base64,R2VuZGVyLENvdW50LFBlcmNlbnRhZ2UNCk1lbiwzNjgsOTMuMA0KV29tZW4sMjcsNy4wDQo=\" download=\"df_gender_distribution.csv\">Click here to download df_gender_distribution.csv</a>"
      ],
      "text/plain": [
       "<IPython.core.display.HTML object>"
      ]
     },
     "metadata": {},
     "output_type": "display_data"
    }
   ],
   "source": [
    "df_gender_distribution.to_csv('df_gender_distribution.csv', index=False)\n",
    "csv_content_clean = df_gender_distribution.to_csv(index=False)\n",
    "b64_clean = base64.b64encode(csv_content_clean.encode()).decode()\n",
    "download_link_clean = f'<a href=\"data:file/csv;base64,{b64_clean}\" download=\"df_gender_distribution.csv\">Click here to download df_gender_distribution.csv</a>'\n",
    "display(HTML(download_link_clean))"
   ]
  },
  {
   "cell_type": "code",
   "execution_count": 43,
   "id": "f5d9fabc-f3f9-4a8f-9cde-d91856408c57",
   "metadata": {},
   "outputs": [
    {
     "name": "stdout",
     "output_type": "stream",
     "text": [
      "Final df_map with Total Count and Proportion:\n",
      "           Country Gender  Count  Total_Count  Proportion\n",
      "0          Austria    Men     11           14      0.7857\n",
      "1          Austria  Women      3           14      0.2143\n",
      "2          Belarus    Men      1            1      1.0000\n",
      "3          Belgium    Men     16           16      1.0000\n",
      "4         Bulgaria    Men      1            1      1.0000\n",
      "5          Croatia    Men      2            2      1.0000\n",
      "6          Czechia    Men     11           11      1.0000\n",
      "7          Denmark    Men     15           18      0.8333\n",
      "8          Denmark  Women      3           18      0.1667\n",
      "9          Estonia    Men      3            3      1.0000\n",
      "10         Finland    Men     26           30      0.8667\n",
      "11         Finland  Women      4           30      0.1333\n",
      "12          France    Men     22           23      0.9565\n",
      "13          France  Women      1           23      0.0435\n",
      "14         Germany    Men     49           55      0.8909\n",
      "15         Germany  Women      6           55      0.1091\n",
      "16          Greece    Men      2            2      1.0000\n",
      "17         Hungary    Men      6            7      0.8571\n",
      "18         Hungary  Women      1            7      0.1429\n",
      "19         Iceland    Men      1            1      1.0000\n",
      "20         Ireland    Men     11           11      1.0000\n",
      "21           Italy    Men     17           17      1.0000\n",
      "22       Lithuania    Men      3            3      1.0000\n",
      "23      Luxembourg    Men      1            1      1.0000\n",
      "24     Netherlands    Men     21           22      0.9545\n",
      "25     Netherlands  Women      1           22      0.0455\n",
      "26          Norway    Men      7            8      0.8750\n",
      "27          Norway  Women      1            8      0.1250\n",
      "28          Poland    Men     22           24      0.9167\n",
      "29          Poland  Women      2           24      0.0833\n",
      "30        Portugal    Men      4            4      1.0000\n",
      "31         Romania    Men      8            8      1.0000\n",
      "32          Russia    Men      2            3      0.6667\n",
      "33          Russia  Women      1            3      0.3333\n",
      "34        Slovakia    Men      3            3      1.0000\n",
      "35           Spain    Men     15           15      1.0000\n",
      "36          Sweden    Men     25           25      1.0000\n",
      "37     Switzerland    Men     17           18      0.9444\n",
      "38     Switzerland  Women      1           18      0.0556\n",
      "39         Ukraine    Men      4            4      1.0000\n",
      "40  United Kingdom    Men     42           45      0.9333\n",
      "41  United Kingdom  Women      3           45      0.0667\n",
      "--------------------------------------------------\n"
     ]
    }
   ],
   "source": [
    "df_proportion['Total_Count'] = df_proportion.groupby('Country')['Count'].transform('sum')\n",
    "\n",
    "# 3. Calculate the proportion of the gender count relative to the country's total count.\n",
    "# The resulting 'Proportion' value in a row ALWAYS corresponds to the 'Gender'\n",
    "# in that same row (e.g., if the row has 'F', the proportion is for Females).\n",
    "df_proportion['Proportion'] = df_proportion['Count'] / df_proportion['Total_Count']\n",
    "\n",
    "# 4. Format the Proportion column for clean display (optional, but helpful).\n",
    "df_proportion['Proportion'] = df_proportion['Proportion'].round(4)\n",
    "\n",
    "\n",
    "print(\"Final df_map with Total Count and Proportion:\")\n",
    "print(df_proportion)\n",
    "print(\"-\" * 50)\n",
    "\n",
    "# Example output for United States (F=40, M=80):\n",
    "# Total = 120\n",
    "# F Proportion = 40/120 = 0.3333\n",
    "# M Proportion = 80/120 = 0.6667\n"
   ]
  },
  {
   "cell_type": "code",
   "execution_count": 44,
   "id": "2638dcc2-c05f-404b-9b47-a7f967bd501e",
   "metadata": {},
   "outputs": [
    {
     "data": {
      "text/html": [
       "<div>\n",
       "<style scoped>\n",
       "    .dataframe tbody tr th:only-of-type {\n",
       "        vertical-align: middle;\n",
       "    }\n",
       "\n",
       "    .dataframe tbody tr th {\n",
       "        vertical-align: top;\n",
       "    }\n",
       "\n",
       "    .dataframe thead th {\n",
       "        text-align: right;\n",
       "    }\n",
       "</style>\n",
       "<table border=\"1\" class=\"dataframe\">\n",
       "  <thead>\n",
       "    <tr style=\"text-align: right;\">\n",
       "      <th></th>\n",
       "      <th>index</th>\n",
       "      <th>Country</th>\n",
       "      <th>Gender</th>\n",
       "      <th>Count</th>\n",
       "      <th>Total_Count</th>\n",
       "      <th>Proportion</th>\n",
       "    </tr>\n",
       "  </thead>\n",
       "  <tbody>\n",
       "    <tr>\n",
       "      <th>0</th>\n",
       "      <td>13</td>\n",
       "      <td>France</td>\n",
       "      <td>Women</td>\n",
       "      <td>1</td>\n",
       "      <td>23</td>\n",
       "      <td>0.0435</td>\n",
       "    </tr>\n",
       "    <tr>\n",
       "      <th>1</th>\n",
       "      <td>25</td>\n",
       "      <td>Netherlands</td>\n",
       "      <td>Women</td>\n",
       "      <td>1</td>\n",
       "      <td>22</td>\n",
       "      <td>0.0455</td>\n",
       "    </tr>\n",
       "    <tr>\n",
       "      <th>2</th>\n",
       "      <td>38</td>\n",
       "      <td>Switzerland</td>\n",
       "      <td>Women</td>\n",
       "      <td>1</td>\n",
       "      <td>18</td>\n",
       "      <td>0.0556</td>\n",
       "    </tr>\n",
       "  </tbody>\n",
       "</table>\n",
       "</div>"
      ],
      "text/plain": [
       "   index      Country Gender  Count  Total_Count  Proportion\n",
       "0     13       France  Women      1           23      0.0435\n",
       "1     25  Netherlands  Women      1           22      0.0455\n",
       "2     38  Switzerland  Women      1           18      0.0556"
      ]
     },
     "execution_count": 44,
     "metadata": {},
     "output_type": "execute_result"
    }
   ],
   "source": [
    "df_proportion[df_proportion['Gender']=='Women'].sort_values(by='Proportion', ascending=True).reset_index().head(3)"
   ]
  },
  {
   "cell_type": "code",
   "execution_count": 45,
   "id": "909cbd6b-b6e7-4600-9fd9-bb8c9c6de770",
   "metadata": {},
   "outputs": [
    {
     "data": {
      "text/html": [
       "<div>\n",
       "<style scoped>\n",
       "    .dataframe tbody tr th:only-of-type {\n",
       "        vertical-align: middle;\n",
       "    }\n",
       "\n",
       "    .dataframe tbody tr th {\n",
       "        vertical-align: top;\n",
       "    }\n",
       "\n",
       "    .dataframe thead th {\n",
       "        text-align: right;\n",
       "    }\n",
       "</style>\n",
       "<table border=\"1\" class=\"dataframe\">\n",
       "  <thead>\n",
       "    <tr style=\"text-align: right;\">\n",
       "      <th></th>\n",
       "      <th>Country</th>\n",
       "      <th>Gender</th>\n",
       "      <th>Count</th>\n",
       "      <th>Total_Count</th>\n",
       "      <th>Proportion</th>\n",
       "    </tr>\n",
       "  </thead>\n",
       "  <tbody>\n",
       "    <tr>\n",
       "      <th>12</th>\n",
       "      <td>France</td>\n",
       "      <td>Men</td>\n",
       "      <td>22</td>\n",
       "      <td>23</td>\n",
       "      <td>0.9565</td>\n",
       "    </tr>\n",
       "    <tr>\n",
       "      <th>24</th>\n",
       "      <td>Netherlands</td>\n",
       "      <td>Men</td>\n",
       "      <td>21</td>\n",
       "      <td>22</td>\n",
       "      <td>0.9545</td>\n",
       "    </tr>\n",
       "    <tr>\n",
       "      <th>37</th>\n",
       "      <td>Switzerland</td>\n",
       "      <td>Men</td>\n",
       "      <td>17</td>\n",
       "      <td>18</td>\n",
       "      <td>0.9444</td>\n",
       "    </tr>\n",
       "    <tr>\n",
       "      <th>38</th>\n",
       "      <td>Switzerland</td>\n",
       "      <td>Women</td>\n",
       "      <td>1</td>\n",
       "      <td>18</td>\n",
       "      <td>0.0556</td>\n",
       "    </tr>\n",
       "    <tr>\n",
       "      <th>25</th>\n",
       "      <td>Netherlands</td>\n",
       "      <td>Women</td>\n",
       "      <td>1</td>\n",
       "      <td>22</td>\n",
       "      <td>0.0455</td>\n",
       "    </tr>\n",
       "    <tr>\n",
       "      <th>13</th>\n",
       "      <td>France</td>\n",
       "      <td>Women</td>\n",
       "      <td>1</td>\n",
       "      <td>23</td>\n",
       "      <td>0.0435</td>\n",
       "    </tr>\n",
       "  </tbody>\n",
       "</table>\n",
       "</div>"
      ],
      "text/plain": [
       "        Country Gender  Count  Total_Count  Proportion\n",
       "12       France    Men     22           23      0.9565\n",
       "24  Netherlands    Men     21           22      0.9545\n",
       "37  Switzerland    Men     17           18      0.9444\n",
       "38  Switzerland  Women      1           18      0.0556\n",
       "25  Netherlands  Women      1           22      0.0455\n",
       "13       France  Women      1           23      0.0435"
      ]
     },
     "execution_count": 45,
     "metadata": {},
     "output_type": "execute_result"
    }
   ],
   "source": [
    "df_proportion_big=df_proportion[df_proportion['Country'].isin(['France', 'Netherlands', 'Switzerland'])]\n",
    "df_proportion_big=df_proportion_big.sort_values(by='Proportion', ascending=False)\n",
    "df_proportion_big"
   ]
  },
  {
   "cell_type": "code",
   "execution_count": 46,
   "id": "ae6b8223-2b77-436a-ada4-28a5d97818cf",
   "metadata": {},
   "outputs": [
    {
     "data": {
      "text/html": [
       "<html>\n",
       "<head><meta charset=\"utf-8\" /></head>\n",
       "<body>\n",
       "    <div>            <script src=\"https://cdnjs.cloudflare.com/ajax/libs/mathjax/2.7.5/MathJax.js?config=TeX-AMS-MML_SVG\"></script><script type=\"text/javascript\">if (window.MathJax && window.MathJax.Hub && window.MathJax.Hub.Config) {window.MathJax.Hub.Config({SVG: {font: \"STIX-Web\"}});}</script>                <script type=\"text/javascript\">window.PlotlyConfig = {MathJaxConfig: 'local'};</script>\n",
       "        <script charset=\"utf-8\" src=\"https://cdn.plot.ly/plotly-3.1.0.min.js\" integrity=\"sha256-Ei4740bWZhaUTQuD6q9yQlgVCMPBz6CZWhevDYPv93A=\" crossorigin=\"anonymous\"></script>                <div id=\"fc35281f-a886-434f-9811-98ac48a63921\" class=\"plotly-graph-div\" style=\"height:525px; width:100%;\"></div>            <script type=\"text/javascript\">                window.PLOTLYENV=window.PLOTLYENV || {};                                if (document.getElementById(\"fc35281f-a886-434f-9811-98ac48a63921\")) {                    Plotly.newPlot(                        \"fc35281f-a886-434f-9811-98ac48a63921\",                        [{\"alignmentgroup\":\"True\",\"hovertemplate\":\"Gender=Men\\u003cbr\\u003eCountry=%{x}\\u003cbr\\u003eCount=%{y}\\u003cextra\\u003e\\u003c\\u002fextra\\u003e\",\"legendgroup\":\"Men\",\"marker\":{\"color\":\"purple\",\"pattern\":{\"shape\":\"\"}},\"name\":\"Men\",\"offsetgroup\":\"Men\",\"orientation\":\"v\",\"showlegend\":true,\"textposition\":\"auto\",\"x\":[\"France\",\"Netherlands\",\"Switzerland\"],\"xaxis\":\"x\",\"y\":{\"dtype\":\"i1\",\"bdata\":\"FhUR\"},\"yaxis\":\"y\",\"type\":\"bar\"},{\"alignmentgroup\":\"True\",\"hovertemplate\":\"Gender=Women\\u003cbr\\u003eCountry=%{x}\\u003cbr\\u003eCount=%{y}\\u003cextra\\u003e\\u003c\\u002fextra\\u003e\",\"legendgroup\":\"Women\",\"marker\":{\"color\":\"coral\",\"pattern\":{\"shape\":\"\"}},\"name\":\"Women\",\"offsetgroup\":\"Women\",\"orientation\":\"v\",\"showlegend\":true,\"textposition\":\"auto\",\"x\":[\"Switzerland\",\"Netherlands\",\"France\"],\"xaxis\":\"x\",\"y\":{\"dtype\":\"i1\",\"bdata\":\"AQEB\"},\"yaxis\":\"y\",\"type\":\"bar\"}],                        {\"template\":{\"data\":{\"histogram2dcontour\":[{\"type\":\"histogram2dcontour\",\"colorbar\":{\"outlinewidth\":0,\"ticks\":\"\"},\"colorscale\":[[0.0,\"#0d0887\"],[0.1111111111111111,\"#46039f\"],[0.2222222222222222,\"#7201a8\"],[0.3333333333333333,\"#9c179e\"],[0.4444444444444444,\"#bd3786\"],[0.5555555555555556,\"#d8576b\"],[0.6666666666666666,\"#ed7953\"],[0.7777777777777778,\"#fb9f3a\"],[0.8888888888888888,\"#fdca26\"],[1.0,\"#f0f921\"]]}],\"choropleth\":[{\"type\":\"choropleth\",\"colorbar\":{\"outlinewidth\":0,\"ticks\":\"\"}}],\"histogram2d\":[{\"type\":\"histogram2d\",\"colorbar\":{\"outlinewidth\":0,\"ticks\":\"\"},\"colorscale\":[[0.0,\"#0d0887\"],[0.1111111111111111,\"#46039f\"],[0.2222222222222222,\"#7201a8\"],[0.3333333333333333,\"#9c179e\"],[0.4444444444444444,\"#bd3786\"],[0.5555555555555556,\"#d8576b\"],[0.6666666666666666,\"#ed7953\"],[0.7777777777777778,\"#fb9f3a\"],[0.8888888888888888,\"#fdca26\"],[1.0,\"#f0f921\"]]}],\"heatmap\":[{\"type\":\"heatmap\",\"colorbar\":{\"outlinewidth\":0,\"ticks\":\"\"},\"colorscale\":[[0.0,\"#0d0887\"],[0.1111111111111111,\"#46039f\"],[0.2222222222222222,\"#7201a8\"],[0.3333333333333333,\"#9c179e\"],[0.4444444444444444,\"#bd3786\"],[0.5555555555555556,\"#d8576b\"],[0.6666666666666666,\"#ed7953\"],[0.7777777777777778,\"#fb9f3a\"],[0.8888888888888888,\"#fdca26\"],[1.0,\"#f0f921\"]]}],\"contourcarpet\":[{\"type\":\"contourcarpet\",\"colorbar\":{\"outlinewidth\":0,\"ticks\":\"\"}}],\"contour\":[{\"type\":\"contour\",\"colorbar\":{\"outlinewidth\":0,\"ticks\":\"\"},\"colorscale\":[[0.0,\"#0d0887\"],[0.1111111111111111,\"#46039f\"],[0.2222222222222222,\"#7201a8\"],[0.3333333333333333,\"#9c179e\"],[0.4444444444444444,\"#bd3786\"],[0.5555555555555556,\"#d8576b\"],[0.6666666666666666,\"#ed7953\"],[0.7777777777777778,\"#fb9f3a\"],[0.8888888888888888,\"#fdca26\"],[1.0,\"#f0f921\"]]}],\"surface\":[{\"type\":\"surface\",\"colorbar\":{\"outlinewidth\":0,\"ticks\":\"\"},\"colorscale\":[[0.0,\"#0d0887\"],[0.1111111111111111,\"#46039f\"],[0.2222222222222222,\"#7201a8\"],[0.3333333333333333,\"#9c179e\"],[0.4444444444444444,\"#bd3786\"],[0.5555555555555556,\"#d8576b\"],[0.6666666666666666,\"#ed7953\"],[0.7777777777777778,\"#fb9f3a\"],[0.8888888888888888,\"#fdca26\"],[1.0,\"#f0f921\"]]}],\"mesh3d\":[{\"type\":\"mesh3d\",\"colorbar\":{\"outlinewidth\":0,\"ticks\":\"\"}}],\"scatter\":[{\"fillpattern\":{\"fillmode\":\"overlay\",\"size\":10,\"solidity\":0.2},\"type\":\"scatter\"}],\"parcoords\":[{\"type\":\"parcoords\",\"line\":{\"colorbar\":{\"outlinewidth\":0,\"ticks\":\"\"}}}],\"scatterpolargl\":[{\"type\":\"scatterpolargl\",\"marker\":{\"colorbar\":{\"outlinewidth\":0,\"ticks\":\"\"}}}],\"bar\":[{\"error_x\":{\"color\":\"#2a3f5f\"},\"error_y\":{\"color\":\"#2a3f5f\"},\"marker\":{\"line\":{\"color\":\"#E5ECF6\",\"width\":0.5},\"pattern\":{\"fillmode\":\"overlay\",\"size\":10,\"solidity\":0.2}},\"type\":\"bar\"}],\"scattergeo\":[{\"type\":\"scattergeo\",\"marker\":{\"colorbar\":{\"outlinewidth\":0,\"ticks\":\"\"}}}],\"scatterpolar\":[{\"type\":\"scatterpolar\",\"marker\":{\"colorbar\":{\"outlinewidth\":0,\"ticks\":\"\"}}}],\"histogram\":[{\"marker\":{\"pattern\":{\"fillmode\":\"overlay\",\"size\":10,\"solidity\":0.2}},\"type\":\"histogram\"}],\"scattergl\":[{\"type\":\"scattergl\",\"marker\":{\"colorbar\":{\"outlinewidth\":0,\"ticks\":\"\"}}}],\"scatter3d\":[{\"type\":\"scatter3d\",\"line\":{\"colorbar\":{\"outlinewidth\":0,\"ticks\":\"\"}},\"marker\":{\"colorbar\":{\"outlinewidth\":0,\"ticks\":\"\"}}}],\"scattermap\":[{\"type\":\"scattermap\",\"marker\":{\"colorbar\":{\"outlinewidth\":0,\"ticks\":\"\"}}}],\"scattermapbox\":[{\"type\":\"scattermapbox\",\"marker\":{\"colorbar\":{\"outlinewidth\":0,\"ticks\":\"\"}}}],\"scatterternary\":[{\"type\":\"scatterternary\",\"marker\":{\"colorbar\":{\"outlinewidth\":0,\"ticks\":\"\"}}}],\"scattercarpet\":[{\"type\":\"scattercarpet\",\"marker\":{\"colorbar\":{\"outlinewidth\":0,\"ticks\":\"\"}}}],\"carpet\":[{\"aaxis\":{\"endlinecolor\":\"#2a3f5f\",\"gridcolor\":\"white\",\"linecolor\":\"white\",\"minorgridcolor\":\"white\",\"startlinecolor\":\"#2a3f5f\"},\"baxis\":{\"endlinecolor\":\"#2a3f5f\",\"gridcolor\":\"white\",\"linecolor\":\"white\",\"minorgridcolor\":\"white\",\"startlinecolor\":\"#2a3f5f\"},\"type\":\"carpet\"}],\"table\":[{\"cells\":{\"fill\":{\"color\":\"#EBF0F8\"},\"line\":{\"color\":\"white\"}},\"header\":{\"fill\":{\"color\":\"#C8D4E3\"},\"line\":{\"color\":\"white\"}},\"type\":\"table\"}],\"barpolar\":[{\"marker\":{\"line\":{\"color\":\"#E5ECF6\",\"width\":0.5},\"pattern\":{\"fillmode\":\"overlay\",\"size\":10,\"solidity\":0.2}},\"type\":\"barpolar\"}],\"pie\":[{\"automargin\":true,\"type\":\"pie\"}]},\"layout\":{\"autotypenumbers\":\"strict\",\"colorway\":[\"#636efa\",\"#EF553B\",\"#00cc96\",\"#ab63fa\",\"#FFA15A\",\"#19d3f3\",\"#FF6692\",\"#B6E880\",\"#FF97FF\",\"#FECB52\"],\"font\":{\"color\":\"#2a3f5f\"},\"hovermode\":\"closest\",\"hoverlabel\":{\"align\":\"left\"},\"paper_bgcolor\":\"white\",\"plot_bgcolor\":\"#E5ECF6\",\"polar\":{\"bgcolor\":\"#E5ECF6\",\"angularaxis\":{\"gridcolor\":\"white\",\"linecolor\":\"white\",\"ticks\":\"\"},\"radialaxis\":{\"gridcolor\":\"white\",\"linecolor\":\"white\",\"ticks\":\"\"}},\"ternary\":{\"bgcolor\":\"#E5ECF6\",\"aaxis\":{\"gridcolor\":\"white\",\"linecolor\":\"white\",\"ticks\":\"\"},\"baxis\":{\"gridcolor\":\"white\",\"linecolor\":\"white\",\"ticks\":\"\"},\"caxis\":{\"gridcolor\":\"white\",\"linecolor\":\"white\",\"ticks\":\"\"}},\"coloraxis\":{\"colorbar\":{\"outlinewidth\":0,\"ticks\":\"\"}},\"colorscale\":{\"sequential\":[[0.0,\"#0d0887\"],[0.1111111111111111,\"#46039f\"],[0.2222222222222222,\"#7201a8\"],[0.3333333333333333,\"#9c179e\"],[0.4444444444444444,\"#bd3786\"],[0.5555555555555556,\"#d8576b\"],[0.6666666666666666,\"#ed7953\"],[0.7777777777777778,\"#fb9f3a\"],[0.8888888888888888,\"#fdca26\"],[1.0,\"#f0f921\"]],\"sequentialminus\":[[0.0,\"#0d0887\"],[0.1111111111111111,\"#46039f\"],[0.2222222222222222,\"#7201a8\"],[0.3333333333333333,\"#9c179e\"],[0.4444444444444444,\"#bd3786\"],[0.5555555555555556,\"#d8576b\"],[0.6666666666666666,\"#ed7953\"],[0.7777777777777778,\"#fb9f3a\"],[0.8888888888888888,\"#fdca26\"],[1.0,\"#f0f921\"]],\"diverging\":[[0,\"#8e0152\"],[0.1,\"#c51b7d\"],[0.2,\"#de77ae\"],[0.3,\"#f1b6da\"],[0.4,\"#fde0ef\"],[0.5,\"#f7f7f7\"],[0.6,\"#e6f5d0\"],[0.7,\"#b8e186\"],[0.8,\"#7fbc41\"],[0.9,\"#4d9221\"],[1,\"#276419\"]]},\"xaxis\":{\"gridcolor\":\"white\",\"linecolor\":\"white\",\"ticks\":\"\",\"title\":{\"standoff\":15},\"zerolinecolor\":\"white\",\"automargin\":true,\"zerolinewidth\":2},\"yaxis\":{\"gridcolor\":\"white\",\"linecolor\":\"white\",\"ticks\":\"\",\"title\":{\"standoff\":15},\"zerolinecolor\":\"white\",\"automargin\":true,\"zerolinewidth\":2},\"scene\":{\"xaxis\":{\"backgroundcolor\":\"#E5ECF6\",\"gridcolor\":\"white\",\"linecolor\":\"white\",\"showbackground\":true,\"ticks\":\"\",\"zerolinecolor\":\"white\",\"gridwidth\":2},\"yaxis\":{\"backgroundcolor\":\"#E5ECF6\",\"gridcolor\":\"white\",\"linecolor\":\"white\",\"showbackground\":true,\"ticks\":\"\",\"zerolinecolor\":\"white\",\"gridwidth\":2},\"zaxis\":{\"backgroundcolor\":\"#E5ECF6\",\"gridcolor\":\"white\",\"linecolor\":\"white\",\"showbackground\":true,\"ticks\":\"\",\"zerolinecolor\":\"white\",\"gridwidth\":2}},\"shapedefaults\":{\"line\":{\"color\":\"#2a3f5f\"}},\"annotationdefaults\":{\"arrowcolor\":\"#2a3f5f\",\"arrowhead\":0,\"arrowwidth\":1},\"geo\":{\"bgcolor\":\"white\",\"landcolor\":\"#E5ECF6\",\"subunitcolor\":\"white\",\"showland\":true,\"showlakes\":true,\"lakecolor\":\"white\"},\"title\":{\"x\":0.05},\"mapbox\":{\"style\":\"light\"}}},\"xaxis\":{\"anchor\":\"y\",\"domain\":[0.0,1.0],\"title\":{\"text\":\"Country\"}},\"yaxis\":{\"anchor\":\"x\",\"domain\":[0.0,1.0],\"title\":{\"text\":\"Count\"}},\"legend\":{\"title\":{\"text\":\"Gender\"},\"tracegroupgap\":0},\"title\":{\"text\":\"Top 5 countries with the biggest dispropotion in User's gender\"},\"barmode\":\"group\"},                        {\"responsive\": true}                    ).then(function(){\n",
       "                            \n",
       "var gd = document.getElementById('fc35281f-a886-434f-9811-98ac48a63921');\n",
       "var x = new MutationObserver(function (mutations, observer) {{\n",
       "        var display = window.getComputedStyle(gd).display;\n",
       "        if (!display || display === 'none') {{\n",
       "            console.log([gd, 'removed!']);\n",
       "            Plotly.purge(gd);\n",
       "            observer.disconnect();\n",
       "        }}\n",
       "}});\n",
       "\n",
       "// Listen for the removal of the full notebook cells\n",
       "var notebookContainer = gd.closest('#notebook-container');\n",
       "if (notebookContainer) {{\n",
       "    x.observe(notebookContainer, {childList: true});\n",
       "}}\n",
       "\n",
       "// Listen for the clearing of the current output cell\n",
       "var outputEl = gd.closest('.output');\n",
       "if (outputEl) {{\n",
       "    x.observe(outputEl, {childList: true});\n",
       "}}\n",
       "\n",
       "                        })                };            </script>        </div>\n",
       "</body>\n",
       "</html>"
      ]
     },
     "metadata": {},
     "output_type": "display_data"
    }
   ],
   "source": [
    "fig=px.bar(df_proportion_big.sort_values(by='Proportion', ascending=False), x='Country', y='Count', color='Gender',barmode='group', # Group the bars\n",
    "title=\"Top 5 countries with the biggest dispropotion in User's gender\",\n",
    "color_discrete_map=custom_color_map_gender\n",
    ")\n",
    "fig.show()"
   ]
  },
  {
   "cell_type": "code",
   "execution_count": 47,
   "id": "cc514769-1aeb-4205-b1e7-520af999862d",
   "metadata": {},
   "outputs": [
    {
     "data": {
      "text/html": [
       "<div>\n",
       "<style scoped>\n",
       "    .dataframe tbody tr th:only-of-type {\n",
       "        vertical-align: middle;\n",
       "    }\n",
       "\n",
       "    .dataframe tbody tr th {\n",
       "        vertical-align: top;\n",
       "    }\n",
       "\n",
       "    .dataframe thead th {\n",
       "        text-align: right;\n",
       "    }\n",
       "</style>\n",
       "<table border=\"1\" class=\"dataframe\">\n",
       "  <thead>\n",
       "    <tr style=\"text-align: right;\">\n",
       "      <th></th>\n",
       "      <th>Country</th>\n",
       "      <th>Men</th>\n",
       "      <th>Women</th>\n",
       "      <th>Total_Count</th>\n",
       "    </tr>\n",
       "  </thead>\n",
       "  <tbody>\n",
       "    <tr>\n",
       "      <th>0</th>\n",
       "      <td>France</td>\n",
       "      <td>22</td>\n",
       "      <td>1</td>\n",
       "      <td>23</td>\n",
       "    </tr>\n",
       "    <tr>\n",
       "      <th>1</th>\n",
       "      <td>Netherlands</td>\n",
       "      <td>21</td>\n",
       "      <td>1</td>\n",
       "      <td>22</td>\n",
       "    </tr>\n",
       "    <tr>\n",
       "      <th>2</th>\n",
       "      <td>Switzerland</td>\n",
       "      <td>17</td>\n",
       "      <td>1</td>\n",
       "      <td>18</td>\n",
       "    </tr>\n",
       "  </tbody>\n",
       "</table>\n",
       "</div>"
      ],
      "text/plain": [
       "       Country  Men  Women  Total_Count\n",
       "0       France   22      1           23\n",
       "1  Netherlands   21      1           22\n",
       "2  Switzerland   17      1           18"
      ]
     },
     "execution_count": 47,
     "metadata": {},
     "output_type": "execute_result"
    }
   ],
   "source": [
    "df_proportion_big_new={'Country':['France','Netherlands', 'Switzerland'],\n",
    "                       'Men': [22,21,17],\n",
    "                       'Women':[1,1,1],\n",
    "                      'Total_Count': [23,22,18]}\n",
    "df_proportion_big_new_to_df=pd.DataFrame(df_proportion_big_new)\n",
    "df_proportion_big_new_to_df"
   ]
  },
  {
   "cell_type": "code",
   "execution_count": 48,
   "id": "9eb3b4a7-e832-4487-bfb5-9dcea59986b2",
   "metadata": {},
   "outputs": [
    {
     "data": {
      "text/html": [
       "<a href=\"data:file/csv;base64,Q291bnRyeSxNZW4sV29tZW4sVG90YWxfQ291bnQNCkZyYW5jZSwyMiwxLDIzDQpOZXRoZXJsYW5kcywyMSwxLDIyDQpTd2l0emVybGFuZCwxNywxLDE4DQo=\" download=\"df_proportion_big_new_to_df.csv\">Click here to download df_proportion_big_new_to_df.csv</a>"
      ],
      "text/plain": [
       "<IPython.core.display.HTML object>"
      ]
     },
     "metadata": {},
     "output_type": "display_data"
    }
   ],
   "source": [
    "df_proportion_big_new_to_df.to_csv('df_proportion_big_new_to_df', index=False)\n",
    "csv_content_clean = df_proportion_big_new_to_df.to_csv(index=False)\n",
    "b64_clean = base64.b64encode(csv_content_clean.encode()).decode()\n",
    "download_link_clean = f'<a href=\"data:file/csv;base64,{b64_clean}\" download=\"df_proportion_big_new_to_df.csv\">Click here to download df_proportion_big_new_to_df.csv</a>'\n",
    "display(HTML(download_link_clean))"
   ]
  },
  {
   "cell_type": "code",
   "execution_count": 49,
   "id": "87f6acac-b7b0-482b-9907-a825fae80e16",
   "metadata": {},
   "outputs": [
    {
     "data": {
      "text/html": [
       "<div>\n",
       "<style scoped>\n",
       "    .dataframe tbody tr th:only-of-type {\n",
       "        vertical-align: middle;\n",
       "    }\n",
       "\n",
       "    .dataframe tbody tr th {\n",
       "        vertical-align: top;\n",
       "    }\n",
       "\n",
       "    .dataframe thead th {\n",
       "        text-align: right;\n",
       "    }\n",
       "</style>\n",
       "<table border=\"1\" class=\"dataframe\">\n",
       "  <thead>\n",
       "    <tr style=\"text-align: right;\">\n",
       "      <th></th>\n",
       "      <th>index</th>\n",
       "      <th>Country</th>\n",
       "      <th>Gender</th>\n",
       "      <th>Count</th>\n",
       "      <th>Total_Count</th>\n",
       "      <th>Proportion</th>\n",
       "    </tr>\n",
       "  </thead>\n",
       "  <tbody>\n",
       "    <tr>\n",
       "      <th>0</th>\n",
       "      <td>0</td>\n",
       "      <td>Austria</td>\n",
       "      <td>Men</td>\n",
       "      <td>11</td>\n",
       "      <td>14</td>\n",
       "      <td>0.7857</td>\n",
       "    </tr>\n",
       "    <tr>\n",
       "      <th>1</th>\n",
       "      <td>7</td>\n",
       "      <td>Denmark</td>\n",
       "      <td>Men</td>\n",
       "      <td>15</td>\n",
       "      <td>18</td>\n",
       "      <td>0.8333</td>\n",
       "    </tr>\n",
       "    <tr>\n",
       "      <th>2</th>\n",
       "      <td>10</td>\n",
       "      <td>Finland</td>\n",
       "      <td>Men</td>\n",
       "      <td>26</td>\n",
       "      <td>30</td>\n",
       "      <td>0.8667</td>\n",
       "    </tr>\n",
       "    <tr>\n",
       "      <th>3</th>\n",
       "      <td>14</td>\n",
       "      <td>Germany</td>\n",
       "      <td>Men</td>\n",
       "      <td>49</td>\n",
       "      <td>55</td>\n",
       "      <td>0.8909</td>\n",
       "    </tr>\n",
       "    <tr>\n",
       "      <th>4</th>\n",
       "      <td>28</td>\n",
       "      <td>Poland</td>\n",
       "      <td>Men</td>\n",
       "      <td>22</td>\n",
       "      <td>24</td>\n",
       "      <td>0.9167</td>\n",
       "    </tr>\n",
       "  </tbody>\n",
       "</table>\n",
       "</div>"
      ],
      "text/plain": [
       "   index  Country Gender  Count  Total_Count  Proportion\n",
       "0      0  Austria    Men     11           14      0.7857\n",
       "1      7  Denmark    Men     15           18      0.8333\n",
       "2     10  Finland    Men     26           30      0.8667\n",
       "3     14  Germany    Men     49           55      0.8909\n",
       "4     28   Poland    Men     22           24      0.9167"
      ]
     },
     "execution_count": 49,
     "metadata": {},
     "output_type": "execute_result"
    }
   ],
   "source": [
    "df_proportion[(df_proportion['Gender']=='Men')&(df_proportion['Total_Count']>10)].sort_values(by='Proportion', ascending=True).reset_index().head(5)"
   ]
  },
  {
   "cell_type": "code",
   "execution_count": 50,
   "id": "b9652ff7-1444-4aad-a61b-93bbdd9a10cf",
   "metadata": {},
   "outputs": [
    {
     "data": {
      "text/html": [
       "<div>\n",
       "<style scoped>\n",
       "    .dataframe tbody tr th:only-of-type {\n",
       "        vertical-align: middle;\n",
       "    }\n",
       "\n",
       "    .dataframe tbody tr th {\n",
       "        vertical-align: top;\n",
       "    }\n",
       "\n",
       "    .dataframe thead th {\n",
       "        text-align: right;\n",
       "    }\n",
       "</style>\n",
       "<table border=\"1\" class=\"dataframe\">\n",
       "  <thead>\n",
       "    <tr style=\"text-align: right;\">\n",
       "      <th></th>\n",
       "      <th>Country</th>\n",
       "      <th>Gender</th>\n",
       "      <th>Count</th>\n",
       "      <th>Total_Count</th>\n",
       "      <th>Proportion</th>\n",
       "    </tr>\n",
       "  </thead>\n",
       "  <tbody>\n",
       "    <tr>\n",
       "      <th>28</th>\n",
       "      <td>Poland</td>\n",
       "      <td>Men</td>\n",
       "      <td>22</td>\n",
       "      <td>24</td>\n",
       "      <td>0.9167</td>\n",
       "    </tr>\n",
       "    <tr>\n",
       "      <th>14</th>\n",
       "      <td>Germany</td>\n",
       "      <td>Men</td>\n",
       "      <td>49</td>\n",
       "      <td>55</td>\n",
       "      <td>0.8909</td>\n",
       "    </tr>\n",
       "    <tr>\n",
       "      <th>10</th>\n",
       "      <td>Finland</td>\n",
       "      <td>Men</td>\n",
       "      <td>26</td>\n",
       "      <td>30</td>\n",
       "      <td>0.8667</td>\n",
       "    </tr>\n",
       "    <tr>\n",
       "      <th>7</th>\n",
       "      <td>Denmark</td>\n",
       "      <td>Men</td>\n",
       "      <td>15</td>\n",
       "      <td>18</td>\n",
       "      <td>0.8333</td>\n",
       "    </tr>\n",
       "    <tr>\n",
       "      <th>0</th>\n",
       "      <td>Austria</td>\n",
       "      <td>Men</td>\n",
       "      <td>11</td>\n",
       "      <td>14</td>\n",
       "      <td>0.7857</td>\n",
       "    </tr>\n",
       "    <tr>\n",
       "      <th>1</th>\n",
       "      <td>Austria</td>\n",
       "      <td>Women</td>\n",
       "      <td>3</td>\n",
       "      <td>14</td>\n",
       "      <td>0.2143</td>\n",
       "    </tr>\n",
       "    <tr>\n",
       "      <th>8</th>\n",
       "      <td>Denmark</td>\n",
       "      <td>Women</td>\n",
       "      <td>3</td>\n",
       "      <td>18</td>\n",
       "      <td>0.1667</td>\n",
       "    </tr>\n",
       "    <tr>\n",
       "      <th>11</th>\n",
       "      <td>Finland</td>\n",
       "      <td>Women</td>\n",
       "      <td>4</td>\n",
       "      <td>30</td>\n",
       "      <td>0.1333</td>\n",
       "    </tr>\n",
       "    <tr>\n",
       "      <th>15</th>\n",
       "      <td>Germany</td>\n",
       "      <td>Women</td>\n",
       "      <td>6</td>\n",
       "      <td>55</td>\n",
       "      <td>0.1091</td>\n",
       "    </tr>\n",
       "    <tr>\n",
       "      <th>29</th>\n",
       "      <td>Poland</td>\n",
       "      <td>Women</td>\n",
       "      <td>2</td>\n",
       "      <td>24</td>\n",
       "      <td>0.0833</td>\n",
       "    </tr>\n",
       "  </tbody>\n",
       "</table>\n",
       "</div>"
      ],
      "text/plain": [
       "    Country Gender  Count  Total_Count  Proportion\n",
       "28   Poland    Men     22           24      0.9167\n",
       "14  Germany    Men     49           55      0.8909\n",
       "10  Finland    Men     26           30      0.8667\n",
       "7   Denmark    Men     15           18      0.8333\n",
       "0   Austria    Men     11           14      0.7857\n",
       "1   Austria  Women      3           14      0.2143\n",
       "8   Denmark  Women      3           18      0.1667\n",
       "11  Finland  Women      4           30      0.1333\n",
       "15  Germany  Women      6           55      0.1091\n",
       "29   Poland  Women      2           24      0.0833"
      ]
     },
     "execution_count": 50,
     "metadata": {},
     "output_type": "execute_result"
    }
   ],
   "source": [
    "df_proportion_small=df_proportion[df_proportion['Country'].isin(['Germany', 'Finland', 'Poland', 'Denmark', 'Austria'])]\n",
    "df_proportion_small=df_proportion_small.sort_values(by='Proportion', ascending=False)\n",
    "df_proportion_small"
   ]
  },
  {
   "cell_type": "code",
   "execution_count": 51,
   "id": "d4f608de-b755-4dad-81ad-eb50f7cb65eb",
   "metadata": {},
   "outputs": [
    {
     "data": {
      "text/html": [
       "<html>\n",
       "<head><meta charset=\"utf-8\" /></head>\n",
       "<body>\n",
       "    <div>            <script src=\"https://cdnjs.cloudflare.com/ajax/libs/mathjax/2.7.5/MathJax.js?config=TeX-AMS-MML_SVG\"></script><script type=\"text/javascript\">if (window.MathJax && window.MathJax.Hub && window.MathJax.Hub.Config) {window.MathJax.Hub.Config({SVG: {font: \"STIX-Web\"}});}</script>                <script type=\"text/javascript\">window.PlotlyConfig = {MathJaxConfig: 'local'};</script>\n",
       "        <script charset=\"utf-8\" src=\"https://cdn.plot.ly/plotly-3.1.0.min.js\" integrity=\"sha256-Ei4740bWZhaUTQuD6q9yQlgVCMPBz6CZWhevDYPv93A=\" crossorigin=\"anonymous\"></script>                <div id=\"37ea0da7-efc2-40c5-a1af-c34fc273a4e8\" class=\"plotly-graph-div\" style=\"height:525px; width:100%;\"></div>            <script type=\"text/javascript\">                window.PLOTLYENV=window.PLOTLYENV || {};                                if (document.getElementById(\"37ea0da7-efc2-40c5-a1af-c34fc273a4e8\")) {                    Plotly.newPlot(                        \"37ea0da7-efc2-40c5-a1af-c34fc273a4e8\",                        [{\"alignmentgroup\":\"True\",\"hovertemplate\":\"Gender=Women\\u003cbr\\u003eCountry=%{x}\\u003cbr\\u003eCount=%{y}\\u003cextra\\u003e\\u003c\\u002fextra\\u003e\",\"legendgroup\":\"Women\",\"marker\":{\"color\":\"coral\",\"pattern\":{\"shape\":\"\"}},\"name\":\"Women\",\"offsetgroup\":\"Women\",\"orientation\":\"v\",\"showlegend\":true,\"textposition\":\"auto\",\"x\":[\"Poland\",\"Germany\",\"Finland\",\"Denmark\",\"Austria\"],\"xaxis\":\"x\",\"y\":{\"dtype\":\"i1\",\"bdata\":\"AgYEAwM=\"},\"yaxis\":\"y\",\"type\":\"bar\"},{\"alignmentgroup\":\"True\",\"hovertemplate\":\"Gender=Men\\u003cbr\\u003eCountry=%{x}\\u003cbr\\u003eCount=%{y}\\u003cextra\\u003e\\u003c\\u002fextra\\u003e\",\"legendgroup\":\"Men\",\"marker\":{\"color\":\"purple\",\"pattern\":{\"shape\":\"\"}},\"name\":\"Men\",\"offsetgroup\":\"Men\",\"orientation\":\"v\",\"showlegend\":true,\"textposition\":\"auto\",\"x\":[\"Austria\",\"Denmark\",\"Finland\",\"Germany\",\"Poland\"],\"xaxis\":\"x\",\"y\":{\"dtype\":\"i1\",\"bdata\":\"Cw8aMRY=\"},\"yaxis\":\"y\",\"type\":\"bar\"}],                        {\"template\":{\"data\":{\"histogram2dcontour\":[{\"type\":\"histogram2dcontour\",\"colorbar\":{\"outlinewidth\":0,\"ticks\":\"\"},\"colorscale\":[[0.0,\"#0d0887\"],[0.1111111111111111,\"#46039f\"],[0.2222222222222222,\"#7201a8\"],[0.3333333333333333,\"#9c179e\"],[0.4444444444444444,\"#bd3786\"],[0.5555555555555556,\"#d8576b\"],[0.6666666666666666,\"#ed7953\"],[0.7777777777777778,\"#fb9f3a\"],[0.8888888888888888,\"#fdca26\"],[1.0,\"#f0f921\"]]}],\"choropleth\":[{\"type\":\"choropleth\",\"colorbar\":{\"outlinewidth\":0,\"ticks\":\"\"}}],\"histogram2d\":[{\"type\":\"histogram2d\",\"colorbar\":{\"outlinewidth\":0,\"ticks\":\"\"},\"colorscale\":[[0.0,\"#0d0887\"],[0.1111111111111111,\"#46039f\"],[0.2222222222222222,\"#7201a8\"],[0.3333333333333333,\"#9c179e\"],[0.4444444444444444,\"#bd3786\"],[0.5555555555555556,\"#d8576b\"],[0.6666666666666666,\"#ed7953\"],[0.7777777777777778,\"#fb9f3a\"],[0.8888888888888888,\"#fdca26\"],[1.0,\"#f0f921\"]]}],\"heatmap\":[{\"type\":\"heatmap\",\"colorbar\":{\"outlinewidth\":0,\"ticks\":\"\"},\"colorscale\":[[0.0,\"#0d0887\"],[0.1111111111111111,\"#46039f\"],[0.2222222222222222,\"#7201a8\"],[0.3333333333333333,\"#9c179e\"],[0.4444444444444444,\"#bd3786\"],[0.5555555555555556,\"#d8576b\"],[0.6666666666666666,\"#ed7953\"],[0.7777777777777778,\"#fb9f3a\"],[0.8888888888888888,\"#fdca26\"],[1.0,\"#f0f921\"]]}],\"contourcarpet\":[{\"type\":\"contourcarpet\",\"colorbar\":{\"outlinewidth\":0,\"ticks\":\"\"}}],\"contour\":[{\"type\":\"contour\",\"colorbar\":{\"outlinewidth\":0,\"ticks\":\"\"},\"colorscale\":[[0.0,\"#0d0887\"],[0.1111111111111111,\"#46039f\"],[0.2222222222222222,\"#7201a8\"],[0.3333333333333333,\"#9c179e\"],[0.4444444444444444,\"#bd3786\"],[0.5555555555555556,\"#d8576b\"],[0.6666666666666666,\"#ed7953\"],[0.7777777777777778,\"#fb9f3a\"],[0.8888888888888888,\"#fdca26\"],[1.0,\"#f0f921\"]]}],\"surface\":[{\"type\":\"surface\",\"colorbar\":{\"outlinewidth\":0,\"ticks\":\"\"},\"colorscale\":[[0.0,\"#0d0887\"],[0.1111111111111111,\"#46039f\"],[0.2222222222222222,\"#7201a8\"],[0.3333333333333333,\"#9c179e\"],[0.4444444444444444,\"#bd3786\"],[0.5555555555555556,\"#d8576b\"],[0.6666666666666666,\"#ed7953\"],[0.7777777777777778,\"#fb9f3a\"],[0.8888888888888888,\"#fdca26\"],[1.0,\"#f0f921\"]]}],\"mesh3d\":[{\"type\":\"mesh3d\",\"colorbar\":{\"outlinewidth\":0,\"ticks\":\"\"}}],\"scatter\":[{\"fillpattern\":{\"fillmode\":\"overlay\",\"size\":10,\"solidity\":0.2},\"type\":\"scatter\"}],\"parcoords\":[{\"type\":\"parcoords\",\"line\":{\"colorbar\":{\"outlinewidth\":0,\"ticks\":\"\"}}}],\"scatterpolargl\":[{\"type\":\"scatterpolargl\",\"marker\":{\"colorbar\":{\"outlinewidth\":0,\"ticks\":\"\"}}}],\"bar\":[{\"error_x\":{\"color\":\"#2a3f5f\"},\"error_y\":{\"color\":\"#2a3f5f\"},\"marker\":{\"line\":{\"color\":\"#E5ECF6\",\"width\":0.5},\"pattern\":{\"fillmode\":\"overlay\",\"size\":10,\"solidity\":0.2}},\"type\":\"bar\"}],\"scattergeo\":[{\"type\":\"scattergeo\",\"marker\":{\"colorbar\":{\"outlinewidth\":0,\"ticks\":\"\"}}}],\"scatterpolar\":[{\"type\":\"scatterpolar\",\"marker\":{\"colorbar\":{\"outlinewidth\":0,\"ticks\":\"\"}}}],\"histogram\":[{\"marker\":{\"pattern\":{\"fillmode\":\"overlay\",\"size\":10,\"solidity\":0.2}},\"type\":\"histogram\"}],\"scattergl\":[{\"type\":\"scattergl\",\"marker\":{\"colorbar\":{\"outlinewidth\":0,\"ticks\":\"\"}}}],\"scatter3d\":[{\"type\":\"scatter3d\",\"line\":{\"colorbar\":{\"outlinewidth\":0,\"ticks\":\"\"}},\"marker\":{\"colorbar\":{\"outlinewidth\":0,\"ticks\":\"\"}}}],\"scattermap\":[{\"type\":\"scattermap\",\"marker\":{\"colorbar\":{\"outlinewidth\":0,\"ticks\":\"\"}}}],\"scattermapbox\":[{\"type\":\"scattermapbox\",\"marker\":{\"colorbar\":{\"outlinewidth\":0,\"ticks\":\"\"}}}],\"scatterternary\":[{\"type\":\"scatterternary\",\"marker\":{\"colorbar\":{\"outlinewidth\":0,\"ticks\":\"\"}}}],\"scattercarpet\":[{\"type\":\"scattercarpet\",\"marker\":{\"colorbar\":{\"outlinewidth\":0,\"ticks\":\"\"}}}],\"carpet\":[{\"aaxis\":{\"endlinecolor\":\"#2a3f5f\",\"gridcolor\":\"white\",\"linecolor\":\"white\",\"minorgridcolor\":\"white\",\"startlinecolor\":\"#2a3f5f\"},\"baxis\":{\"endlinecolor\":\"#2a3f5f\",\"gridcolor\":\"white\",\"linecolor\":\"white\",\"minorgridcolor\":\"white\",\"startlinecolor\":\"#2a3f5f\"},\"type\":\"carpet\"}],\"table\":[{\"cells\":{\"fill\":{\"color\":\"#EBF0F8\"},\"line\":{\"color\":\"white\"}},\"header\":{\"fill\":{\"color\":\"#C8D4E3\"},\"line\":{\"color\":\"white\"}},\"type\":\"table\"}],\"barpolar\":[{\"marker\":{\"line\":{\"color\":\"#E5ECF6\",\"width\":0.5},\"pattern\":{\"fillmode\":\"overlay\",\"size\":10,\"solidity\":0.2}},\"type\":\"barpolar\"}],\"pie\":[{\"automargin\":true,\"type\":\"pie\"}]},\"layout\":{\"autotypenumbers\":\"strict\",\"colorway\":[\"#636efa\",\"#EF553B\",\"#00cc96\",\"#ab63fa\",\"#FFA15A\",\"#19d3f3\",\"#FF6692\",\"#B6E880\",\"#FF97FF\",\"#FECB52\"],\"font\":{\"color\":\"#2a3f5f\"},\"hovermode\":\"closest\",\"hoverlabel\":{\"align\":\"left\"},\"paper_bgcolor\":\"white\",\"plot_bgcolor\":\"#E5ECF6\",\"polar\":{\"bgcolor\":\"#E5ECF6\",\"angularaxis\":{\"gridcolor\":\"white\",\"linecolor\":\"white\",\"ticks\":\"\"},\"radialaxis\":{\"gridcolor\":\"white\",\"linecolor\":\"white\",\"ticks\":\"\"}},\"ternary\":{\"bgcolor\":\"#E5ECF6\",\"aaxis\":{\"gridcolor\":\"white\",\"linecolor\":\"white\",\"ticks\":\"\"},\"baxis\":{\"gridcolor\":\"white\",\"linecolor\":\"white\",\"ticks\":\"\"},\"caxis\":{\"gridcolor\":\"white\",\"linecolor\":\"white\",\"ticks\":\"\"}},\"coloraxis\":{\"colorbar\":{\"outlinewidth\":0,\"ticks\":\"\"}},\"colorscale\":{\"sequential\":[[0.0,\"#0d0887\"],[0.1111111111111111,\"#46039f\"],[0.2222222222222222,\"#7201a8\"],[0.3333333333333333,\"#9c179e\"],[0.4444444444444444,\"#bd3786\"],[0.5555555555555556,\"#d8576b\"],[0.6666666666666666,\"#ed7953\"],[0.7777777777777778,\"#fb9f3a\"],[0.8888888888888888,\"#fdca26\"],[1.0,\"#f0f921\"]],\"sequentialminus\":[[0.0,\"#0d0887\"],[0.1111111111111111,\"#46039f\"],[0.2222222222222222,\"#7201a8\"],[0.3333333333333333,\"#9c179e\"],[0.4444444444444444,\"#bd3786\"],[0.5555555555555556,\"#d8576b\"],[0.6666666666666666,\"#ed7953\"],[0.7777777777777778,\"#fb9f3a\"],[0.8888888888888888,\"#fdca26\"],[1.0,\"#f0f921\"]],\"diverging\":[[0,\"#8e0152\"],[0.1,\"#c51b7d\"],[0.2,\"#de77ae\"],[0.3,\"#f1b6da\"],[0.4,\"#fde0ef\"],[0.5,\"#f7f7f7\"],[0.6,\"#e6f5d0\"],[0.7,\"#b8e186\"],[0.8,\"#7fbc41\"],[0.9,\"#4d9221\"],[1,\"#276419\"]]},\"xaxis\":{\"gridcolor\":\"white\",\"linecolor\":\"white\",\"ticks\":\"\",\"title\":{\"standoff\":15},\"zerolinecolor\":\"white\",\"automargin\":true,\"zerolinewidth\":2},\"yaxis\":{\"gridcolor\":\"white\",\"linecolor\":\"white\",\"ticks\":\"\",\"title\":{\"standoff\":15},\"zerolinecolor\":\"white\",\"automargin\":true,\"zerolinewidth\":2},\"scene\":{\"xaxis\":{\"backgroundcolor\":\"#E5ECF6\",\"gridcolor\":\"white\",\"linecolor\":\"white\",\"showbackground\":true,\"ticks\":\"\",\"zerolinecolor\":\"white\",\"gridwidth\":2},\"yaxis\":{\"backgroundcolor\":\"#E5ECF6\",\"gridcolor\":\"white\",\"linecolor\":\"white\",\"showbackground\":true,\"ticks\":\"\",\"zerolinecolor\":\"white\",\"gridwidth\":2},\"zaxis\":{\"backgroundcolor\":\"#E5ECF6\",\"gridcolor\":\"white\",\"linecolor\":\"white\",\"showbackground\":true,\"ticks\":\"\",\"zerolinecolor\":\"white\",\"gridwidth\":2}},\"shapedefaults\":{\"line\":{\"color\":\"#2a3f5f\"}},\"annotationdefaults\":{\"arrowcolor\":\"#2a3f5f\",\"arrowhead\":0,\"arrowwidth\":1},\"geo\":{\"bgcolor\":\"white\",\"landcolor\":\"#E5ECF6\",\"subunitcolor\":\"white\",\"showland\":true,\"showlakes\":true,\"lakecolor\":\"white\"},\"title\":{\"x\":0.05},\"mapbox\":{\"style\":\"light\"}}},\"xaxis\":{\"anchor\":\"y\",\"domain\":[0.0,1.0],\"title\":{\"text\":\"Country\"}},\"yaxis\":{\"anchor\":\"x\",\"domain\":[0.0,1.0],\"title\":{\"text\":\"Count\"}},\"legend\":{\"title\":{\"text\":\"Gender\"},\"tracegroupgap\":0},\"title\":{\"text\":\"Top 5 countries with the smallest dispropotion in User's gender\"},\"barmode\":\"group\"},                        {\"responsive\": true}                    ).then(function(){\n",
       "                            \n",
       "var gd = document.getElementById('37ea0da7-efc2-40c5-a1af-c34fc273a4e8');\n",
       "var x = new MutationObserver(function (mutations, observer) {{\n",
       "        var display = window.getComputedStyle(gd).display;\n",
       "        if (!display || display === 'none') {{\n",
       "            console.log([gd, 'removed!']);\n",
       "            Plotly.purge(gd);\n",
       "            observer.disconnect();\n",
       "        }}\n",
       "}});\n",
       "\n",
       "// Listen for the removal of the full notebook cells\n",
       "var notebookContainer = gd.closest('#notebook-container');\n",
       "if (notebookContainer) {{\n",
       "    x.observe(notebookContainer, {childList: true});\n",
       "}}\n",
       "\n",
       "// Listen for the clearing of the current output cell\n",
       "var outputEl = gd.closest('.output');\n",
       "if (outputEl) {{\n",
       "    x.observe(outputEl, {childList: true});\n",
       "}}\n",
       "\n",
       "                        })                };            </script>        </div>\n",
       "</body>\n",
       "</html>"
      ]
     },
     "metadata": {},
     "output_type": "display_data"
    }
   ],
   "source": [
    "fig=px.bar(df_proportion_small.sort_values(by='Proportion', ascending=True), x='Country', y='Count', color='Gender',barmode='group', # Group the bars\n",
    "title=\"Top 5 countries with the smallest dispropotion in User's gender\",\n",
    "color_discrete_map=custom_color_map_gender\n",
    ")\n",
    "fig.show()"
   ]
  },
  {
   "cell_type": "code",
   "execution_count": 52,
   "id": "54770176-0688-463f-ab16-dd99bc0e5b35",
   "metadata": {},
   "outputs": [],
   "source": [
    "df_proportion_small_new={'Country':['Austria','Denmark', 'Finland', 'Germany', 'Poland'],\n",
    "                               'Men':[11, 15, 26, 49, 22],\n",
    "                               'Women':[3,3,4,6,2]}\n",
    "df_proportion_small_new_to_df=pd.DataFrame(df_proportion_small_new)"
   ]
  },
  {
   "cell_type": "code",
   "execution_count": 53,
   "id": "2e3fb20b-20a0-4410-b0cb-5263e80df37f",
   "metadata": {},
   "outputs": [
    {
     "data": {
      "text/html": [
       "<a href=\"data:file/csv;base64,Q291bnRyeSxNZW4sV29tZW4NCkF1c3RyaWEsMTEsMw0KRGVubWFyaywxNSwzDQpGaW5sYW5kLDI2LDQNCkdlcm1hbnksNDksNg0KUG9sYW5kLDIyLDINCg==\" download=\"df_proportion_small_new_to_df.csv\">Click here to download df_proportion_small_new_to_df.csv</a>"
      ],
      "text/plain": [
       "<IPython.core.display.HTML object>"
      ]
     },
     "metadata": {},
     "output_type": "display_data"
    }
   ],
   "source": [
    "df_proportion_small_new_to_df.to_csv('df_proportion_small_new_to_df', index=False)\n",
    "csv_content_clean = df_proportion_small_new_to_df.to_csv(index=False)\n",
    "b64_clean = base64.b64encode(csv_content_clean.encode()).decode()\n",
    "download_link_clean = f'<a href=\"data:file/csv;base64,{b64_clean}\" download=\"df_proportion_small_new_to_df.csv\">Click here to download df_proportion_small_new_to_df.csv</a>'\n",
    "display(HTML(download_link_clean))"
   ]
  },
  {
   "cell_type": "code",
   "execution_count": 54,
   "id": "7350ba20-d800-4449-b2c5-3b5537054f47",
   "metadata": {},
   "outputs": [
    {
     "data": {
      "text/html": [
       "<div>\n",
       "<style scoped>\n",
       "    .dataframe tbody tr th:only-of-type {\n",
       "        vertical-align: middle;\n",
       "    }\n",
       "\n",
       "    .dataframe tbody tr th {\n",
       "        vertical-align: top;\n",
       "    }\n",
       "\n",
       "    .dataframe thead th {\n",
       "        text-align: right;\n",
       "    }\n",
       "</style>\n",
       "<table border=\"1\" class=\"dataframe\">\n",
       "  <thead>\n",
       "    <tr style=\"text-align: right;\">\n",
       "      <th></th>\n",
       "      <th>Gender</th>\n",
       "      <th>Count</th>\n",
       "      <th>Percentage</th>\n",
       "    </tr>\n",
       "  </thead>\n",
       "  <tbody>\n",
       "    <tr>\n",
       "      <th>0</th>\n",
       "      <td>Men</td>\n",
       "      <td>368</td>\n",
       "      <td>93.0</td>\n",
       "    </tr>\n",
       "    <tr>\n",
       "      <th>1</th>\n",
       "      <td>Women</td>\n",
       "      <td>27</td>\n",
       "      <td>7.0</td>\n",
       "    </tr>\n",
       "  </tbody>\n",
       "</table>\n",
       "</div>"
      ],
      "text/plain": [
       "  Gender  Count  Percentage\n",
       "0    Men    368        93.0\n",
       "1  Women     27         7.0"
      ]
     },
     "execution_count": 54,
     "metadata": {},
     "output_type": "execute_result"
    }
   ],
   "source": [
    "df_gender_distribution"
   ]
  },
  {
   "cell_type": "code",
   "execution_count": 55,
   "id": "a391e8b7-368c-467d-8b14-a3b3e122c142",
   "metadata": {},
   "outputs": [
    {
     "data": {
      "image/png": "[encoded data removed]",
      "text/plain": [
       "<Figure size 800x400 with 1 Axes>"
      ]
     },
     "metadata": {},
     "output_type": "display_data"
    }
   ],
   "source": [
    "values = [93, 7]\n",
    "labels = ['Men', 'Women']\n",
    "\n",
    "\n",
    "custom_color_map = {'Men':'purple',\n",
    "           'Women':'coral'}\n",
    "\n",
    "colors = [custom_color_map[label] for label in labels]\n",
    "\n",
    "\n",
    "# Create the figure and a single subplot\n",
    "fig, ax = plt.subplots(figsize=(8, 4))\n",
    "\n",
    "# Use explode to pull a slice out.\n",
    "# The list should have a value for each slice; a value > 0 moves it out.\n",
    "explode = [0.1, 0] # Explode the first slice (Tinder)\n",
    "\n",
    "# Create the pie chart with a shadow and bold labels\n",
    "wedges, texts, autotexts = ax.pie(\n",
    "    values,\n",
    "    colors=colors,\n",
    "    autopct='%1.1f%%', # Format percentage text\n",
    "    shadow=True, # Add a shadow for depth\n",
    "    startangle=90, # Start the first slice at the top\n",
    "    wedgeprops=dict(edgecolor='black', linewidth=1.5), # Add a border line\n",
    "    explode=explode # Apply the explode effect\n",
    ")\n",
    "\n",
    "# Customize the text inside the slices\n",
    "for text in autotexts:\n",
    "    text.set_color('white')\n",
    "    text.set_fontsize(11)\n",
    "    text.set_weight('bold')\n",
    "\n",
    "# Set the title\n",
    "ax.set_title('Gender distribution on Tinder in Europe', fontsize=15, fontweight='bold', pad=20)\n",
    "\n",
    "# Add the legend\n",
    "ax.legend(wedges, labels, title=\"Apps\", loc=\"center left\", bbox_to_anchor=(0.8, 0, 0.5, 1))\n",
    "\n",
    "# Set aspect ratio to be equal so that pie is a circle.\n",
    "ax.axis('equal')\n",
    "\n",
    "# Display the plot\n",
    "plt.show()"
   ]
  },
  {
   "cell_type": "code",
   "execution_count": 56,
   "id": "4f1a63b2-86e4-440b-bb0a-af0f3ddc969e",
   "metadata": {},
   "outputs": [
    {
     "data": {
      "text/html": [
       "<a href=\"data:file/csv;base64,R2VuZGVyLENvdW50LFBlcmNlbnRhZ2UNCk1lbiwzNjgsOTMuMA0KV29tZW4sMjcsNy4wDQo=\" download=\"df_gender_distribution.csv\">Click here to download df_gender_distribution.csv</a>"
      ],
      "text/plain": [
       "<IPython.core.display.HTML object>"
      ]
     },
     "metadata": {},
     "output_type": "display_data"
    }
   ],
   "source": [
    "df_gender_distribution.to_csv('df_gender_distribution', index=False)\n",
    "csv_content_clean = df_gender_distribution.to_csv(index=False)\n",
    "b64_clean = base64.b64encode(csv_content_clean.encode()).decode()\n",
    "download_link_clean = f'<a href=\"data:file/csv;base64,{b64_clean}\" download=\"df_gender_distribution.csv\">Click here to download df_gender_distribution.csv</a>'\n",
    "display(HTML(download_link_clean))"
   ]
  },
  {
   "cell_type": "code",
   "execution_count": 57,
   "id": "5520bff6-9762-4b5d-9cea-b2f27a97a7db",
   "metadata": {},
   "outputs": [
    {
     "data": {
      "text/plain": [
       "np.int64(15)"
      ]
     },
     "execution_count": 57,
     "metadata": {},
     "output_type": "execute_result"
    }
   ],
   "source": [
    "df[df['Gender']=='Men'].Age.min()"
   ]
  },
  {
   "cell_type": "code",
   "execution_count": 58,
   "id": "ea02edfc-0019-4db6-a336-f0daaf21f20a",
   "metadata": {},
   "outputs": [
    {
     "data": {
      "text/plain": [
       "np.int64(18)"
      ]
     },
     "execution_count": 58,
     "metadata": {},
     "output_type": "execute_result"
    }
   ],
   "source": [
    "df[df['Gender']=='Women'].Age.min()"
   ]
  },
  {
   "cell_type": "code",
   "execution_count": 59,
   "id": "2b348605-21e8-4bb6-9e70-54165e42904b",
   "metadata": {},
   "outputs": [
    {
     "data": {
      "text/plain": [
       "np.int64(51)"
      ]
     },
     "execution_count": 59,
     "metadata": {},
     "output_type": "execute_result"
    }
   ],
   "source": [
    "df[df['Gender']=='Men'].Age.max()"
   ]
  },
  {
   "cell_type": "code",
   "execution_count": 60,
   "id": "d34b50f3-43a0-4e55-807b-55c0dbd415b1",
   "metadata": {},
   "outputs": [
    {
     "data": {
      "text/plain": [
       "np.int64(35)"
      ]
     },
     "execution_count": 60,
     "metadata": {},
     "output_type": "execute_result"
    }
   ],
   "source": [
    "df[df['Gender']=='Women'].Age.max()"
   ]
  },
  {
   "cell_type": "code",
   "execution_count": 61,
   "id": "eab86d22-4d11-4b65-8d73-0f07596a76a3",
   "metadata": {},
   "outputs": [
    {
     "data": {
      "text/html": [
       "<html>\n",
       "<head><meta charset=\"utf-8\" /></head>\n",
       "<body>\n",
       "    <div>            <script src=\"https://cdnjs.cloudflare.com/ajax/libs/mathjax/2.7.5/MathJax.js?config=TeX-AMS-MML_SVG\"></script><script type=\"text/javascript\">if (window.MathJax && window.MathJax.Hub && window.MathJax.Hub.Config) {window.MathJax.Hub.Config({SVG: {font: \"STIX-Web\"}});}</script>                <script type=\"text/javascript\">window.PlotlyConfig = {MathJaxConfig: 'local'};</script>\n",
       "        <script charset=\"utf-8\" src=\"https://cdn.plot.ly/plotly-3.1.0.min.js\" integrity=\"sha256-Ei4740bWZhaUTQuD6q9yQlgVCMPBz6CZWhevDYPv93A=\" crossorigin=\"anonymous\"></script>                <div id=\"6683e95c-fe33-47d5-af6e-8050e5dff124\" class=\"plotly-graph-div\" style=\"height:450px; width:700px;\"></div>            <script type=\"text/javascript\">                window.PLOTLYENV=window.PLOTLYENV || {};                                if (document.getElementById(\"6683e95c-fe33-47d5-af6e-8050e5dff124\")) {                    Plotly.newPlot(                        \"6683e95c-fe33-47d5-af6e-8050e5dff124\",                        [{\"legendgroup\":\"Men\",\"line\":{\"color\":\"purple\",\"dash\":\"solid\"},\"marker\":{\"symbol\":\"circle\"},\"mode\":\"lines+markers\",\"name\":\"Men\",\"orientation\":\"v\",\"showlegend\":true,\"x\":{\"dtype\":\"i1\",\"bdata\":\"EhMUFRYXGBkaGxwdHh8gISIj\"},\"xaxis\":\"x\",\"y\":{\"dtype\":\"f8\",\"bdata\":\"AAAAAADAMkC21lprrbUyQOU1lNdQXjJAAAAAAAAAM0DkOI7jOA4zQNdaa6211jNA9ihcj8L1M0CO4ziO4zgzQCVJkiRJkjRA6aKLLrroNECrqqqqqqo2QFVVVVVVVTVAVVVVVVVVNEAAAAAAAKA2QAAAAAAAoDdAAAAAAAAAOEAAAAAAAAAyQCVJkiRJkjdA\"},\"yaxis\":\"y\",\"type\":\"scatter\",\"hoverinfo\":\"skip\"},{\"legendgroup\":\"Women\",\"line\":{\"color\":\"coral\",\"dash\":\"solid\"},\"marker\":{\"symbol\":\"circle\"},\"mode\":\"lines+markers\",\"name\":\"Women\",\"orientation\":\"v\",\"showlegend\":true,\"x\":{\"dtype\":\"i1\",\"bdata\":\"EhMUFRYXGBkaHB0eICM=\"},\"xaxis\":\"x\",\"y\":{\"dtype\":\"f8\",\"bdata\":\"q6qqqqqqNUAAAAAAAIAzQAAAAAAAADVAq6qqqqqqNUAAAAAAAAA2QAAAAAAAADZAAAAAAACAOEAAAAAAAIA2QAAAAAAAgDpAAAAAAAAAMkAAAAAAAAA6QAAAAAAAAEFAAAAAAAAAO0AAAAAAAABAQA==\"},\"yaxis\":\"y\",\"type\":\"scatter\",\"hoverinfo\":\"skip\"}],                        {\"template\":{\"data\":{\"barpolar\":[{\"marker\":{\"line\":{\"color\":\"white\",\"width\":0.5},\"pattern\":{\"fillmode\":\"overlay\",\"size\":10,\"solidity\":0.2}},\"type\":\"barpolar\"}],\"bar\":[{\"error_x\":{\"color\":\"#2a3f5f\"},\"error_y\":{\"color\":\"#2a3f5f\"},\"marker\":{\"line\":{\"color\":\"white\",\"width\":0.5},\"pattern\":{\"fillmode\":\"overlay\",\"size\":10,\"solidity\":0.2}},\"type\":\"bar\"}],\"carpet\":[{\"aaxis\":{\"endlinecolor\":\"#2a3f5f\",\"gridcolor\":\"#C8D4E3\",\"linecolor\":\"#C8D4E3\",\"minorgridcolor\":\"#C8D4E3\",\"startlinecolor\":\"#2a3f5f\"},\"baxis\":{\"endlinecolor\":\"#2a3f5f\",\"gridcolor\":\"#C8D4E3\",\"linecolor\":\"#C8D4E3\",\"minorgridcolor\":\"#C8D4E3\",\"startlinecolor\":\"#2a3f5f\"},\"type\":\"carpet\"}],\"choropleth\":[{\"colorbar\":{\"outlinewidth\":0,\"ticks\":\"\"},\"type\":\"choropleth\"}],\"contourcarpet\":[{\"colorbar\":{\"outlinewidth\":0,\"ticks\":\"\"},\"type\":\"contourcarpet\"}],\"contour\":[{\"colorbar\":{\"outlinewidth\":0,\"ticks\":\"\"},\"colorscale\":[[0.0,\"#0d0887\"],[0.1111111111111111,\"#46039f\"],[0.2222222222222222,\"#7201a8\"],[0.3333333333333333,\"#9c179e\"],[0.4444444444444444,\"#bd3786\"],[0.5555555555555556,\"#d8576b\"],[0.6666666666666666,\"#ed7953\"],[0.7777777777777778,\"#fb9f3a\"],[0.8888888888888888,\"#fdca26\"],[1.0,\"#f0f921\"]],\"type\":\"contour\"}],\"heatmap\":[{\"colorbar\":{\"outlinewidth\":0,\"ticks\":\"\"},\"colorscale\":[[0.0,\"#0d0887\"],[0.1111111111111111,\"#46039f\"],[0.2222222222222222,\"#7201a8\"],[0.3333333333333333,\"#9c179e\"],[0.4444444444444444,\"#bd3786\"],[0.5555555555555556,\"#d8576b\"],[0.6666666666666666,\"#ed7953\"],[0.7777777777777778,\"#fb9f3a\"],[0.8888888888888888,\"#fdca26\"],[1.0,\"#f0f921\"]],\"type\":\"heatmap\"}],\"histogram2dcontour\":[{\"colorbar\":{\"outlinewidth\":0,\"ticks\":\"\"},\"colorscale\":[[0.0,\"#0d0887\"],[0.1111111111111111,\"#46039f\"],[0.2222222222222222,\"#7201a8\"],[0.3333333333333333,\"#9c179e\"],[0.4444444444444444,\"#bd3786\"],[0.5555555555555556,\"#d8576b\"],[0.6666666666666666,\"#ed7953\"],[0.7777777777777778,\"#fb9f3a\"],[0.8888888888888888,\"#fdca26\"],[1.0,\"#f0f921\"]],\"type\":\"histogram2dcontour\"}],\"histogram2d\":[{\"colorbar\":{\"outlinewidth\":0,\"ticks\":\"\"},\"colorscale\":[[0.0,\"#0d0887\"],[0.1111111111111111,\"#46039f\"],[0.2222222222222222,\"#7201a8\"],[0.3333333333333333,\"#9c179e\"],[0.4444444444444444,\"#bd3786\"],[0.5555555555555556,\"#d8576b\"],[0.6666666666666666,\"#ed7953\"],[0.7777777777777778,\"#fb9f3a\"],[0.8888888888888888,\"#fdca26\"],[1.0,\"#f0f921\"]],\"type\":\"histogram2d\"}],\"histogram\":[{\"marker\":{\"pattern\":{\"fillmode\":\"overlay\",\"size\":10,\"solidity\":0.2}},\"type\":\"histogram\"}],\"mesh3d\":[{\"colorbar\":{\"outlinewidth\":0,\"ticks\":\"\"},\"type\":\"mesh3d\"}],\"parcoords\":[{\"line\":{\"colorbar\":{\"outlinewidth\":0,\"ticks\":\"\"}},\"type\":\"parcoords\"}],\"pie\":[{\"automargin\":true,\"type\":\"pie\"}],\"scatter3d\":[{\"line\":{\"colorbar\":{\"outlinewidth\":0,\"ticks\":\"\"}},\"marker\":{\"colorbar\":{\"outlinewidth\":0,\"ticks\":\"\"}},\"type\":\"scatter3d\"}],\"scattercarpet\":[{\"marker\":{\"colorbar\":{\"outlinewidth\":0,\"ticks\":\"\"}},\"type\":\"scattercarpet\"}],\"scattergeo\":[{\"marker\":{\"colorbar\":{\"outlinewidth\":0,\"ticks\":\"\"}},\"type\":\"scattergeo\"}],\"scattergl\":[{\"marker\":{\"colorbar\":{\"outlinewidth\":0,\"ticks\":\"\"}},\"type\":\"scattergl\"}],\"scattermapbox\":[{\"marker\":{\"colorbar\":{\"outlinewidth\":0,\"ticks\":\"\"}},\"type\":\"scattermapbox\"}],\"scattermap\":[{\"marker\":{\"colorbar\":{\"outlinewidth\":0,\"ticks\":\"\"}},\"type\":\"scattermap\"}],\"scatterpolargl\":[{\"marker\":{\"colorbar\":{\"outlinewidth\":0,\"ticks\":\"\"}},\"type\":\"scatterpolargl\"}],\"scatterpolar\":[{\"marker\":{\"colorbar\":{\"outlinewidth\":0,\"ticks\":\"\"}},\"type\":\"scatterpolar\"}],\"scatter\":[{\"fillpattern\":{\"fillmode\":\"overlay\",\"size\":10,\"solidity\":0.2},\"type\":\"scatter\"}],\"scatterternary\":[{\"marker\":{\"colorbar\":{\"outlinewidth\":0,\"ticks\":\"\"}},\"type\":\"scatterternary\"}],\"surface\":[{\"colorbar\":{\"outlinewidth\":0,\"ticks\":\"\"},\"colorscale\":[[0.0,\"#0d0887\"],[0.1111111111111111,\"#46039f\"],[0.2222222222222222,\"#7201a8\"],[0.3333333333333333,\"#9c179e\"],[0.4444444444444444,\"#bd3786\"],[0.5555555555555556,\"#d8576b\"],[0.6666666666666666,\"#ed7953\"],[0.7777777777777778,\"#fb9f3a\"],[0.8888888888888888,\"#fdca26\"],[1.0,\"#f0f921\"]],\"type\":\"surface\"}],\"table\":[{\"cells\":{\"fill\":{\"color\":\"#EBF0F8\"},\"line\":{\"color\":\"white\"}},\"header\":{\"fill\":{\"color\":\"#C8D4E3\"},\"line\":{\"color\":\"white\"}},\"type\":\"table\"}]},\"layout\":{\"annotationdefaults\":{\"arrowcolor\":\"#2a3f5f\",\"arrowhead\":0,\"arrowwidth\":1},\"autotypenumbers\":\"strict\",\"coloraxis\":{\"colorbar\":{\"outlinewidth\":0,\"ticks\":\"\"}},\"colorscale\":{\"diverging\":[[0,\"#8e0152\"],[0.1,\"#c51b7d\"],[0.2,\"#de77ae\"],[0.3,\"#f1b6da\"],[0.4,\"#fde0ef\"],[0.5,\"#f7f7f7\"],[0.6,\"#e6f5d0\"],[0.7,\"#b8e186\"],[0.8,\"#7fbc41\"],[0.9,\"#4d9221\"],[1,\"#276419\"]],\"sequential\":[[0.0,\"#0d0887\"],[0.1111111111111111,\"#46039f\"],[0.2222222222222222,\"#7201a8\"],[0.3333333333333333,\"#9c179e\"],[0.4444444444444444,\"#bd3786\"],[0.5555555555555556,\"#d8576b\"],[0.6666666666666666,\"#ed7953\"],[0.7777777777777778,\"#fb9f3a\"],[0.8888888888888888,\"#fdca26\"],[1.0,\"#f0f921\"]],\"sequentialminus\":[[0.0,\"#0d0887\"],[0.1111111111111111,\"#46039f\"],[0.2222222222222222,\"#7201a8\"],[0.3333333333333333,\"#9c179e\"],[0.4444444444444444,\"#bd3786\"],[0.5555555555555556,\"#d8576b\"],[0.6666666666666666,\"#ed7953\"],[0.7777777777777778,\"#fb9f3a\"],[0.8888888888888888,\"#fdca26\"],[1.0,\"#f0f921\"]]},\"colorway\":[\"#636efa\",\"#EF553B\",\"#00cc96\",\"#ab63fa\",\"#FFA15A\",\"#19d3f3\",\"#FF6692\",\"#B6E880\",\"#FF97FF\",\"#FECB52\"],\"font\":{\"color\":\"#2a3f5f\"},\"geo\":{\"bgcolor\":\"white\",\"lakecolor\":\"white\",\"landcolor\":\"white\",\"showlakes\":true,\"showland\":true,\"subunitcolor\":\"#C8D4E3\"},\"hoverlabel\":{\"align\":\"left\"},\"hovermode\":\"closest\",\"mapbox\":{\"style\":\"light\"},\"paper_bgcolor\":\"white\",\"plot_bgcolor\":\"white\",\"polar\":{\"angularaxis\":{\"gridcolor\":\"#EBF0F8\",\"linecolor\":\"#EBF0F8\",\"ticks\":\"\"},\"bgcolor\":\"white\",\"radialaxis\":{\"gridcolor\":\"#EBF0F8\",\"linecolor\":\"#EBF0F8\",\"ticks\":\"\"}},\"scene\":{\"xaxis\":{\"backgroundcolor\":\"white\",\"gridcolor\":\"#DFE8F3\",\"gridwidth\":2,\"linecolor\":\"#EBF0F8\",\"showbackground\":true,\"ticks\":\"\",\"zerolinecolor\":\"#EBF0F8\"},\"yaxis\":{\"backgroundcolor\":\"white\",\"gridcolor\":\"#DFE8F3\",\"gridwidth\":2,\"linecolor\":\"#EBF0F8\",\"showbackground\":true,\"ticks\":\"\",\"zerolinecolor\":\"#EBF0F8\"},\"zaxis\":{\"backgroundcolor\":\"white\",\"gridcolor\":\"#DFE8F3\",\"gridwidth\":2,\"linecolor\":\"#EBF0F8\",\"showbackground\":true,\"ticks\":\"\",\"zerolinecolor\":\"#EBF0F8\"}},\"shapedefaults\":{\"line\":{\"color\":\"#2a3f5f\"}},\"ternary\":{\"aaxis\":{\"gridcolor\":\"#DFE8F3\",\"linecolor\":\"#A2B1C6\",\"ticks\":\"\"},\"baxis\":{\"gridcolor\":\"#DFE8F3\",\"linecolor\":\"#A2B1C6\",\"ticks\":\"\"},\"bgcolor\":\"white\",\"caxis\":{\"gridcolor\":\"#DFE8F3\",\"linecolor\":\"#A2B1C6\",\"ticks\":\"\"}},\"title\":{\"x\":0.05},\"xaxis\":{\"automargin\":true,\"gridcolor\":\"#EBF0F8\",\"linecolor\":\"#EBF0F8\",\"ticks\":\"\",\"title\":{\"standoff\":15},\"zerolinecolor\":\"#EBF0F8\",\"zerolinewidth\":2},\"yaxis\":{\"automargin\":true,\"gridcolor\":\"#EBF0F8\",\"linecolor\":\"#EBF0F8\",\"ticks\":\"\",\"title\":{\"standoff\":15},\"zerolinecolor\":\"#EBF0F8\",\"zerolinewidth\":2}}},\"xaxis\":{\"anchor\":\"y\",\"domain\":[0.0,1.0],\"title\":{\"text\":\"Age\"}},\"yaxis\":{\"anchor\":\"x\",\"domain\":[0.0,1.0],\"title\":{\"text\":\"Minimum of Age filter\"}},\"legend\":{\"title\":{\"text\":\"Gender\"},\"tracegroupgap\":0},\"title\":{\"text\":\"Minimum of Age filter vs. Age\\u003cbr\\u003e\\u003csup\\u003e\\u003ci\\u003eby Gender\",\"font\":{\"size\":24,\"weight\":\"bold\"},\"x\":0.5},\"width\":700,\"height\":450,\"showlegend\":true},                        {\"responsive\": true}                    ).then(function(){\n",
       "                            \n",
       "var gd = document.getElementById('6683e95c-fe33-47d5-af6e-8050e5dff124');\n",
       "var x = new MutationObserver(function (mutations, observer) {{\n",
       "        var display = window.getComputedStyle(gd).display;\n",
       "        if (!display || display === 'none') {{\n",
       "            console.log([gd, 'removed!']);\n",
       "            Plotly.purge(gd);\n",
       "            observer.disconnect();\n",
       "        }}\n",
       "}});\n",
       "\n",
       "// Listen for the removal of the full notebook cells\n",
       "var notebookContainer = gd.closest('#notebook-container');\n",
       "if (notebookContainer) {{\n",
       "    x.observe(notebookContainer, {childList: true});\n",
       "}}\n",
       "\n",
       "// Listen for the clearing of the current output cell\n",
       "var outputEl = gd.closest('.output');\n",
       "if (outputEl) {{\n",
       "    x.observe(outputEl, {childList: true});\n",
       "}}\n",
       "\n",
       "                        })                };            </script>        </div>\n",
       "</body>\n",
       "</html>"
      ]
     },
     "metadata": {},
     "output_type": "display_data"
    }
   ],
   "source": [
    "df_agg_min = df[(df['Age']>=18)&(df['Age']<=35)].groupby(['Age', 'Gender'], as_index=False)['Minimum of Age filter'].mean()\n",
    "\n",
    "# Define a custom color map for 'Gender'\n",
    "\n",
    "\n",
    "fig = px.line(\n",
    "    df_agg_min,\n",
    "    x='Age',\n",
    "    y='Minimum of Age filter',\n",
    "    color='Gender',\n",
    "    color_discrete_map=custom_color_map_gender,\n",
    "    title='Minimum of Age filter vs. Age<br><sup><i>by Gender'\n",
    ")\n",
    "\n",
    "# Customize the lines and add labels\n",
    "fig.update_traces(\n",
    "    mode='lines+markers',\n",
    "    hovertemplate=None,\n",
    "    hoverinfo='skip'\n",
    ")\n",
    "\n",
    "# Customize the axes and layout\n",
    "fig.update_layout(\n",
    "    title_font=dict(size=24, weight='bold'),\n",
    "    xaxis_title='Age',\n",
    "    yaxis_title='Minimum of Age filter',\n",
    "    title_x=0.5,\n",
    "    width=700, # Set the width of the plot\n",
    "    height=450,\n",
    "    showlegend=True,\n",
    "    template='plotly_white'\n",
    ")\n",
    "\n",
    "# Show the plot\n",
    "fig.show()"
   ]
  },
  {
   "cell_type": "code",
   "execution_count": 62,
   "id": "4360a6ca-5fe9-4bda-979f-5c53944ce4e5",
   "metadata": {},
   "outputs": [
    {
     "data": {
      "text/html": [
       "<div>\n",
       "<style scoped>\n",
       "    .dataframe tbody tr th:only-of-type {\n",
       "        vertical-align: middle;\n",
       "    }\n",
       "\n",
       "    .dataframe tbody tr th {\n",
       "        vertical-align: top;\n",
       "    }\n",
       "\n",
       "    .dataframe thead th {\n",
       "        text-align: right;\n",
       "    }\n",
       "</style>\n",
       "<table border=\"1\" class=\"dataframe\">\n",
       "  <thead>\n",
       "    <tr style=\"text-align: right;\">\n",
       "      <th></th>\n",
       "      <th>ID</th>\n",
       "      <th>Number of conversations</th>\n",
       "      <th>Average Conversation Length</th>\n",
       "      <th>Average Conversation Length in Days</th>\n",
       "      <th>Number of ghostings after 1st message</th>\n",
       "      <th>Number of matches</th>\n",
       "      <th>Minimum of Age filter</th>\n",
       "      <th>Maximum of Age filter</th>\n",
       "      <th>Country</th>\n",
       "      <th>Education</th>\n",
       "      <th>Gender</th>\n",
       "      <th>Interests in gender</th>\n",
       "      <th>instagram</th>\n",
       "      <th>Job title</th>\n",
       "      <th>Age</th>\n",
       "      <th>Group</th>\n",
       "    </tr>\n",
       "  </thead>\n",
       "  <tbody>\n",
       "    <tr>\n",
       "      <th>136</th>\n",
       "      <td>de14c049d9bc38720b566ac98a1f3998</td>\n",
       "      <td>8084</td>\n",
       "      <td>3.7</td>\n",
       "      <td>3.0</td>\n",
       "      <td>4408</td>\n",
       "      <td>14874</td>\n",
       "      <td>18</td>\n",
       "      <td>80</td>\n",
       "      <td>Germany</td>\n",
       "      <td>Has high school and/or college education</td>\n",
       "      <td>Women</td>\n",
       "      <td>Interest in Men</td>\n",
       "      <td>True</td>\n",
       "      <td>Writer</td>\n",
       "      <td>28</td>\n",
       "      <td>Age group 26-35</td>\n",
       "    </tr>\n",
       "  </tbody>\n",
       "</table>\n",
       "</div>"
      ],
      "text/plain": [
       "                                   ID  Number of conversations  \\\n",
       "136  de14c049d9bc38720b566ac98a1f3998                     8084   \n",
       "\n",
       "     Average Conversation Length  Average Conversation Length in Days  \\\n",
       "136                          3.7                                  3.0   \n",
       "\n",
       "     Number of ghostings after 1st message  Number of matches  \\\n",
       "136                                   4408              14874   \n",
       "\n",
       "     Minimum of Age filter  Maximum of Age filter  Country  \\\n",
       "136                     18                     80  Germany   \n",
       "\n",
       "                                    Education Gender Interests in gender  \\\n",
       "136  Has high school and/or college education  Women     Interest in Men   \n",
       "\n",
       "     instagram Job title  Age            Group  \n",
       "136       True    Writer   28  Age group 26-35  "
      ]
     },
     "execution_count": 62,
     "metadata": {},
     "output_type": "execute_result"
    }
   ],
   "source": [
    "df[(df['Gender']=='Women')&(df['Age']==28)]"
   ]
  },
  {
   "cell_type": "code",
   "execution_count": 63,
   "id": "e6bbe450-3e66-44d1-8a95-d97d9a09cfc7",
   "metadata": {},
   "outputs": [
    {
     "data": {
      "text/html": [
       "<html>\n",
       "<head><meta charset=\"utf-8\" /></head>\n",
       "<body>\n",
       "    <div>            <script src=\"https://cdnjs.cloudflare.com/ajax/libs/mathjax/2.7.5/MathJax.js?config=TeX-AMS-MML_SVG\"></script><script type=\"text/javascript\">if (window.MathJax && window.MathJax.Hub && window.MathJax.Hub.Config) {window.MathJax.Hub.Config({SVG: {font: \"STIX-Web\"}});}</script>                <script type=\"text/javascript\">window.PlotlyConfig = {MathJaxConfig: 'local'};</script>\n",
       "        <script charset=\"utf-8\" src=\"https://cdn.plot.ly/plotly-3.1.0.min.js\" integrity=\"sha256-Ei4740bWZhaUTQuD6q9yQlgVCMPBz6CZWhevDYPv93A=\" crossorigin=\"anonymous\"></script>                <div id=\"5abe8c5e-af9b-4b2c-94e5-b1478a441bb4\" class=\"plotly-graph-div\" style=\"height:450px; width:700px;\"></div>            <script type=\"text/javascript\">                window.PLOTLYENV=window.PLOTLYENV || {};                                if (document.getElementById(\"5abe8c5e-af9b-4b2c-94e5-b1478a441bb4\")) {                    Plotly.newPlot(                        \"5abe8c5e-af9b-4b2c-94e5-b1478a441bb4\",                        [{\"legendgroup\":\"Men\",\"line\":{\"color\":\"purple\",\"dash\":\"solid\"},\"marker\":{\"symbol\":\"circle\"},\"mode\":\"lines+markers\",\"name\":\"Men\",\"orientation\":\"v\",\"showlegend\":true,\"x\":{\"dtype\":\"i1\",\"bdata\":\"EhMUFRYXGBkaGxwdHh8gISIj\"},\"xaxis\":\"x\",\"y\":{\"dtype\":\"f8\",\"bdata\":\"AAAAAACAOUCEEEIIIYQ8QLdt27Zt2zxAAAAAAACAPUB8xVd8xVc9QN7d3d3dXTtAq6qqqqpKPUDHcRzHcZxAQNu2bdu2bUBA9DzP8zzPP0CSJEmSJElBQAAAAAAAAEFAAAAAAABAQkAAAAAAADBCQAAAAAAAsEFAAAAAAADgQUAAAAAAAABEQFVVVVVV1UJA\"},\"yaxis\":\"y\",\"type\":\"scatter\",\"hoverinfo\":\"skip\"},{\"legendgroup\":\"Women\",\"line\":{\"color\":\"coral\",\"dash\":\"solid\"},\"marker\":{\"symbol\":\"circle\"},\"mode\":\"lines+markers\",\"name\":\"Women\",\"orientation\":\"v\",\"showlegend\":true,\"x\":{\"dtype\":\"i1\",\"bdata\":\"EhMUFRYXGBkaHR4gIw==\"},\"xaxis\":\"x\",\"y\":{\"dtype\":\"f8\",\"bdata\":\"AAAAAAAAPUAAAAAAAEA\\u002fQKuqqqqqqj5AVVVVVVVVPUAAAAAAAAA8QAAAAAAAwEJAAAAAAACAPEAAAAAAAMBBQAAAAAAAwEFAAAAAAAAARUAAAAAAAABDQAAAAAAAAEZAAAAAAACARkA=\"},\"yaxis\":\"y\",\"type\":\"scatter\",\"hoverinfo\":\"skip\"}],                        {\"template\":{\"data\":{\"barpolar\":[{\"marker\":{\"line\":{\"color\":\"white\",\"width\":0.5},\"pattern\":{\"fillmode\":\"overlay\",\"size\":10,\"solidity\":0.2}},\"type\":\"barpolar\"}],\"bar\":[{\"error_x\":{\"color\":\"#2a3f5f\"},\"error_y\":{\"color\":\"#2a3f5f\"},\"marker\":{\"line\":{\"color\":\"white\",\"width\":0.5},\"pattern\":{\"fillmode\":\"overlay\",\"size\":10,\"solidity\":0.2}},\"type\":\"bar\"}],\"carpet\":[{\"aaxis\":{\"endlinecolor\":\"#2a3f5f\",\"gridcolor\":\"#C8D4E3\",\"linecolor\":\"#C8D4E3\",\"minorgridcolor\":\"#C8D4E3\",\"startlinecolor\":\"#2a3f5f\"},\"baxis\":{\"endlinecolor\":\"#2a3f5f\",\"gridcolor\":\"#C8D4E3\",\"linecolor\":\"#C8D4E3\",\"minorgridcolor\":\"#C8D4E3\",\"startlinecolor\":\"#2a3f5f\"},\"type\":\"carpet\"}],\"choropleth\":[{\"colorbar\":{\"outlinewidth\":0,\"ticks\":\"\"},\"type\":\"choropleth\"}],\"contourcarpet\":[{\"colorbar\":{\"outlinewidth\":0,\"ticks\":\"\"},\"type\":\"contourcarpet\"}],\"contour\":[{\"colorbar\":{\"outlinewidth\":0,\"ticks\":\"\"},\"colorscale\":[[0.0,\"#0d0887\"],[0.1111111111111111,\"#46039f\"],[0.2222222222222222,\"#7201a8\"],[0.3333333333333333,\"#9c179e\"],[0.4444444444444444,\"#bd3786\"],[0.5555555555555556,\"#d8576b\"],[0.6666666666666666,\"#ed7953\"],[0.7777777777777778,\"#fb9f3a\"],[0.8888888888888888,\"#fdca26\"],[1.0,\"#f0f921\"]],\"type\":\"contour\"}],\"heatmap\":[{\"colorbar\":{\"outlinewidth\":0,\"ticks\":\"\"},\"colorscale\":[[0.0,\"#0d0887\"],[0.1111111111111111,\"#46039f\"],[0.2222222222222222,\"#7201a8\"],[0.3333333333333333,\"#9c179e\"],[0.4444444444444444,\"#bd3786\"],[0.5555555555555556,\"#d8576b\"],[0.6666666666666666,\"#ed7953\"],[0.7777777777777778,\"#fb9f3a\"],[0.8888888888888888,\"#fdca26\"],[1.0,\"#f0f921\"]],\"type\":\"heatmap\"}],\"histogram2dcontour\":[{\"colorbar\":{\"outlinewidth\":0,\"ticks\":\"\"},\"colorscale\":[[0.0,\"#0d0887\"],[0.1111111111111111,\"#46039f\"],[0.2222222222222222,\"#7201a8\"],[0.3333333333333333,\"#9c179e\"],[0.4444444444444444,\"#bd3786\"],[0.5555555555555556,\"#d8576b\"],[0.6666666666666666,\"#ed7953\"],[0.7777777777777778,\"#fb9f3a\"],[0.8888888888888888,\"#fdca26\"],[1.0,\"#f0f921\"]],\"type\":\"histogram2dcontour\"}],\"histogram2d\":[{\"colorbar\":{\"outlinewidth\":0,\"ticks\":\"\"},\"colorscale\":[[0.0,\"#0d0887\"],[0.1111111111111111,\"#46039f\"],[0.2222222222222222,\"#7201a8\"],[0.3333333333333333,\"#9c179e\"],[0.4444444444444444,\"#bd3786\"],[0.5555555555555556,\"#d8576b\"],[0.6666666666666666,\"#ed7953\"],[0.7777777777777778,\"#fb9f3a\"],[0.8888888888888888,\"#fdca26\"],[1.0,\"#f0f921\"]],\"type\":\"histogram2d\"}],\"histogram\":[{\"marker\":{\"pattern\":{\"fillmode\":\"overlay\",\"size\":10,\"solidity\":0.2}},\"type\":\"histogram\"}],\"mesh3d\":[{\"colorbar\":{\"outlinewidth\":0,\"ticks\":\"\"},\"type\":\"mesh3d\"}],\"parcoords\":[{\"line\":{\"colorbar\":{\"outlinewidth\":0,\"ticks\":\"\"}},\"type\":\"parcoords\"}],\"pie\":[{\"automargin\":true,\"type\":\"pie\"}],\"scatter3d\":[{\"line\":{\"colorbar\":{\"outlinewidth\":0,\"ticks\":\"\"}},\"marker\":{\"colorbar\":{\"outlinewidth\":0,\"ticks\":\"\"}},\"type\":\"scatter3d\"}],\"scattercarpet\":[{\"marker\":{\"colorbar\":{\"outlinewidth\":0,\"ticks\":\"\"}},\"type\":\"scattercarpet\"}],\"scattergeo\":[{\"marker\":{\"colorbar\":{\"outlinewidth\":0,\"ticks\":\"\"}},\"type\":\"scattergeo\"}],\"scattergl\":[{\"marker\":{\"colorbar\":{\"outlinewidth\":0,\"ticks\":\"\"}},\"type\":\"scattergl\"}],\"scattermapbox\":[{\"marker\":{\"colorbar\":{\"outlinewidth\":0,\"ticks\":\"\"}},\"type\":\"scattermapbox\"}],\"scattermap\":[{\"marker\":{\"colorbar\":{\"outlinewidth\":0,\"ticks\":\"\"}},\"type\":\"scattermap\"}],\"scatterpolargl\":[{\"marker\":{\"colorbar\":{\"outlinewidth\":0,\"ticks\":\"\"}},\"type\":\"scatterpolargl\"}],\"scatterpolar\":[{\"marker\":{\"colorbar\":{\"outlinewidth\":0,\"ticks\":\"\"}},\"type\":\"scatterpolar\"}],\"scatter\":[{\"fillpattern\":{\"fillmode\":\"overlay\",\"size\":10,\"solidity\":0.2},\"type\":\"scatter\"}],\"scatterternary\":[{\"marker\":{\"colorbar\":{\"outlinewidth\":0,\"ticks\":\"\"}},\"type\":\"scatterternary\"}],\"surface\":[{\"colorbar\":{\"outlinewidth\":0,\"ticks\":\"\"},\"colorscale\":[[0.0,\"#0d0887\"],[0.1111111111111111,\"#46039f\"],[0.2222222222222222,\"#7201a8\"],[0.3333333333333333,\"#9c179e\"],[0.4444444444444444,\"#bd3786\"],[0.5555555555555556,\"#d8576b\"],[0.6666666666666666,\"#ed7953\"],[0.7777777777777778,\"#fb9f3a\"],[0.8888888888888888,\"#fdca26\"],[1.0,\"#f0f921\"]],\"type\":\"surface\"}],\"table\":[{\"cells\":{\"fill\":{\"color\":\"#EBF0F8\"},\"line\":{\"color\":\"white\"}},\"header\":{\"fill\":{\"color\":\"#C8D4E3\"},\"line\":{\"color\":\"white\"}},\"type\":\"table\"}]},\"layout\":{\"annotationdefaults\":{\"arrowcolor\":\"#2a3f5f\",\"arrowhead\":0,\"arrowwidth\":1},\"autotypenumbers\":\"strict\",\"coloraxis\":{\"colorbar\":{\"outlinewidth\":0,\"ticks\":\"\"}},\"colorscale\":{\"diverging\":[[0,\"#8e0152\"],[0.1,\"#c51b7d\"],[0.2,\"#de77ae\"],[0.3,\"#f1b6da\"],[0.4,\"#fde0ef\"],[0.5,\"#f7f7f7\"],[0.6,\"#e6f5d0\"],[0.7,\"#b8e186\"],[0.8,\"#7fbc41\"],[0.9,\"#4d9221\"],[1,\"#276419\"]],\"sequential\":[[0.0,\"#0d0887\"],[0.1111111111111111,\"#46039f\"],[0.2222222222222222,\"#7201a8\"],[0.3333333333333333,\"#9c179e\"],[0.4444444444444444,\"#bd3786\"],[0.5555555555555556,\"#d8576b\"],[0.6666666666666666,\"#ed7953\"],[0.7777777777777778,\"#fb9f3a\"],[0.8888888888888888,\"#fdca26\"],[1.0,\"#f0f921\"]],\"sequentialminus\":[[0.0,\"#0d0887\"],[0.1111111111111111,\"#46039f\"],[0.2222222222222222,\"#7201a8\"],[0.3333333333333333,\"#9c179e\"],[0.4444444444444444,\"#bd3786\"],[0.5555555555555556,\"#d8576b\"],[0.6666666666666666,\"#ed7953\"],[0.7777777777777778,\"#fb9f3a\"],[0.8888888888888888,\"#fdca26\"],[1.0,\"#f0f921\"]]},\"colorway\":[\"#636efa\",\"#EF553B\",\"#00cc96\",\"#ab63fa\",\"#FFA15A\",\"#19d3f3\",\"#FF6692\",\"#B6E880\",\"#FF97FF\",\"#FECB52\"],\"font\":{\"color\":\"#2a3f5f\"},\"geo\":{\"bgcolor\":\"white\",\"lakecolor\":\"white\",\"landcolor\":\"white\",\"showlakes\":true,\"showland\":true,\"subunitcolor\":\"#C8D4E3\"},\"hoverlabel\":{\"align\":\"left\"},\"hovermode\":\"closest\",\"mapbox\":{\"style\":\"light\"},\"paper_bgcolor\":\"white\",\"plot_bgcolor\":\"white\",\"polar\":{\"angularaxis\":{\"gridcolor\":\"#EBF0F8\",\"linecolor\":\"#EBF0F8\",\"ticks\":\"\"},\"bgcolor\":\"white\",\"radialaxis\":{\"gridcolor\":\"#EBF0F8\",\"linecolor\":\"#EBF0F8\",\"ticks\":\"\"}},\"scene\":{\"xaxis\":{\"backgroundcolor\":\"white\",\"gridcolor\":\"#DFE8F3\",\"gridwidth\":2,\"linecolor\":\"#EBF0F8\",\"showbackground\":true,\"ticks\":\"\",\"zerolinecolor\":\"#EBF0F8\"},\"yaxis\":{\"backgroundcolor\":\"white\",\"gridcolor\":\"#DFE8F3\",\"gridwidth\":2,\"linecolor\":\"#EBF0F8\",\"showbackground\":true,\"ticks\":\"\",\"zerolinecolor\":\"#EBF0F8\"},\"zaxis\":{\"backgroundcolor\":\"white\",\"gridcolor\":\"#DFE8F3\",\"gridwidth\":2,\"linecolor\":\"#EBF0F8\",\"showbackground\":true,\"ticks\":\"\",\"zerolinecolor\":\"#EBF0F8\"}},\"shapedefaults\":{\"line\":{\"color\":\"#2a3f5f\"}},\"ternary\":{\"aaxis\":{\"gridcolor\":\"#DFE8F3\",\"linecolor\":\"#A2B1C6\",\"ticks\":\"\"},\"baxis\":{\"gridcolor\":\"#DFE8F3\",\"linecolor\":\"#A2B1C6\",\"ticks\":\"\"},\"bgcolor\":\"white\",\"caxis\":{\"gridcolor\":\"#DFE8F3\",\"linecolor\":\"#A2B1C6\",\"ticks\":\"\"}},\"title\":{\"x\":0.05},\"xaxis\":{\"automargin\":true,\"gridcolor\":\"#EBF0F8\",\"linecolor\":\"#EBF0F8\",\"ticks\":\"\",\"title\":{\"standoff\":15},\"zerolinecolor\":\"#EBF0F8\",\"zerolinewidth\":2},\"yaxis\":{\"automargin\":true,\"gridcolor\":\"#EBF0F8\",\"linecolor\":\"#EBF0F8\",\"ticks\":\"\",\"title\":{\"standoff\":15},\"zerolinecolor\":\"#EBF0F8\",\"zerolinewidth\":2}}},\"xaxis\":{\"anchor\":\"y\",\"domain\":[0.0,1.0],\"title\":{\"text\":\"Age\"}},\"yaxis\":{\"anchor\":\"x\",\"domain\":[0.0,1.0],\"title\":{\"text\":\"Maximum of Age filter\"}},\"legend\":{\"title\":{\"text\":\"Gender\"},\"tracegroupgap\":0},\"title\":{\"text\":\"Maximum of Age filter vs. Age\\u003cbr\\u003e\\u003csup\\u003e\\u003ci\\u003eby Gender\",\"font\":{\"size\":24,\"weight\":\"bold\"},\"x\":0.5},\"width\":700,\"height\":450,\"showlegend\":true},                        {\"responsive\": true}                    ).then(function(){\n",
       "                            \n",
       "var gd = document.getElementById('5abe8c5e-af9b-4b2c-94e5-b1478a441bb4');\n",
       "var x = new MutationObserver(function (mutations, observer) {{\n",
       "        var display = window.getComputedStyle(gd).display;\n",
       "        if (!display || display === 'none') {{\n",
       "            console.log([gd, 'removed!']);\n",
       "            Plotly.purge(gd);\n",
       "            observer.disconnect();\n",
       "        }}\n",
       "}});\n",
       "\n",
       "// Listen for the removal of the full notebook cells\n",
       "var notebookContainer = gd.closest('#notebook-container');\n",
       "if (notebookContainer) {{\n",
       "    x.observe(notebookContainer, {childList: true});\n",
       "}}\n",
       "\n",
       "// Listen for the clearing of the current output cell\n",
       "var outputEl = gd.closest('.output');\n",
       "if (outputEl) {{\n",
       "    x.observe(outputEl, {childList: true});\n",
       "}}\n",
       "\n",
       "                        })                };            </script>        </div>\n",
       "</body>\n",
       "</html>"
      ]
     },
     "metadata": {},
     "output_type": "display_data"
    }
   ],
   "source": [
    "df_agg_max = df[(df['Age']>=18)&(df['Age']<=35)&(df['Maximum of Age filter']!=80)].groupby(['Age', 'Gender'], as_index=False)['Maximum of Age filter'].mean()\n",
    "\n",
    "# Define a custom color map for 'Gender'\n",
    "\n",
    "\n",
    "fig = px.line(\n",
    "    df_agg_max,\n",
    "    x='Age',\n",
    "    y='Maximum of Age filter',\n",
    "    color='Gender',\n",
    "    color_discrete_map=custom_color_map_gender,\n",
    "    title='Maximum of Age filter vs. Age<br><sup><i>by Gender'\n",
    ")\n",
    "\n",
    "# Customize the lines and add labels\n",
    "fig.update_traces(\n",
    "    mode='lines+markers',\n",
    "    hovertemplate=None,\n",
    "    hoverinfo='skip'\n",
    ")\n",
    "\n",
    "# Customize the axes and layout\n",
    "fig.update_layout(\n",
    "    title_font=dict(size=24, weight='bold'),\n",
    "    xaxis_title='Age',\n",
    "    yaxis_title='Maximum of Age filter',\n",
    "    title_x=0.5,\n",
    "    width=700, # Set the width of the plot\n",
    "    height=450,\n",
    "    showlegend=True,\n",
    "    template='plotly_white'\n",
    ")\n",
    "\n",
    "# Show the plot\n",
    "fig.show()"
   ]
  },
  {
   "cell_type": "code",
   "execution_count": 64,
   "id": "57e0acee-9eb9-4fa8-9adb-c7d89d4b1c4a",
   "metadata": {},
   "outputs": [
    {
     "data": {
      "text/plain": [
       "[18, 19, 20, 21, 22, 23, 24, 25, 26, 28, 29, 30, 32, 35]"
      ]
     },
     "execution_count": 64,
     "metadata": {},
     "output_type": "execute_result"
    }
   ],
   "source": [
    "df_agg_min[df_agg_min['Gender']=='Women']['Age'].to_list()"
   ]
  },
  {
   "cell_type": "code",
   "execution_count": 65,
   "id": "1608752b-7c2c-4992-82d5-506e5a2b9ff7",
   "metadata": {},
   "outputs": [
    {
     "data": {
      "text/plain": [
       "[18, 19, 20, 21, 22, 23, 24, 25, 26, 29, 30, 32, 35]"
      ]
     },
     "execution_count": 65,
     "metadata": {},
     "output_type": "execute_result"
    }
   ],
   "source": [
    "df_agg_max[df_agg_max['Gender']=='Women']['Age'].to_list()"
   ]
  },
  {
   "cell_type": "code",
   "execution_count": 66,
   "id": "c39e13fe-f054-4db5-b1cf-cbe19f9c14bf",
   "metadata": {},
   "outputs": [
    {
     "data": {
      "text/plain": [
       "[21.666666666666668,\n",
       " 19.5,\n",
       " 21.0,\n",
       " 21.666666666666668,\n",
       " 22.0,\n",
       " 22.0,\n",
       " 24.5,\n",
       " 22.5,\n",
       " 26.5,\n",
       " 18.0,\n",
       " 26.0,\n",
       " 34.0,\n",
       " 27.0,\n",
       " 32.0]"
      ]
     },
     "execution_count": 66,
     "metadata": {},
     "output_type": "execute_result"
    }
   ],
   "source": [
    "df_agg_min[df_agg_min['Gender']=='Women']['Minimum of Age filter'].to_list()"
   ]
  },
  {
   "cell_type": "code",
   "execution_count": 67,
   "id": "2766f243-4529-43fe-b65b-00270ec2994f",
   "metadata": {},
   "outputs": [
    {
     "data": {
      "text/plain": [
       "[29.0,\n",
       " 31.25,\n",
       " 30.666666666666668,\n",
       " 29.333333333333332,\n",
       " 28.0,\n",
       " 37.5,\n",
       " 28.5,\n",
       " 35.5,\n",
       " 35.5,\n",
       " 42.0,\n",
       " 38.0,\n",
       " 44.0,\n",
       " 45.0]"
      ]
     },
     "execution_count": 67,
     "metadata": {},
     "output_type": "execute_result"
    }
   ],
   "source": [
    "df_agg_max[df_agg_max['Gender']=='Women']['Maximum of Age filter'].to_list()"
   ]
  },
  {
   "cell_type": "code",
   "execution_count": 68,
   "id": "501c797b-ee93-47e9-b701-3efa22828b3c",
   "metadata": {},
   "outputs": [
    {
     "data": {
      "text/plain": [
       "[18.75,\n",
       " 18.70967741935484,\n",
       " 18.36842105263158,\n",
       " 19.0,\n",
       " 19.055555555555557,\n",
       " 19.838709677419356,\n",
       " 19.96,\n",
       " 19.22222222222222,\n",
       " 20.571428571428573,\n",
       " 22.666666666666668,\n",
       " 21.333333333333332,\n",
       " 20.333333333333332,\n",
       " 23.625,\n",
       " 23.571428571428573]"
      ]
     },
     "execution_count": 68,
     "metadata": {},
     "output_type": "execute_result"
    }
   ],
   "source": [
    "df_agg_min[(df_agg_min['Gender']=='Men')&(df_agg_min['Age'].isin([18, 19, 20, 21, 22, 23, 24, 25, 26, 28, 29, 30, 32, 35]))]['Minimum of Age filter'].to_list()"
   ]
  },
  {
   "cell_type": "code",
   "execution_count": 69,
   "id": "076b2939-f398-4c5d-abd5-d9e0097878f1",
   "metadata": {},
   "outputs": [
    {
     "data": {
      "text/plain": [
       "[25.5,\n",
       " 28.516129032258064,\n",
       " 28.857142857142858,\n",
       " 29.5,\n",
       " 29.34285714285714,\n",
       " 27.366666666666667,\n",
       " 29.291666666666668,\n",
       " 33.22222222222222,\n",
       " 32.857142857142854,\n",
       " 34.0,\n",
       " 36.5,\n",
       " 35.375,\n",
       " 37.666666666666664]"
      ]
     },
     "execution_count": 69,
     "metadata": {},
     "output_type": "execute_result"
    }
   ],
   "source": [
    "df_agg_max[(df_agg_max['Gender']=='Men')&(df_agg_max['Age'].isin([18, 19, 20, 21, 22, 23, 24, 25, 26, 29, 30, 32, 35]))]['Maximum of Age filter'].to_list()"
   ]
  },
  {
   "cell_type": "code",
   "execution_count": 70,
   "id": "c9bcddb0-bf7e-4478-a123-6ebaca0daf2f",
   "metadata": {},
   "outputs": [],
   "source": [
    "df_agg_min_new={'Age':[18, 19, 20, 21, 22, 23, 24, 25, 26, 28, 29, 30, 32, 35],\n",
    "                'Men':[18.75,\n",
    " 18.70967741935484,\n",
    " 18.36842105263158,\n",
    " 19.0,\n",
    " 19.055555555555557,\n",
    " 19.838709677419356,\n",
    " 19.96,\n",
    " 19.22222222222222,\n",
    " 20.571428571428573,\n",
    " 22.666666666666668,\n",
    " 21.333333333333332,\n",
    " 20.333333333333332,\n",
    " 23.625,\n",
    " 23.571428571428573],\n",
    "                'Women':[21.666666666666668,\n",
    " 19.5,\n",
    " 21.0,\n",
    " 21.666666666666668,\n",
    " 22.0,\n",
    " 22.0,\n",
    " 24.5,\n",
    " 22.5,\n",
    " 26.5,\n",
    " 18.0,\n",
    " 26.0,\n",
    " 34.0,\n",
    " 27.0,\n",
    " 32.0]}"
   ]
  },
  {
   "cell_type": "code",
   "execution_count": 71,
   "id": "2108f5bb-3046-4650-9624-eb0c356ff8de",
   "metadata": {},
   "outputs": [],
   "source": [
    "df_agg_min_new_to_df=pd.DataFrame(df_agg_min_new)"
   ]
  },
  {
   "cell_type": "code",
   "execution_count": 72,
   "id": "66baed86-af1d-4f1b-b51b-422bd41033c3",
   "metadata": {},
   "outputs": [],
   "source": [
    "df_agg_max_new={'Age':[18, 19, 20, 21, 22, 23, 24, 25, 26, 29, 30, 32, 35],\n",
    "                'Men':[25.5,\n",
    " 28.516129032258064,\n",
    " 28.857142857142858,\n",
    " 29.5,\n",
    " 29.34285714285714,\n",
    " 27.366666666666667,\n",
    " 29.291666666666668,\n",
    " 33.22222222222222,\n",
    " 32.857142857142854,\n",
    " 34.0,\n",
    " 36.5,\n",
    " 35.375,\n",
    " 37.666666666666664],\n",
    "                'Women':[29.0,\n",
    " 31.25,\n",
    " 30.666666666666668,\n",
    " 29.333333333333332,\n",
    " 28.0,\n",
    " 37.5,\n",
    " 28.5,\n",
    " 35.5,\n",
    " 35.5,\n",
    " 42.0,\n",
    " 38.0,\n",
    " 44.0,\n",
    " 45.0]}"
   ]
  },
  {
   "cell_type": "code",
   "execution_count": 73,
   "id": "d990f13b-e865-4130-b755-aeb208bc266d",
   "metadata": {},
   "outputs": [],
   "source": [
    "df_agg_max_new_to_df=pd.DataFrame(df_agg_max_new)"
   ]
  },
  {
   "cell_type": "code",
   "execution_count": 74,
   "id": "d5d89433-4289-4973-b5b0-c0d2f26449dc",
   "metadata": {},
   "outputs": [
    {
     "data": {
      "text/html": [
       "<a href=\"data:file/csv;base64,QWdlLE1lbixXb21lbg0KMTgsMTguNzUsMjEuNjY2NjY2NjY2NjY2NjY4DQoxOSwxOC43MDk2Nzc0MTkzNTQ4NCwxOS41DQoyMCwxOC4zNjg0MjEwNTI2MzE1OCwyMS4wDQoyMSwxOS4wLDIxLjY2NjY2NjY2NjY2NjY2OA0KMjIsMTkuMDU1NTU1NTU1NTU1NTU3LDIyLjANCjIzLDE5LjgzODcwOTY3NzQxOTM1NiwyMi4wDQoyNCwxOS45NiwyNC41DQoyNSwxOS4yMjIyMjIyMjIyMjIyMiwyMi41DQoyNiwyMC41NzE0Mjg1NzE0Mjg1NzMsMjYuNQ0KMjgsMjIuNjY2NjY2NjY2NjY2NjY4LDE4LjANCjI5LDIxLjMzMzMzMzMzMzMzMzMzMiwyNi4wDQozMCwyMC4zMzMzMzMzMzMzMzMzMzIsMzQuMA0KMzIsMjMuNjI1LDI3LjANCjM1LDIzLjU3MTQyODU3MTQyODU3MywzMi4wDQo=\" download=\"df_agg_min_new_to_df.csv\">Click here to download df_agg_min_new_to_df.csv</a>"
      ],
      "text/plain": [
       "<IPython.core.display.HTML object>"
      ]
     },
     "metadata": {},
     "output_type": "display_data"
    }
   ],
   "source": [
    "df_agg_min_new_to_df.to_csv('df_agg_min_new_to_df', index=False)\n",
    "csv_content_clean = df_agg_min_new_to_df.to_csv(index=False)\n",
    "b64_clean = base64.b64encode(csv_content_clean.encode()).decode()\n",
    "download_link_clean = f'<a href=\"data:file/csv;base64,{b64_clean}\" download=\"df_agg_min_new_to_df.csv\">Click here to download df_agg_min_new_to_df.csv</a>'\n",
    "display(HTML(download_link_clean))"
   ]
  },
  {
   "cell_type": "code",
   "execution_count": 75,
   "id": "9875f64f-1901-4c83-b30b-2997bdbc955a",
   "metadata": {},
   "outputs": [
    {
     "data": {
      "text/html": [
       "<a href=\"data:file/csv;base64,QWdlLE1lbixXb21lbg0KMTgsMjUuNSwyOS4wDQoxOSwyOC41MTYxMjkwMzIyNTgwNjQsMzEuMjUNCjIwLDI4Ljg1NzE0Mjg1NzE0Mjg1OCwzMC42NjY2NjY2NjY2NjY2NjgNCjIxLDI5LjUsMjkuMzMzMzMzMzMzMzMzMzMyDQoyMiwyOS4zNDI4NTcxNDI4NTcxNCwyOC4wDQoyMywyNy4zNjY2NjY2NjY2NjY2NjcsMzcuNQ0KMjQsMjkuMjkxNjY2NjY2NjY2NjY4LDI4LjUNCjI1LDMzLjIyMjIyMjIyMjIyMjIyLDM1LjUNCjI2LDMyLjg1NzE0Mjg1NzE0Mjg1NCwzNS41DQoyOSwzNC4wLDQyLjANCjMwLDM2LjUsMzguMA0KMzIsMzUuMzc1LDQ0LjANCjM1LDM3LjY2NjY2NjY2NjY2NjY2NCw0NS4wDQo=\" download=\"df_agg_max_new_to_df.csv\">Click here to download df_agg_max_new_to_df.csv</a>"
      ],
      "text/plain": [
       "<IPython.core.display.HTML object>"
      ]
     },
     "metadata": {},
     "output_type": "display_data"
    }
   ],
   "source": [
    "df_agg_max_new_to_df.to_csv('df_agg_max_new_to_df', index=False)\n",
    "csv_content_clean = df_agg_max_new_to_df.to_csv(index=False)\n",
    "b64_clean = base64.b64encode(csv_content_clean.encode()).decode()\n",
    "download_link_clean = f'<a href=\"data:file/csv;base64,{b64_clean}\" download=\"df_agg_max_new_to_df.csv\">Click here to download df_agg_max_new_to_df.csv</a>'\n",
    "display(HTML(download_link_clean))"
   ]
  },
  {
   "cell_type": "code",
   "execution_count": 76,
   "id": "93456e25-1eb8-425e-8e0a-2418156d38d4",
   "metadata": {},
   "outputs": [
    {
     "data": {
      "text/html": [
       "<div>\n",
       "<style scoped>\n",
       "    .dataframe tbody tr th:only-of-type {\n",
       "        vertical-align: middle;\n",
       "    }\n",
       "\n",
       "    .dataframe tbody tr th {\n",
       "        vertical-align: top;\n",
       "    }\n",
       "\n",
       "    .dataframe thead th {\n",
       "        text-align: right;\n",
       "    }\n",
       "</style>\n",
       "<table border=\"1\" class=\"dataframe\">\n",
       "  <thead>\n",
       "    <tr style=\"text-align: right;\">\n",
       "      <th></th>\n",
       "      <th>Job title</th>\n",
       "      <th>Gender</th>\n",
       "      <th>Count</th>\n",
       "    </tr>\n",
       "  </thead>\n",
       "  <tbody>\n",
       "    <tr>\n",
       "      <th>0</th>\n",
       "      <td>30 euros away from collecting bottles</td>\n",
       "      <td>Men</td>\n",
       "      <td>1</td>\n",
       "    </tr>\n",
       "    <tr>\n",
       "      <th>1</th>\n",
       "      <td>3d animator</td>\n",
       "      <td>Men</td>\n",
       "      <td>1</td>\n",
       "    </tr>\n",
       "    <tr>\n",
       "      <th>2</th>\n",
       "      <td>Accountant</td>\n",
       "      <td>Men</td>\n",
       "      <td>2</td>\n",
       "    </tr>\n",
       "    <tr>\n",
       "      <th>3</th>\n",
       "      <td>Android developer</td>\n",
       "      <td>Men</td>\n",
       "      <td>1</td>\n",
       "    </tr>\n",
       "    <tr>\n",
       "      <th>4</th>\n",
       "      <td>App developer</td>\n",
       "      <td>Men</td>\n",
       "      <td>2</td>\n",
       "    </tr>\n",
       "    <tr>\n",
       "      <th>...</th>\n",
       "      <td>...</td>\n",
       "      <td>...</td>\n",
       "      <td>...</td>\n",
       "    </tr>\n",
       "    <tr>\n",
       "      <th>123</th>\n",
       "      <td>Website owner</td>\n",
       "      <td>Men</td>\n",
       "      <td>1</td>\n",
       "    </tr>\n",
       "    <tr>\n",
       "      <th>124</th>\n",
       "      <td>Website programmeur</td>\n",
       "      <td>Men</td>\n",
       "      <td>1</td>\n",
       "    </tr>\n",
       "    <tr>\n",
       "      <th>125</th>\n",
       "      <td>Woke bae</td>\n",
       "      <td>Men</td>\n",
       "      <td>1</td>\n",
       "    </tr>\n",
       "    <tr>\n",
       "      <th>126</th>\n",
       "      <td>Works</td>\n",
       "      <td>Women</td>\n",
       "      <td>1</td>\n",
       "    </tr>\n",
       "    <tr>\n",
       "      <th>127</th>\n",
       "      <td>Writer</td>\n",
       "      <td>Women</td>\n",
       "      <td>2</td>\n",
       "    </tr>\n",
       "  </tbody>\n",
       "</table>\n",
       "<p>128 rows × 3 columns</p>\n",
       "</div>"
      ],
      "text/plain": [
       "                                 Job title Gender  Count\n",
       "0    30 euros away from collecting bottles    Men      1\n",
       "1                              3d animator    Men      1\n",
       "2                               Accountant    Men      2\n",
       "3                        Android developer    Men      1\n",
       "4                            App developer    Men      2\n",
       "..                                     ...    ...    ...\n",
       "123                          Website owner    Men      1\n",
       "124                    Website programmeur    Men      1\n",
       "125                               Woke bae    Men      1\n",
       "126                                  Works  Women      1\n",
       "127                                 Writer  Women      2\n",
       "\n",
       "[128 rows x 3 columns]"
      ]
     },
     "execution_count": 76,
     "metadata": {},
     "output_type": "execute_result"
    }
   ],
   "source": [
    "df_jobs_count=df.groupby(['Job title', 'Gender']).size().reset_index(name='Count') \n",
    "df_jobs_count"
   ]
  },
  {
   "cell_type": "code",
   "execution_count": 77,
   "id": "04502c63-4f9c-4263-94ab-865d0391d653",
   "metadata": {},
   "outputs": [],
   "source": [
    "df_women_edu_matches=df[df['Gender']=='Women'].groupby('Education')['Number of matches'].agg('mean').reset_index()"
   ]
  },
  {
   "cell_type": "code",
   "execution_count": 78,
   "id": "195f4544-13f6-4d2c-8b30-a12320709315",
   "metadata": {},
   "outputs": [],
   "source": [
    "df_men_edu_matches=df[df['Gender']=='Men'].groupby('Education')['Number of matches'].agg('mean').reset_index()"
   ]
  },
  {
   "cell_type": "code",
   "execution_count": 79,
   "id": "10e46719-0ffc-4c57-bd44-d1e01702a202",
   "metadata": {},
   "outputs": [
    {
     "data": {
      "text/html": [
       "<div>\n",
       "<style scoped>\n",
       "    .dataframe tbody tr th:only-of-type {\n",
       "        vertical-align: middle;\n",
       "    }\n",
       "\n",
       "    .dataframe tbody tr th {\n",
       "        vertical-align: top;\n",
       "    }\n",
       "\n",
       "    .dataframe thead th {\n",
       "        text-align: right;\n",
       "    }\n",
       "</style>\n",
       "<table border=\"1\" class=\"dataframe\">\n",
       "  <thead>\n",
       "    <tr style=\"text-align: right;\">\n",
       "      <th></th>\n",
       "      <th>Education</th>\n",
       "      <th>Number of matches</th>\n",
       "    </tr>\n",
       "  </thead>\n",
       "  <tbody>\n",
       "    <tr>\n",
       "      <th>0</th>\n",
       "      <td>Has high school and/or college education</td>\n",
       "      <td>2666.375</td>\n",
       "    </tr>\n",
       "    <tr>\n",
       "      <th>1</th>\n",
       "      <td>Has no high school or college education</td>\n",
       "      <td>396.000</td>\n",
       "    </tr>\n",
       "  </tbody>\n",
       "</table>\n",
       "</div>"
      ],
      "text/plain": [
       "                                  Education  Number of matches\n",
       "0  Has high school and/or college education           2666.375\n",
       "1   Has no high school or college education            396.000"
      ]
     },
     "execution_count": 79,
     "metadata": {},
     "output_type": "execute_result"
    }
   ],
   "source": [
    "df_women_edu_matches"
   ]
  },
  {
   "cell_type": "code",
   "execution_count": 80,
   "id": "065ce651-686f-4caf-bb00-e3798c24ed64",
   "metadata": {},
   "outputs": [
    {
     "data": {
      "text/html": [
       "<div>\n",
       "<style scoped>\n",
       "    .dataframe tbody tr th:only-of-type {\n",
       "        vertical-align: middle;\n",
       "    }\n",
       "\n",
       "    .dataframe tbody tr th {\n",
       "        vertical-align: top;\n",
       "    }\n",
       "\n",
       "    .dataframe thead th {\n",
       "        text-align: right;\n",
       "    }\n",
       "</style>\n",
       "<table border=\"1\" class=\"dataframe\">\n",
       "  <thead>\n",
       "    <tr style=\"text-align: right;\">\n",
       "      <th></th>\n",
       "      <th>Education</th>\n",
       "      <th>Number of matches</th>\n",
       "    </tr>\n",
       "  </thead>\n",
       "  <tbody>\n",
       "    <tr>\n",
       "      <th>0</th>\n",
       "      <td>Has high school and/or college education</td>\n",
       "      <td>983.106383</td>\n",
       "    </tr>\n",
       "    <tr>\n",
       "      <th>1</th>\n",
       "      <td>Has no high school or college education</td>\n",
       "      <td>248.847352</td>\n",
       "    </tr>\n",
       "  </tbody>\n",
       "</table>\n",
       "</div>"
      ],
      "text/plain": [
       "                                  Education  Number of matches\n",
       "0  Has high school and/or college education         983.106383\n",
       "1   Has no high school or college education         248.847352"
      ]
     },
     "execution_count": 80,
     "metadata": {},
     "output_type": "execute_result"
    }
   ],
   "source": [
    "df_men_edu_matches"
   ]
  },
  {
   "cell_type": "code",
   "execution_count": 81,
   "id": "04abe3b6-8283-4ed9-a1c0-6a126cc01517",
   "metadata": {},
   "outputs": [
    {
     "data": {
      "image/png": "[encoded data removed]",
      "text/plain": [
       "<Figure size 800x400 with 1 Axes>"
      ]
     },
     "metadata": {},
     "output_type": "display_data"
    }
   ],
   "source": [
    "values = [2666.375, 347.250]\n",
    "labels = ['Has high school and/or college education', 'Has no high school or college education']\n",
    "\n",
    "\n",
    "custom_color_map = {'Has high school and/or college education':'skyblue',\n",
    "           'Has no high school or college education':'coral'}\n",
    "\n",
    "colors = [custom_color_map[label] for label in labels]\n",
    "\n",
    "\n",
    "# Create the figure and a single subplot\n",
    "fig, ax = plt.subplots(figsize=(8, 4))\n",
    "\n",
    "# Use explode to pull a slice out.\n",
    "# The list should have a value for each slice; a value > 0 moves it out.\n",
    "explode = [0.1, 0] # Explode the first slice (Tinder)\n",
    "\n",
    "# Create the pie chart with a shadow and bold labels\n",
    "wedges, texts, autotexts = ax.pie(\n",
    "    values,\n",
    "    colors=colors,\n",
    "    autopct='%1.1f%%', # Format percentage text\n",
    "    shadow=True, # Add a shadow for depth\n",
    "    startangle=90, # Start the first slice at the top\n",
    "    wedgeprops=dict(edgecolor='black', linewidth=1.5), # Add a border line\n",
    "    explode=explode # Apply the explode effect\n",
    ")\n",
    "\n",
    "# Customize the text inside the slices\n",
    "for text in autotexts:\n",
    "    text.set_color('white')\n",
    "    text.set_fontsize(11)\n",
    "    text.set_weight('bold')\n",
    "\n",
    "# Set the title\n",
    "ax.set_title('Number of matches vs. Education for Women', fontsize=15, fontweight='bold', pad=20)\n",
    "\n",
    "# Add the legend\n",
    "ax.legend(wedges, labels, title=\"Apps\", loc=\"center left\", bbox_to_anchor=(0.8, 0, 0.5, 1))\n",
    "\n",
    "# Set aspect ratio to be equal so that pie is a circle.\n",
    "ax.axis('equal')\n",
    "\n",
    "# Display the plot\n",
    "plt.show()"
   ]
  },
  {
   "cell_type": "code",
   "execution_count": 82,
   "id": "455c8e8f-121d-482e-8716-71ca766ee038",
   "metadata": {},
   "outputs": [
    {
     "data": {
      "text/html": [
       "<a href=\"data:file/csv;base64,RWR1Y2F0aW9uLE51bWJlciBvZiBtYXRjaGVzDQpIYXMgaGlnaCBzY2hvb2wgYW5kL29yIGNvbGxlZ2UgZWR1Y2F0aW9uLDI2NjYuMzc1DQpIYXMgbm8gaGlnaCBzY2hvb2wgb3IgY29sbGVnZSBlZHVjYXRpb24sMzk2LjANCg==\" download=\"df_women_edu_matches.csv\">Click here to download df_women_edu_matches.csv</a>"
      ],
      "text/plain": [
       "<IPython.core.display.HTML object>"
      ]
     },
     "metadata": {},
     "output_type": "display_data"
    }
   ],
   "source": [
    "df_women_edu_matches.to_csv('df_women_edu_matches', index=False)\n",
    "csv_content_clean = df_women_edu_matches.to_csv(index=False)\n",
    "b64_clean = base64.b64encode(csv_content_clean.encode()).decode()\n",
    "download_link_clean = f'<a href=\"data:file/csv;base64,{b64_clean}\" download=\"df_women_edu_matches.csv\">Click here to download df_women_edu_matches.csv</a>'\n",
    "display(HTML(download_link_clean))"
   ]
  },
  {
   "cell_type": "code",
   "execution_count": 83,
   "id": "c74f4adc-b5ba-4e50-9f5a-c7682858a465",
   "metadata": {},
   "outputs": [
    {
     "data": {
      "image/png": "[encoded data removed]",
      "text/plain": [
       "<Figure size 800x400 with 1 Axes>"
      ]
     },
     "metadata": {},
     "output_type": "display_data"
    }
   ],
   "source": [
    "values = [1083.078947, 253.309028]\n",
    "labels = ['Has high school and/or college education', 'Has no high school or college education']\n",
    "\n",
    "\n",
    "custom_color_map = {'Has high school and/or college education':'skyblue',\n",
    "           'Has no high school or college education':'coral'}\n",
    "\n",
    "colors = [custom_color_map[label] for label in labels]\n",
    "\n",
    "# Create the figure and a single subplot\n",
    "fig, ax = plt.subplots(figsize=(8, 4))\n",
    "\n",
    "# Use explode to pull a slice out.\n",
    "# The list should have a value for each slice; a value > 0 moves it out.\n",
    "explode = [0.1, 0] # Explode the first slice (Tinder)\n",
    "\n",
    "# Create the pie chart with a shadow and bold labels\n",
    "wedges, texts, autotexts = ax.pie(\n",
    "    values,\n",
    "    colors=colors,\n",
    "    autopct='%1.1f%%', # Format percentage text\n",
    "    shadow=True, # Add a shadow for depth\n",
    "    startangle=90, # Start the first slice at the top\n",
    "    wedgeprops=dict(edgecolor='black', linewidth=1.5), # Add a border line\n",
    "    explode=explode # Apply the explode effect\n",
    ")\n",
    "\n",
    "# Customize the text inside the slices\n",
    "for text in autotexts:\n",
    "    text.set_color('white')\n",
    "    text.set_fontsize(11)\n",
    "    text.set_weight('bold')\n",
    "\n",
    "# Set the title\n",
    "ax.set_title('Number of matches vs. Education for Men', fontsize=15, fontweight='bold', pad=20)\n",
    "\n",
    "# Add the legend\n",
    "ax.legend(wedges, labels, title=\"Apps\", loc=\"center left\", bbox_to_anchor=(0.8, 0, 0.5, 1))\n",
    "\n",
    "# Set aspect ratio to be equal so that pie is a circle.\n",
    "ax.axis('equal')\n",
    "\n",
    "# Display the plot\n",
    "plt.show()"
   ]
  },
  {
   "cell_type": "code",
   "execution_count": 84,
   "id": "6ff12aec-6275-4604-97d4-58afa73f99bf",
   "metadata": {},
   "outputs": [
    {
     "data": {
      "text/html": [
       "<a href=\"data:file/csv;base64,RWR1Y2F0aW9uLE51bWJlciBvZiBtYXRjaGVzDQpIYXMgaGlnaCBzY2hvb2wgYW5kL29yIGNvbGxlZ2UgZWR1Y2F0aW9uLDk4My4xMDYzODI5Nzg3MjM0DQpIYXMgbm8gaGlnaCBzY2hvb2wgb3IgY29sbGVnZSBlZHVjYXRpb24sMjQ4Ljg0NzM1MjAyNDkyMjEyDQo=\" download=\"df_men_edu_matches.csv\">Click here to download df_men_edu_matches.csv</a>"
      ],
      "text/plain": [
       "<IPython.core.display.HTML object>"
      ]
     },
     "metadata": {},
     "output_type": "display_data"
    }
   ],
   "source": [
    "df_men_edu_matches.to_csv('df_men_edu_matches', index=False)\n",
    "csv_content_clean = df_men_edu_matches.to_csv(index=False)\n",
    "b64_clean = base64.b64encode(csv_content_clean.encode()).decode()\n",
    "download_link_clean = f'<a href=\"data:file/csv;base64,{b64_clean}\" download=\"df_men_edu_matches.csv\">Click here to download df_men_edu_matches.csv</a>'\n",
    "display(HTML(download_link_clean))"
   ]
  },
  {
   "cell_type": "code",
   "execution_count": 85,
   "id": "e7396180-c283-4b69-b625-a107672c076e",
   "metadata": {},
   "outputs": [
    {
     "data": {
      "text/html": [
       "<div>\n",
       "<style scoped>\n",
       "    .dataframe tbody tr th:only-of-type {\n",
       "        vertical-align: middle;\n",
       "    }\n",
       "\n",
       "    .dataframe tbody tr th {\n",
       "        vertical-align: top;\n",
       "    }\n",
       "\n",
       "    .dataframe thead th {\n",
       "        text-align: right;\n",
       "    }\n",
       "</style>\n",
       "<table border=\"1\" class=\"dataframe\">\n",
       "  <thead>\n",
       "    <tr style=\"text-align: right;\">\n",
       "      <th></th>\n",
       "      <th>Education</th>\n",
       "      <th>Number of matches</th>\n",
       "    </tr>\n",
       "  </thead>\n",
       "  <tbody>\n",
       "    <tr>\n",
       "      <th>0</th>\n",
       "      <td>Has high school and/or college education</td>\n",
       "      <td>2666.375</td>\n",
       "    </tr>\n",
       "    <tr>\n",
       "      <th>1</th>\n",
       "      <td>Has no high school or college education</td>\n",
       "      <td>396.000</td>\n",
       "    </tr>\n",
       "  </tbody>\n",
       "</table>\n",
       "</div>"
      ],
      "text/plain": [
       "                                  Education  Number of matches\n",
       "0  Has high school and/or college education           2666.375\n",
       "1   Has no high school or college education            396.000"
      ]
     },
     "execution_count": 85,
     "metadata": {},
     "output_type": "execute_result"
    }
   ],
   "source": [
    "df_women_edu_matches"
   ]
  },
  {
   "cell_type": "code",
   "execution_count": 86,
   "id": "80890b4e-d2a6-4030-808b-8f2240e2ef70",
   "metadata": {},
   "outputs": [
    {
     "data": {
      "text/html": [
       "<div>\n",
       "<style scoped>\n",
       "    .dataframe tbody tr th:only-of-type {\n",
       "        vertical-align: middle;\n",
       "    }\n",
       "\n",
       "    .dataframe tbody tr th {\n",
       "        vertical-align: top;\n",
       "    }\n",
       "\n",
       "    .dataframe thead th {\n",
       "        text-align: right;\n",
       "    }\n",
       "</style>\n",
       "<table border=\"1\" class=\"dataframe\">\n",
       "  <thead>\n",
       "    <tr style=\"text-align: right;\">\n",
       "      <th></th>\n",
       "      <th>Education</th>\n",
       "      <th>Number of matches</th>\n",
       "    </tr>\n",
       "  </thead>\n",
       "  <tbody>\n",
       "    <tr>\n",
       "      <th>0</th>\n",
       "      <td>Has high school and/or college education</td>\n",
       "      <td>983.106383</td>\n",
       "    </tr>\n",
       "    <tr>\n",
       "      <th>1</th>\n",
       "      <td>Has no high school or college education</td>\n",
       "      <td>248.847352</td>\n",
       "    </tr>\n",
       "  </tbody>\n",
       "</table>\n",
       "</div>"
      ],
      "text/plain": [
       "                                  Education  Number of matches\n",
       "0  Has high school and/or college education         983.106383\n",
       "1   Has no high school or college education         248.847352"
      ]
     },
     "execution_count": 86,
     "metadata": {},
     "output_type": "execute_result"
    }
   ],
   "source": [
    "df_men_edu_matches"
   ]
  },
  {
   "cell_type": "code",
   "execution_count": 87,
   "id": "00dc8440-2c6f-450f-99cb-5376b64b5172",
   "metadata": {},
   "outputs": [],
   "source": [
    "df_edu_matches_new={'Education':['Has no high school or college education','Has high school and/or college education'],\n",
    "                                 'Men':[248.847352, 983.106383],\n",
    "                    'Women':[396.000, 2666.375]}"
   ]
  },
  {
   "cell_type": "code",
   "execution_count": 88,
   "id": "f84fd4ca-bb08-4f6e-ac2f-001c6e1fd9af",
   "metadata": {},
   "outputs": [],
   "source": [
    "df_edu_matches_new_to_df=pd.DataFrame(df_edu_matches_new)"
   ]
  },
  {
   "cell_type": "code",
   "execution_count": 89,
   "id": "90d60c9f-3056-4c15-abd3-404be534e9fb",
   "metadata": {},
   "outputs": [
    {
     "data": {
      "text/html": [
       "<a href=\"data:file/csv;base64,RWR1Y2F0aW9uLE1lbixXb21lbg0KSGFzIG5vIGhpZ2ggc2Nob29sIG9yIGNvbGxlZ2UgZWR1Y2F0aW9uLDI0OC44NDczNTIsMzk2LjANCkhhcyBoaWdoIHNjaG9vbCBhbmQvb3IgY29sbGVnZSBlZHVjYXRpb24sOTgzLjEwNjM4MywyNjY2LjM3NQ0K\" download=\"df_edu_matches_new_to_df.csv\">Click here to download df_edu_matches_new_to_df.csv</a>"
      ],
      "text/plain": [
       "<IPython.core.display.HTML object>"
      ]
     },
     "metadata": {},
     "output_type": "display_data"
    }
   ],
   "source": [
    "df_edu_matches_new_to_df.to_csv('df_edu_matches_new_to_df', index=False)\n",
    "csv_content_clean = df_edu_matches_new_to_df.to_csv(index=False)\n",
    "b64_clean = base64.b64encode(csv_content_clean.encode()).decode()\n",
    "download_link_clean = f'<a href=\"data:file/csv;base64,{b64_clean}\" download=\"df_edu_matches_new_to_df.csv\">Click here to download df_edu_matches_new_to_df.csv</a>'\n",
    "display(HTML(download_link_clean))"
   ]
  },
  {
   "cell_type": "code",
   "execution_count": 90,
   "id": "fd831351-2b5c-4fc2-9ce9-1bb8004fca23",
   "metadata": {},
   "outputs": [
    {
     "data": {
      "text/html": [
       "<div>\n",
       "<style scoped>\n",
       "    .dataframe tbody tr th:only-of-type {\n",
       "        vertical-align: middle;\n",
       "    }\n",
       "\n",
       "    .dataframe tbody tr th {\n",
       "        vertical-align: top;\n",
       "    }\n",
       "\n",
       "    .dataframe thead th {\n",
       "        text-align: right;\n",
       "    }\n",
       "</style>\n",
       "<table border=\"1\" class=\"dataframe\">\n",
       "  <thead>\n",
       "    <tr style=\"text-align: right;\">\n",
       "      <th></th>\n",
       "      <th>Education</th>\n",
       "      <th>Gender</th>\n",
       "      <th>Number of ghostings after 1st message</th>\n",
       "    </tr>\n",
       "  </thead>\n",
       "  <tbody>\n",
       "    <tr>\n",
       "      <th>0</th>\n",
       "      <td>Has high school and/or college education</td>\n",
       "      <td>Men</td>\n",
       "      <td>26.063830</td>\n",
       "    </tr>\n",
       "    <tr>\n",
       "      <th>1</th>\n",
       "      <td>Has high school and/or college education</td>\n",
       "      <td>Women</td>\n",
       "      <td>626.500000</td>\n",
       "    </tr>\n",
       "    <tr>\n",
       "      <th>2</th>\n",
       "      <td>Has no high school or college education</td>\n",
       "      <td>Men</td>\n",
       "      <td>6.323988</td>\n",
       "    </tr>\n",
       "    <tr>\n",
       "      <th>3</th>\n",
       "      <td>Has no high school or college education</td>\n",
       "      <td>Women</td>\n",
       "      <td>58.473684</td>\n",
       "    </tr>\n",
       "  </tbody>\n",
       "</table>\n",
       "</div>"
      ],
      "text/plain": [
       "                                  Education Gender  \\\n",
       "0  Has high school and/or college education    Men   \n",
       "1  Has high school and/or college education  Women   \n",
       "2   Has no high school or college education    Men   \n",
       "3   Has no high school or college education  Women   \n",
       "\n",
       "   Number of ghostings after 1st message  \n",
       "0                              26.063830  \n",
       "1                             626.500000  \n",
       "2                               6.323988  \n",
       "3                              58.473684  "
      ]
     },
     "execution_count": 90,
     "metadata": {},
     "output_type": "execute_result"
    }
   ],
   "source": [
    "df_edu_ghosting=df.groupby(['Education', 'Gender'])['Number of ghostings after 1st message'].agg('mean').reset_index()\n",
    "df_edu_ghosting"
   ]
  },
  {
   "cell_type": "code",
   "execution_count": 91,
   "id": "951bd7a5-71b9-4823-b907-fc5bc0f34aae",
   "metadata": {},
   "outputs": [],
   "source": [
    "df_edu_ghosting_new={'Education':['Has no high school or college education','Has high school and/or college education'],\n",
    "                                 'Men':[6.323988, 26.063830],\n",
    "                    'Women':[58.473684, 626.500000]}\n",
    "df_edu_ghosting_new_to_df=pd.DataFrame(df_edu_ghosting_new)"
   ]
  },
  {
   "cell_type": "code",
   "execution_count": 92,
   "id": "2a951f62-8875-424f-9c9a-45f7d10200e2",
   "metadata": {},
   "outputs": [
    {
     "data": {
      "text/html": [
       "<a href=\"data:file/csv;base64,RWR1Y2F0aW9uLE1lbixXb21lbg0KSGFzIG5vIGhpZ2ggc2Nob29sIG9yIGNvbGxlZ2UgZWR1Y2F0aW9uLDYuMzIzOTg4LDU4LjQ3MzY4NA0KSGFzIGhpZ2ggc2Nob29sIGFuZC9vciBjb2xsZWdlIGVkdWNhdGlvbiwyNi4wNjM4Myw2MjYuNQ0K\" download=\"df_edu_ghosting_new_to_df.csv\">Click here to download df_edu_ghosting_new_to_df.csv</a>"
      ],
      "text/plain": [
       "<IPython.core.display.HTML object>"
      ]
     },
     "metadata": {},
     "output_type": "display_data"
    }
   ],
   "source": [
    "df_edu_ghosting_new_to_df.to_csv('df_edu_ghosting_new_to_df', index=False)\n",
    "csv_content_clean = df_edu_ghosting_new_to_df.to_csv(index=False)\n",
    "b64_clean = base64.b64encode(csv_content_clean.encode()).decode()\n",
    "download_link_clean = f'<a href=\"data:file/csv;base64,{b64_clean}\" download=\"df_edu_ghosting_new_to_df.csv\">Click here to download df_edu_ghosting_new_to_df.csv</a>'\n",
    "display(HTML(download_link_clean))"
   ]
  },
  {
   "cell_type": "code",
   "execution_count": 93,
   "id": "7a9204ae-c87a-4aab-b1f1-309a3b44af0d",
   "metadata": {},
   "outputs": [
    {
     "data": {
      "text/html": [
       "<div>\n",
       "<style scoped>\n",
       "    .dataframe tbody tr th:only-of-type {\n",
       "        vertical-align: middle;\n",
       "    }\n",
       "\n",
       "    .dataframe tbody tr th {\n",
       "        vertical-align: top;\n",
       "    }\n",
       "\n",
       "    .dataframe thead th {\n",
       "        text-align: right;\n",
       "    }\n",
       "</style>\n",
       "<table border=\"1\" class=\"dataframe\">\n",
       "  <thead>\n",
       "    <tr style=\"text-align: right;\">\n",
       "      <th></th>\n",
       "      <th>Gender</th>\n",
       "      <th>Education</th>\n",
       "      <th>Count</th>\n",
       "    </tr>\n",
       "  </thead>\n",
       "  <tbody>\n",
       "    <tr>\n",
       "      <th>0</th>\n",
       "      <td>Men</td>\n",
       "      <td>Has high school and/or college education</td>\n",
       "      <td>47</td>\n",
       "    </tr>\n",
       "    <tr>\n",
       "      <th>1</th>\n",
       "      <td>Men</td>\n",
       "      <td>Has no high school or college education</td>\n",
       "      <td>321</td>\n",
       "    </tr>\n",
       "    <tr>\n",
       "      <th>2</th>\n",
       "      <td>Women</td>\n",
       "      <td>Has high school and/or college education</td>\n",
       "      <td>8</td>\n",
       "    </tr>\n",
       "    <tr>\n",
       "      <th>3</th>\n",
       "      <td>Women</td>\n",
       "      <td>Has no high school or college education</td>\n",
       "      <td>19</td>\n",
       "    </tr>\n",
       "  </tbody>\n",
       "</table>\n",
       "</div>"
      ],
      "text/plain": [
       "  Gender                                 Education  Count\n",
       "0    Men  Has high school and/or college education     47\n",
       "1    Men   Has no high school or college education    321\n",
       "2  Women  Has high school and/or college education      8\n",
       "3  Women   Has no high school or college education     19"
      ]
     },
     "execution_count": 93,
     "metadata": {},
     "output_type": "execute_result"
    }
   ],
   "source": [
    "df.groupby(['Gender', 'Education']).size().reset_index(name='Count')"
   ]
  },
  {
   "cell_type": "code",
   "execution_count": 94,
   "id": "5fbe7ec8-f12d-4d38-8400-dfbef548f17f",
   "metadata": {},
   "outputs": [],
   "source": [
    "data_edu={'Education':['Has high school and/or college education', 'Has no high school or college education'],\n",
    "          'Men':[47, 321],\n",
    "          'Women':[8,19]}\n",
    "data_edu_df=pd.DataFrame(data_edu)"
   ]
  },
  {
   "cell_type": "code",
   "execution_count": 95,
   "id": "e821515f-cf23-4f0e-a438-b583237295d8",
   "metadata": {},
   "outputs": [
    {
     "data": {
      "text/html": [
       "<div>\n",
       "<style scoped>\n",
       "    .dataframe tbody tr th:only-of-type {\n",
       "        vertical-align: middle;\n",
       "    }\n",
       "\n",
       "    .dataframe tbody tr th {\n",
       "        vertical-align: top;\n",
       "    }\n",
       "\n",
       "    .dataframe thead th {\n",
       "        text-align: right;\n",
       "    }\n",
       "</style>\n",
       "<table border=\"1\" class=\"dataframe\">\n",
       "  <thead>\n",
       "    <tr style=\"text-align: right;\">\n",
       "      <th></th>\n",
       "      <th>Education</th>\n",
       "      <th>Men</th>\n",
       "      <th>Women</th>\n",
       "    </tr>\n",
       "  </thead>\n",
       "  <tbody>\n",
       "    <tr>\n",
       "      <th>0</th>\n",
       "      <td>Has high school and/or college education</td>\n",
       "      <td>47</td>\n",
       "      <td>8</td>\n",
       "    </tr>\n",
       "    <tr>\n",
       "      <th>1</th>\n",
       "      <td>Has no high school or college education</td>\n",
       "      <td>321</td>\n",
       "      <td>19</td>\n",
       "    </tr>\n",
       "  </tbody>\n",
       "</table>\n",
       "</div>"
      ],
      "text/plain": [
       "                                  Education  Men  Women\n",
       "0  Has high school and/or college education   47      8\n",
       "1   Has no high school or college education  321     19"
      ]
     },
     "execution_count": 95,
     "metadata": {},
     "output_type": "execute_result"
    }
   ],
   "source": [
    "data_edu_df"
   ]
  },
  {
   "cell_type": "code",
   "execution_count": 96,
   "id": "41cc7505-43fb-4a91-9dc5-5d9a912e535f",
   "metadata": {},
   "outputs": [
    {
     "data": {
      "text/html": [
       "<a href=\"data:file/csv;base64,RWR1Y2F0aW9uLE1lbixXb21lbg0KSGFzIGhpZ2ggc2Nob29sIGFuZC9vciBjb2xsZWdlIGVkdWNhdGlvbiw0Nyw4DQpIYXMgbm8gaGlnaCBzY2hvb2wgb3IgY29sbGVnZSBlZHVjYXRpb24sMzIxLDE5DQo=\" download=\"data_edu_df.csv\">Click here to download data_edu_df.csv</a>"
      ],
      "text/plain": [
       "<IPython.core.display.HTML object>"
      ]
     },
     "metadata": {},
     "output_type": "display_data"
    }
   ],
   "source": [
    "data_edu_df.to_csv('data_edu_df', index=False)\n",
    "csv_content_clean = data_edu_df.to_csv(index=False)\n",
    "b64_clean = base64.b64encode(csv_content_clean.encode()).decode()\n",
    "download_link_clean = f'<a href=\"data:file/csv;base64,{b64_clean}\" download=\"data_edu_df.csv\">Click here to download data_edu_df.csv</a>'\n",
    "display(HTML(download_link_clean))"
   ]
  },
  {
   "cell_type": "code",
   "execution_count": 97,
   "id": "a28695b8-fbd5-43c5-bfaf-9fa9cd397a64",
   "metadata": {},
   "outputs": [],
   "source": [
    "df_interest=df.groupby(['Country','Interests in gender']).size().reset_index(name='Count')"
   ]
  },
  {
   "cell_type": "code",
   "execution_count": 98,
   "id": "44574a02-b369-4577-b1b9-fa89c8e9451f",
   "metadata": {},
   "outputs": [
    {
     "name": "stdout",
     "output_type": "stream",
     "text": [
      "Final df_map with Total Count and Proportion:\n",
      "           Country        Interests in gender  Count  Total_Count  Proportion\n",
      "0          Austria            Interest in Men      3           14      0.2143\n",
      "1          Austria  Interest in Men and Women      1           14      0.0714\n",
      "2          Austria          Interest in Women     10           14     10.0000\n",
      "3          Belarus          Interest in Women      1            1      0.0625\n",
      "4          Belgium  Interest in Men and Women      1           16      1.0000\n",
      "5          Belgium          Interest in Women     15           16      7.5000\n",
      "6         Bulgaria          Interest in Women      1            1      0.0909\n",
      "7          Croatia          Interest in Women      2            2      0.1111\n",
      "8          Czechia          Interest in Women     11           11      0.6111\n",
      "9          Denmark            Interest in Men      3           18      1.0000\n",
      "10         Denmark  Interest in Men and Women      1           18      0.0333\n",
      "11         Denmark          Interest in Women     14           18      0.4667\n",
      "12         Estonia          Interest in Women      3            3      0.1304\n",
      "13         Finland            Interest in Men      5           30      0.2174\n",
      "14         Finland  Interest in Men and Women      1           30      0.0182\n",
      "15         Finland          Interest in Women     24           30      0.4364\n",
      "16          France            Interest in Men      2           23      1.0000\n",
      "17          France  Interest in Men and Women      1           23      0.1429\n",
      "18          France          Interest in Women     20           23      2.8571\n",
      "19         Germany            Interest in Men      5           55      5.0000\n",
      "20         Germany  Interest in Men and Women      2           55      0.1818\n",
      "21         Germany          Interest in Women     48           55      2.8235\n",
      "22          Greece          Interest in Women      2            2      0.6667\n",
      "23         Hungary            Interest in Men      1            7      1.0000\n",
      "24         Hungary          Interest in Women      6            7      0.2727\n",
      "25         Iceland          Interest in Women      1            1      0.0455\n",
      "26         Ireland          Interest in Women     11           11      1.3750\n",
      "27           Italy          Interest in Women     17           17      2.1250\n",
      "28       Lithuania          Interest in Women      3            3      0.1250\n",
      "29      Luxembourg          Interest in Women      1            1      0.0417\n",
      "30     Netherlands            Interest in Men      2           22      0.5000\n",
      "31     Netherlands  Interest in Men and Women      1           22      0.1250\n",
      "32     Netherlands          Interest in Women     19           22      6.3333\n",
      "33          Norway            Interest in Men      1            8      0.3333\n",
      "34          Norway          Interest in Women      7            8      2.3333\n",
      "35          Poland            Interest in Men      2           24      0.1333\n",
      "36          Poland          Interest in Women     22           24      0.8800\n",
      "37        Portugal          Interest in Women      4            4      0.2222\n",
      "38         Romania          Interest in Women      8            8      0.4444\n",
      "39          Russia          Interest in Women      3            3      0.7500\n",
      "40        Slovakia          Interest in Women      3            3      0.0667\n",
      "41           Spain          Interest in Women     15           15      0.3333\n",
      "42          Sweden  Interest in Men and Women      1           25         NaN\n",
      "43          Sweden          Interest in Women     24           25         NaN\n",
      "44     Switzerland            Interest in Men      1           18         NaN\n",
      "45     Switzerland          Interest in Women     17           18         NaN\n",
      "46         Ukraine          Interest in Women      4            4         NaN\n",
      "47  United Kingdom            Interest in Men      3           45         NaN\n",
      "48  United Kingdom  Interest in Men and Women      4           45         NaN\n",
      "49  United Kingdom          Interest in Women     38           45         NaN\n",
      "--------------------------------------------------\n"
     ]
    }
   ],
   "source": [
    "df_interest['Total_Count'] = df_interest.groupby('Country')['Count'].transform('sum')\n",
    "\n",
    "# 3. Calculate the proportion of the gender count relative to the country's total count.\n",
    "# The resulting 'Proportion' value in a row ALWAYS corresponds to the 'Gender'\n",
    "# in that same row (e.g., if the row has 'F', the proportion is for Females).\n",
    "df_interest['Proportion'] = df_interest['Count'] / df_proportion['Total_Count']\n",
    "\n",
    "# 4. Format the Proportion column for clean display (optional, but helpful).\n",
    "df_interest['Proportion'] = df_interest['Proportion'].round(4)\n",
    "\n",
    "\n",
    "print(\"Final df_map with Total Count and Proportion:\")\n",
    "print(df_interest)\n",
    "print(\"-\" * 50)\n",
    "\n",
    "# Example output for United States (F=40, M=80):\n",
    "# Total = 120\n",
    "# F Proportion = 40/120 = 0.3333\n",
    "# M Proportion = 80/120 = 0.6667\n"
   ]
  },
  {
   "cell_type": "code",
   "execution_count": 99,
   "id": "805fba42-5937-46d2-b95c-92fd69a2d156",
   "metadata": {},
   "outputs": [
    {
     "data": {
      "text/plain": [
       "array(['Austria', 'Belarus', 'Belgium', 'Bulgaria', 'Croatia', 'Czechia',\n",
       "       'Denmark', 'Estonia', 'Finland', 'France', 'Germany', 'Greece',\n",
       "       'Hungary', 'Iceland', 'Ireland'], dtype=object)"
      ]
     },
     "execution_count": 99,
     "metadata": {},
     "output_type": "execute_result"
    }
   ],
   "source": [
    "df_countries_matches=df.groupby('Country')['Number of matches'].agg('mean').reset_index().head(15)\n",
    "df_countries_matches['Country'].unique()"
   ]
  },
  {
   "cell_type": "code",
   "execution_count": 100,
   "id": "d0fd18f4-c278-4c80-9bb3-e78959ccfc30",
   "metadata": {},
   "outputs": [
    {
     "data": {
      "text/plain": [
       "array(['Austria', 'Belarus', 'Belgium', 'Bulgaria', 'Croatia', 'Czechia',\n",
       "       'Denmark', 'Estonia', 'Finland', 'France', 'Germany', 'Greece',\n",
       "       'Hungary', 'Iceland', 'Ireland'], dtype=object)"
      ]
     },
     "execution_count": 100,
     "metadata": {},
     "output_type": "execute_result"
    }
   ],
   "source": [
    "df_countries_conv=df.groupby('Country')['Number of conversations'].agg('mean').reset_index().head(15)\n",
    "df_countries_conv['Country'].unique()"
   ]
  },
  {
   "cell_type": "code",
   "execution_count": 101,
   "id": "a4c713fb-2a35-446e-ade2-c7d14f9066e0",
   "metadata": {},
   "outputs": [
    {
     "data": {
      "text/html": [
       "<div>\n",
       "<style scoped>\n",
       "    .dataframe tbody tr th:only-of-type {\n",
       "        vertical-align: middle;\n",
       "    }\n",
       "\n",
       "    .dataframe tbody tr th {\n",
       "        vertical-align: top;\n",
       "    }\n",
       "\n",
       "    .dataframe thead th {\n",
       "        text-align: right;\n",
       "    }\n",
       "</style>\n",
       "<table border=\"1\" class=\"dataframe\">\n",
       "  <thead>\n",
       "    <tr style=\"text-align: right;\">\n",
       "      <th></th>\n",
       "      <th>Country</th>\n",
       "      <th>Interests in gender</th>\n",
       "      <th>Count</th>\n",
       "    </tr>\n",
       "  </thead>\n",
       "  <tbody>\n",
       "    <tr>\n",
       "      <th>0</th>\n",
       "      <td>Austria</td>\n",
       "      <td>Interest in Men</td>\n",
       "      <td>3</td>\n",
       "    </tr>\n",
       "    <tr>\n",
       "      <th>1</th>\n",
       "      <td>Austria</td>\n",
       "      <td>Interest in Men and Women</td>\n",
       "      <td>1</td>\n",
       "    </tr>\n",
       "    <tr>\n",
       "      <th>2</th>\n",
       "      <td>Austria</td>\n",
       "      <td>Interest in Women</td>\n",
       "      <td>10</td>\n",
       "    </tr>\n",
       "    <tr>\n",
       "      <th>3</th>\n",
       "      <td>Belarus</td>\n",
       "      <td>Interest in Women</td>\n",
       "      <td>1</td>\n",
       "    </tr>\n",
       "    <tr>\n",
       "      <th>4</th>\n",
       "      <td>Belgium</td>\n",
       "      <td>Interest in Men and Women</td>\n",
       "      <td>1</td>\n",
       "    </tr>\n",
       "    <tr>\n",
       "      <th>5</th>\n",
       "      <td>Belgium</td>\n",
       "      <td>Interest in Women</td>\n",
       "      <td>15</td>\n",
       "    </tr>\n",
       "    <tr>\n",
       "      <th>6</th>\n",
       "      <td>Bulgaria</td>\n",
       "      <td>Interest in Women</td>\n",
       "      <td>1</td>\n",
       "    </tr>\n",
       "    <tr>\n",
       "      <th>7</th>\n",
       "      <td>Croatia</td>\n",
       "      <td>Interest in Women</td>\n",
       "      <td>2</td>\n",
       "    </tr>\n",
       "    <tr>\n",
       "      <th>8</th>\n",
       "      <td>Czechia</td>\n",
       "      <td>Interest in Women</td>\n",
       "      <td>11</td>\n",
       "    </tr>\n",
       "    <tr>\n",
       "      <th>9</th>\n",
       "      <td>Denmark</td>\n",
       "      <td>Interest in Men</td>\n",
       "      <td>3</td>\n",
       "    </tr>\n",
       "    <tr>\n",
       "      <th>10</th>\n",
       "      <td>Denmark</td>\n",
       "      <td>Interest in Men and Women</td>\n",
       "      <td>1</td>\n",
       "    </tr>\n",
       "    <tr>\n",
       "      <th>11</th>\n",
       "      <td>Denmark</td>\n",
       "      <td>Interest in Women</td>\n",
       "      <td>14</td>\n",
       "    </tr>\n",
       "    <tr>\n",
       "      <th>12</th>\n",
       "      <td>Estonia</td>\n",
       "      <td>Interest in Women</td>\n",
       "      <td>3</td>\n",
       "    </tr>\n",
       "    <tr>\n",
       "      <th>13</th>\n",
       "      <td>Finland</td>\n",
       "      <td>Interest in Men</td>\n",
       "      <td>5</td>\n",
       "    </tr>\n",
       "    <tr>\n",
       "      <th>14</th>\n",
       "      <td>Finland</td>\n",
       "      <td>Interest in Men and Women</td>\n",
       "      <td>1</td>\n",
       "    </tr>\n",
       "    <tr>\n",
       "      <th>15</th>\n",
       "      <td>Finland</td>\n",
       "      <td>Interest in Women</td>\n",
       "      <td>24</td>\n",
       "    </tr>\n",
       "    <tr>\n",
       "      <th>16</th>\n",
       "      <td>France</td>\n",
       "      <td>Interest in Men</td>\n",
       "      <td>2</td>\n",
       "    </tr>\n",
       "    <tr>\n",
       "      <th>17</th>\n",
       "      <td>France</td>\n",
       "      <td>Interest in Men and Women</td>\n",
       "      <td>1</td>\n",
       "    </tr>\n",
       "    <tr>\n",
       "      <th>18</th>\n",
       "      <td>France</td>\n",
       "      <td>Interest in Women</td>\n",
       "      <td>20</td>\n",
       "    </tr>\n",
       "    <tr>\n",
       "      <th>19</th>\n",
       "      <td>Germany</td>\n",
       "      <td>Interest in Men</td>\n",
       "      <td>5</td>\n",
       "    </tr>\n",
       "    <tr>\n",
       "      <th>20</th>\n",
       "      <td>Germany</td>\n",
       "      <td>Interest in Men and Women</td>\n",
       "      <td>2</td>\n",
       "    </tr>\n",
       "    <tr>\n",
       "      <th>21</th>\n",
       "      <td>Germany</td>\n",
       "      <td>Interest in Women</td>\n",
       "      <td>48</td>\n",
       "    </tr>\n",
       "    <tr>\n",
       "      <th>22</th>\n",
       "      <td>Greece</td>\n",
       "      <td>Interest in Women</td>\n",
       "      <td>2</td>\n",
       "    </tr>\n",
       "    <tr>\n",
       "      <th>23</th>\n",
       "      <td>Hungary</td>\n",
       "      <td>Interest in Men</td>\n",
       "      <td>1</td>\n",
       "    </tr>\n",
       "    <tr>\n",
       "      <th>24</th>\n",
       "      <td>Hungary</td>\n",
       "      <td>Interest in Women</td>\n",
       "      <td>6</td>\n",
       "    </tr>\n",
       "    <tr>\n",
       "      <th>25</th>\n",
       "      <td>Iceland</td>\n",
       "      <td>Interest in Women</td>\n",
       "      <td>1</td>\n",
       "    </tr>\n",
       "    <tr>\n",
       "      <th>26</th>\n",
       "      <td>Ireland</td>\n",
       "      <td>Interest in Women</td>\n",
       "      <td>11</td>\n",
       "    </tr>\n",
       "  </tbody>\n",
       "</table>\n",
       "</div>"
      ],
      "text/plain": [
       "     Country        Interests in gender  Count\n",
       "0    Austria            Interest in Men      3\n",
       "1    Austria  Interest in Men and Women      1\n",
       "2    Austria          Interest in Women     10\n",
       "3    Belarus          Interest in Women      1\n",
       "4    Belgium  Interest in Men and Women      1\n",
       "5    Belgium          Interest in Women     15\n",
       "6   Bulgaria          Interest in Women      1\n",
       "7    Croatia          Interest in Women      2\n",
       "8    Czechia          Interest in Women     11\n",
       "9    Denmark            Interest in Men      3\n",
       "10   Denmark  Interest in Men and Women      1\n",
       "11   Denmark          Interest in Women     14\n",
       "12   Estonia          Interest in Women      3\n",
       "13   Finland            Interest in Men      5\n",
       "14   Finland  Interest in Men and Women      1\n",
       "15   Finland          Interest in Women     24\n",
       "16    France            Interest in Men      2\n",
       "17    France  Interest in Men and Women      1\n",
       "18    France          Interest in Women     20\n",
       "19   Germany            Interest in Men      5\n",
       "20   Germany  Interest in Men and Women      2\n",
       "21   Germany          Interest in Women     48\n",
       "22    Greece          Interest in Women      2\n",
       "23   Hungary            Interest in Men      1\n",
       "24   Hungary          Interest in Women      6\n",
       "25   Iceland          Interest in Women      1\n",
       "26   Ireland          Interest in Women     11"
      ]
     },
     "execution_count": 101,
     "metadata": {},
     "output_type": "execute_result"
    }
   ],
   "source": [
    "df_interest_countries=df[df['Country'].isin(['Austria', 'Belarus', 'Belgium', 'Bulgaria', 'Croatia', 'Czechia',\n",
    "       'Denmark', 'Estonia', 'Finland', 'France', 'Germany', 'Greece',\n",
    "       'Hungary', 'Iceland', 'Ireland'])].groupby(['Country', 'Interests in gender']).size().reset_index(name='Count')\n",
    "df_interest_countries"
   ]
  },
  {
   "cell_type": "code",
   "execution_count": 102,
   "id": "099e266a-46e2-4a81-ac0b-f6596b0124b9",
   "metadata": {},
   "outputs": [
    {
     "data": {
      "text/html": [
       "<html>\n",
       "<head><meta charset=\"utf-8\" /></head>\n",
       "<body>\n",
       "    <div>            <script src=\"https://cdnjs.cloudflare.com/ajax/libs/mathjax/2.7.5/MathJax.js?config=TeX-AMS-MML_SVG\"></script><script type=\"text/javascript\">if (window.MathJax && window.MathJax.Hub && window.MathJax.Hub.Config) {window.MathJax.Hub.Config({SVG: {font: \"STIX-Web\"}});}</script>                <script type=\"text/javascript\">window.PlotlyConfig = {MathJaxConfig: 'local'};</script>\n",
       "        <script charset=\"utf-8\" src=\"https://cdn.plot.ly/plotly-3.1.0.min.js\" integrity=\"sha256-Ei4740bWZhaUTQuD6q9yQlgVCMPBz6CZWhevDYPv93A=\" crossorigin=\"anonymous\"></script>                <div id=\"092f3bf3-8eb4-4fc4-888c-cc3bf0debd48\" class=\"plotly-graph-div\" style=\"height:500px; width:700px;\"></div>            <script type=\"text/javascript\">                window.PLOTLYENV=window.PLOTLYENV || {};                                if (document.getElementById(\"092f3bf3-8eb4-4fc4-888c-cc3bf0debd48\")) {                    Plotly.newPlot(                        \"092f3bf3-8eb4-4fc4-888c-cc3bf0debd48\",                        [{\"alignmentgroup\":\"True\",\"box\":{\"visible\":false},\"hovertemplate\":\"Interests in gender=%{y}\\u003cbr\\u003eNumber of matches=%{x}\\u003cextra\\u003e\\u003c\\u002fextra\\u003e\",\"legendgroup\":\"Interest in Women\",\"marker\":{\"color\":\"red\"},\"name\":\"Interest in Women\",\"offsetgroup\":\"Interest in Women\",\"orientation\":\"h\",\"points\":\"all\",\"scalegroup\":\"True\",\"showlegend\":true,\"x\":{\"dtype\":\"i2\",\"bdata\":\"UA1wAPQMWgUdAPkAjQD5ABYCkgA6AFUAaQMMAPIABgCEABEAFgDnB2EDEABQAEIAcQFSAVMABgByAj8ANQBUAAEAAAoAABwBAwCEAGEAYgFnAooA1AH1CCgAdgEYAAAATQBcAB4AtgBjAQ4AcQCGAWkA8wWIAGEA3QCXABwAPAB9ApUAIACrAgMACgFWA0wBGgAoAmQB9wEYAGEAjgAvAOMChAYBABAAMgBzAAsAMgDIALgAmgAPAGwAuQEEALEAAwD+AcEDEACBAAIABQAAAPoAEQBiAA8AKQASAJQAKwA4AAEAUQD\\u002fABEAXAA\\u002fAC4AJgCYANkBSwBNADQAMQBSAB4BLQAOAAAAAADiAAoBAACdAwAApgAXADcDHwAAADEAKABTAA8AfAAVAQAABgAAAAEAEhAAAAAJAAACAB8BNgAFABEAHAAAABsAngCZAXYAAACjAJgBAAAAAAAAyAAeAQAAOACwPv4AAAAAAC0AtgAhAMgCkAE4AFABMDPwBwAAfQAOADkAnwE3AAAAfAAAAPsAAgC7BAAAFABDAHIAigAWARQA\\u002fQACASMBMgsAACwAawS2AgAArAAAAHIAAAAPAEABqwCqANABBAAAABgAUwCFAQAA6ADyAQAAAAAAAGwAAgBSAJEATgCZBgAAAADTALAAAABpApwAVgAAAAAAjgB8AN0AAAATADUACABjAAAAEwAAADkAYwBhAAYAXQAXAAAAWAAAAAUAAgBXAAAAAAA9AgkAAAAxAAAAAADMAAAAAAADAAAA5AGmAc4ANQDmAwAAAQAAAAAAAAAAAA8AUwIAAAAAKgAAAEYBAABFBwAAAAAAALgASQBdAAAAAAAAAIEACAMAAAAAZQAAAAUAAAAAALYB5wAAAAAAOQBsAL0D8AYAAAAANgIAAAAATQABAAAAmAEAABYAPQB6AwAACwAAAHIC\"},\"x0\":\" \",\"xaxis\":\"x\",\"y\":[\"Interest in Women\",\"Interest in Women\",\"Interest in Women\",\"Interest in Women\",\"Interest in Women\",\"Interest in Women\",\"Interest in Women\",\"Interest in Women\",\"Interest in Women\",\"Interest in Women\",\"Interest in Women\",\"Interest in Women\",\"Interest in Women\",\"Interest in Women\",\"Interest in Women\",\"Interest in Women\",\"Interest in Women\",\"Interest in Women\",\"Interest in Women\",\"Interest in Women\",\"Interest in Women\",\"Interest in Women\",\"Interest in Women\",\"Interest in Women\",\"Interest in Women\",\"Interest in Women\",\"Interest in Women\",\"Interest in Women\",\"Interest in Women\",\"Interest in Women\",\"Interest in Women\",\"Interest in Women\",\"Interest in Women\",\"Interest in Women\",\"Interest in Women\",\"Interest in Women\",\"Interest in Women\",\"Interest in Women\",\"Interest in Women\",\"Interest in Women\",\"Interest in Women\",\"Interest in Women\",\"Interest in Women\",\"Interest in Women\",\"Interest in Women\",\"Interest in Women\",\"Interest in Women\",\"Interest in Women\",\"Interest in Women\",\"Interest in Women\",\"Interest in Women\",\"Interest in Women\",\"Interest in Women\",\"Interest in Women\",\"Interest in Women\",\"Interest in Women\",\"Interest in Women\",\"Interest in Women\",\"Interest in Women\",\"Interest in Women\",\"Interest in Women\",\"Interest in Women\",\"Interest in Women\",\"Interest in Women\",\"Interest in Women\",\"Interest in Women\",\"Interest in Women\",\"Interest in Women\",\"Interest in Women\",\"Interest in Women\",\"Interest in Women\",\"Interest in Women\",\"Interest in Women\",\"Interest in Women\",\"Interest in Women\",\"Interest in Women\",\"Interest in Women\",\"Interest in Women\",\"Interest in Women\",\"Interest in Women\",\"Interest in Women\",\"Interest in Women\",\"Interest in Women\",\"Interest in Women\",\"Interest in Women\",\"Interest in Women\",\"Interest in Women\",\"Interest in Women\",\"Interest in Women\",\"Interest in Women\",\"Interest in Women\",\"Interest in Women\",\"Interest in Women\",\"Interest in Women\",\"Interest in Women\",\"Interest in Women\",\"Interest in Women\",\"Interest in Women\",\"Interest in Women\",\"Interest in Women\",\"Interest in Women\",\"Interest in Women\",\"Interest in Women\",\"Interest in Women\",\"Interest in Women\",\"Interest in Women\",\"Interest in Women\",\"Interest in Women\",\"Interest in Women\",\"Interest in Women\",\"Interest in Women\",\"Interest in Women\",\"Interest in Women\",\"Interest in Women\",\"Interest in Women\",\"Interest in Women\",\"Interest in Women\",\"Interest in Women\",\"Interest in Women\",\"Interest in Women\",\"Interest in Women\",\"Interest in Women\",\"Interest in Women\",\"Interest in Women\",\"Interest in Women\",\"Interest in Women\",\"Interest in Women\",\"Interest in Women\",\"Interest in Women\",\"Interest in Women\",\"Interest in Women\",\"Interest in Women\",\"Interest in Women\",\"Interest in Women\",\"Interest in Women\",\"Interest in Women\",\"Interest in Women\",\"Interest in Women\",\"Interest in Women\",\"Interest in Women\",\"Interest in Women\",\"Interest in Women\",\"Interest in Women\",\"Interest in Women\",\"Interest in Women\",\"Interest in Women\",\"Interest in Women\",\"Interest in Women\",\"Interest in Women\",\"Interest in Women\",\"Interest in Women\",\"Interest in Women\",\"Interest in Women\",\"Interest in Women\",\"Interest in Women\",\"Interest in Women\",\"Interest in Women\",\"Interest in Women\",\"Interest in Women\",\"Interest in Women\",\"Interest in Women\",\"Interest in Women\",\"Interest in Women\",\"Interest in Women\",\"Interest in Women\",\"Interest in Women\",\"Interest in Women\",\"Interest in Women\",\"Interest in Women\",\"Interest in Women\",\"Interest in Women\",\"Interest in Women\",\"Interest in Women\",\"Interest in Women\",\"Interest in Women\",\"Interest in Women\",\"Interest in Women\",\"Interest in Women\",\"Interest in Women\",\"Interest in Women\",\"Interest in Women\",\"Interest in Women\",\"Interest in Women\",\"Interest in Women\",\"Interest in Women\",\"Interest in Women\",\"Interest in Women\",\"Interest in Women\",\"Interest in Women\",\"Interest in Women\",\"Interest in Women\",\"Interest in Women\",\"Interest in Women\",\"Interest in Women\",\"Interest in Women\",\"Interest in Women\",\"Interest in Women\",\"Interest in Women\",\"Interest in Women\",\"Interest in Women\",\"Interest in Women\",\"Interest in Women\",\"Interest in Women\",\"Interest in Women\",\"Interest in Women\",\"Interest in Women\",\"Interest in Women\",\"Interest in Women\",\"Interest in Women\",\"Interest in Women\",\"Interest in Women\",\"Interest in Women\",\"Interest in Women\",\"Interest in Women\",\"Interest in Women\",\"Interest in Women\",\"Interest in Women\",\"Interest in Women\",\"Interest in Women\",\"Interest in Women\",\"Interest in Women\",\"Interest in Women\",\"Interest in Women\",\"Interest in Women\",\"Interest in Women\",\"Interest in Women\",\"Interest in Women\",\"Interest in Women\",\"Interest in Women\",\"Interest in Women\",\"Interest in Women\",\"Interest in Women\",\"Interest in Women\",\"Interest in Women\",\"Interest in Women\",\"Interest in Women\",\"Interest in Women\",\"Interest in Women\",\"Interest in Women\",\"Interest in Women\",\"Interest in Women\",\"Interest in Women\",\"Interest in Women\",\"Interest in Women\",\"Interest in Women\",\"Interest in Women\",\"Interest in Women\",\"Interest in Women\",\"Interest in Women\",\"Interest in Women\",\"Interest in Women\",\"Interest in Women\",\"Interest in Women\",\"Interest in Women\",\"Interest in Women\",\"Interest in Women\",\"Interest in Women\",\"Interest in Women\",\"Interest in Women\",\"Interest in Women\",\"Interest in Women\",\"Interest in Women\",\"Interest in Women\",\"Interest in Women\",\"Interest in Women\",\"Interest in Women\",\"Interest in Women\",\"Interest in Women\",\"Interest in Women\",\"Interest in Women\",\"Interest in Women\",\"Interest in Women\",\"Interest in Women\",\"Interest in Women\",\"Interest in Women\",\"Interest in Women\",\"Interest in Women\",\"Interest in Women\",\"Interest in Women\",\"Interest in Women\",\"Interest in Women\",\"Interest in Women\",\"Interest in Women\",\"Interest in Women\",\"Interest in Women\",\"Interest in Women\",\"Interest in Women\",\"Interest in Women\",\"Interest in Women\",\"Interest in Women\",\"Interest in Women\",\"Interest in Women\",\"Interest in Women\",\"Interest in Women\",\"Interest in Women\",\"Interest in Women\",\"Interest in Women\",\"Interest in Women\",\"Interest in Women\",\"Interest in Women\",\"Interest in Women\",\"Interest in Women\",\"Interest in Women\",\"Interest in Women\",\"Interest in Women\",\"Interest in Women\",\"Interest in Women\",\"Interest in Women\",\"Interest in Women\",\"Interest in Women\",\"Interest in Women\",\"Interest in Women\",\"Interest in Women\",\"Interest in Women\",\"Interest in Women\",\"Interest in Women\",\"Interest in Women\",\"Interest in Women\",\"Interest in Women\",\"Interest in Women\",\"Interest in Women\",\"Interest in Women\",\"Interest in Women\",\"Interest in Women\",\"Interest in Women\",\"Interest in Women\",\"Interest in Women\",\"Interest in Women\",\"Interest in Women\",\"Interest in Women\",\"Interest in Women\",\"Interest in Women\",\"Interest in Women\",\"Interest in Women\",\"Interest in Women\",\"Interest in Women\",\"Interest in Women\",\"Interest in Women\",\"Interest in Women\",\"Interest in Women\",\"Interest in Women\",\"Interest in Women\",\"Interest in Women\",\"Interest in Women\",\"Interest in Women\",\"Interest in Women\",\"Interest in Women\",\"Interest in Women\",\"Interest in Women\",\"Interest in Women\",\"Interest in Women\",\"Interest in Women\",\"Interest in Women\",\"Interest in Women\"],\"y0\":\" \",\"yaxis\":\"y\",\"type\":\"violin\"},{\"alignmentgroup\":\"True\",\"box\":{\"visible\":false},\"hovertemplate\":\"Interests in gender=%{y}\\u003cbr\\u003eNumber of matches=%{x}\\u003cextra\\u003e\\u003c\\u002fextra\\u003e\",\"legendgroup\":\"Interest in Men\",\"marker\":{\"color\":\"blue\"},\"name\":\"Interest in Men\",\"offsetgroup\":\"Interest in Men\",\"orientation\":\"h\",\"points\":\"all\",\"scalegroup\":\"True\",\"showlegend\":true,\"x\":{\"dtype\":\"i2\",\"bdata\":\"cALRAhgAKwBEAEAAsgQaOuIAdgApB5ABiAMAAAAASwSmAAAANQZAA2wHOwIAALMBYwDhAeAAxAU=\"},\"x0\":\" \",\"xaxis\":\"x\",\"y\":[\"Interest in Men\",\"Interest in Men\",\"Interest in Men\",\"Interest in Men\",\"Interest in Men\",\"Interest in Men\",\"Interest in Men\",\"Interest in Men\",\"Interest in Men\",\"Interest in Men\",\"Interest in Men\",\"Interest in Men\",\"Interest in Men\",\"Interest in Men\",\"Interest in Men\",\"Interest in Men\",\"Interest in Men\",\"Interest in Men\",\"Interest in Men\",\"Interest in Men\",\"Interest in Men\",\"Interest in Men\",\"Interest in Men\",\"Interest in Men\",\"Interest in Men\",\"Interest in Men\",\"Interest in Men\",\"Interest in Men\"],\"y0\":\" \",\"yaxis\":\"y\",\"type\":\"violin\"},{\"alignmentgroup\":\"True\",\"box\":{\"visible\":false},\"hovertemplate\":\"Interests in gender=%{y}\\u003cbr\\u003eNumber of matches=%{x}\\u003cextra\\u003e\\u003c\\u002fextra\\u003e\",\"legendgroup\":\"Interest in Men and Women\",\"marker\":{\"color\":\"green\"},\"name\":\"Interest in Men and Women\",\"offsetgroup\":\"Interest in Men and Women\",\"orientation\":\"h\",\"points\":\"all\",\"scalegroup\":\"True\",\"showlegend\":true,\"x\":{\"dtype\":\"i2\",\"bdata\":\"cwCMC7EAQQNyBAAAAgCGE0MA+AC1AAsA\\u002fgI=\"},\"x0\":\" \",\"xaxis\":\"x\",\"y\":[\"Interest in Men and Women\",\"Interest in Men and Women\",\"Interest in Men and Women\",\"Interest in Men and Women\",\"Interest in Men and Women\",\"Interest in Men and Women\",\"Interest in Men and Women\",\"Interest in Men and Women\",\"Interest in Men and Women\",\"Interest in Men and Women\",\"Interest in Men and Women\",\"Interest in Men and Women\",\"Interest in Men and Women\"],\"y0\":\" \",\"yaxis\":\"y\",\"type\":\"violin\"}],                        {\"template\":{\"data\":{\"histogram2dcontour\":[{\"type\":\"histogram2dcontour\",\"colorbar\":{\"outlinewidth\":0,\"ticks\":\"\"},\"colorscale\":[[0.0,\"#0d0887\"],[0.1111111111111111,\"#46039f\"],[0.2222222222222222,\"#7201a8\"],[0.3333333333333333,\"#9c179e\"],[0.4444444444444444,\"#bd3786\"],[0.5555555555555556,\"#d8576b\"],[0.6666666666666666,\"#ed7953\"],[0.7777777777777778,\"#fb9f3a\"],[0.8888888888888888,\"#fdca26\"],[1.0,\"#f0f921\"]]}],\"choropleth\":[{\"type\":\"choropleth\",\"colorbar\":{\"outlinewidth\":0,\"ticks\":\"\"}}],\"histogram2d\":[{\"type\":\"histogram2d\",\"colorbar\":{\"outlinewidth\":0,\"ticks\":\"\"},\"colorscale\":[[0.0,\"#0d0887\"],[0.1111111111111111,\"#46039f\"],[0.2222222222222222,\"#7201a8\"],[0.3333333333333333,\"#9c179e\"],[0.4444444444444444,\"#bd3786\"],[0.5555555555555556,\"#d8576b\"],[0.6666666666666666,\"#ed7953\"],[0.7777777777777778,\"#fb9f3a\"],[0.8888888888888888,\"#fdca26\"],[1.0,\"#f0f921\"]]}],\"heatmap\":[{\"type\":\"heatmap\",\"colorbar\":{\"outlinewidth\":0,\"ticks\":\"\"},\"colorscale\":[[0.0,\"#0d0887\"],[0.1111111111111111,\"#46039f\"],[0.2222222222222222,\"#7201a8\"],[0.3333333333333333,\"#9c179e\"],[0.4444444444444444,\"#bd3786\"],[0.5555555555555556,\"#d8576b\"],[0.6666666666666666,\"#ed7953\"],[0.7777777777777778,\"#fb9f3a\"],[0.8888888888888888,\"#fdca26\"],[1.0,\"#f0f921\"]]}],\"contourcarpet\":[{\"type\":\"contourcarpet\",\"colorbar\":{\"outlinewidth\":0,\"ticks\":\"\"}}],\"contour\":[{\"type\":\"contour\",\"colorbar\":{\"outlinewidth\":0,\"ticks\":\"\"},\"colorscale\":[[0.0,\"#0d0887\"],[0.1111111111111111,\"#46039f\"],[0.2222222222222222,\"#7201a8\"],[0.3333333333333333,\"#9c179e\"],[0.4444444444444444,\"#bd3786\"],[0.5555555555555556,\"#d8576b\"],[0.6666666666666666,\"#ed7953\"],[0.7777777777777778,\"#fb9f3a\"],[0.8888888888888888,\"#fdca26\"],[1.0,\"#f0f921\"]]}],\"surface\":[{\"type\":\"surface\",\"colorbar\":{\"outlinewidth\":0,\"ticks\":\"\"},\"colorscale\":[[0.0,\"#0d0887\"],[0.1111111111111111,\"#46039f\"],[0.2222222222222222,\"#7201a8\"],[0.3333333333333333,\"#9c179e\"],[0.4444444444444444,\"#bd3786\"],[0.5555555555555556,\"#d8576b\"],[0.6666666666666666,\"#ed7953\"],[0.7777777777777778,\"#fb9f3a\"],[0.8888888888888888,\"#fdca26\"],[1.0,\"#f0f921\"]]}],\"mesh3d\":[{\"type\":\"mesh3d\",\"colorbar\":{\"outlinewidth\":0,\"ticks\":\"\"}}],\"scatter\":[{\"fillpattern\":{\"fillmode\":\"overlay\",\"size\":10,\"solidity\":0.2},\"type\":\"scatter\"}],\"parcoords\":[{\"type\":\"parcoords\",\"line\":{\"colorbar\":{\"outlinewidth\":0,\"ticks\":\"\"}}}],\"scatterpolargl\":[{\"type\":\"scatterpolargl\",\"marker\":{\"colorbar\":{\"outlinewidth\":0,\"ticks\":\"\"}}}],\"bar\":[{\"error_x\":{\"color\":\"#2a3f5f\"},\"error_y\":{\"color\":\"#2a3f5f\"},\"marker\":{\"line\":{\"color\":\"#E5ECF6\",\"width\":0.5},\"pattern\":{\"fillmode\":\"overlay\",\"size\":10,\"solidity\":0.2}},\"type\":\"bar\"}],\"scattergeo\":[{\"type\":\"scattergeo\",\"marker\":{\"colorbar\":{\"outlinewidth\":0,\"ticks\":\"\"}}}],\"scatterpolar\":[{\"type\":\"scatterpolar\",\"marker\":{\"colorbar\":{\"outlinewidth\":0,\"ticks\":\"\"}}}],\"histogram\":[{\"marker\":{\"pattern\":{\"fillmode\":\"overlay\",\"size\":10,\"solidity\":0.2}},\"type\":\"histogram\"}],\"scattergl\":[{\"type\":\"scattergl\",\"marker\":{\"colorbar\":{\"outlinewidth\":0,\"ticks\":\"\"}}}],\"scatter3d\":[{\"type\":\"scatter3d\",\"line\":{\"colorbar\":{\"outlinewidth\":0,\"ticks\":\"\"}},\"marker\":{\"colorbar\":{\"outlinewidth\":0,\"ticks\":\"\"}}}],\"scattermap\":[{\"type\":\"scattermap\",\"marker\":{\"colorbar\":{\"outlinewidth\":0,\"ticks\":\"\"}}}],\"scattermapbox\":[{\"type\":\"scattermapbox\",\"marker\":{\"colorbar\":{\"outlinewidth\":0,\"ticks\":\"\"}}}],\"scatterternary\":[{\"type\":\"scatterternary\",\"marker\":{\"colorbar\":{\"outlinewidth\":0,\"ticks\":\"\"}}}],\"scattercarpet\":[{\"type\":\"scattercarpet\",\"marker\":{\"colorbar\":{\"outlinewidth\":0,\"ticks\":\"\"}}}],\"carpet\":[{\"aaxis\":{\"endlinecolor\":\"#2a3f5f\",\"gridcolor\":\"white\",\"linecolor\":\"white\",\"minorgridcolor\":\"white\",\"startlinecolor\":\"#2a3f5f\"},\"baxis\":{\"endlinecolor\":\"#2a3f5f\",\"gridcolor\":\"white\",\"linecolor\":\"white\",\"minorgridcolor\":\"white\",\"startlinecolor\":\"#2a3f5f\"},\"type\":\"carpet\"}],\"table\":[{\"cells\":{\"fill\":{\"color\":\"#EBF0F8\"},\"line\":{\"color\":\"white\"}},\"header\":{\"fill\":{\"color\":\"#C8D4E3\"},\"line\":{\"color\":\"white\"}},\"type\":\"table\"}],\"barpolar\":[{\"marker\":{\"line\":{\"color\":\"#E5ECF6\",\"width\":0.5},\"pattern\":{\"fillmode\":\"overlay\",\"size\":10,\"solidity\":0.2}},\"type\":\"barpolar\"}],\"pie\":[{\"automargin\":true,\"type\":\"pie\"}]},\"layout\":{\"autotypenumbers\":\"strict\",\"colorway\":[\"#636efa\",\"#EF553B\",\"#00cc96\",\"#ab63fa\",\"#FFA15A\",\"#19d3f3\",\"#FF6692\",\"#B6E880\",\"#FF97FF\",\"#FECB52\"],\"font\":{\"color\":\"#2a3f5f\"},\"hovermode\":\"closest\",\"hoverlabel\":{\"align\":\"left\"},\"paper_bgcolor\":\"white\",\"plot_bgcolor\":\"#E5ECF6\",\"polar\":{\"bgcolor\":\"#E5ECF6\",\"angularaxis\":{\"gridcolor\":\"white\",\"linecolor\":\"white\",\"ticks\":\"\"},\"radialaxis\":{\"gridcolor\":\"white\",\"linecolor\":\"white\",\"ticks\":\"\"}},\"ternary\":{\"bgcolor\":\"#E5ECF6\",\"aaxis\":{\"gridcolor\":\"white\",\"linecolor\":\"white\",\"ticks\":\"\"},\"baxis\":{\"gridcolor\":\"white\",\"linecolor\":\"white\",\"ticks\":\"\"},\"caxis\":{\"gridcolor\":\"white\",\"linecolor\":\"white\",\"ticks\":\"\"}},\"coloraxis\":{\"colorbar\":{\"outlinewidth\":0,\"ticks\":\"\"}},\"colorscale\":{\"sequential\":[[0.0,\"#0d0887\"],[0.1111111111111111,\"#46039f\"],[0.2222222222222222,\"#7201a8\"],[0.3333333333333333,\"#9c179e\"],[0.4444444444444444,\"#bd3786\"],[0.5555555555555556,\"#d8576b\"],[0.6666666666666666,\"#ed7953\"],[0.7777777777777778,\"#fb9f3a\"],[0.8888888888888888,\"#fdca26\"],[1.0,\"#f0f921\"]],\"sequentialminus\":[[0.0,\"#0d0887\"],[0.1111111111111111,\"#46039f\"],[0.2222222222222222,\"#7201a8\"],[0.3333333333333333,\"#9c179e\"],[0.4444444444444444,\"#bd3786\"],[0.5555555555555556,\"#d8576b\"],[0.6666666666666666,\"#ed7953\"],[0.7777777777777778,\"#fb9f3a\"],[0.8888888888888888,\"#fdca26\"],[1.0,\"#f0f921\"]],\"diverging\":[[0,\"#8e0152\"],[0.1,\"#c51b7d\"],[0.2,\"#de77ae\"],[0.3,\"#f1b6da\"],[0.4,\"#fde0ef\"],[0.5,\"#f7f7f7\"],[0.6,\"#e6f5d0\"],[0.7,\"#b8e186\"],[0.8,\"#7fbc41\"],[0.9,\"#4d9221\"],[1,\"#276419\"]]},\"xaxis\":{\"gridcolor\":\"white\",\"linecolor\":\"white\",\"ticks\":\"\",\"title\":{\"standoff\":15},\"zerolinecolor\":\"white\",\"automargin\":true,\"zerolinewidth\":2},\"yaxis\":{\"gridcolor\":\"white\",\"linecolor\":\"white\",\"ticks\":\"\",\"title\":{\"standoff\":15},\"zerolinecolor\":\"white\",\"automargin\":true,\"zerolinewidth\":2},\"scene\":{\"xaxis\":{\"backgroundcolor\":\"#E5ECF6\",\"gridcolor\":\"white\",\"linecolor\":\"white\",\"showbackground\":true,\"ticks\":\"\",\"zerolinecolor\":\"white\",\"gridwidth\":2},\"yaxis\":{\"backgroundcolor\":\"#E5ECF6\",\"gridcolor\":\"white\",\"linecolor\":\"white\",\"showbackground\":true,\"ticks\":\"\",\"zerolinecolor\":\"white\",\"gridwidth\":2},\"zaxis\":{\"backgroundcolor\":\"#E5ECF6\",\"gridcolor\":\"white\",\"linecolor\":\"white\",\"showbackground\":true,\"ticks\":\"\",\"zerolinecolor\":\"white\",\"gridwidth\":2}},\"shapedefaults\":{\"line\":{\"color\":\"#2a3f5f\"}},\"annotationdefaults\":{\"arrowcolor\":\"#2a3f5f\",\"arrowhead\":0,\"arrowwidth\":1},\"geo\":{\"bgcolor\":\"white\",\"landcolor\":\"#E5ECF6\",\"subunitcolor\":\"white\",\"showland\":true,\"showlakes\":true,\"lakecolor\":\"white\"},\"title\":{\"x\":0.05},\"mapbox\":{\"style\":\"light\"}}},\"xaxis\":{\"anchor\":\"y\",\"domain\":[0.0,1.0],\"title\":{\"text\":\"Number of matches\"},\"tickfont\":{\"weight\":\"bold\",\"size\":10}},\"yaxis\":{\"anchor\":\"x\",\"domain\":[0.0,1.0],\"title\":{\"text\":\"Interests in gender\"},\"categoryorder\":\"array\",\"categoryarray\":[\"Interest in Men and Women\",\"Interest in Men\",\"Interest in Women\"],\"tickfont\":{\"weight\":\"bold\",\"size\":12}},\"legend\":{\"title\":{\"text\":\"Interests in gender\"},\"tracegroupgap\":0},\"margin\":{\"t\":60},\"violinmode\":\"overlay\",\"title\":{\"font\":{\"size\":18,\"weight\":\"bold\"},\"text\":\"Number of matches by the Interests in gender\",\"x\":0.5},\"showlegend\":true,\"width\":700,\"height\":500},                        {\"responsive\": true}                    ).then(function(){\n",
       "                            \n",
       "var gd = document.getElementById('092f3bf3-8eb4-4fc4-888c-cc3bf0debd48');\n",
       "var x = new MutationObserver(function (mutations, observer) {{\n",
       "        var display = window.getComputedStyle(gd).display;\n",
       "        if (!display || display === 'none') {{\n",
       "            console.log([gd, 'removed!']);\n",
       "            Plotly.purge(gd);\n",
       "            observer.disconnect();\n",
       "        }}\n",
       "}});\n",
       "\n",
       "// Listen for the removal of the full notebook cells\n",
       "var notebookContainer = gd.closest('#notebook-container');\n",
       "if (notebookContainer) {{\n",
       "    x.observe(notebookContainer, {childList: true});\n",
       "}}\n",
       "\n",
       "// Listen for the clearing of the current output cell\n",
       "var outputEl = gd.closest('.output');\n",
       "if (outputEl) {{\n",
       "    x.observe(outputEl, {childList: true});\n",
       "}}\n",
       "\n",
       "                        })                };            </script>        </div>\n",
       "</body>\n",
       "</html>"
      ]
     },
     "metadata": {},
     "output_type": "display_data"
    }
   ],
   "source": [
    "fig = px.violin(\n",
    "    df,\n",
    "    y='Interests in gender',\n",
    "    x='Number of matches',\n",
    "    color='Interests in gender', \n",
    "    points='all',\n",
    "    color_discrete_map=custom_color_map_interest,\n",
    "    box=False) # Show a box plot inside the violin\n",
    "\n",
    "fig.update_xaxes(\n",
    "    tickfont_weight='bold',  # Make the numbers bold\n",
    "    tickfont_size=10)        # Adjust the font size\n",
    "fig.update_yaxes(\n",
    "    tickfont_weight='bold',  # Make the numbers bold\n",
    "    tickfont_size=12)\n",
    "fig.update_layout(title_font=dict(size=18, weight='bold'), showlegend=True,\n",
    "    title_text='Number of matches by the Interests in gender',\n",
    "    title_x=0.5, # Center the title\n",
    "    xaxis_title='Number of matches',\n",
    "    width=700, # Set the width of the plot\n",
    "    height=500,\n",
    "    yaxis_title='Interests in gender' # Set the plot background to white\n",
    ")"
   ]
  },
  {
   "cell_type": "code",
   "execution_count": 103,
   "id": "86775c34-1370-4a1e-a776-530243eda749",
   "metadata": {},
   "outputs": [
    {
     "data": {
      "text/html": [
       "<html>\n",
       "<head><meta charset=\"utf-8\" /></head>\n",
       "<body>\n",
       "    <div>            <script src=\"https://cdnjs.cloudflare.com/ajax/libs/mathjax/2.7.5/MathJax.js?config=TeX-AMS-MML_SVG\"></script><script type=\"text/javascript\">if (window.MathJax && window.MathJax.Hub && window.MathJax.Hub.Config) {window.MathJax.Hub.Config({SVG: {font: \"STIX-Web\"}});}</script>                <script type=\"text/javascript\">window.PlotlyConfig = {MathJaxConfig: 'local'};</script>\n",
       "        <script charset=\"utf-8\" src=\"https://cdn.plot.ly/plotly-3.1.0.min.js\" integrity=\"sha256-Ei4740bWZhaUTQuD6q9yQlgVCMPBz6CZWhevDYPv93A=\" crossorigin=\"anonymous\"></script>                <div id=\"182a1fa3-6271-4fc6-b094-dad203020875\" class=\"plotly-graph-div\" style=\"height:525px; width:100%;\"></div>            <script type=\"text/javascript\">                window.PLOTLYENV=window.PLOTLYENV || {};                                if (document.getElementById(\"182a1fa3-6271-4fc6-b094-dad203020875\")) {                    Plotly.newPlot(                        \"182a1fa3-6271-4fc6-b094-dad203020875\",                        [{\"alignmentgroup\":\"True\",\"hovertemplate\":\"Interests in gender=Interest in Men\\u003cbr\\u003eCount=%{x}\\u003cbr\\u003eCountry=%{y}\\u003cextra\\u003e\\u003c\\u002fextra\\u003e\",\"legendgroup\":\"Interest in Men\",\"marker\":{\"color\":\"blue\",\"pattern\":{\"shape\":\"\"}},\"name\":\"Interest in Men\",\"offsetgroup\":\"Interest in Men\",\"orientation\":\"h\",\"showlegend\":true,\"textposition\":\"auto\",\"x\":{\"dtype\":\"i1\",\"bdata\":\"AwMFAgUB\"},\"xaxis\":\"x\",\"y\":[\"Austria\",\"Denmark\",\"Finland\",\"France\",\"Germany\",\"Hungary\"],\"yaxis\":\"y\",\"type\":\"bar\"},{\"alignmentgroup\":\"True\",\"hovertemplate\":\"Interests in gender=Interest in Men and Women\\u003cbr\\u003eCount=%{x}\\u003cbr\\u003eCountry=%{y}\\u003cextra\\u003e\\u003c\\u002fextra\\u003e\",\"legendgroup\":\"Interest in Men and Women\",\"marker\":{\"color\":\"green\",\"pattern\":{\"shape\":\"\"}},\"name\":\"Interest in Men and Women\",\"offsetgroup\":\"Interest in Men and Women\",\"orientation\":\"h\",\"showlegend\":true,\"textposition\":\"auto\",\"x\":{\"dtype\":\"i1\",\"bdata\":\"AQEBAQEC\"},\"xaxis\":\"x\",\"y\":[\"Austria\",\"Belgium\",\"Denmark\",\"Finland\",\"France\",\"Germany\"],\"yaxis\":\"y\",\"type\":\"bar\"},{\"alignmentgroup\":\"True\",\"hovertemplate\":\"Interests in gender=Interest in Women\\u003cbr\\u003eCount=%{x}\\u003cbr\\u003eCountry=%{y}\\u003cextra\\u003e\\u003c\\u002fextra\\u003e\",\"legendgroup\":\"Interest in Women\",\"marker\":{\"color\":\"red\",\"pattern\":{\"shape\":\"\"}},\"name\":\"Interest in Women\",\"offsetgroup\":\"Interest in Women\",\"orientation\":\"h\",\"showlegend\":true,\"textposition\":\"auto\",\"x\":{\"dtype\":\"i1\",\"bdata\":\"CgEPAQILDgMYFDACBgEL\"},\"xaxis\":\"x\",\"y\":[\"Austria\",\"Belarus\",\"Belgium\",\"Bulgaria\",\"Croatia\",\"Czechia\",\"Denmark\",\"Estonia\",\"Finland\",\"France\",\"Germany\",\"Greece\",\"Hungary\",\"Iceland\",\"Ireland\"],\"yaxis\":\"y\",\"type\":\"bar\"}],                        {\"template\":{\"data\":{\"histogram2dcontour\":[{\"type\":\"histogram2dcontour\",\"colorbar\":{\"outlinewidth\":0,\"ticks\":\"\"},\"colorscale\":[[0.0,\"#0d0887\"],[0.1111111111111111,\"#46039f\"],[0.2222222222222222,\"#7201a8\"],[0.3333333333333333,\"#9c179e\"],[0.4444444444444444,\"#bd3786\"],[0.5555555555555556,\"#d8576b\"],[0.6666666666666666,\"#ed7953\"],[0.7777777777777778,\"#fb9f3a\"],[0.8888888888888888,\"#fdca26\"],[1.0,\"#f0f921\"]]}],\"choropleth\":[{\"type\":\"choropleth\",\"colorbar\":{\"outlinewidth\":0,\"ticks\":\"\"}}],\"histogram2d\":[{\"type\":\"histogram2d\",\"colorbar\":{\"outlinewidth\":0,\"ticks\":\"\"},\"colorscale\":[[0.0,\"#0d0887\"],[0.1111111111111111,\"#46039f\"],[0.2222222222222222,\"#7201a8\"],[0.3333333333333333,\"#9c179e\"],[0.4444444444444444,\"#bd3786\"],[0.5555555555555556,\"#d8576b\"],[0.6666666666666666,\"#ed7953\"],[0.7777777777777778,\"#fb9f3a\"],[0.8888888888888888,\"#fdca26\"],[1.0,\"#f0f921\"]]}],\"heatmap\":[{\"type\":\"heatmap\",\"colorbar\":{\"outlinewidth\":0,\"ticks\":\"\"},\"colorscale\":[[0.0,\"#0d0887\"],[0.1111111111111111,\"#46039f\"],[0.2222222222222222,\"#7201a8\"],[0.3333333333333333,\"#9c179e\"],[0.4444444444444444,\"#bd3786\"],[0.5555555555555556,\"#d8576b\"],[0.6666666666666666,\"#ed7953\"],[0.7777777777777778,\"#fb9f3a\"],[0.8888888888888888,\"#fdca26\"],[1.0,\"#f0f921\"]]}],\"contourcarpet\":[{\"type\":\"contourcarpet\",\"colorbar\":{\"outlinewidth\":0,\"ticks\":\"\"}}],\"contour\":[{\"type\":\"contour\",\"colorbar\":{\"outlinewidth\":0,\"ticks\":\"\"},\"colorscale\":[[0.0,\"#0d0887\"],[0.1111111111111111,\"#46039f\"],[0.2222222222222222,\"#7201a8\"],[0.3333333333333333,\"#9c179e\"],[0.4444444444444444,\"#bd3786\"],[0.5555555555555556,\"#d8576b\"],[0.6666666666666666,\"#ed7953\"],[0.7777777777777778,\"#fb9f3a\"],[0.8888888888888888,\"#fdca26\"],[1.0,\"#f0f921\"]]}],\"surface\":[{\"type\":\"surface\",\"colorbar\":{\"outlinewidth\":0,\"ticks\":\"\"},\"colorscale\":[[0.0,\"#0d0887\"],[0.1111111111111111,\"#46039f\"],[0.2222222222222222,\"#7201a8\"],[0.3333333333333333,\"#9c179e\"],[0.4444444444444444,\"#bd3786\"],[0.5555555555555556,\"#d8576b\"],[0.6666666666666666,\"#ed7953\"],[0.7777777777777778,\"#fb9f3a\"],[0.8888888888888888,\"#fdca26\"],[1.0,\"#f0f921\"]]}],\"mesh3d\":[{\"type\":\"mesh3d\",\"colorbar\":{\"outlinewidth\":0,\"ticks\":\"\"}}],\"scatter\":[{\"fillpattern\":{\"fillmode\":\"overlay\",\"size\":10,\"solidity\":0.2},\"type\":\"scatter\"}],\"parcoords\":[{\"type\":\"parcoords\",\"line\":{\"colorbar\":{\"outlinewidth\":0,\"ticks\":\"\"}}}],\"scatterpolargl\":[{\"type\":\"scatterpolargl\",\"marker\":{\"colorbar\":{\"outlinewidth\":0,\"ticks\":\"\"}}}],\"bar\":[{\"error_x\":{\"color\":\"#2a3f5f\"},\"error_y\":{\"color\":\"#2a3f5f\"},\"marker\":{\"line\":{\"color\":\"#E5ECF6\",\"width\":0.5},\"pattern\":{\"fillmode\":\"overlay\",\"size\":10,\"solidity\":0.2}},\"type\":\"bar\"}],\"scattergeo\":[{\"type\":\"scattergeo\",\"marker\":{\"colorbar\":{\"outlinewidth\":0,\"ticks\":\"\"}}}],\"scatterpolar\":[{\"type\":\"scatterpolar\",\"marker\":{\"colorbar\":{\"outlinewidth\":0,\"ticks\":\"\"}}}],\"histogram\":[{\"marker\":{\"pattern\":{\"fillmode\":\"overlay\",\"size\":10,\"solidity\":0.2}},\"type\":\"histogram\"}],\"scattergl\":[{\"type\":\"scattergl\",\"marker\":{\"colorbar\":{\"outlinewidth\":0,\"ticks\":\"\"}}}],\"scatter3d\":[{\"type\":\"scatter3d\",\"line\":{\"colorbar\":{\"outlinewidth\":0,\"ticks\":\"\"}},\"marker\":{\"colorbar\":{\"outlinewidth\":0,\"ticks\":\"\"}}}],\"scattermap\":[{\"type\":\"scattermap\",\"marker\":{\"colorbar\":{\"outlinewidth\":0,\"ticks\":\"\"}}}],\"scattermapbox\":[{\"type\":\"scattermapbox\",\"marker\":{\"colorbar\":{\"outlinewidth\":0,\"ticks\":\"\"}}}],\"scatterternary\":[{\"type\":\"scatterternary\",\"marker\":{\"colorbar\":{\"outlinewidth\":0,\"ticks\":\"\"}}}],\"scattercarpet\":[{\"type\":\"scattercarpet\",\"marker\":{\"colorbar\":{\"outlinewidth\":0,\"ticks\":\"\"}}}],\"carpet\":[{\"aaxis\":{\"endlinecolor\":\"#2a3f5f\",\"gridcolor\":\"white\",\"linecolor\":\"white\",\"minorgridcolor\":\"white\",\"startlinecolor\":\"#2a3f5f\"},\"baxis\":{\"endlinecolor\":\"#2a3f5f\",\"gridcolor\":\"white\",\"linecolor\":\"white\",\"minorgridcolor\":\"white\",\"startlinecolor\":\"#2a3f5f\"},\"type\":\"carpet\"}],\"table\":[{\"cells\":{\"fill\":{\"color\":\"#EBF0F8\"},\"line\":{\"color\":\"white\"}},\"header\":{\"fill\":{\"color\":\"#C8D4E3\"},\"line\":{\"color\":\"white\"}},\"type\":\"table\"}],\"barpolar\":[{\"marker\":{\"line\":{\"color\":\"#E5ECF6\",\"width\":0.5},\"pattern\":{\"fillmode\":\"overlay\",\"size\":10,\"solidity\":0.2}},\"type\":\"barpolar\"}],\"pie\":[{\"automargin\":true,\"type\":\"pie\"}]},\"layout\":{\"autotypenumbers\":\"strict\",\"colorway\":[\"#636efa\",\"#EF553B\",\"#00cc96\",\"#ab63fa\",\"#FFA15A\",\"#19d3f3\",\"#FF6692\",\"#B6E880\",\"#FF97FF\",\"#FECB52\"],\"font\":{\"color\":\"#2a3f5f\"},\"hovermode\":\"closest\",\"hoverlabel\":{\"align\":\"left\"},\"paper_bgcolor\":\"white\",\"plot_bgcolor\":\"#E5ECF6\",\"polar\":{\"bgcolor\":\"#E5ECF6\",\"angularaxis\":{\"gridcolor\":\"white\",\"linecolor\":\"white\",\"ticks\":\"\"},\"radialaxis\":{\"gridcolor\":\"white\",\"linecolor\":\"white\",\"ticks\":\"\"}},\"ternary\":{\"bgcolor\":\"#E5ECF6\",\"aaxis\":{\"gridcolor\":\"white\",\"linecolor\":\"white\",\"ticks\":\"\"},\"baxis\":{\"gridcolor\":\"white\",\"linecolor\":\"white\",\"ticks\":\"\"},\"caxis\":{\"gridcolor\":\"white\",\"linecolor\":\"white\",\"ticks\":\"\"}},\"coloraxis\":{\"colorbar\":{\"outlinewidth\":0,\"ticks\":\"\"}},\"colorscale\":{\"sequential\":[[0.0,\"#0d0887\"],[0.1111111111111111,\"#46039f\"],[0.2222222222222222,\"#7201a8\"],[0.3333333333333333,\"#9c179e\"],[0.4444444444444444,\"#bd3786\"],[0.5555555555555556,\"#d8576b\"],[0.6666666666666666,\"#ed7953\"],[0.7777777777777778,\"#fb9f3a\"],[0.8888888888888888,\"#fdca26\"],[1.0,\"#f0f921\"]],\"sequentialminus\":[[0.0,\"#0d0887\"],[0.1111111111111111,\"#46039f\"],[0.2222222222222222,\"#7201a8\"],[0.3333333333333333,\"#9c179e\"],[0.4444444444444444,\"#bd3786\"],[0.5555555555555556,\"#d8576b\"],[0.6666666666666666,\"#ed7953\"],[0.7777777777777778,\"#fb9f3a\"],[0.8888888888888888,\"#fdca26\"],[1.0,\"#f0f921\"]],\"diverging\":[[0,\"#8e0152\"],[0.1,\"#c51b7d\"],[0.2,\"#de77ae\"],[0.3,\"#f1b6da\"],[0.4,\"#fde0ef\"],[0.5,\"#f7f7f7\"],[0.6,\"#e6f5d0\"],[0.7,\"#b8e186\"],[0.8,\"#7fbc41\"],[0.9,\"#4d9221\"],[1,\"#276419\"]]},\"xaxis\":{\"gridcolor\":\"white\",\"linecolor\":\"white\",\"ticks\":\"\",\"title\":{\"standoff\":15},\"zerolinecolor\":\"white\",\"automargin\":true,\"zerolinewidth\":2},\"yaxis\":{\"gridcolor\":\"white\",\"linecolor\":\"white\",\"ticks\":\"\",\"title\":{\"standoff\":15},\"zerolinecolor\":\"white\",\"automargin\":true,\"zerolinewidth\":2},\"scene\":{\"xaxis\":{\"backgroundcolor\":\"#E5ECF6\",\"gridcolor\":\"white\",\"linecolor\":\"white\",\"showbackground\":true,\"ticks\":\"\",\"zerolinecolor\":\"white\",\"gridwidth\":2},\"yaxis\":{\"backgroundcolor\":\"#E5ECF6\",\"gridcolor\":\"white\",\"linecolor\":\"white\",\"showbackground\":true,\"ticks\":\"\",\"zerolinecolor\":\"white\",\"gridwidth\":2},\"zaxis\":{\"backgroundcolor\":\"#E5ECF6\",\"gridcolor\":\"white\",\"linecolor\":\"white\",\"showbackground\":true,\"ticks\":\"\",\"zerolinecolor\":\"white\",\"gridwidth\":2}},\"shapedefaults\":{\"line\":{\"color\":\"#2a3f5f\"}},\"annotationdefaults\":{\"arrowcolor\":\"#2a3f5f\",\"arrowhead\":0,\"arrowwidth\":1},\"geo\":{\"bgcolor\":\"white\",\"landcolor\":\"#E5ECF6\",\"subunitcolor\":\"white\",\"showland\":true,\"showlakes\":true,\"lakecolor\":\"white\"},\"title\":{\"x\":0.05},\"mapbox\":{\"style\":\"light\"}}},\"xaxis\":{\"anchor\":\"y\",\"domain\":[0.0,1.0],\"title\":{\"text\":\"Count\"}},\"yaxis\":{\"anchor\":\"x\",\"domain\":[0.0,1.0],\"title\":{\"text\":\"Country\"}},\"legend\":{\"title\":{\"text\":\"Interests in gender\"},\"tracegroupgap\":0},\"title\":{\"text\":\"Top 15 countries with the highest amount of matches vs. the Interests in gender\"},\"barmode\":\"group\"},                        {\"responsive\": true}                    ).then(function(){\n",
       "                            \n",
       "var gd = document.getElementById('182a1fa3-6271-4fc6-b094-dad203020875');\n",
       "var x = new MutationObserver(function (mutations, observer) {{\n",
       "        var display = window.getComputedStyle(gd).display;\n",
       "        if (!display || display === 'none') {{\n",
       "            console.log([gd, 'removed!']);\n",
       "            Plotly.purge(gd);\n",
       "            observer.disconnect();\n",
       "        }}\n",
       "}});\n",
       "\n",
       "// Listen for the removal of the full notebook cells\n",
       "var notebookContainer = gd.closest('#notebook-container');\n",
       "if (notebookContainer) {{\n",
       "    x.observe(notebookContainer, {childList: true});\n",
       "}}\n",
       "\n",
       "// Listen for the clearing of the current output cell\n",
       "var outputEl = gd.closest('.output');\n",
       "if (outputEl) {{\n",
       "    x.observe(outputEl, {childList: true});\n",
       "}}\n",
       "\n",
       "                        })                };            </script>        </div>\n",
       "</body>\n",
       "</html>"
      ]
     },
     "metadata": {},
     "output_type": "display_data"
    }
   ],
   "source": [
    "fig=px.bar(df_interest_countries, y='Country', x='Count', color='Interests in gender',barmode='group', # Group the bars\n",
    "title='Top 15 countries with the highest amount of matches vs. the Interests in gender',\n",
    "color_discrete_map=custom_color_map_interest\n",
    ")\n",
    "fig.show()"
   ]
  },
  {
   "cell_type": "code",
   "execution_count": 104,
   "id": "7857f751-555b-42ee-ae5a-0b4207bf1788",
   "metadata": {},
   "outputs": [],
   "source": [
    "df_jobs_days=df[(df['Job title']!='Unknown')&\n",
    "(df['Job title']!='False')].groupby(['Job title','Average Conversation Length in Days'])['Number of matches'].agg('mean').sort_values(ascending=False).reset_index().head(15)"
   ]
  },
  {
   "cell_type": "code",
   "execution_count": 105,
   "id": "44b94d5d-428f-4ff9-b0d1-6abdaf962aac",
   "metadata": {},
   "outputs": [],
   "source": [
    "df_jobs_conv=df[(df['Job title']!='Unknown')&(df['Job title']!='False')].groupby(['Job title','Number of conversations'])['Number of matches'].agg('mean').sort_values(ascending=False).reset_index().head(15)"
   ]
  },
  {
   "cell_type": "code",
   "execution_count": 106,
   "id": "d5b21e06-f91d-4ea5-9f7e-5dbdebdb4508",
   "metadata": {},
   "outputs": [
    {
     "data": {
      "text/html": [
       "<html>\n",
       "<head><meta charset=\"utf-8\" /></head>\n",
       "<body>\n",
       "    <div>            <script src=\"https://cdnjs.cloudflare.com/ajax/libs/mathjax/2.7.5/MathJax.js?config=TeX-AMS-MML_SVG\"></script><script type=\"text/javascript\">if (window.MathJax && window.MathJax.Hub && window.MathJax.Hub.Config) {window.MathJax.Hub.Config({SVG: {font: \"STIX-Web\"}});}</script>                <script type=\"text/javascript\">window.PlotlyConfig = {MathJaxConfig: 'local'};</script>\n",
       "        <script charset=\"utf-8\" src=\"https://cdn.plot.ly/plotly-3.1.0.min.js\" integrity=\"sha256-Ei4740bWZhaUTQuD6q9yQlgVCMPBz6CZWhevDYPv93A=\" crossorigin=\"anonymous\"></script>                <div id=\"5261129b-9911-42cc-9e2a-58a0c2da2147\" class=\"plotly-graph-div\" style=\"height:525px; width:100%;\"></div>            <script type=\"text/javascript\">                window.PLOTLYENV=window.PLOTLYENV || {};                                if (document.getElementById(\"5261129b-9911-42cc-9e2a-58a0c2da2147\")) {                    Plotly.newPlot(                        \"5261129b-9911-42cc-9e2a-58a0c2da2147\",                        [{\"hovertemplate\":\"Average Conversation Length in Days=%{marker.color}\\u003cbr\\u003eJob title=%{y}\\u003cextra\\u003e\\u003c\\u002fextra\\u003e\",\"legendgroup\":\"\",\"marker\":{\"color\":{\"dtype\":\"f8\",\"bdata\":\"uB6F61G4vj\\u002fXo3A9Ctf3P+xRuB6F6\\u002f0\\u002fCtejcD0K\\u002fz+PwvUoXI8AQHE9CtejcANAAAAAAAAABkAAAAAAAAAIQOF6FK5H4QhAPQrXo3A9E0CamZmZmZkTQOxRuB6F6xhAAAAAAAAAHEDXo3A9CtccQArXo3A9CiJA\"},\"coloraxis\":\"coloraxis\",\"symbol\":\"circle\",\"size\":15},\"mode\":\"markers\",\"name\":\"\",\"orientation\":\"h\",\"showlegend\":false,\"x\":{\"dtype\":\"f8\",\"bdata\":\"uB6F61G4vj\\u002fXo3A9Ctf3P+xRuB6F6\\u002f0\\u002fCtejcD0K\\u002fz+PwvUoXI8AQHE9CtejcANAAAAAAAAABkAAAAAAAAAIQOF6FK5H4QhAPQrXo3A9E0CamZmZmZkTQOxRuB6F6xhAAAAAAAAAHEDXo3A9CtccQArXo3A9CiJA\"},\"xaxis\":\"x\",\"y\":[\"Energy trader\",\"Hedge fund quant trader\",\"Software engineer intern\",\"Emea project manager\",\"Product designer\",\"Works\",\"Intern\",\"Writer\",\"Developer\",\"Web designer\",\"Consultant\",\"Software developer\",\"Programmer\",\"Founding designer\",\"Corporate risk management & legal enforcement\"],\"yaxis\":\"y\",\"type\":\"scatter\"}],                        {\"template\":{\"data\":{\"histogram2dcontour\":[{\"type\":\"histogram2dcontour\",\"colorbar\":{\"outlinewidth\":0,\"ticks\":\"\"},\"colorscale\":[[0.0,\"#0d0887\"],[0.1111111111111111,\"#46039f\"],[0.2222222222222222,\"#7201a8\"],[0.3333333333333333,\"#9c179e\"],[0.4444444444444444,\"#bd3786\"],[0.5555555555555556,\"#d8576b\"],[0.6666666666666666,\"#ed7953\"],[0.7777777777777778,\"#fb9f3a\"],[0.8888888888888888,\"#fdca26\"],[1.0,\"#f0f921\"]]}],\"choropleth\":[{\"type\":\"choropleth\",\"colorbar\":{\"outlinewidth\":0,\"ticks\":\"\"}}],\"histogram2d\":[{\"type\":\"histogram2d\",\"colorbar\":{\"outlinewidth\":0,\"ticks\":\"\"},\"colorscale\":[[0.0,\"#0d0887\"],[0.1111111111111111,\"#46039f\"],[0.2222222222222222,\"#7201a8\"],[0.3333333333333333,\"#9c179e\"],[0.4444444444444444,\"#bd3786\"],[0.5555555555555556,\"#d8576b\"],[0.6666666666666666,\"#ed7953\"],[0.7777777777777778,\"#fb9f3a\"],[0.8888888888888888,\"#fdca26\"],[1.0,\"#f0f921\"]]}],\"heatmap\":[{\"type\":\"heatmap\",\"colorbar\":{\"outlinewidth\":0,\"ticks\":\"\"},\"colorscale\":[[0.0,\"#0d0887\"],[0.1111111111111111,\"#46039f\"],[0.2222222222222222,\"#7201a8\"],[0.3333333333333333,\"#9c179e\"],[0.4444444444444444,\"#bd3786\"],[0.5555555555555556,\"#d8576b\"],[0.6666666666666666,\"#ed7953\"],[0.7777777777777778,\"#fb9f3a\"],[0.8888888888888888,\"#fdca26\"],[1.0,\"#f0f921\"]]}],\"contourcarpet\":[{\"type\":\"contourcarpet\",\"colorbar\":{\"outlinewidth\":0,\"ticks\":\"\"}}],\"contour\":[{\"type\":\"contour\",\"colorbar\":{\"outlinewidth\":0,\"ticks\":\"\"},\"colorscale\":[[0.0,\"#0d0887\"],[0.1111111111111111,\"#46039f\"],[0.2222222222222222,\"#7201a8\"],[0.3333333333333333,\"#9c179e\"],[0.4444444444444444,\"#bd3786\"],[0.5555555555555556,\"#d8576b\"],[0.6666666666666666,\"#ed7953\"],[0.7777777777777778,\"#fb9f3a\"],[0.8888888888888888,\"#fdca26\"],[1.0,\"#f0f921\"]]}],\"surface\":[{\"type\":\"surface\",\"colorbar\":{\"outlinewidth\":0,\"ticks\":\"\"},\"colorscale\":[[0.0,\"#0d0887\"],[0.1111111111111111,\"#46039f\"],[0.2222222222222222,\"#7201a8\"],[0.3333333333333333,\"#9c179e\"],[0.4444444444444444,\"#bd3786\"],[0.5555555555555556,\"#d8576b\"],[0.6666666666666666,\"#ed7953\"],[0.7777777777777778,\"#fb9f3a\"],[0.8888888888888888,\"#fdca26\"],[1.0,\"#f0f921\"]]}],\"mesh3d\":[{\"type\":\"mesh3d\",\"colorbar\":{\"outlinewidth\":0,\"ticks\":\"\"}}],\"scatter\":[{\"fillpattern\":{\"fillmode\":\"overlay\",\"size\":10,\"solidity\":0.2},\"type\":\"scatter\"}],\"parcoords\":[{\"type\":\"parcoords\",\"line\":{\"colorbar\":{\"outlinewidth\":0,\"ticks\":\"\"}}}],\"scatterpolargl\":[{\"type\":\"scatterpolargl\",\"marker\":{\"colorbar\":{\"outlinewidth\":0,\"ticks\":\"\"}}}],\"bar\":[{\"error_x\":{\"color\":\"#2a3f5f\"},\"error_y\":{\"color\":\"#2a3f5f\"},\"marker\":{\"line\":{\"color\":\"#E5ECF6\",\"width\":0.5},\"pattern\":{\"fillmode\":\"overlay\",\"size\":10,\"solidity\":0.2}},\"type\":\"bar\"}],\"scattergeo\":[{\"type\":\"scattergeo\",\"marker\":{\"colorbar\":{\"outlinewidth\":0,\"ticks\":\"\"}}}],\"scatterpolar\":[{\"type\":\"scatterpolar\",\"marker\":{\"colorbar\":{\"outlinewidth\":0,\"ticks\":\"\"}}}],\"histogram\":[{\"marker\":{\"pattern\":{\"fillmode\":\"overlay\",\"size\":10,\"solidity\":0.2}},\"type\":\"histogram\"}],\"scattergl\":[{\"type\":\"scattergl\",\"marker\":{\"colorbar\":{\"outlinewidth\":0,\"ticks\":\"\"}}}],\"scatter3d\":[{\"type\":\"scatter3d\",\"line\":{\"colorbar\":{\"outlinewidth\":0,\"ticks\":\"\"}},\"marker\":{\"colorbar\":{\"outlinewidth\":0,\"ticks\":\"\"}}}],\"scattermap\":[{\"type\":\"scattermap\",\"marker\":{\"colorbar\":{\"outlinewidth\":0,\"ticks\":\"\"}}}],\"scattermapbox\":[{\"type\":\"scattermapbox\",\"marker\":{\"colorbar\":{\"outlinewidth\":0,\"ticks\":\"\"}}}],\"scatterternary\":[{\"type\":\"scatterternary\",\"marker\":{\"colorbar\":{\"outlinewidth\":0,\"ticks\":\"\"}}}],\"scattercarpet\":[{\"type\":\"scattercarpet\",\"marker\":{\"colorbar\":{\"outlinewidth\":0,\"ticks\":\"\"}}}],\"carpet\":[{\"aaxis\":{\"endlinecolor\":\"#2a3f5f\",\"gridcolor\":\"white\",\"linecolor\":\"white\",\"minorgridcolor\":\"white\",\"startlinecolor\":\"#2a3f5f\"},\"baxis\":{\"endlinecolor\":\"#2a3f5f\",\"gridcolor\":\"white\",\"linecolor\":\"white\",\"minorgridcolor\":\"white\",\"startlinecolor\":\"#2a3f5f\"},\"type\":\"carpet\"}],\"table\":[{\"cells\":{\"fill\":{\"color\":\"#EBF0F8\"},\"line\":{\"color\":\"white\"}},\"header\":{\"fill\":{\"color\":\"#C8D4E3\"},\"line\":{\"color\":\"white\"}},\"type\":\"table\"}],\"barpolar\":[{\"marker\":{\"line\":{\"color\":\"#E5ECF6\",\"width\":0.5},\"pattern\":{\"fillmode\":\"overlay\",\"size\":10,\"solidity\":0.2}},\"type\":\"barpolar\"}],\"pie\":[{\"automargin\":true,\"type\":\"pie\"}]},\"layout\":{\"autotypenumbers\":\"strict\",\"colorway\":[\"#636efa\",\"#EF553B\",\"#00cc96\",\"#ab63fa\",\"#FFA15A\",\"#19d3f3\",\"#FF6692\",\"#B6E880\",\"#FF97FF\",\"#FECB52\"],\"font\":{\"color\":\"#2a3f5f\"},\"hovermode\":\"closest\",\"hoverlabel\":{\"align\":\"left\"},\"paper_bgcolor\":\"white\",\"plot_bgcolor\":\"#E5ECF6\",\"polar\":{\"bgcolor\":\"#E5ECF6\",\"angularaxis\":{\"gridcolor\":\"white\",\"linecolor\":\"white\",\"ticks\":\"\"},\"radialaxis\":{\"gridcolor\":\"white\",\"linecolor\":\"white\",\"ticks\":\"\"}},\"ternary\":{\"bgcolor\":\"#E5ECF6\",\"aaxis\":{\"gridcolor\":\"white\",\"linecolor\":\"white\",\"ticks\":\"\"},\"baxis\":{\"gridcolor\":\"white\",\"linecolor\":\"white\",\"ticks\":\"\"},\"caxis\":{\"gridcolor\":\"white\",\"linecolor\":\"white\",\"ticks\":\"\"}},\"coloraxis\":{\"colorbar\":{\"outlinewidth\":0,\"ticks\":\"\"}},\"colorscale\":{\"sequential\":[[0.0,\"#0d0887\"],[0.1111111111111111,\"#46039f\"],[0.2222222222222222,\"#7201a8\"],[0.3333333333333333,\"#9c179e\"],[0.4444444444444444,\"#bd3786\"],[0.5555555555555556,\"#d8576b\"],[0.6666666666666666,\"#ed7953\"],[0.7777777777777778,\"#fb9f3a\"],[0.8888888888888888,\"#fdca26\"],[1.0,\"#f0f921\"]],\"sequentialminus\":[[0.0,\"#0d0887\"],[0.1111111111111111,\"#46039f\"],[0.2222222222222222,\"#7201a8\"],[0.3333333333333333,\"#9c179e\"],[0.4444444444444444,\"#bd3786\"],[0.5555555555555556,\"#d8576b\"],[0.6666666666666666,\"#ed7953\"],[0.7777777777777778,\"#fb9f3a\"],[0.8888888888888888,\"#fdca26\"],[1.0,\"#f0f921\"]],\"diverging\":[[0,\"#8e0152\"],[0.1,\"#c51b7d\"],[0.2,\"#de77ae\"],[0.3,\"#f1b6da\"],[0.4,\"#fde0ef\"],[0.5,\"#f7f7f7\"],[0.6,\"#e6f5d0\"],[0.7,\"#b8e186\"],[0.8,\"#7fbc41\"],[0.9,\"#4d9221\"],[1,\"#276419\"]]},\"xaxis\":{\"gridcolor\":\"white\",\"linecolor\":\"white\",\"ticks\":\"\",\"title\":{\"standoff\":15},\"zerolinecolor\":\"white\",\"automargin\":true,\"zerolinewidth\":2},\"yaxis\":{\"gridcolor\":\"white\",\"linecolor\":\"white\",\"ticks\":\"\",\"title\":{\"standoff\":15},\"zerolinecolor\":\"white\",\"automargin\":true,\"zerolinewidth\":2},\"scene\":{\"xaxis\":{\"backgroundcolor\":\"#E5ECF6\",\"gridcolor\":\"white\",\"linecolor\":\"white\",\"showbackground\":true,\"ticks\":\"\",\"zerolinecolor\":\"white\",\"gridwidth\":2},\"yaxis\":{\"backgroundcolor\":\"#E5ECF6\",\"gridcolor\":\"white\",\"linecolor\":\"white\",\"showbackground\":true,\"ticks\":\"\",\"zerolinecolor\":\"white\",\"gridwidth\":2},\"zaxis\":{\"backgroundcolor\":\"#E5ECF6\",\"gridcolor\":\"white\",\"linecolor\":\"white\",\"showbackground\":true,\"ticks\":\"\",\"zerolinecolor\":\"white\",\"gridwidth\":2}},\"shapedefaults\":{\"line\":{\"color\":\"#2a3f5f\"}},\"annotationdefaults\":{\"arrowcolor\":\"#2a3f5f\",\"arrowhead\":0,\"arrowwidth\":1},\"geo\":{\"bgcolor\":\"white\",\"landcolor\":\"#E5ECF6\",\"subunitcolor\":\"white\",\"showland\":true,\"showlakes\":true,\"lakecolor\":\"white\"},\"title\":{\"x\":0.05},\"mapbox\":{\"style\":\"light\"}}},\"xaxis\":{\"anchor\":\"y\",\"domain\":[0.0,1.0],\"title\":{\"text\":\"Average Conversation Length in Days\"},\"tickfont\":{\"weight\":\"bold\"},\"tickangle\":45},\"yaxis\":{\"anchor\":\"x\",\"domain\":[0.0,1.0],\"title\":{\"text\":\"Job title\"},\"tickfont\":{\"weight\":\"bold\",\"size\":12}},\"coloraxis\":{\"colorbar\":{\"title\":{\"text\":\"Average Conversation Length in Days\"}},\"colorscale\":[[0.0,\"#0d0887\"],[0.1111111111111111,\"#46039f\"],[0.2222222222222222,\"#7201a8\"],[0.3333333333333333,\"#9c179e\"],[0.4444444444444444,\"#bd3786\"],[0.5555555555555556,\"#d8576b\"],[0.6666666666666666,\"#ed7953\"],[0.7777777777777778,\"#fb9f3a\"],[0.8888888888888888,\"#fdca26\"],[1.0,\"#f0f921\"]]},\"legend\":{\"tracegroupgap\":0},\"title\":{\"text\":\"Job titles with the highest amount of matches vs. the Conversation Length in days\",\"font\":{\"size\":18,\"weight\":\"bold\"},\"x\":0.5},\"showlegend\":false},                        {\"responsive\": true}                    ).then(function(){\n",
       "                            \n",
       "var gd = document.getElementById('5261129b-9911-42cc-9e2a-58a0c2da2147');\n",
       "var x = new MutationObserver(function (mutations, observer) {{\n",
       "        var display = window.getComputedStyle(gd).display;\n",
       "        if (!display || display === 'none') {{\n",
       "            console.log([gd, 'removed!']);\n",
       "            Plotly.purge(gd);\n",
       "            observer.disconnect();\n",
       "        }}\n",
       "}});\n",
       "\n",
       "// Listen for the removal of the full notebook cells\n",
       "var notebookContainer = gd.closest('#notebook-container');\n",
       "if (notebookContainer) {{\n",
       "    x.observe(notebookContainer, {childList: true});\n",
       "}}\n",
       "\n",
       "// Listen for the clearing of the current output cell\n",
       "var outputEl = gd.closest('.output');\n",
       "if (outputEl) {{\n",
       "    x.observe(outputEl, {childList: true});\n",
       "}}\n",
       "\n",
       "                        })                };            </script>        </div>\n",
       "</body>\n",
       "</html>"
      ]
     },
     "metadata": {},
     "output_type": "display_data"
    }
   ],
   "source": [
    "fig=px.scatter(df_jobs_days.sort_values(by='Average Conversation Length in Days', ascending=True),\n",
    "    y='Job title',\n",
    "    x='Average Conversation Length in Days',\n",
    "    title='Job titles with the highest amount of matches vs. the Conversation Length in days',\n",
    "    color='Average Conversation Length in Days')\n",
    "\n",
    "fig.update_layout(showlegend=False,title_x=0.5, title_font=dict(\n",
    "        size=18, weight='bold'\n",
    "    ))\n",
    "fig.update_traces(marker=dict(size=15))\n",
    "       # Adjust the font size\n",
    "\n",
    "fig.update_xaxes(\n",
    "    tickangle=45, tickfont_weight='bold' # <--- Rotate the x-axis labels\n",
    ")\n",
    "fig.update_yaxes(\n",
    "    tickfont_weight='bold',  # Make the numbers bold\n",
    "    tickfont_size=12)      # Adjust the font size\n",
    "\n",
    "fig.update_layout(title_x=0.5)\n",
    "fig.show()"
   ]
  },
  {
   "cell_type": "code",
   "execution_count": 107,
   "id": "31e9a025-e8f6-4a5f-83e6-4c9b648b5a35",
   "metadata": {},
   "outputs": [
    {
     "data": {
      "text/html": [
       "<div>\n",
       "<style scoped>\n",
       "    .dataframe tbody tr th:only-of-type {\n",
       "        vertical-align: middle;\n",
       "    }\n",
       "\n",
       "    .dataframe tbody tr th {\n",
       "        vertical-align: top;\n",
       "    }\n",
       "\n",
       "    .dataframe thead th {\n",
       "        text-align: right;\n",
       "    }\n",
       "</style>\n",
       "<table border=\"1\" class=\"dataframe\">\n",
       "  <thead>\n",
       "    <tr style=\"text-align: right;\">\n",
       "      <th></th>\n",
       "      <th>Country</th>\n",
       "      <th>Number of conversations</th>\n",
       "      <th>Number of matches</th>\n",
       "    </tr>\n",
       "  </thead>\n",
       "  <tbody>\n",
       "    <tr>\n",
       "      <th>0</th>\n",
       "      <td>Switzerland</td>\n",
       "      <td>9366</td>\n",
       "      <td>16048.0</td>\n",
       "    </tr>\n",
       "    <tr>\n",
       "      <th>1</th>\n",
       "      <td>Germany</td>\n",
       "      <td>8084</td>\n",
       "      <td>14874.0</td>\n",
       "    </tr>\n",
       "    <tr>\n",
       "      <th>2</th>\n",
       "      <td>Finland</td>\n",
       "      <td>473</td>\n",
       "      <td>13104.0</td>\n",
       "    </tr>\n",
       "    <tr>\n",
       "      <th>3</th>\n",
       "      <td>Sweden</td>\n",
       "      <td>1208</td>\n",
       "      <td>4998.0</td>\n",
       "    </tr>\n",
       "    <tr>\n",
       "      <th>4</th>\n",
       "      <td>Italy</td>\n",
       "      <td>1460</td>\n",
       "      <td>4114.0</td>\n",
       "    </tr>\n",
       "    <tr>\n",
       "      <th>5</th>\n",
       "      <td>Norway</td>\n",
       "      <td>739</td>\n",
       "      <td>3408.0</td>\n",
       "    </tr>\n",
       "    <tr>\n",
       "      <th>6</th>\n",
       "      <td>Norway</td>\n",
       "      <td>624</td>\n",
       "      <td>3316.0</td>\n",
       "    </tr>\n",
       "    <tr>\n",
       "      <th>7</th>\n",
       "      <td>Germany</td>\n",
       "      <td>944</td>\n",
       "      <td>2956.0</td>\n",
       "    </tr>\n",
       "    <tr>\n",
       "      <th>8</th>\n",
       "      <td>Portugal</td>\n",
       "      <td>1071</td>\n",
       "      <td>2866.0</td>\n",
       "    </tr>\n",
       "    <tr>\n",
       "      <th>9</th>\n",
       "      <td>Ireland</td>\n",
       "      <td>272</td>\n",
       "      <td>2560.0</td>\n",
       "    </tr>\n",
       "    <tr>\n",
       "      <th>10</th>\n",
       "      <td>Sweden</td>\n",
       "      <td>342</td>\n",
       "      <td>2304.0</td>\n",
       "    </tr>\n",
       "    <tr>\n",
       "      <th>11</th>\n",
       "      <td>Germany</td>\n",
       "      <td>102</td>\n",
       "      <td>2293.0</td>\n",
       "    </tr>\n",
       "    <tr>\n",
       "      <th>12</th>\n",
       "      <td>Czechia</td>\n",
       "      <td>80</td>\n",
       "      <td>2032.0</td>\n",
       "    </tr>\n",
       "    <tr>\n",
       "      <th>13</th>\n",
       "      <td>Czechia</td>\n",
       "      <td>0</td>\n",
       "      <td>2023.0</td>\n",
       "    </tr>\n",
       "    <tr>\n",
       "      <th>14</th>\n",
       "      <td>United Kingdom</td>\n",
       "      <td>1331</td>\n",
       "      <td>1900.0</td>\n",
       "    </tr>\n",
       "  </tbody>\n",
       "</table>\n",
       "</div>"
      ],
      "text/plain": [
       "           Country  Number of conversations  Number of matches\n",
       "0      Switzerland                     9366            16048.0\n",
       "1          Germany                     8084            14874.0\n",
       "2          Finland                      473            13104.0\n",
       "3           Sweden                     1208             4998.0\n",
       "4            Italy                     1460             4114.0\n",
       "5           Norway                      739             3408.0\n",
       "6           Norway                      624             3316.0\n",
       "7          Germany                      944             2956.0\n",
       "8         Portugal                     1071             2866.0\n",
       "9          Ireland                      272             2560.0\n",
       "10          Sweden                      342             2304.0\n",
       "11         Germany                      102             2293.0\n",
       "12         Czechia                       80             2032.0\n",
       "13         Czechia                        0             2023.0\n",
       "14  United Kingdom                     1331             1900.0"
      ]
     },
     "execution_count": 107,
     "metadata": {},
     "output_type": "execute_result"
    }
   ],
   "source": [
    "df_countries_conv=df[df['Country']!='Unknown'].groupby(['Country','Number of conversations'])['Number of matches'].agg('mean').sort_values(ascending=False).reset_index().head(15)\n",
    "df_countries_conv"
   ]
  },
  {
   "cell_type": "code",
   "execution_count": 108,
   "id": "9b07e992-c157-4bf4-9da5-45861f4c77f8",
   "metadata": {},
   "outputs": [
    {
     "data": {
      "text/html": [
       "<a href=\"data:file/csv;base64,Q291bnRyeSxOdW1iZXIgb2YgY29udmVyc2F0aW9ucyxOdW1iZXIgb2YgbWF0Y2hlcw0KU3dpdHplcmxhbmQsOTM2NiwxNjA0OC4wDQpHZXJtYW55LDgwODQsMTQ4NzQuMA0KRmlubGFuZCw0NzMsMTMxMDQuMA0KU3dlZGVuLDEyMDgsNDk5OC4wDQpJdGFseSwxNDYwLDQxMTQuMA0KTm9yd2F5LDczOSwzNDA4LjANCk5vcndheSw2MjQsMzMxNi4wDQpHZXJtYW55LDk0NCwyOTU2LjANClBvcnR1Z2FsLDEwNzEsMjg2Ni4wDQpJcmVsYW5kLDI3MiwyNTYwLjANClN3ZWRlbiwzNDIsMjMwNC4wDQpHZXJtYW55LDEwMiwyMjkzLjANCkN6ZWNoaWEsODAsMjAzMi4wDQpDemVjaGlhLDAsMjAyMy4wDQpVbml0ZWQgS2luZ2RvbSwxMzMxLDE5MDAuMA0K\" download=\"df_countries_conv.csv\">Click here to download df_countries_conv.csv</a>"
      ],
      "text/plain": [
       "<IPython.core.display.HTML object>"
      ]
     },
     "metadata": {},
     "output_type": "display_data"
    }
   ],
   "source": [
    "df_countries_conv.to_csv('df_countries_conv', index=False)\n",
    "csv_content_clean = df_countries_conv.to_csv(index=False)\n",
    "b64_clean = base64.b64encode(csv_content_clean.encode()).decode()\n",
    "download_link_clean = f'<a href=\"data:file/csv;base64,{b64_clean}\" download=\"df_countries_conv.csv\">Click here to download df_countries_conv.csv</a>'\n",
    "display(HTML(download_link_clean))"
   ]
  },
  {
   "cell_type": "code",
   "execution_count": 109,
   "id": "c06620aa-a3b5-4ad2-b68c-818571919950",
   "metadata": {},
   "outputs": [
    {
     "data": {
      "text/html": [
       "<html>\n",
       "<head><meta charset=\"utf-8\" /></head>\n",
       "<body>\n",
       "    <div>            <script src=\"https://cdnjs.cloudflare.com/ajax/libs/mathjax/2.7.5/MathJax.js?config=TeX-AMS-MML_SVG\"></script><script type=\"text/javascript\">if (window.MathJax && window.MathJax.Hub && window.MathJax.Hub.Config) {window.MathJax.Hub.Config({SVG: {font: \"STIX-Web\"}});}</script>                <script type=\"text/javascript\">window.PlotlyConfig = {MathJaxConfig: 'local'};</script>\n",
       "        <script charset=\"utf-8\" src=\"https://cdn.plot.ly/plotly-3.1.0.min.js\" integrity=\"sha256-Ei4740bWZhaUTQuD6q9yQlgVCMPBz6CZWhevDYPv93A=\" crossorigin=\"anonymous\"></script>                <div id=\"0bd445b7-08dd-4aa3-9527-953e1ed154ff\" class=\"plotly-graph-div\" style=\"height:525px; width:100%;\"></div>            <script type=\"text/javascript\">                window.PLOTLYENV=window.PLOTLYENV || {};                                if (document.getElementById(\"0bd445b7-08dd-4aa3-9527-953e1ed154ff\")) {                    Plotly.newPlot(                        \"0bd445b7-08dd-4aa3-9527-953e1ed154ff\",                        [{\"hovertemplate\":\"Number of conversations=%{marker.color}\\u003cbr\\u003eCountry=%{y}\\u003cextra\\u003e\\u003c\\u002fextra\\u003e\",\"legendgroup\":\"\",\"marker\":{\"color\":{\"dtype\":\"i2\",\"bdata\":\"AABQAGYAEAFWAdkBcALjArADLwS4BDMFtAWUH5Yk\"},\"coloraxis\":\"coloraxis\",\"symbol\":\"circle\",\"size\":15},\"mode\":\"markers\",\"name\":\"\",\"orientation\":\"h\",\"showlegend\":false,\"x\":{\"dtype\":\"i2\",\"bdata\":\"AABQAGYAEAFWAdkBcALjArADLwS4BDMFtAWUH5Yk\"},\"xaxis\":\"x\",\"y\":[\"Czechia\",\"Czechia\",\"Germany\",\"Ireland\",\"Sweden\",\"Finland\",\"Norway\",\"Norway\",\"Germany\",\"Portugal\",\"Sweden\",\"United Kingdom\",\"Italy\",\"Germany\",\"Switzerland\"],\"yaxis\":\"y\",\"type\":\"scatter\"}],                        {\"template\":{\"data\":{\"histogram2dcontour\":[{\"type\":\"histogram2dcontour\",\"colorbar\":{\"outlinewidth\":0,\"ticks\":\"\"},\"colorscale\":[[0.0,\"#0d0887\"],[0.1111111111111111,\"#46039f\"],[0.2222222222222222,\"#7201a8\"],[0.3333333333333333,\"#9c179e\"],[0.4444444444444444,\"#bd3786\"],[0.5555555555555556,\"#d8576b\"],[0.6666666666666666,\"#ed7953\"],[0.7777777777777778,\"#fb9f3a\"],[0.8888888888888888,\"#fdca26\"],[1.0,\"#f0f921\"]]}],\"choropleth\":[{\"type\":\"choropleth\",\"colorbar\":{\"outlinewidth\":0,\"ticks\":\"\"}}],\"histogram2d\":[{\"type\":\"histogram2d\",\"colorbar\":{\"outlinewidth\":0,\"ticks\":\"\"},\"colorscale\":[[0.0,\"#0d0887\"],[0.1111111111111111,\"#46039f\"],[0.2222222222222222,\"#7201a8\"],[0.3333333333333333,\"#9c179e\"],[0.4444444444444444,\"#bd3786\"],[0.5555555555555556,\"#d8576b\"],[0.6666666666666666,\"#ed7953\"],[0.7777777777777778,\"#fb9f3a\"],[0.8888888888888888,\"#fdca26\"],[1.0,\"#f0f921\"]]}],\"heatmap\":[{\"type\":\"heatmap\",\"colorbar\":{\"outlinewidth\":0,\"ticks\":\"\"},\"colorscale\":[[0.0,\"#0d0887\"],[0.1111111111111111,\"#46039f\"],[0.2222222222222222,\"#7201a8\"],[0.3333333333333333,\"#9c179e\"],[0.4444444444444444,\"#bd3786\"],[0.5555555555555556,\"#d8576b\"],[0.6666666666666666,\"#ed7953\"],[0.7777777777777778,\"#fb9f3a\"],[0.8888888888888888,\"#fdca26\"],[1.0,\"#f0f921\"]]}],\"contourcarpet\":[{\"type\":\"contourcarpet\",\"colorbar\":{\"outlinewidth\":0,\"ticks\":\"\"}}],\"contour\":[{\"type\":\"contour\",\"colorbar\":{\"outlinewidth\":0,\"ticks\":\"\"},\"colorscale\":[[0.0,\"#0d0887\"],[0.1111111111111111,\"#46039f\"],[0.2222222222222222,\"#7201a8\"],[0.3333333333333333,\"#9c179e\"],[0.4444444444444444,\"#bd3786\"],[0.5555555555555556,\"#d8576b\"],[0.6666666666666666,\"#ed7953\"],[0.7777777777777778,\"#fb9f3a\"],[0.8888888888888888,\"#fdca26\"],[1.0,\"#f0f921\"]]}],\"surface\":[{\"type\":\"surface\",\"colorbar\":{\"outlinewidth\":0,\"ticks\":\"\"},\"colorscale\":[[0.0,\"#0d0887\"],[0.1111111111111111,\"#46039f\"],[0.2222222222222222,\"#7201a8\"],[0.3333333333333333,\"#9c179e\"],[0.4444444444444444,\"#bd3786\"],[0.5555555555555556,\"#d8576b\"],[0.6666666666666666,\"#ed7953\"],[0.7777777777777778,\"#fb9f3a\"],[0.8888888888888888,\"#fdca26\"],[1.0,\"#f0f921\"]]}],\"mesh3d\":[{\"type\":\"mesh3d\",\"colorbar\":{\"outlinewidth\":0,\"ticks\":\"\"}}],\"scatter\":[{\"fillpattern\":{\"fillmode\":\"overlay\",\"size\":10,\"solidity\":0.2},\"type\":\"scatter\"}],\"parcoords\":[{\"type\":\"parcoords\",\"line\":{\"colorbar\":{\"outlinewidth\":0,\"ticks\":\"\"}}}],\"scatterpolargl\":[{\"type\":\"scatterpolargl\",\"marker\":{\"colorbar\":{\"outlinewidth\":0,\"ticks\":\"\"}}}],\"bar\":[{\"error_x\":{\"color\":\"#2a3f5f\"},\"error_y\":{\"color\":\"#2a3f5f\"},\"marker\":{\"line\":{\"color\":\"#E5ECF6\",\"width\":0.5},\"pattern\":{\"fillmode\":\"overlay\",\"size\":10,\"solidity\":0.2}},\"type\":\"bar\"}],\"scattergeo\":[{\"type\":\"scattergeo\",\"marker\":{\"colorbar\":{\"outlinewidth\":0,\"ticks\":\"\"}}}],\"scatterpolar\":[{\"type\":\"scatterpolar\",\"marker\":{\"colorbar\":{\"outlinewidth\":0,\"ticks\":\"\"}}}],\"histogram\":[{\"marker\":{\"pattern\":{\"fillmode\":\"overlay\",\"size\":10,\"solidity\":0.2}},\"type\":\"histogram\"}],\"scattergl\":[{\"type\":\"scattergl\",\"marker\":{\"colorbar\":{\"outlinewidth\":0,\"ticks\":\"\"}}}],\"scatter3d\":[{\"type\":\"scatter3d\",\"line\":{\"colorbar\":{\"outlinewidth\":0,\"ticks\":\"\"}},\"marker\":{\"colorbar\":{\"outlinewidth\":0,\"ticks\":\"\"}}}],\"scattermap\":[{\"type\":\"scattermap\",\"marker\":{\"colorbar\":{\"outlinewidth\":0,\"ticks\":\"\"}}}],\"scattermapbox\":[{\"type\":\"scattermapbox\",\"marker\":{\"colorbar\":{\"outlinewidth\":0,\"ticks\":\"\"}}}],\"scatterternary\":[{\"type\":\"scatterternary\",\"marker\":{\"colorbar\":{\"outlinewidth\":0,\"ticks\":\"\"}}}],\"scattercarpet\":[{\"type\":\"scattercarpet\",\"marker\":{\"colorbar\":{\"outlinewidth\":0,\"ticks\":\"\"}}}],\"carpet\":[{\"aaxis\":{\"endlinecolor\":\"#2a3f5f\",\"gridcolor\":\"white\",\"linecolor\":\"white\",\"minorgridcolor\":\"white\",\"startlinecolor\":\"#2a3f5f\"},\"baxis\":{\"endlinecolor\":\"#2a3f5f\",\"gridcolor\":\"white\",\"linecolor\":\"white\",\"minorgridcolor\":\"white\",\"startlinecolor\":\"#2a3f5f\"},\"type\":\"carpet\"}],\"table\":[{\"cells\":{\"fill\":{\"color\":\"#EBF0F8\"},\"line\":{\"color\":\"white\"}},\"header\":{\"fill\":{\"color\":\"#C8D4E3\"},\"line\":{\"color\":\"white\"}},\"type\":\"table\"}],\"barpolar\":[{\"marker\":{\"line\":{\"color\":\"#E5ECF6\",\"width\":0.5},\"pattern\":{\"fillmode\":\"overlay\",\"size\":10,\"solidity\":0.2}},\"type\":\"barpolar\"}],\"pie\":[{\"automargin\":true,\"type\":\"pie\"}]},\"layout\":{\"autotypenumbers\":\"strict\",\"colorway\":[\"#636efa\",\"#EF553B\",\"#00cc96\",\"#ab63fa\",\"#FFA15A\",\"#19d3f3\",\"#FF6692\",\"#B6E880\",\"#FF97FF\",\"#FECB52\"],\"font\":{\"color\":\"#2a3f5f\"},\"hovermode\":\"closest\",\"hoverlabel\":{\"align\":\"left\"},\"paper_bgcolor\":\"white\",\"plot_bgcolor\":\"#E5ECF6\",\"polar\":{\"bgcolor\":\"#E5ECF6\",\"angularaxis\":{\"gridcolor\":\"white\",\"linecolor\":\"white\",\"ticks\":\"\"},\"radialaxis\":{\"gridcolor\":\"white\",\"linecolor\":\"white\",\"ticks\":\"\"}},\"ternary\":{\"bgcolor\":\"#E5ECF6\",\"aaxis\":{\"gridcolor\":\"white\",\"linecolor\":\"white\",\"ticks\":\"\"},\"baxis\":{\"gridcolor\":\"white\",\"linecolor\":\"white\",\"ticks\":\"\"},\"caxis\":{\"gridcolor\":\"white\",\"linecolor\":\"white\",\"ticks\":\"\"}},\"coloraxis\":{\"colorbar\":{\"outlinewidth\":0,\"ticks\":\"\"}},\"colorscale\":{\"sequential\":[[0.0,\"#0d0887\"],[0.1111111111111111,\"#46039f\"],[0.2222222222222222,\"#7201a8\"],[0.3333333333333333,\"#9c179e\"],[0.4444444444444444,\"#bd3786\"],[0.5555555555555556,\"#d8576b\"],[0.6666666666666666,\"#ed7953\"],[0.7777777777777778,\"#fb9f3a\"],[0.8888888888888888,\"#fdca26\"],[1.0,\"#f0f921\"]],\"sequentialminus\":[[0.0,\"#0d0887\"],[0.1111111111111111,\"#46039f\"],[0.2222222222222222,\"#7201a8\"],[0.3333333333333333,\"#9c179e\"],[0.4444444444444444,\"#bd3786\"],[0.5555555555555556,\"#d8576b\"],[0.6666666666666666,\"#ed7953\"],[0.7777777777777778,\"#fb9f3a\"],[0.8888888888888888,\"#fdca26\"],[1.0,\"#f0f921\"]],\"diverging\":[[0,\"#8e0152\"],[0.1,\"#c51b7d\"],[0.2,\"#de77ae\"],[0.3,\"#f1b6da\"],[0.4,\"#fde0ef\"],[0.5,\"#f7f7f7\"],[0.6,\"#e6f5d0\"],[0.7,\"#b8e186\"],[0.8,\"#7fbc41\"],[0.9,\"#4d9221\"],[1,\"#276419\"]]},\"xaxis\":{\"gridcolor\":\"white\",\"linecolor\":\"white\",\"ticks\":\"\",\"title\":{\"standoff\":15},\"zerolinecolor\":\"white\",\"automargin\":true,\"zerolinewidth\":2},\"yaxis\":{\"gridcolor\":\"white\",\"linecolor\":\"white\",\"ticks\":\"\",\"title\":{\"standoff\":15},\"zerolinecolor\":\"white\",\"automargin\":true,\"zerolinewidth\":2},\"scene\":{\"xaxis\":{\"backgroundcolor\":\"#E5ECF6\",\"gridcolor\":\"white\",\"linecolor\":\"white\",\"showbackground\":true,\"ticks\":\"\",\"zerolinecolor\":\"white\",\"gridwidth\":2},\"yaxis\":{\"backgroundcolor\":\"#E5ECF6\",\"gridcolor\":\"white\",\"linecolor\":\"white\",\"showbackground\":true,\"ticks\":\"\",\"zerolinecolor\":\"white\",\"gridwidth\":2},\"zaxis\":{\"backgroundcolor\":\"#E5ECF6\",\"gridcolor\":\"white\",\"linecolor\":\"white\",\"showbackground\":true,\"ticks\":\"\",\"zerolinecolor\":\"white\",\"gridwidth\":2}},\"shapedefaults\":{\"line\":{\"color\":\"#2a3f5f\"}},\"annotationdefaults\":{\"arrowcolor\":\"#2a3f5f\",\"arrowhead\":0,\"arrowwidth\":1},\"geo\":{\"bgcolor\":\"white\",\"landcolor\":\"#E5ECF6\",\"subunitcolor\":\"white\",\"showland\":true,\"showlakes\":true,\"lakecolor\":\"white\"},\"title\":{\"x\":0.05},\"mapbox\":{\"style\":\"light\"}}},\"xaxis\":{\"anchor\":\"y\",\"domain\":[0.0,1.0],\"title\":{\"text\":\"Number of conversations\"},\"tickfont\":{\"weight\":\"bold\"},\"tickangle\":45},\"yaxis\":{\"anchor\":\"x\",\"domain\":[0.0,1.0],\"title\":{\"text\":\"Country\"},\"tickfont\":{\"weight\":\"bold\",\"size\":12}},\"coloraxis\":{\"colorbar\":{\"title\":{\"text\":\"Number of conversations\"}},\"colorscale\":[[0.0,\"#0d0887\"],[0.1111111111111111,\"#46039f\"],[0.2222222222222222,\"#7201a8\"],[0.3333333333333333,\"#9c179e\"],[0.4444444444444444,\"#bd3786\"],[0.5555555555555556,\"#d8576b\"],[0.6666666666666666,\"#ed7953\"],[0.7777777777777778,\"#fb9f3a\"],[0.8888888888888888,\"#fdca26\"],[1.0,\"#f0f921\"]]},\"legend\":{\"tracegroupgap\":0},\"title\":{\"text\":\"Countries with the highest amount of matches vs. the Number of conversations\",\"font\":{\"size\":18,\"weight\":\"bold\"},\"x\":0.5},\"showlegend\":false},                        {\"responsive\": true}                    ).then(function(){\n",
       "                            \n",
       "var gd = document.getElementById('0bd445b7-08dd-4aa3-9527-953e1ed154ff');\n",
       "var x = new MutationObserver(function (mutations, observer) {{\n",
       "        var display = window.getComputedStyle(gd).display;\n",
       "        if (!display || display === 'none') {{\n",
       "            console.log([gd, 'removed!']);\n",
       "            Plotly.purge(gd);\n",
       "            observer.disconnect();\n",
       "        }}\n",
       "}});\n",
       "\n",
       "// Listen for the removal of the full notebook cells\n",
       "var notebookContainer = gd.closest('#notebook-container');\n",
       "if (notebookContainer) {{\n",
       "    x.observe(notebookContainer, {childList: true});\n",
       "}}\n",
       "\n",
       "// Listen for the clearing of the current output cell\n",
       "var outputEl = gd.closest('.output');\n",
       "if (outputEl) {{\n",
       "    x.observe(outputEl, {childList: true});\n",
       "}}\n",
       "\n",
       "                        })                };            </script>        </div>\n",
       "</body>\n",
       "</html>"
      ]
     },
     "metadata": {},
     "output_type": "display_data"
    }
   ],
   "source": [
    "fig=px.scatter(df_countries_conv.sort_values(by='Number of conversations', ascending=True),\n",
    "    y='Country',\n",
    "    x='Number of conversations',\n",
    "    title='Countries with the highest amount of matches vs. the Number of conversations',\n",
    "    color='Number of conversations')\n",
    "\n",
    "fig.update_layout(showlegend=False,title_x=0.5, title_font=dict(\n",
    "        size=18, weight='bold'\n",
    "    ))\n",
    "fig.update_traces(marker=dict(size=15))\n",
    "       # Adjust the font size\n",
    "\n",
    "fig.update_xaxes(\n",
    "    tickangle=45, tickfont_weight='bold' # <--- Rotate the x-axis labels\n",
    ")\n",
    "fig.update_yaxes(\n",
    "    tickfont_weight='bold',  # Make the numbers bold\n",
    "    tickfont_size=12)      # Adjust the font size\n",
    "\n",
    "fig.update_layout(title_x=0.5)\n",
    "fig.show()"
   ]
  },
  {
   "cell_type": "code",
   "execution_count": 110,
   "id": "e98e8214-84cc-41c9-ba9b-b0455d6307c4",
   "metadata": {},
   "outputs": [
    {
     "data": {
      "text/html": [
       "<a href=\"data:file/csv;base64,Sm9iIHRpdGxlLEF2ZXJhZ2UgQ29udmVyc2F0aW9uIExlbmd0aCBpbiBEYXlzLE51bWJlciBvZiBtYXRjaGVzDQpXcml0ZXIsMy4wLDE0ODc0LjANClNvZnR3YXJlIGRldmVsb3Blciw2LjIzLDEzMTA0LjANClByb2dyYW1tZXIsNy4wLDQ5OTguMA0KRm91bmRpbmcgZGVzaWduZXIsNy4yMSw0MTE0LjANCkludGVybiwyLjc1LDI5NTYuMA0KRGV2ZWxvcGVyLDMuMTEsMjg2Ni4wDQpTb2Z0d2FyZSBlbmdpbmVlciBpbnRlcm4sMS44NywyNTYwLjANCkVuZXJneSB0cmFkZXIsMC4xMiwyMjkzLjANCldvcmtzLDIuNDMsMTkwMC4wDQpDb3Jwb3JhdGUgcmlzayBtYW5hZ2VtZW50ICYgbGVnYWwgZW5mb3JjZW1lbnQsOS4wMiwxNTg5LjANClByb2R1Y3QgZGVzaWduZXIsMi4wNywxMzcwLjANCldlYiBkZXNpZ25lciw0LjgxLDEyMDIuMA0KQ29uc3VsdGFudCw0LjksMTEzOC4wDQpFbWVhIHByb2plY3QgbWFuYWdlciwxLjk0LDExMzEuMA0KSGVkZ2UgZnVuZCBxdWFudCB0cmFkZXIsMS40OSw5OTguMA0K\" download=\"df_jobs_days.csv\">Click here to download df_jobs_days.csv</a>"
      ],
      "text/plain": [
       "<IPython.core.display.HTML object>"
      ]
     },
     "metadata": {},
     "output_type": "display_data"
    }
   ],
   "source": [
    "df_jobs_days.to_csv('df_jobs_days', index=False)\n",
    "csv_content_clean = df_jobs_days.to_csv(index=False)\n",
    "b64_clean = base64.b64encode(csv_content_clean.encode()).decode()\n",
    "download_link_clean = f'<a href=\"data:file/csv;base64,{b64_clean}\" download=\"df_jobs_days.csv\">Click here to download df_jobs_days.csv</a>'\n",
    "display(HTML(download_link_clean))"
   ]
  },
  {
   "cell_type": "code",
   "execution_count": 111,
   "id": "c8be956c-f118-48e1-96f1-624499611f6d",
   "metadata": {},
   "outputs": [
    {
     "data": {
      "text/html": [
       "<a href=\"data:file/csv;base64,Sm9iIHRpdGxlLE51bWJlciBvZiBjb252ZXJzYXRpb25zLE51bWJlciBvZiBtYXRjaGVzDQpXcml0ZXIsODA4NCwxNDg3NC4wDQpTb2Z0d2FyZSBkZXZlbG9wZXIsNDczLDEzMTA0LjANClByb2dyYW1tZXIsMTIwOCw0OTk4LjANCkZvdW5kaW5nIGRlc2lnbmVyLDE0NjAsNDExNC4wDQpJbnRlcm4sOTQ0LDI5NTYuMA0KRGV2ZWxvcGVyLDEwNzEsMjg2Ni4wDQpTb2Z0d2FyZSBlbmdpbmVlciBpbnRlcm4sMjcyLDI1NjAuMA0KRW5lcmd5IHRyYWRlciwxMDIsMjI5My4wDQpXb3JrcywxMzMxLDE5MDAuMA0KQ29ycG9yYXRlIHJpc2sgbWFuYWdlbWVudCAmIGxlZ2FsIGVuZm9yY2VtZW50LDgyNywxNTg5LjANClByb2R1Y3QgZGVzaWduZXIsNDcxLDEzNzAuMA0KV2ViIGRlc2lnbmVyLDQwNCwxMjAyLjANCkNvbnN1bHRhbnQsMzk3LDExMzguMA0KRW1lYSBwcm9qZWN0IG1hbmFnZXIsMjgyLDExMzEuMA0KSGVkZ2UgZnVuZCBxdWFudCB0cmFkZXIsMTY2LDk5OC4wDQo=\" download=\"df_jobs_conv.csv\">Click here to download df_jobs_conv.csv</a>"
      ],
      "text/plain": [
       "<IPython.core.display.HTML object>"
      ]
     },
     "metadata": {},
     "output_type": "display_data"
    }
   ],
   "source": [
    "df_jobs_conv.to_csv('df_jobs_conv', index=False)\n",
    "csv_content_clean = df_jobs_conv.to_csv(index=False)\n",
    "b64_clean = base64.b64encode(csv_content_clean.encode()).decode()\n",
    "download_link_clean = f'<a href=\"data:file/csv;base64,{b64_clean}\" download=\"df_jobs_conv.csv\">Click here to download df_jobs_conv.csv</a>'\n",
    "display(HTML(download_link_clean))"
   ]
  },
  {
   "cell_type": "code",
   "execution_count": 112,
   "id": "877faa04-2bf8-4731-94d1-ad2dc94fd9aa",
   "metadata": {},
   "outputs": [
    {
     "data": {
      "text/plain": [
       "Index(['ID', 'Number of conversations', 'Average Conversation Length',\n",
       "       'Average Conversation Length in Days',\n",
       "       'Number of ghostings after 1st message', 'Number of matches',\n",
       "       'Minimum of Age filter', 'Maximum of Age filter', 'Country',\n",
       "       'Education', 'Gender', 'Interests in gender', 'instagram', 'Job title',\n",
       "       'Age', 'Group'],\n",
       "      dtype='object')"
      ]
     },
     "execution_count": 112,
     "metadata": {},
     "output_type": "execute_result"
    }
   ],
   "source": [
    "df.columns"
   ]
  },
  {
   "cell_type": "code",
   "execution_count": 113,
   "id": "80a3d804-9af2-4a55-8d28-9af70cc68e34",
   "metadata": {},
   "outputs": [],
   "source": [
    "df_gender_distribution=df.groupby('Gender')['Number of matches'].agg('sum').reset_index()"
   ]
  },
  {
   "cell_type": "code",
   "execution_count": 114,
   "id": "93e494d9-4351-46b6-bbf4-853e61add511",
   "metadata": {},
   "outputs": [
    {
     "data": {
      "text/plain": [
       "1      Men\n",
       "74     Men\n",
       "107    Men\n",
       "108    Men\n",
       "223    Men\n",
       "228    Men\n",
       "229    Men\n",
       "246    Men\n",
       "276    Men\n",
       "296    Men\n",
       "335    Men\n",
       "350    Men\n",
       "362    Men\n",
       "363    Men\n",
       "373    Men\n",
       "391    Men\n",
       "Name: Gender, dtype: object"
      ]
     },
     "execution_count": 114,
     "metadata": {},
     "output_type": "execute_result"
    }
   ],
   "source": [
    "df[df['Country']=='Belgium']['Gender']"
   ]
  },
  {
   "cell_type": "code",
   "execution_count": 115,
   "id": "a53f77d0-e5ba-4a68-8653-f8309afa169b",
   "metadata": {},
   "outputs": [
    {
     "data": {
      "text/plain": [
       "Index(['ID', 'Number of conversations', 'Average Conversation Length',\n",
       "       'Average Conversation Length in Days',\n",
       "       'Number of ghostings after 1st message', 'Number of matches',\n",
       "       'Minimum of Age filter', 'Maximum of Age filter', 'Country',\n",
       "       'Education', 'Gender', 'Interests in gender', 'instagram', 'Job title',\n",
       "       'Age', 'Group'],\n",
       "      dtype='object')"
      ]
     },
     "execution_count": 115,
     "metadata": {},
     "output_type": "execute_result"
    }
   ],
   "source": [
    "df.columns"
   ]
  },
  {
   "cell_type": "code",
   "execution_count": 116,
   "id": "9d81cc62-205c-4195-bcd5-45afab1dbbfa",
   "metadata": {},
   "outputs": [
    {
     "data": {
      "text/html": [
       "<div>\n",
       "<style scoped>\n",
       "    .dataframe tbody tr th:only-of-type {\n",
       "        vertical-align: middle;\n",
       "    }\n",
       "\n",
       "    .dataframe tbody tr th {\n",
       "        vertical-align: top;\n",
       "    }\n",
       "\n",
       "    .dataframe thead th {\n",
       "        text-align: right;\n",
       "    }\n",
       "</style>\n",
       "<table border=\"1\" class=\"dataframe\">\n",
       "  <thead>\n",
       "    <tr style=\"text-align: right;\">\n",
       "      <th></th>\n",
       "      <th>ID</th>\n",
       "      <th>Number of conversations</th>\n",
       "      <th>Average Conversation Length</th>\n",
       "      <th>Average Conversation Length in Days</th>\n",
       "      <th>Number of ghostings after 1st message</th>\n",
       "      <th>Number of matches</th>\n",
       "      <th>Minimum of Age filter</th>\n",
       "      <th>Maximum of Age filter</th>\n",
       "      <th>Country</th>\n",
       "      <th>Education</th>\n",
       "      <th>Gender</th>\n",
       "      <th>Interests in gender</th>\n",
       "      <th>instagram</th>\n",
       "      <th>Job title</th>\n",
       "      <th>Age</th>\n",
       "      <th>Group</th>\n",
       "    </tr>\n",
       "  </thead>\n",
       "  <tbody>\n",
       "    <tr>\n",
       "      <th>43</th>\n",
       "      <td>3f8166a48951dbb51398d398e1e828ba</td>\n",
       "      <td>37</td>\n",
       "      <td>7.51</td>\n",
       "      <td>1.93</td>\n",
       "      <td>1</td>\n",
       "      <td>138</td>\n",
       "      <td>19</td>\n",
       "      <td>30</td>\n",
       "      <td>Russia</td>\n",
       "      <td>Has no high school or college education</td>\n",
       "      <td>Women</td>\n",
       "      <td>Interest in Women</td>\n",
       "      <td>False</td>\n",
       "      <td>Unknown</td>\n",
       "      <td>23</td>\n",
       "      <td>Age group 14-25</td>\n",
       "    </tr>\n",
       "    <tr>\n",
       "      <th>255</th>\n",
       "      <td>3aac832e4356e8cd0a0e4ee857fe4374</td>\n",
       "      <td>71</td>\n",
       "      <td>4.52</td>\n",
       "      <td>1.94</td>\n",
       "      <td>18</td>\n",
       "      <td>0</td>\n",
       "      <td>18</td>\n",
       "      <td>29</td>\n",
       "      <td>United Kingdom</td>\n",
       "      <td>Has no high school or college education</td>\n",
       "      <td>Women</td>\n",
       "      <td>Interest in Women</td>\n",
       "      <td>False</td>\n",
       "      <td>Unknown</td>\n",
       "      <td>19</td>\n",
       "      <td>Age group 14-25</td>\n",
       "    </tr>\n",
       "  </tbody>\n",
       "</table>\n",
       "</div>"
      ],
      "text/plain": [
       "                                   ID  Number of conversations  \\\n",
       "43   3f8166a48951dbb51398d398e1e828ba                       37   \n",
       "255  3aac832e4356e8cd0a0e4ee857fe4374                       71   \n",
       "\n",
       "     Average Conversation Length  Average Conversation Length in Days  \\\n",
       "43                          7.51                                 1.93   \n",
       "255                         4.52                                 1.94   \n",
       "\n",
       "     Number of ghostings after 1st message  Number of matches  \\\n",
       "43                                       1                138   \n",
       "255                                     18                  0   \n",
       "\n",
       "     Minimum of Age filter  Maximum of Age filter         Country  \\\n",
       "43                      19                     30          Russia   \n",
       "255                     18                     29  United Kingdom   \n",
       "\n",
       "                                   Education Gender Interests in gender  \\\n",
       "43   Has no high school or college education  Women   Interest in Women   \n",
       "255  Has no high school or college education  Women   Interest in Women   \n",
       "\n",
       "     instagram Job title  Age            Group  \n",
       "43       False   Unknown   23  Age group 14-25  \n",
       "255      False   Unknown   19  Age group 14-25  "
      ]
     },
     "execution_count": 116,
     "metadata": {},
     "output_type": "execute_result"
    }
   ],
   "source": [
    "df[(df['Gender']=='Women')&(df['Interests in gender']=='Interest in Women')]"
   ]
  },
  {
   "cell_type": "code",
   "execution_count": 117,
   "id": "4d9d1008-fdff-4e10-a083-b7e725fd7006",
   "metadata": {},
   "outputs": [
    {
     "data": {
      "text/html": [
       "<div>\n",
       "<style scoped>\n",
       "    .dataframe tbody tr th:only-of-type {\n",
       "        vertical-align: middle;\n",
       "    }\n",
       "\n",
       "    .dataframe tbody tr th {\n",
       "        vertical-align: top;\n",
       "    }\n",
       "\n",
       "    .dataframe thead th {\n",
       "        text-align: right;\n",
       "    }\n",
       "</style>\n",
       "<table border=\"1\" class=\"dataframe\">\n",
       "  <thead>\n",
       "    <tr style=\"text-align: right;\">\n",
       "      <th></th>\n",
       "      <th>ID</th>\n",
       "      <th>Number of conversations</th>\n",
       "      <th>Average Conversation Length</th>\n",
       "      <th>Average Conversation Length in Days</th>\n",
       "      <th>Number of ghostings after 1st message</th>\n",
       "      <th>Number of matches</th>\n",
       "      <th>Minimum of Age filter</th>\n",
       "      <th>Maximum of Age filter</th>\n",
       "      <th>Country</th>\n",
       "      <th>Education</th>\n",
       "      <th>Gender</th>\n",
       "      <th>Interests in gender</th>\n",
       "      <th>instagram</th>\n",
       "      <th>Job title</th>\n",
       "      <th>Age</th>\n",
       "      <th>Group</th>\n",
       "    </tr>\n",
       "  </thead>\n",
       "  <tbody>\n",
       "    <tr>\n",
       "      <th>54</th>\n",
       "      <td>1a92c2bc439b6173c5daba0e36fb0151</td>\n",
       "      <td>944</td>\n",
       "      <td>2.33</td>\n",
       "      <td>2.75</td>\n",
       "      <td>268</td>\n",
       "      <td>2956</td>\n",
       "      <td>25</td>\n",
       "      <td>45</td>\n",
       "      <td>Germany</td>\n",
       "      <td>Has high school and/or college education</td>\n",
       "      <td>Women</td>\n",
       "      <td>Interest in Men and Women</td>\n",
       "      <td>False</td>\n",
       "      <td>Intern</td>\n",
       "      <td>23</td>\n",
       "      <td>Age group 14-25</td>\n",
       "    </tr>\n",
       "    <tr>\n",
       "      <th>222</th>\n",
       "      <td>3bae0caa42a35ed17186b825fc577aa6</td>\n",
       "      <td>305</td>\n",
       "      <td>4.60</td>\n",
       "      <td>0.47</td>\n",
       "      <td>109</td>\n",
       "      <td>833</td>\n",
       "      <td>24</td>\n",
       "      <td>80</td>\n",
       "      <td>Austria</td>\n",
       "      <td>Has high school and/or college education</td>\n",
       "      <td>Women</td>\n",
       "      <td>Interest in Men and Women</td>\n",
       "      <td>False</td>\n",
       "      <td>Unknown</td>\n",
       "      <td>18</td>\n",
       "      <td>Age group 14-25</td>\n",
       "    </tr>\n",
       "    <tr>\n",
       "      <th>351</th>\n",
       "      <td>a4b793d372df15fb545ca8cdaeda1e98</td>\n",
       "      <td>284</td>\n",
       "      <td>9.33</td>\n",
       "      <td>1.63</td>\n",
       "      <td>127</td>\n",
       "      <td>67</td>\n",
       "      <td>23</td>\n",
       "      <td>28</td>\n",
       "      <td>France</td>\n",
       "      <td>Has no high school or college education</td>\n",
       "      <td>Women</td>\n",
       "      <td>Interest in Men and Women</td>\n",
       "      <td>False</td>\n",
       "      <td>False</td>\n",
       "      <td>19</td>\n",
       "      <td>Age group 14-25</td>\n",
       "    </tr>\n",
       "    <tr>\n",
       "      <th>367</th>\n",
       "      <td>6143957529bb461e538b73deef73b1fb</td>\n",
       "      <td>37</td>\n",
       "      <td>20.59</td>\n",
       "      <td>2.36</td>\n",
       "      <td>2</td>\n",
       "      <td>181</td>\n",
       "      <td>21</td>\n",
       "      <td>30</td>\n",
       "      <td>Netherlands</td>\n",
       "      <td>Has high school and/or college education</td>\n",
       "      <td>Women</td>\n",
       "      <td>Interest in Men and Women</td>\n",
       "      <td>False</td>\n",
       "      <td>Unknown</td>\n",
       "      <td>21</td>\n",
       "      <td>Age group 14-25</td>\n",
       "    </tr>\n",
       "  </tbody>\n",
       "</table>\n",
       "</div>"
      ],
      "text/plain": [
       "                                   ID  Number of conversations  \\\n",
       "54   1a92c2bc439b6173c5daba0e36fb0151                      944   \n",
       "222  3bae0caa42a35ed17186b825fc577aa6                      305   \n",
       "351  a4b793d372df15fb545ca8cdaeda1e98                      284   \n",
       "367  6143957529bb461e538b73deef73b1fb                       37   \n",
       "\n",
       "     Average Conversation Length  Average Conversation Length in Days  \\\n",
       "54                          2.33                                 2.75   \n",
       "222                         4.60                                 0.47   \n",
       "351                         9.33                                 1.63   \n",
       "367                        20.59                                 2.36   \n",
       "\n",
       "     Number of ghostings after 1st message  Number of matches  \\\n",
       "54                                     268               2956   \n",
       "222                                    109                833   \n",
       "351                                    127                 67   \n",
       "367                                      2                181   \n",
       "\n",
       "     Minimum of Age filter  Maximum of Age filter      Country  \\\n",
       "54                      25                     45      Germany   \n",
       "222                     24                     80      Austria   \n",
       "351                     23                     28       France   \n",
       "367                     21                     30  Netherlands   \n",
       "\n",
       "                                    Education Gender  \\\n",
       "54   Has high school and/or college education  Women   \n",
       "222  Has high school and/or college education  Women   \n",
       "351   Has no high school or college education  Women   \n",
       "367  Has high school and/or college education  Women   \n",
       "\n",
       "           Interests in gender  instagram Job title  Age            Group  \n",
       "54   Interest in Men and Women      False    Intern   23  Age group 14-25  \n",
       "222  Interest in Men and Women      False   Unknown   18  Age group 14-25  \n",
       "351  Interest in Men and Women      False     False   19  Age group 14-25  \n",
       "367  Interest in Men and Women      False   Unknown   21  Age group 14-25  "
      ]
     },
     "execution_count": 117,
     "metadata": {},
     "output_type": "execute_result"
    }
   ],
   "source": [
    "df[(df['Gender']=='Women')&(df['Interests in gender']=='Interest in Men and Women')]"
   ]
  },
  {
   "cell_type": "code",
   "execution_count": 118,
   "id": "778568aa-8aee-4015-9efa-8265aad47064",
   "metadata": {},
   "outputs": [
    {
     "data": {
      "text/html": [
       "<div>\n",
       "<style scoped>\n",
       "    .dataframe tbody tr th:only-of-type {\n",
       "        vertical-align: middle;\n",
       "    }\n",
       "\n",
       "    .dataframe tbody tr th {\n",
       "        vertical-align: top;\n",
       "    }\n",
       "\n",
       "    .dataframe thead th {\n",
       "        text-align: right;\n",
       "    }\n",
       "</style>\n",
       "<table border=\"1\" class=\"dataframe\">\n",
       "  <thead>\n",
       "    <tr style=\"text-align: right;\">\n",
       "      <th></th>\n",
       "      <th>ID</th>\n",
       "      <th>Number of conversations</th>\n",
       "      <th>Average Conversation Length</th>\n",
       "      <th>Average Conversation Length in Days</th>\n",
       "      <th>Number of ghostings after 1st message</th>\n",
       "      <th>Number of matches</th>\n",
       "      <th>Minimum of Age filter</th>\n",
       "      <th>Maximum of Age filter</th>\n",
       "      <th>Country</th>\n",
       "      <th>Education</th>\n",
       "      <th>Gender</th>\n",
       "      <th>Interests in gender</th>\n",
       "      <th>instagram</th>\n",
       "      <th>Job title</th>\n",
       "      <th>Age</th>\n",
       "      <th>Group</th>\n",
       "    </tr>\n",
       "  </thead>\n",
       "  <tbody>\n",
       "    <tr>\n",
       "      <th>71</th>\n",
       "      <td>499576b9ebd6e28e253e665f21829d19</td>\n",
       "      <td>5</td>\n",
       "      <td>7.40</td>\n",
       "      <td>13.12</td>\n",
       "      <td>1</td>\n",
       "      <td>24</td>\n",
       "      <td>22</td>\n",
       "      <td>30</td>\n",
       "      <td>Netherlands</td>\n",
       "      <td>Has no high school or college education</td>\n",
       "      <td>Men</td>\n",
       "      <td>Interest in Men</td>\n",
       "      <td>False</td>\n",
       "      <td>Unknown</td>\n",
       "      <td>24</td>\n",
       "      <td>Age group 14-25</td>\n",
       "    </tr>\n",
       "    <tr>\n",
       "      <th>172</th>\n",
       "      <td>19b418ce85ee67f92141aa08ac81fe09</td>\n",
       "      <td>404</td>\n",
       "      <td>10.76</td>\n",
       "      <td>8.78</td>\n",
       "      <td>61</td>\n",
       "      <td>1833</td>\n",
       "      <td>20</td>\n",
       "      <td>48</td>\n",
       "      <td>France</td>\n",
       "      <td>Has high school and/or college education</td>\n",
       "      <td>Men</td>\n",
       "      <td>Interest in Men</td>\n",
       "      <td>True</td>\n",
       "      <td>Unknown</td>\n",
       "      <td>24</td>\n",
       "      <td>Age group 14-25</td>\n",
       "    </tr>\n",
       "    <tr>\n",
       "      <th>226</th>\n",
       "      <td>db017a02933fab249424e7deecfa558c</td>\n",
       "      <td>567</td>\n",
       "      <td>11.03</td>\n",
       "      <td>5.45</td>\n",
       "      <td>44</td>\n",
       "      <td>904</td>\n",
       "      <td>25</td>\n",
       "      <td>45</td>\n",
       "      <td>Netherlands</td>\n",
       "      <td>Has high school and/or college education</td>\n",
       "      <td>Men</td>\n",
       "      <td>Interest in Men</td>\n",
       "      <td>False</td>\n",
       "      <td>Music project manager</td>\n",
       "      <td>19</td>\n",
       "      <td>Age group 14-25</td>\n",
       "    </tr>\n",
       "    <tr>\n",
       "      <th>278</th>\n",
       "      <td>b820ae241a6ee33cab7a6f9b6ff910af</td>\n",
       "      <td>17</td>\n",
       "      <td>20.41</td>\n",
       "      <td>0.69</td>\n",
       "      <td>1</td>\n",
       "      <td>0</td>\n",
       "      <td>18</td>\n",
       "      <td>33</td>\n",
       "      <td>Finland</td>\n",
       "      <td>Has no high school or college education</td>\n",
       "      <td>Men</td>\n",
       "      <td>Interest in Men</td>\n",
       "      <td>False</td>\n",
       "      <td>Unknown</td>\n",
       "      <td>20</td>\n",
       "      <td>Age group 14-25</td>\n",
       "    </tr>\n",
       "    <tr>\n",
       "      <th>291</th>\n",
       "      <td>476a9a7baee665b179173e5418f21306</td>\n",
       "      <td>158</td>\n",
       "      <td>4.83</td>\n",
       "      <td>6.31</td>\n",
       "      <td>25</td>\n",
       "      <td>832</td>\n",
       "      <td>18</td>\n",
       "      <td>22</td>\n",
       "      <td>Austria</td>\n",
       "      <td>Has no high school or college education</td>\n",
       "      <td>Men</td>\n",
       "      <td>Interest in Men</td>\n",
       "      <td>False</td>\n",
       "      <td>Student</td>\n",
       "      <td>17</td>\n",
       "      <td>Age group 14-25</td>\n",
       "    </tr>\n",
       "    <tr>\n",
       "      <th>381</th>\n",
       "      <td>735f47cf6ca1c55946fe1602e5db2340</td>\n",
       "      <td>66</td>\n",
       "      <td>10.15</td>\n",
       "      <td>8.56</td>\n",
       "      <td>19</td>\n",
       "      <td>224</td>\n",
       "      <td>18</td>\n",
       "      <td>44</td>\n",
       "      <td>France</td>\n",
       "      <td>Has no high school or college education</td>\n",
       "      <td>Men</td>\n",
       "      <td>Interest in Men</td>\n",
       "      <td>False</td>\n",
       "      <td>False</td>\n",
       "      <td>20</td>\n",
       "      <td>Age group 14-25</td>\n",
       "    </tr>\n",
       "    <tr>\n",
       "      <th>388</th>\n",
       "      <td>ec84081bb1c7633d2f82448d86876aaa</td>\n",
       "      <td>415</td>\n",
       "      <td>5.47</td>\n",
       "      <td>2.28</td>\n",
       "      <td>101</td>\n",
       "      <td>1476</td>\n",
       "      <td>19</td>\n",
       "      <td>35</td>\n",
       "      <td>United Kingdom</td>\n",
       "      <td>Has no high school or college education</td>\n",
       "      <td>Men</td>\n",
       "      <td>Interest in Men</td>\n",
       "      <td>False</td>\n",
       "      <td>Unknown</td>\n",
       "      <td>20</td>\n",
       "      <td>Age group 14-25</td>\n",
       "    </tr>\n",
       "  </tbody>\n",
       "</table>\n",
       "</div>"
      ],
      "text/plain": [
       "                                   ID  Number of conversations  \\\n",
       "71   499576b9ebd6e28e253e665f21829d19                        5   \n",
       "172  19b418ce85ee67f92141aa08ac81fe09                      404   \n",
       "226  db017a02933fab249424e7deecfa558c                      567   \n",
       "278  b820ae241a6ee33cab7a6f9b6ff910af                       17   \n",
       "291  476a9a7baee665b179173e5418f21306                      158   \n",
       "381  735f47cf6ca1c55946fe1602e5db2340                       66   \n",
       "388  ec84081bb1c7633d2f82448d86876aaa                      415   \n",
       "\n",
       "     Average Conversation Length  Average Conversation Length in Days  \\\n",
       "71                          7.40                                13.12   \n",
       "172                        10.76                                 8.78   \n",
       "226                        11.03                                 5.45   \n",
       "278                        20.41                                 0.69   \n",
       "291                         4.83                                 6.31   \n",
       "381                        10.15                                 8.56   \n",
       "388                         5.47                                 2.28   \n",
       "\n",
       "     Number of ghostings after 1st message  Number of matches  \\\n",
       "71                                       1                 24   \n",
       "172                                     61               1833   \n",
       "226                                     44                904   \n",
       "278                                      1                  0   \n",
       "291                                     25                832   \n",
       "381                                     19                224   \n",
       "388                                    101               1476   \n",
       "\n",
       "     Minimum of Age filter  Maximum of Age filter         Country  \\\n",
       "71                      22                     30     Netherlands   \n",
       "172                     20                     48          France   \n",
       "226                     25                     45     Netherlands   \n",
       "278                     18                     33         Finland   \n",
       "291                     18                     22         Austria   \n",
       "381                     18                     44          France   \n",
       "388                     19                     35  United Kingdom   \n",
       "\n",
       "                                    Education Gender Interests in gender  \\\n",
       "71    Has no high school or college education    Men     Interest in Men   \n",
       "172  Has high school and/or college education    Men     Interest in Men   \n",
       "226  Has high school and/or college education    Men     Interest in Men   \n",
       "278   Has no high school or college education    Men     Interest in Men   \n",
       "291   Has no high school or college education    Men     Interest in Men   \n",
       "381   Has no high school or college education    Men     Interest in Men   \n",
       "388   Has no high school or college education    Men     Interest in Men   \n",
       "\n",
       "     instagram              Job title  Age            Group  \n",
       "71       False                Unknown   24  Age group 14-25  \n",
       "172       True                Unknown   24  Age group 14-25  \n",
       "226      False  Music project manager   19  Age group 14-25  \n",
       "278      False                Unknown   20  Age group 14-25  \n",
       "291      False                Student   17  Age group 14-25  \n",
       "381      False                  False   20  Age group 14-25  \n",
       "388      False                Unknown   20  Age group 14-25  "
      ]
     },
     "execution_count": 118,
     "metadata": {},
     "output_type": "execute_result"
    }
   ],
   "source": [
    "df[(df['Gender']=='Men')&(df['Interests in gender']=='Interest in Men')]"
   ]
  },
  {
   "cell_type": "code",
   "execution_count": 119,
   "id": "16edbc4f-85d0-4dca-b1d9-9762e9f78ef8",
   "metadata": {},
   "outputs": [
    {
     "data": {
      "text/html": [
       "<div>\n",
       "<style scoped>\n",
       "    .dataframe tbody tr th:only-of-type {\n",
       "        vertical-align: middle;\n",
       "    }\n",
       "\n",
       "    .dataframe tbody tr th {\n",
       "        vertical-align: top;\n",
       "    }\n",
       "\n",
       "    .dataframe thead th {\n",
       "        text-align: right;\n",
       "    }\n",
       "</style>\n",
       "<table border=\"1\" class=\"dataframe\">\n",
       "  <thead>\n",
       "    <tr style=\"text-align: right;\">\n",
       "      <th></th>\n",
       "      <th>ID</th>\n",
       "      <th>Number of conversations</th>\n",
       "      <th>Average Conversation Length</th>\n",
       "      <th>Average Conversation Length in Days</th>\n",
       "      <th>Number of ghostings after 1st message</th>\n",
       "      <th>Number of matches</th>\n",
       "      <th>Minimum of Age filter</th>\n",
       "      <th>Maximum of Age filter</th>\n",
       "      <th>Country</th>\n",
       "      <th>Education</th>\n",
       "      <th>Gender</th>\n",
       "      <th>Interests in gender</th>\n",
       "      <th>instagram</th>\n",
       "      <th>Job title</th>\n",
       "      <th>Age</th>\n",
       "      <th>Group</th>\n",
       "    </tr>\n",
       "  </thead>\n",
       "  <tbody>\n",
       "    <tr>\n",
       "      <th>50</th>\n",
       "      <td>60d8c4278ba74a4739eb420d70f76111</td>\n",
       "      <td>22</td>\n",
       "      <td>5.59</td>\n",
       "      <td>0.24</td>\n",
       "      <td>8</td>\n",
       "      <td>115</td>\n",
       "      <td>18</td>\n",
       "      <td>24</td>\n",
       "      <td>United Kingdom</td>\n",
       "      <td>Has no high school or college education</td>\n",
       "      <td>Men</td>\n",
       "      <td>Interest in Men and Women</td>\n",
       "      <td>False</td>\n",
       "      <td>Environmental science student</td>\n",
       "      <td>20</td>\n",
       "      <td>Age group 14-25</td>\n",
       "    </tr>\n",
       "    <tr>\n",
       "      <th>125</th>\n",
       "      <td>b549af7fb7dfa41d7fc9c9907cc8bb31</td>\n",
       "      <td>27</td>\n",
       "      <td>5.15</td>\n",
       "      <td>0.22</td>\n",
       "      <td>6</td>\n",
       "      <td>177</td>\n",
       "      <td>18</td>\n",
       "      <td>25</td>\n",
       "      <td>United Kingdom</td>\n",
       "      <td>Has no high school or college education</td>\n",
       "      <td>Men</td>\n",
       "      <td>Interest in Men and Women</td>\n",
       "      <td>False</td>\n",
       "      <td>Unknown</td>\n",
       "      <td>20</td>\n",
       "      <td>Age group 14-25</td>\n",
       "    </tr>\n",
       "    <tr>\n",
       "      <th>239</th>\n",
       "      <td>f400cf377369a31551ef00d448bda349</td>\n",
       "      <td>397</td>\n",
       "      <td>10.02</td>\n",
       "      <td>4.90</td>\n",
       "      <td>11</td>\n",
       "      <td>1138</td>\n",
       "      <td>22</td>\n",
       "      <td>30</td>\n",
       "      <td>Denmark</td>\n",
       "      <td>Has high school and/or college education</td>\n",
       "      <td>Men</td>\n",
       "      <td>Interest in Men and Women</td>\n",
       "      <td>True</td>\n",
       "      <td>Consultant</td>\n",
       "      <td>21</td>\n",
       "      <td>Age group 14-25</td>\n",
       "    </tr>\n",
       "    <tr>\n",
       "      <th>296</th>\n",
       "      <td>8dca730276a6ae9ae18f56492c2b6eaf</td>\n",
       "      <td>28</td>\n",
       "      <td>8.86</td>\n",
       "      <td>0.85</td>\n",
       "      <td>0</td>\n",
       "      <td>0</td>\n",
       "      <td>18</td>\n",
       "      <td>30</td>\n",
       "      <td>Belgium</td>\n",
       "      <td>Has no high school or college education</td>\n",
       "      <td>Men</td>\n",
       "      <td>Interest in Men and Women</td>\n",
       "      <td>False</td>\n",
       "      <td>Unknown</td>\n",
       "      <td>25</td>\n",
       "      <td>Age group 36-51</td>\n",
       "    </tr>\n",
       "    <tr>\n",
       "      <th>299</th>\n",
       "      <td>69e66b7860ea5b684558207a04753621</td>\n",
       "      <td>50</td>\n",
       "      <td>5.68</td>\n",
       "      <td>7.15</td>\n",
       "      <td>0</td>\n",
       "      <td>2</td>\n",
       "      <td>18</td>\n",
       "      <td>30</td>\n",
       "      <td>Germany</td>\n",
       "      <td>Has no high school or college education</td>\n",
       "      <td>Men</td>\n",
       "      <td>Interest in Men and Women</td>\n",
       "      <td>True</td>\n",
       "      <td>Unknown</td>\n",
       "      <td>19</td>\n",
       "      <td>Age group 14-25</td>\n",
       "    </tr>\n",
       "    <tr>\n",
       "      <th>304</th>\n",
       "      <td>ae82ca90c68b22112b705104b8e5293d</td>\n",
       "      <td>1208</td>\n",
       "      <td>3.34</td>\n",
       "      <td>7.00</td>\n",
       "      <td>146</td>\n",
       "      <td>4998</td>\n",
       "      <td>18</td>\n",
       "      <td>38</td>\n",
       "      <td>Sweden</td>\n",
       "      <td>Has high school and/or college education</td>\n",
       "      <td>Men</td>\n",
       "      <td>Interest in Men and Women</td>\n",
       "      <td>False</td>\n",
       "      <td>Programmer</td>\n",
       "      <td>21</td>\n",
       "      <td>Age group 14-25</td>\n",
       "    </tr>\n",
       "    <tr>\n",
       "      <th>360</th>\n",
       "      <td>916cbb0c80e0ca6b2b3d4b6576ac52c6</td>\n",
       "      <td>362</td>\n",
       "      <td>9.53</td>\n",
       "      <td>2.15</td>\n",
       "      <td>2</td>\n",
       "      <td>248</td>\n",
       "      <td>18</td>\n",
       "      <td>40</td>\n",
       "      <td>Finland</td>\n",
       "      <td>Has no high school or college education</td>\n",
       "      <td>Men</td>\n",
       "      <td>Interest in Men and Women</td>\n",
       "      <td>False</td>\n",
       "      <td>Unknown</td>\n",
       "      <td>34</td>\n",
       "      <td>Age group 26-35</td>\n",
       "    </tr>\n",
       "    <tr>\n",
       "      <th>382</th>\n",
       "      <td>98b0577ca2ce1ebdf600d356bcb36f6e</td>\n",
       "      <td>42</td>\n",
       "      <td>7.95</td>\n",
       "      <td>1.00</td>\n",
       "      <td>0</td>\n",
       "      <td>11</td>\n",
       "      <td>18</td>\n",
       "      <td>48</td>\n",
       "      <td>United Kingdom</td>\n",
       "      <td>Has no high school or college education</td>\n",
       "      <td>Men</td>\n",
       "      <td>Interest in Men and Women</td>\n",
       "      <td>False</td>\n",
       "      <td>Unknown</td>\n",
       "      <td>30</td>\n",
       "      <td>Age group 26-35</td>\n",
       "    </tr>\n",
       "    <tr>\n",
       "      <th>394</th>\n",
       "      <td>ae07095ee64c0423353ee5991fad5de1</td>\n",
       "      <td>443</td>\n",
       "      <td>8.56</td>\n",
       "      <td>0.94</td>\n",
       "      <td>31</td>\n",
       "      <td>766</td>\n",
       "      <td>19</td>\n",
       "      <td>23</td>\n",
       "      <td>United Kingdom</td>\n",
       "      <td>Has no high school or college education</td>\n",
       "      <td>Men</td>\n",
       "      <td>Interest in Men and Women</td>\n",
       "      <td>False</td>\n",
       "      <td>Unknown</td>\n",
       "      <td>19</td>\n",
       "      <td>Age group 14-25</td>\n",
       "    </tr>\n",
       "  </tbody>\n",
       "</table>\n",
       "</div>"
      ],
      "text/plain": [
       "                                   ID  Number of conversations  \\\n",
       "50   60d8c4278ba74a4739eb420d70f76111                       22   \n",
       "125  b549af7fb7dfa41d7fc9c9907cc8bb31                       27   \n",
       "239  f400cf377369a31551ef00d448bda349                      397   \n",
       "296  8dca730276a6ae9ae18f56492c2b6eaf                       28   \n",
       "299  69e66b7860ea5b684558207a04753621                       50   \n",
       "304  ae82ca90c68b22112b705104b8e5293d                     1208   \n",
       "360  916cbb0c80e0ca6b2b3d4b6576ac52c6                      362   \n",
       "382  98b0577ca2ce1ebdf600d356bcb36f6e                       42   \n",
       "394  ae07095ee64c0423353ee5991fad5de1                      443   \n",
       "\n",
       "     Average Conversation Length  Average Conversation Length in Days  \\\n",
       "50                          5.59                                 0.24   \n",
       "125                         5.15                                 0.22   \n",
       "239                        10.02                                 4.90   \n",
       "296                         8.86                                 0.85   \n",
       "299                         5.68                                 7.15   \n",
       "304                         3.34                                 7.00   \n",
       "360                         9.53                                 2.15   \n",
       "382                         7.95                                 1.00   \n",
       "394                         8.56                                 0.94   \n",
       "\n",
       "     Number of ghostings after 1st message  Number of matches  \\\n",
       "50                                       8                115   \n",
       "125                                      6                177   \n",
       "239                                     11               1138   \n",
       "296                                      0                  0   \n",
       "299                                      0                  2   \n",
       "304                                    146               4998   \n",
       "360                                      2                248   \n",
       "382                                      0                 11   \n",
       "394                                     31                766   \n",
       "\n",
       "     Minimum of Age filter  Maximum of Age filter         Country  \\\n",
       "50                      18                     24  United Kingdom   \n",
       "125                     18                     25  United Kingdom   \n",
       "239                     22                     30         Denmark   \n",
       "296                     18                     30         Belgium   \n",
       "299                     18                     30         Germany   \n",
       "304                     18                     38          Sweden   \n",
       "360                     18                     40         Finland   \n",
       "382                     18                     48  United Kingdom   \n",
       "394                     19                     23  United Kingdom   \n",
       "\n",
       "                                    Education Gender  \\\n",
       "50    Has no high school or college education    Men   \n",
       "125   Has no high school or college education    Men   \n",
       "239  Has high school and/or college education    Men   \n",
       "296   Has no high school or college education    Men   \n",
       "299   Has no high school or college education    Men   \n",
       "304  Has high school and/or college education    Men   \n",
       "360   Has no high school or college education    Men   \n",
       "382   Has no high school or college education    Men   \n",
       "394   Has no high school or college education    Men   \n",
       "\n",
       "           Interests in gender  instagram                      Job title  Age  \\\n",
       "50   Interest in Men and Women      False  Environmental science student   20   \n",
       "125  Interest in Men and Women      False                        Unknown   20   \n",
       "239  Interest in Men and Women       True                     Consultant   21   \n",
       "296  Interest in Men and Women      False                        Unknown   25   \n",
       "299  Interest in Men and Women       True                        Unknown   19   \n",
       "304  Interest in Men and Women      False                     Programmer   21   \n",
       "360  Interest in Men and Women      False                        Unknown   34   \n",
       "382  Interest in Men and Women      False                        Unknown   30   \n",
       "394  Interest in Men and Women      False                        Unknown   19   \n",
       "\n",
       "               Group  \n",
       "50   Age group 14-25  \n",
       "125  Age group 14-25  \n",
       "239  Age group 14-25  \n",
       "296  Age group 36-51  \n",
       "299  Age group 14-25  \n",
       "304  Age group 14-25  \n",
       "360  Age group 26-35  \n",
       "382  Age group 26-35  \n",
       "394  Age group 14-25  "
      ]
     },
     "execution_count": 119,
     "metadata": {},
     "output_type": "execute_result"
    }
   ],
   "source": [
    "df[(df['Gender']=='Men')&(df['Interests in gender']=='Interest in Men and Women')]"
   ]
  },
  {
   "cell_type": "code",
   "execution_count": 127,
   "id": "73e22679-d305-4634-ac80-b15889c8c170",
   "metadata": {},
   "outputs": [
    {
     "data": {
      "text/html": [
       "<html>\n",
       "<head><meta charset=\"utf-8\" /></head>\n",
       "<body>\n",
       "    <div>            <script src=\"https://cdnjs.cloudflare.com/ajax/libs/mathjax/2.7.5/MathJax.js?config=TeX-AMS-MML_SVG\"></script><script type=\"text/javascript\">if (window.MathJax && window.MathJax.Hub && window.MathJax.Hub.Config) {window.MathJax.Hub.Config({SVG: {font: \"STIX-Web\"}});}</script>                <script type=\"text/javascript\">window.PlotlyConfig = {MathJaxConfig: 'local'};</script>\n",
       "        <script charset=\"utf-8\" src=\"https://cdn.plot.ly/plotly-3.1.0.min.js\" integrity=\"sha256-Ei4740bWZhaUTQuD6q9yQlgVCMPBz6CZWhevDYPv93A=\" crossorigin=\"anonymous\"></script>                <div id=\"085741e6-dced-4bb1-8623-75ed583533f0\" class=\"plotly-graph-div\" style=\"height:500px; width:700px;\"></div>            <script type=\"text/javascript\">                window.PLOTLYENV=window.PLOTLYENV || {};                                if (document.getElementById(\"085741e6-dced-4bb1-8623-75ed583533f0\")) {                    Plotly.newPlot(                        \"085741e6-dced-4bb1-8623-75ed583533f0\",                        [{\"alignmentgroup\":\"True\",\"box\":{\"visible\":false},\"hovertemplate\":\"Interests in gender=%{y}\\u003cbr\\u003eGender=%{x}\\u003cextra\\u003e\\u003c\\u002fextra\\u003e\",\"legendgroup\":\"Interest in Men\",\"marker\":{\"color\":\"blue\"},\"name\":\"Interest in Men\",\"offsetgroup\":\"Interest in Men\",\"orientation\":\"v\",\"points\":\"all\",\"scalegroup\":\"True\",\"showlegend\":true,\"x\":[\"Men\",\"Women\"],\"x0\":\" \",\"xaxis\":\"x\",\"y\":[\"Interest in Men\",\"Interest in Men\"],\"y0\":\" \",\"yaxis\":\"y\",\"type\":\"violin\"},{\"alignmentgroup\":\"True\",\"box\":{\"visible\":false},\"hovertemplate\":\"Interests in gender=%{y}\\u003cbr\\u003eGender=%{x}\\u003cextra\\u003e\\u003c\\u002fextra\\u003e\",\"legendgroup\":\"Interest in Men and Women\",\"marker\":{\"color\":\"green\"},\"name\":\"Interest in Men and Women\",\"offsetgroup\":\"Interest in Men and Women\",\"orientation\":\"v\",\"points\":\"all\",\"scalegroup\":\"True\",\"showlegend\":true,\"x\":[\"Men\",\"Women\"],\"x0\":\" \",\"xaxis\":\"x\",\"y\":[\"Interest in Men and Women\",\"Interest in Men and Women\"],\"y0\":\" \",\"yaxis\":\"y\",\"type\":\"violin\"},{\"alignmentgroup\":\"True\",\"box\":{\"visible\":false},\"hovertemplate\":\"Interests in gender=%{y}\\u003cbr\\u003eGender=%{x}\\u003cextra\\u003e\\u003c\\u002fextra\\u003e\",\"legendgroup\":\"Interest in Women\",\"marker\":{\"color\":\"red\"},\"name\":\"Interest in Women\",\"offsetgroup\":\"Interest in Women\",\"orientation\":\"v\",\"points\":\"all\",\"scalegroup\":\"True\",\"showlegend\":true,\"x\":[\"Men\",\"Women\"],\"x0\":\" \",\"xaxis\":\"x\",\"y\":[\"Interest in Women\",\"Interest in Women\"],\"y0\":\" \",\"yaxis\":\"y\",\"type\":\"violin\"}],                        {\"template\":{\"data\":{\"histogram2dcontour\":[{\"type\":\"histogram2dcontour\",\"colorbar\":{\"outlinewidth\":0,\"ticks\":\"\"},\"colorscale\":[[0.0,\"#0d0887\"],[0.1111111111111111,\"#46039f\"],[0.2222222222222222,\"#7201a8\"],[0.3333333333333333,\"#9c179e\"],[0.4444444444444444,\"#bd3786\"],[0.5555555555555556,\"#d8576b\"],[0.6666666666666666,\"#ed7953\"],[0.7777777777777778,\"#fb9f3a\"],[0.8888888888888888,\"#fdca26\"],[1.0,\"#f0f921\"]]}],\"choropleth\":[{\"type\":\"choropleth\",\"colorbar\":{\"outlinewidth\":0,\"ticks\":\"\"}}],\"histogram2d\":[{\"type\":\"histogram2d\",\"colorbar\":{\"outlinewidth\":0,\"ticks\":\"\"},\"colorscale\":[[0.0,\"#0d0887\"],[0.1111111111111111,\"#46039f\"],[0.2222222222222222,\"#7201a8\"],[0.3333333333333333,\"#9c179e\"],[0.4444444444444444,\"#bd3786\"],[0.5555555555555556,\"#d8576b\"],[0.6666666666666666,\"#ed7953\"],[0.7777777777777778,\"#fb9f3a\"],[0.8888888888888888,\"#fdca26\"],[1.0,\"#f0f921\"]]}],\"heatmap\":[{\"type\":\"heatmap\",\"colorbar\":{\"outlinewidth\":0,\"ticks\":\"\"},\"colorscale\":[[0.0,\"#0d0887\"],[0.1111111111111111,\"#46039f\"],[0.2222222222222222,\"#7201a8\"],[0.3333333333333333,\"#9c179e\"],[0.4444444444444444,\"#bd3786\"],[0.5555555555555556,\"#d8576b\"],[0.6666666666666666,\"#ed7953\"],[0.7777777777777778,\"#fb9f3a\"],[0.8888888888888888,\"#fdca26\"],[1.0,\"#f0f921\"]]}],\"contourcarpet\":[{\"type\":\"contourcarpet\",\"colorbar\":{\"outlinewidth\":0,\"ticks\":\"\"}}],\"contour\":[{\"type\":\"contour\",\"colorbar\":{\"outlinewidth\":0,\"ticks\":\"\"},\"colorscale\":[[0.0,\"#0d0887\"],[0.1111111111111111,\"#46039f\"],[0.2222222222222222,\"#7201a8\"],[0.3333333333333333,\"#9c179e\"],[0.4444444444444444,\"#bd3786\"],[0.5555555555555556,\"#d8576b\"],[0.6666666666666666,\"#ed7953\"],[0.7777777777777778,\"#fb9f3a\"],[0.8888888888888888,\"#fdca26\"],[1.0,\"#f0f921\"]]}],\"surface\":[{\"type\":\"surface\",\"colorbar\":{\"outlinewidth\":0,\"ticks\":\"\"},\"colorscale\":[[0.0,\"#0d0887\"],[0.1111111111111111,\"#46039f\"],[0.2222222222222222,\"#7201a8\"],[0.3333333333333333,\"#9c179e\"],[0.4444444444444444,\"#bd3786\"],[0.5555555555555556,\"#d8576b\"],[0.6666666666666666,\"#ed7953\"],[0.7777777777777778,\"#fb9f3a\"],[0.8888888888888888,\"#fdca26\"],[1.0,\"#f0f921\"]]}],\"mesh3d\":[{\"type\":\"mesh3d\",\"colorbar\":{\"outlinewidth\":0,\"ticks\":\"\"}}],\"scatter\":[{\"fillpattern\":{\"fillmode\":\"overlay\",\"size\":10,\"solidity\":0.2},\"type\":\"scatter\"}],\"parcoords\":[{\"type\":\"parcoords\",\"line\":{\"colorbar\":{\"outlinewidth\":0,\"ticks\":\"\"}}}],\"scatterpolargl\":[{\"type\":\"scatterpolargl\",\"marker\":{\"colorbar\":{\"outlinewidth\":0,\"ticks\":\"\"}}}],\"bar\":[{\"error_x\":{\"color\":\"#2a3f5f\"},\"error_y\":{\"color\":\"#2a3f5f\"},\"marker\":{\"line\":{\"color\":\"#E5ECF6\",\"width\":0.5},\"pattern\":{\"fillmode\":\"overlay\",\"size\":10,\"solidity\":0.2}},\"type\":\"bar\"}],\"scattergeo\":[{\"type\":\"scattergeo\",\"marker\":{\"colorbar\":{\"outlinewidth\":0,\"ticks\":\"\"}}}],\"scatterpolar\":[{\"type\":\"scatterpolar\",\"marker\":{\"colorbar\":{\"outlinewidth\":0,\"ticks\":\"\"}}}],\"histogram\":[{\"marker\":{\"pattern\":{\"fillmode\":\"overlay\",\"size\":10,\"solidity\":0.2}},\"type\":\"histogram\"}],\"scattergl\":[{\"type\":\"scattergl\",\"marker\":{\"colorbar\":{\"outlinewidth\":0,\"ticks\":\"\"}}}],\"scatter3d\":[{\"type\":\"scatter3d\",\"line\":{\"colorbar\":{\"outlinewidth\":0,\"ticks\":\"\"}},\"marker\":{\"colorbar\":{\"outlinewidth\":0,\"ticks\":\"\"}}}],\"scattermap\":[{\"type\":\"scattermap\",\"marker\":{\"colorbar\":{\"outlinewidth\":0,\"ticks\":\"\"}}}],\"scattermapbox\":[{\"type\":\"scattermapbox\",\"marker\":{\"colorbar\":{\"outlinewidth\":0,\"ticks\":\"\"}}}],\"scatterternary\":[{\"type\":\"scatterternary\",\"marker\":{\"colorbar\":{\"outlinewidth\":0,\"ticks\":\"\"}}}],\"scattercarpet\":[{\"type\":\"scattercarpet\",\"marker\":{\"colorbar\":{\"outlinewidth\":0,\"ticks\":\"\"}}}],\"carpet\":[{\"aaxis\":{\"endlinecolor\":\"#2a3f5f\",\"gridcolor\":\"white\",\"linecolor\":\"white\",\"minorgridcolor\":\"white\",\"startlinecolor\":\"#2a3f5f\"},\"baxis\":{\"endlinecolor\":\"#2a3f5f\",\"gridcolor\":\"white\",\"linecolor\":\"white\",\"minorgridcolor\":\"white\",\"startlinecolor\":\"#2a3f5f\"},\"type\":\"carpet\"}],\"table\":[{\"cells\":{\"fill\":{\"color\":\"#EBF0F8\"},\"line\":{\"color\":\"white\"}},\"header\":{\"fill\":{\"color\":\"#C8D4E3\"},\"line\":{\"color\":\"white\"}},\"type\":\"table\"}],\"barpolar\":[{\"marker\":{\"line\":{\"color\":\"#E5ECF6\",\"width\":0.5},\"pattern\":{\"fillmode\":\"overlay\",\"size\":10,\"solidity\":0.2}},\"type\":\"barpolar\"}],\"pie\":[{\"automargin\":true,\"type\":\"pie\"}]},\"layout\":{\"autotypenumbers\":\"strict\",\"colorway\":[\"#636efa\",\"#EF553B\",\"#00cc96\",\"#ab63fa\",\"#FFA15A\",\"#19d3f3\",\"#FF6692\",\"#B6E880\",\"#FF97FF\",\"#FECB52\"],\"font\":{\"color\":\"#2a3f5f\"},\"hovermode\":\"closest\",\"hoverlabel\":{\"align\":\"left\"},\"paper_bgcolor\":\"white\",\"plot_bgcolor\":\"#E5ECF6\",\"polar\":{\"bgcolor\":\"#E5ECF6\",\"angularaxis\":{\"gridcolor\":\"white\",\"linecolor\":\"white\",\"ticks\":\"\"},\"radialaxis\":{\"gridcolor\":\"white\",\"linecolor\":\"white\",\"ticks\":\"\"}},\"ternary\":{\"bgcolor\":\"#E5ECF6\",\"aaxis\":{\"gridcolor\":\"white\",\"linecolor\":\"white\",\"ticks\":\"\"},\"baxis\":{\"gridcolor\":\"white\",\"linecolor\":\"white\",\"ticks\":\"\"},\"caxis\":{\"gridcolor\":\"white\",\"linecolor\":\"white\",\"ticks\":\"\"}},\"coloraxis\":{\"colorbar\":{\"outlinewidth\":0,\"ticks\":\"\"}},\"colorscale\":{\"sequential\":[[0.0,\"#0d0887\"],[0.1111111111111111,\"#46039f\"],[0.2222222222222222,\"#7201a8\"],[0.3333333333333333,\"#9c179e\"],[0.4444444444444444,\"#bd3786\"],[0.5555555555555556,\"#d8576b\"],[0.6666666666666666,\"#ed7953\"],[0.7777777777777778,\"#fb9f3a\"],[0.8888888888888888,\"#fdca26\"],[1.0,\"#f0f921\"]],\"sequentialminus\":[[0.0,\"#0d0887\"],[0.1111111111111111,\"#46039f\"],[0.2222222222222222,\"#7201a8\"],[0.3333333333333333,\"#9c179e\"],[0.4444444444444444,\"#bd3786\"],[0.5555555555555556,\"#d8576b\"],[0.6666666666666666,\"#ed7953\"],[0.7777777777777778,\"#fb9f3a\"],[0.8888888888888888,\"#fdca26\"],[1.0,\"#f0f921\"]],\"diverging\":[[0,\"#8e0152\"],[0.1,\"#c51b7d\"],[0.2,\"#de77ae\"],[0.3,\"#f1b6da\"],[0.4,\"#fde0ef\"],[0.5,\"#f7f7f7\"],[0.6,\"#e6f5d0\"],[0.7,\"#b8e186\"],[0.8,\"#7fbc41\"],[0.9,\"#4d9221\"],[1,\"#276419\"]]},\"xaxis\":{\"gridcolor\":\"white\",\"linecolor\":\"white\",\"ticks\":\"\",\"title\":{\"standoff\":15},\"zerolinecolor\":\"white\",\"automargin\":true,\"zerolinewidth\":2},\"yaxis\":{\"gridcolor\":\"white\",\"linecolor\":\"white\",\"ticks\":\"\",\"title\":{\"standoff\":15},\"zerolinecolor\":\"white\",\"automargin\":true,\"zerolinewidth\":2},\"scene\":{\"xaxis\":{\"backgroundcolor\":\"#E5ECF6\",\"gridcolor\":\"white\",\"linecolor\":\"white\",\"showbackground\":true,\"ticks\":\"\",\"zerolinecolor\":\"white\",\"gridwidth\":2},\"yaxis\":{\"backgroundcolor\":\"#E5ECF6\",\"gridcolor\":\"white\",\"linecolor\":\"white\",\"showbackground\":true,\"ticks\":\"\",\"zerolinecolor\":\"white\",\"gridwidth\":2},\"zaxis\":{\"backgroundcolor\":\"#E5ECF6\",\"gridcolor\":\"white\",\"linecolor\":\"white\",\"showbackground\":true,\"ticks\":\"\",\"zerolinecolor\":\"white\",\"gridwidth\":2}},\"shapedefaults\":{\"line\":{\"color\":\"#2a3f5f\"}},\"annotationdefaults\":{\"arrowcolor\":\"#2a3f5f\",\"arrowhead\":0,\"arrowwidth\":1},\"geo\":{\"bgcolor\":\"white\",\"landcolor\":\"#E5ECF6\",\"subunitcolor\":\"white\",\"showland\":true,\"showlakes\":true,\"lakecolor\":\"white\"},\"title\":{\"x\":0.05},\"mapbox\":{\"style\":\"light\"}}},\"xaxis\":{\"anchor\":\"y\",\"domain\":[0.0,1.0],\"title\":{\"text\":\"Number of matches\"},\"tickfont\":{\"weight\":\"bold\",\"size\":10}},\"yaxis\":{\"anchor\":\"x\",\"domain\":[0.0,1.0],\"title\":{\"text\":\"Interests in gender\"},\"categoryorder\":\"array\",\"categoryarray\":[\"Interest in Women\",\"Interest in Men and Women\",\"Interest in Men\"],\"tickfont\":{\"weight\":\"bold\",\"size\":12}},\"legend\":{\"title\":{\"text\":\"Interests in gender\"},\"tracegroupgap\":0},\"margin\":{\"t\":60},\"violinmode\":\"group\",\"title\":{\"font\":{\"size\":18,\"weight\":\"bold\"},\"text\":\"Number of matches by the Interests in gender\",\"x\":0.5},\"showlegend\":true,\"width\":700,\"height\":500},                        {\"responsive\": true}                    ).then(function(){\n",
       "                            \n",
       "var gd = document.getElementById('085741e6-dced-4bb1-8623-75ed583533f0');\n",
       "var x = new MutationObserver(function (mutations, observer) {{\n",
       "        var display = window.getComputedStyle(gd).display;\n",
       "        if (!display || display === 'none') {{\n",
       "            console.log([gd, 'removed!']);\n",
       "            Plotly.purge(gd);\n",
       "            observer.disconnect();\n",
       "        }}\n",
       "}});\n",
       "\n",
       "// Listen for the removal of the full notebook cells\n",
       "var notebookContainer = gd.closest('#notebook-container');\n",
       "if (notebookContainer) {{\n",
       "    x.observe(notebookContainer, {childList: true});\n",
       "}}\n",
       "\n",
       "// Listen for the clearing of the current output cell\n",
       "var outputEl = gd.closest('.output');\n",
       "if (outputEl) {{\n",
       "    x.observe(outputEl, {childList: true});\n",
       "}}\n",
       "\n",
       "                        })                };            </script>        </div>\n",
       "</body>\n",
       "</html>"
      ]
     },
     "metadata": {},
     "output_type": "display_data"
    }
   ],
   "source": [
    "fig = px.violin(\n",
    "    gender_interest,\n",
    "    y='Interests in gender',\n",
    "    x='Gender',\n",
    "    color='Interests in gender', \n",
    "    points='all',\n",
    "    color_discrete_map=custom_color_map_interest,\n",
    "    box=False) # Show a box plot inside the violin\n",
    "\n",
    "fig.update_xaxes(\n",
    "    tickfont_weight='bold',  # Make the numbers bold\n",
    "    tickfont_size=10)        # Adjust the font size\n",
    "fig.update_yaxes(\n",
    "    tickfont_weight='bold',  # Make the numbers bold\n",
    "    tickfont_size=12)\n",
    "fig.update_layout(title_font=dict(size=18, weight='bold'), showlegend=True,\n",
    "    title_text='Number of matches by the Interests in gender',\n",
    "    title_x=0.5, # Center the title\n",
    "    xaxis_title='Number of matches',\n",
    "    width=700, # Set the width of the plot\n",
    "    height=500,\n",
    "    yaxis_title='Interests in gender' # Set the plot background to white\n",
    ")"
   ]
  },
  {
   "cell_type": "code",
   "execution_count": 130,
   "id": "a89b65bc-a083-4fc6-bd59-a4a35f616762",
   "metadata": {},
   "outputs": [
    {
     "data": {
      "text/html": [
       "<div>\n",
       "<style scoped>\n",
       "    .dataframe tbody tr th:only-of-type {\n",
       "        vertical-align: middle;\n",
       "    }\n",
       "\n",
       "    .dataframe tbody tr th {\n",
       "        vertical-align: top;\n",
       "    }\n",
       "\n",
       "    .dataframe thead th {\n",
       "        text-align: right;\n",
       "    }\n",
       "</style>\n",
       "<table border=\"1\" class=\"dataframe\">\n",
       "  <thead>\n",
       "    <tr style=\"text-align: right;\">\n",
       "      <th></th>\n",
       "      <th>Gender</th>\n",
       "      <th>Interests in gender</th>\n",
       "      <th>Count</th>\n",
       "    </tr>\n",
       "  </thead>\n",
       "  <tbody>\n",
       "    <tr>\n",
       "      <th>0</th>\n",
       "      <td>Men</td>\n",
       "      <td>Interest in Men</td>\n",
       "      <td>7</td>\n",
       "    </tr>\n",
       "    <tr>\n",
       "      <th>1</th>\n",
       "      <td>Men</td>\n",
       "      <td>Interest in Men and Women</td>\n",
       "      <td>9</td>\n",
       "    </tr>\n",
       "    <tr>\n",
       "      <th>2</th>\n",
       "      <td>Men</td>\n",
       "      <td>Interest in Women</td>\n",
       "      <td>352</td>\n",
       "    </tr>\n",
       "    <tr>\n",
       "      <th>3</th>\n",
       "      <td>Women</td>\n",
       "      <td>Interest in Men</td>\n",
       "      <td>21</td>\n",
       "    </tr>\n",
       "    <tr>\n",
       "      <th>4</th>\n",
       "      <td>Women</td>\n",
       "      <td>Interest in Men and Women</td>\n",
       "      <td>4</td>\n",
       "    </tr>\n",
       "    <tr>\n",
       "      <th>5</th>\n",
       "      <td>Women</td>\n",
       "      <td>Interest in Women</td>\n",
       "      <td>2</td>\n",
       "    </tr>\n",
       "  </tbody>\n",
       "</table>\n",
       "</div>"
      ],
      "text/plain": [
       "  Gender        Interests in gender  Count\n",
       "0    Men            Interest in Men      7\n",
       "1    Men  Interest in Men and Women      9\n",
       "2    Men          Interest in Women    352\n",
       "3  Women            Interest in Men     21\n",
       "4  Women  Interest in Men and Women      4\n",
       "5  Women          Interest in Women      2"
      ]
     },
     "execution_count": 130,
     "metadata": {},
     "output_type": "execute_result"
    }
   ],
   "source": [
    "gender_interest=df.groupby(['Gender', 'Interests in gender']).size().reset_index(name='Count')\n",
    "gender_interest"
   ]
  },
  {
   "cell_type": "code",
   "execution_count": 134,
   "id": "13843048-cf4a-41aa-a1ff-e9be2ca88106",
   "metadata": {},
   "outputs": [],
   "source": [
    "gender_interest_data={'Interest in gender': ['Interest in Men','Interest in Men and Women','Interest in Women'],\n",
    "                      'Men':[7, 9, 352],\n",
    "                      'Women':[21, 4, 2]}"
   ]
  },
  {
   "cell_type": "code",
   "execution_count": 135,
   "id": "dcd99988-ad2b-44a0-ad2d-aa01abce5da7",
   "metadata": {},
   "outputs": [
    {
     "data": {
      "text/html": [
       "<div>\n",
       "<style scoped>\n",
       "    .dataframe tbody tr th:only-of-type {\n",
       "        vertical-align: middle;\n",
       "    }\n",
       "\n",
       "    .dataframe tbody tr th {\n",
       "        vertical-align: top;\n",
       "    }\n",
       "\n",
       "    .dataframe thead th {\n",
       "        text-align: right;\n",
       "    }\n",
       "</style>\n",
       "<table border=\"1\" class=\"dataframe\">\n",
       "  <thead>\n",
       "    <tr style=\"text-align: right;\">\n",
       "      <th></th>\n",
       "      <th>Interest in gender</th>\n",
       "      <th>Men</th>\n",
       "      <th>Women</th>\n",
       "    </tr>\n",
       "  </thead>\n",
       "  <tbody>\n",
       "    <tr>\n",
       "      <th>0</th>\n",
       "      <td>Interest in Men</td>\n",
       "      <td>7</td>\n",
       "      <td>21</td>\n",
       "    </tr>\n",
       "    <tr>\n",
       "      <th>1</th>\n",
       "      <td>Interest in Men and Women</td>\n",
       "      <td>9</td>\n",
       "      <td>4</td>\n",
       "    </tr>\n",
       "    <tr>\n",
       "      <th>2</th>\n",
       "      <td>Interest in Women</td>\n",
       "      <td>352</td>\n",
       "      <td>2</td>\n",
       "    </tr>\n",
       "  </tbody>\n",
       "</table>\n",
       "</div>"
      ],
      "text/plain": [
       "          Interest in gender  Men  Women\n",
       "0            Interest in Men    7     21\n",
       "1  Interest in Men and Women    9      4\n",
       "2          Interest in Women  352      2"
      ]
     },
     "execution_count": 135,
     "metadata": {},
     "output_type": "execute_result"
    }
   ],
   "source": [
    "gender_interest_data_to_df=pd.DataFrame(gender_interest_data)\n",
    "gender_interest_data_to_df"
   ]
  },
  {
   "cell_type": "code",
   "execution_count": 136,
   "id": "22f79aae-baa2-4aa4-919f-f818408a5216",
   "metadata": {},
   "outputs": [
    {
     "data": {
      "text/html": [
       "<a href=\"data:file/csv;base64,SW50ZXJlc3QgaW4gZ2VuZGVyLE1lbixXb21lbg0KSW50ZXJlc3QgaW4gTWVuLDcsMjENCkludGVyZXN0IGluIE1lbiBhbmQgV29tZW4sOSw0DQpJbnRlcmVzdCBpbiBXb21lbiwzNTIsMg0K\" download=\"gender_interest_data_to_df.csv\">Click here to download gender_interest_data_to_df.csv</a>"
      ],
      "text/plain": [
       "<IPython.core.display.HTML object>"
      ]
     },
     "metadata": {},
     "output_type": "display_data"
    }
   ],
   "source": [
    "gender_interest_data_to_df.to_csv('gender_interest_data_to_df', index=False)\n",
    "csv_content_clean = gender_interest_data_to_df.to_csv(index=False)\n",
    "b64_clean = base64.b64encode(csv_content_clean.encode()).decode()\n",
    "download_link_clean = f'<a href=\"data:file/csv;base64,{b64_clean}\" download=\"gender_interest_data_to_df.csv\">Click here to download gender_interest_data_to_df.csv</a>'\n",
    "display(HTML(download_link_clean))"
   ]
  },
  {
   "cell_type": "code",
   "execution_count": null,
   "id": "a5ddba39-2612-4f4f-8cc7-a92006f23739",
   "metadata": {},
   "outputs": [],
   "source": []
  }
 ],
 "metadata": {
  "kernelspec": {
   "display_name": "Python 3 (ipykernel)",
   "language": "python",
   "name": "python3"
  },
  "language_info": {
   "codemirror_mode": {
    "name": "ipython",
    "version": 3
   },
   "file_extension": ".py",
   "mimetype": "text/x-python",
   "name": "python",
   "nbconvert_exporter": "python",
   "pygments_lexer": "ipython3",
   "version": "3.12.4"
  }
 },
 "nbformat": 4,
 "nbformat_minor": 5
}
